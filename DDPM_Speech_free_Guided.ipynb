{
 "cells": [
  {
   "cell_type": "code",
   "execution_count": 1,
   "id": "9bb22414",
   "metadata": {},
   "outputs": [],
   "source": [
    "import os\n",
    "import re\n",
    "import math\n",
    "import time\n",
    "import torch\n",
    "\n",
    "import librosa\n",
    "import librosa.display\n",
    "import itertools\n",
    "import functools\n",
    "import torchaudio\n",
    "import torchvision\n",
    "import torch.optim\n",
    "\n",
    "\n",
    "import numpy as np\n",
    "import torch.nn as nn\n",
    "from tqdm import tqdm\n",
    "from torch.optim import Adam\n",
    "from functools import partial\n",
    "import torch.nn.functional as F\n",
    "from torch.utils.data import DataLoader\n",
    "\n",
    "import IPython.display as ipd\n",
    "\n",
    "from einops import rearrange, reduce\n",
    "from einops.layers.torch import Rearrange\n",
    "from torch import nn, einsum\n",
    "from inspect import isfunction\n",
    "\n",
    "\n",
    "\n",
    "import torchaudio.transforms as T\n",
    "\n",
    "import IPython.display as ipd\n",
    "import sentencepiece as spm\n",
    "import pandas as pd\n",
    "import matplotlib.pyplot as plt\n",
    "from torch.utils.data import Dataset\n",
    "from torch.nn.utils.rnn import pad_sequence\n",
    "\n",
    "\n",
    "import torch.utils.data\n",
    "from librosa.util import normalize\n",
    "from scipy.io.wavfile import read\n",
    "from librosa.filters import mel as librosa_mel_fn\n",
    "\n",
    "import pickle\n",
    "import soundfile as sf\n",
    "from scipy import signal\n",
    "from scipy.signal import get_window\n",
    "from librosa.filters import mel\n",
    "\n",
    "MAX_WAV_VALUE = 32768.0\n",
    "\n",
    "\n"
   ]
  },
  {
   "cell_type": "code",
   "execution_count": 2,
   "id": "9e0b701d",
   "metadata": {},
   "outputs": [
    {
     "name": "stdout",
     "output_type": "stream",
     "text": [
      "Current cuda device is cuda:0\n"
     ]
    }
   ],
   "source": [
    "is_cuda = torch.cuda.is_available()\n",
    "\n",
    "device = torch.device('cuda:0' if is_cuda else 'cpu')\n",
    "\n",
    "print('Current cuda device is', device)"
   ]
  },
  {
   "cell_type": "code",
   "execution_count": 4,
   "id": "800746ea",
   "metadata": {},
   "outputs": [
    {
     "name": "stdout",
     "output_type": "stream",
     "text": [
      "/data/code/kmkim\n"
     ]
    }
   ],
   "source": [
    "cd ../"
   ]
  },
  {
   "cell_type": "code",
   "execution_count": 3,
   "id": "ffbf8fb5",
   "metadata": {},
   "outputs": [
    {
     "ename": "ModuleNotFoundError",
     "evalue": "No module named 'hifi_gan'",
     "output_type": "error",
     "traceback": [
      "\u001b[0;31m---------------------------------------------------------------------------\u001b[0m",
      "\u001b[0;31mModuleNotFoundError\u001b[0m                       Traceback (most recent call last)",
      "\u001b[0;32m/tmp/ipykernel_1539228/4067342482.py\u001b[0m in \u001b[0;36m<module>\u001b[0;34m\u001b[0m\n\u001b[0;32m----> 1\u001b[0;31m \u001b[0;32mfrom\u001b[0m \u001b[0mhifi_gan\u001b[0m \u001b[0;32mimport\u001b[0m \u001b[0mGenerator\u001b[0m \u001b[0;32mas\u001b[0m \u001b[0mhifigan_vocoder\u001b[0m\u001b[0;34m\u001b[0m\u001b[0;34m\u001b[0m\u001b[0m\n\u001b[0m\u001b[1;32m      2\u001b[0m \u001b[0;32mfrom\u001b[0m \u001b[0momegaconf\u001b[0m \u001b[0;32mimport\u001b[0m \u001b[0mOmegaConf\u001b[0m\u001b[0;34m\u001b[0m\u001b[0;34m\u001b[0m\u001b[0m\n\u001b[1;32m      3\u001b[0m \u001b[0;34m\u001b[0m\u001b[0m\n\u001b[1;32m      4\u001b[0m \u001b[0mpath_config\u001b[0m \u001b[0;34m=\u001b[0m \u001b[0;34m'hifi_gan.json'\u001b[0m\u001b[0;34m\u001b[0m\u001b[0;34m\u001b[0m\u001b[0m\n\u001b[1;32m      5\u001b[0m \u001b[0mpath_ckpt\u001b[0m \u001b[0;34m=\u001b[0m \u001b[0;34m'g_02500000'\u001b[0m\u001b[0;34m\u001b[0m\u001b[0;34m\u001b[0m\u001b[0m\n",
      "\u001b[0;31mModuleNotFoundError\u001b[0m: No module named 'hifi_gan'"
     ]
    }
   ],
   "source": [
    "from hifi_gan import Generator as hifigan_vocoder\n",
    "from omegaconf import OmegaConf\n",
    "\n",
    "path_config = 'hifi_gan.json'\n",
    "path_ckpt = 'g_02500000'\n",
    "\n",
    "hifigan_config = OmegaConf.load(path_config)\n",
    "vocoder = hifigan_vocoder(hifigan_config)\n",
    "\n",
    "state_dict_g = torch.load(path_ckpt)\n",
    "vocoder = vocoder.to(device)\n",
    "vocoder.load_state_dict(state_dict_g['generator'])\n",
    "vocoder.eval()"
   ]
  },
  {
   "cell_type": "code",
   "execution_count": 31,
   "id": "57ac2245",
   "metadata": {},
   "outputs": [],
   "source": [
    "def dynamic_range_compression(x, C=1, clip_val=1e-5):\n",
    "    return np.log(np.clip(x, a_min=clip_val, a_max=None) * C)\n",
    "\n",
    "\n",
    "def dynamic_range_decompression(x, C=1):\n",
    "    return np.exp(x) / C\n",
    "\n",
    "\n",
    "def dynamic_range_compression_torch(x, C=1, clip_val=1e-5):\n",
    "    return torch.log(torch.clamp(x, min=clip_val) * C)\n",
    "    # return torch.clamp(x, min=clip_val) * C\n",
    "\n",
    "\n",
    "def dynamic_range_decompression_torch(x, C=1):\n",
    "    return torch.exp(x) / C\n",
    "\n",
    "\n",
    "def spectral_normalize_torch(magnitudes):\n",
    "    output = dynamic_range_compression_torch(magnitudes)\n",
    "    return output\n",
    "\n",
    "\n",
    "def spectral_de_normalize_torch(magnitudes):\n",
    "    output = dynamic_range_decompression_torch(magnitudes)\n",
    "    return output\n",
    "\n",
    "\n",
    "sr = 22050\n",
    "n_fft = 1024\n",
    "win_length = n_fft\n",
    "hop_length = 256\n",
    "\n",
    "mel_basis = {}\n",
    "hann_window = {}\n",
    "\n",
    "def mel_spectrogram(y, n_fft=n_fft, num_mels=80, sampling_rate= sr, hop_size=hop_length, win_size=win_length, fmin=0, fmax=8000, center=False):\n",
    "    global mel_basis, hann_window\n",
    "    if fmax not in mel_basis:\n",
    "        mel = librosa_mel_fn(sr=sampling_rate, n_fft=n_fft, n_mels=num_mels, fmin=fmin, fmax=fmax)\n",
    "        mel_basis[str(fmax) + '_' + str(y.device)] = torch.from_numpy(mel).float().to(y.device)\n",
    "        hann_window[str(y.device)] = torch.hann_window(win_size).to(y.device)\n",
    "    \n",
    "    #print(y.shape) # 45237, 1 (1024-256)/2, (1024-256)/2\n",
    "    y = torch.nn.functional.pad(y.unsqueeze(0), ((int((n_fft - hop_size) / 2), int((n_fft - hop_size) / 2))),\n",
    "                                mode='reflect')\n",
    "    y = y.squeeze(1)\n",
    "    \n",
    "    spec = torch.stft(y, n_fft, hop_length=hop_size, win_length=win_size, window=hann_window[str(y.device)],\n",
    "                      center=center, pad_mode='reflect', normalized=False, onesided=True, return_complex = False) # return_complex =False\n",
    "\n",
    "    spec = torch.sqrt(spec.pow(2).sum(-1) + (1e-9)) #???\n",
    "\n",
    "    spec = torch.matmul(mel_basis[str(fmax) + '_' + str(y.device)], spec)\n",
    "        \n",
    "    spec = librosa.power_to_db(spec, ref=np.max, top_db = num_mels) ## dB 단위로 변형 numpy로 결과가 나옴\n",
    "    \n",
    "\n",
    "    spec = (spec / 80.0) + 1\n",
    "\n",
    "    \n",
    "    return torch.from_numpy(spec.astype(\"float32\")) ## numpy를 torch로"
   ]
  },
  {
   "cell_type": "code",
   "execution_count": 32,
   "id": "5cd0acfc",
   "metadata": {},
   "outputs": [],
   "source": [
    "def inference_to_audio(x, sr = 22050, n_mels = 80):\n",
    "    \n",
    "    inference_ = (x.cpu() - 1) * 80.0\n",
    "\n",
    "    S = librosa.db_to_power(inference_)\n",
    "\n",
    "    zxc = spectral_normalize_torch(S.squeeze()) ## 나온 power 정규화 필수\n",
    "    \n",
    "    conv_wav = vocoder(zxc.to(device)) \n",
    "    \n",
    "    conv_wav = conv_wav.squeeze().detach().cpu().numpy()\n",
    "    \n",
    "    print(librosa.display.waveshow(conv_wav))\n",
    "    \n",
    "    return conv_wav"
   ]
  },
  {
   "cell_type": "code",
   "execution_count": 33,
   "id": "f9072446",
   "metadata": {},
   "outputs": [],
   "source": [
    "def collate_fn(batch):\n",
    "    \n",
    "    src_speech = [] \n",
    "    \n",
    "    for samples, sr, text, speaker, idx in batch:                    \n",
    "                \n",
    "        resample_audio = torchaudio.functional.resample(samples, orig_freq=sr, new_freq=22050) ## [1,153600]\n",
    "        \n",
    "        rand_cut = resample_audio.shape[1] - 32802\n",
    "        \n",
    "        if rand_cut < 0:\n",
    "            continue\n",
    "        \n",
    "        else:\n",
    "            start_sample = torch.randint(0, rand_cut, (1,)).int().item()\n",
    "\n",
    "        mel_spec = mel_spectrogram(resample_audio[0][start_sample:start_sample + 32802])\n",
    "                \n",
    "        src_speech.append(mel_spec.squeeze().permute(1,0)) \n",
    "        \n",
    "    \n",
    "    speech_batch = pad_sequence(src_speech, padding_value = 0.0, batch_first = True) # batch, Frame, mel\n",
    "    \n",
    "    speech_batch =speech_batch.permute(0,2,1)\n",
    "    \n",
    "    return speech_batch.unsqueeze(1) ## batch, 1, mel, time"
   ]
  },
  {
   "cell_type": "code",
   "execution_count": 34,
   "id": "6dfcde6c",
   "metadata": {},
   "outputs": [],
   "source": [
    "def exists(x):\n",
    "    return x is not None\n",
    "\n",
    "def default(val, d):\n",
    "    if exists(val):\n",
    "        return val\n",
    "    return d() if isfunction(d) else d\n",
    "\n",
    "\n",
    "def num_to_groups(num, divisor):\n",
    "    groups = num // divisor\n",
    "    remainder = num % divisor\n",
    "    arr = [divisor] * groups\n",
    "    if remainder > 0:\n",
    "        arr.append(remainder)\n",
    "    return arr\n",
    "\n",
    "\n",
    "class Residual(nn.Module):\n",
    "    def __init__(self, fn):\n",
    "        super().__init__()\n",
    "        self.fn = fn\n",
    "\n",
    "    def forward(self, x, *args, **kwargs):\n",
    "        return self.fn(x, *args, **kwargs) + x\n",
    "\n",
    "\n",
    "def Upsample(dim, dim_out=None):\n",
    "    return nn.Sequential(\n",
    "        nn.Upsample(scale_factor=2, mode=\"nearest\"),\n",
    "        nn.Conv2d(dim, default(dim_out, dim), 3, padding=1),\n",
    "    )\n",
    "\n",
    "\n",
    "def Downsample(dim, dim_out=None):\n",
    "    # No More Strided Convolutions or Pooling\n",
    "    return nn.Sequential(\n",
    "        Rearrange(\"b c (h p1) (w p2) -> b (c p1 p2) h w\", p1=2, p2=2),\n",
    "        nn.Conv2d(dim * 4, default(dim_out, dim), 1),\n",
    "    )"
   ]
  },
  {
   "cell_type": "code",
   "execution_count": 35,
   "id": "8edccd77",
   "metadata": {},
   "outputs": [],
   "source": [
    "class SinusoidalPositionEmbeddings(nn.Module):\n",
    "    def __init__(self, dim):\n",
    "        super().__init__()\n",
    "        self.dim = dim\n",
    "\n",
    "    def forward(self, time):\n",
    "        device = time.device\n",
    "        half_dim = self.dim // 2\n",
    "        embeddings = math.log(10000) / (half_dim - 1)\n",
    "        embeddings = torch.exp(torch.arange(half_dim, device=device) * -embeddings)\n",
    "        embeddings = time[:, None] * embeddings[None, :]\n",
    "        embeddings = torch.cat((embeddings.sin(), embeddings.cos()), dim=-1)\n",
    "        return embeddings"
   ]
  },
  {
   "cell_type": "code",
   "execution_count": 50,
   "id": "d391668a",
   "metadata": {},
   "outputs": [],
   "source": [
    "class WeightStandardizedConv2d(nn.Conv2d):\n",
    "    \"\"\"\n",
    "    https://arxiv.org/abs/1903.10520\n",
    "    weight standardization purportedly works synergistically with group normalization\n",
    "    \"\"\"\n",
    "\n",
    "    def forward(self, x):\n",
    "        eps = 1e-5 if x.dtype == torch.float32 else 1e-3\n",
    "\n",
    "        weight = self.weight\n",
    "        mean = reduce(weight, \"o ... -> o 1 1 1\", \"mean\")\n",
    "        var = reduce(weight, \"o ... -> o 1 1 1\", partial(torch.var, unbiased=False))\n",
    "        normalized_weight = (weight - mean) * (var + eps).rsqrt()\n",
    "\n",
    "        return F.conv2d(\n",
    "            x,\n",
    "            normalized_weight,\n",
    "            self.bias,\n",
    "            self.stride,\n",
    "            self.padding,\n",
    "            self.dilation,\n",
    "            self.groups,\n",
    "        )\n",
    "\n",
    "## 여기에 Block에 AdaGN 삽입\n",
    "class Block(nn.Module):\n",
    "    def __init__(self, dim, dim_out, groups=8):\n",
    "        super().__init__()\n",
    "        self.proj = WeightStandardizedConv2d(dim, dim_out, 3, padding=1)\n",
    "        self.norm = nn.GroupNorm(groups, dim_out)\n",
    "        self.act = nn.SiLU()\n",
    "\n",
    "    def forward(self, x, scale_shift=None):\n",
    "        x = self.proj(x)\n",
    "        x = self.norm(x)\n",
    "\n",
    "        if exists(scale_shift):\n",
    "            scale, shift = scale_shift\n",
    "            x = x * (scale + 1) + shift\n",
    "\n",
    "        x = self.act(x)\n",
    "        return x\n",
    "\n",
    "\n",
    "\n",
    "class ResnetBlock(nn.Module):\n",
    "    \"\"\"https://arxiv.org/abs/1512.03385\"\"\"\n",
    "\n",
    "    def __init__(self, dim, dim_out, cdim, *, time_emb_dim=None, groups=8):\n",
    "        super().__init__()\n",
    "        self.mlp = (\n",
    "            nn.Sequential(nn.SiLU(), nn.Linear(time_emb_dim, dim_out * 2))\n",
    "            if exists(time_emb_dim)\n",
    "            else None\n",
    "        )\n",
    "\n",
    "        self.block1 = Block(dim, dim_out, groups=groups)\n",
    "        self.block2 = Block(dim_out, dim_out, groups=groups)\n",
    "        self.res_conv = nn.Conv2d(dim, dim_out, 1) if dim != dim_out else nn.Identity()\n",
    "        \n",
    "        self.cemb_proj = nn.Sequential(\n",
    "            nn.SiLU(),\n",
    "            nn.Linear(cdim, dim_out),\n",
    "        )\n",
    "\n",
    "    def forward(self, x, cemb, time_emb=None):\n",
    "        \n",
    "        scale_shift = None\n",
    "        \n",
    "        if exists(self.mlp) and exists(time_emb):\n",
    "            time_emb = self.mlp(time_emb)\n",
    "            time_emb = rearrange(time_emb, \"b c -> b c 1 1\")\n",
    "            scale_shift = time_emb.chunk(2, dim=1)\n",
    "        \n",
    "        #condition = self.cemb_proj(cemb)[:,:,None,None]\n",
    "        \n",
    "        h = self.block1(x, scale_shift=scale_shift)\n",
    "        \n",
    "        #conditional embedding\n",
    "        h += self.cemb_proj(cemb)[:,:,None,None]\n",
    "        \n",
    "        h = self.block2(h)\n",
    "        return h + self.res_conv(x)\n",
    "    \n",
    "    \n",
    "class Uncond_ResnetBlock(nn.Module):\n",
    "    \"\"\"https://arxiv.org/abs/1512.03385\"\"\"\n",
    "\n",
    "    def __init__(self, dim, dim_out, *, time_emb_dim=None, groups=8):\n",
    "        super().__init__()\n",
    "        self.mlp = (\n",
    "            nn.Sequential(nn.SiLU(), nn.Linear(time_emb_dim, dim_out * 2))\n",
    "            if exists(time_emb_dim)\n",
    "            else None\n",
    "        )\n",
    "\n",
    "        self.block1 = Block(dim, dim_out, groups=groups)\n",
    "        self.block2 = Block(dim_out, dim_out, groups=groups)\n",
    "        self.res_conv = nn.Conv2d(dim, dim_out, 1) if dim != dim_out else nn.Identity()\n",
    "\n",
    "    def forward(self, x, time_emb=None):\n",
    "        scale_shift = None\n",
    "        if exists(self.mlp) and exists(time_emb):\n",
    "            time_emb = self.mlp(time_emb)\n",
    "            time_emb = rearrange(time_emb, \"b c -> b c 1 1\")\n",
    "            scale_shift = time_emb.chunk(2, dim=1)\n",
    "\n",
    "        h = self.block1(x, scale_shift=scale_shift)\n",
    "        h = self.block2(h)\n",
    "        return h + self.res_conv(x)"
   ]
  },
  {
   "cell_type": "code",
   "execution_count": 51,
   "id": "28b04612",
   "metadata": {},
   "outputs": [],
   "source": [
    "class Attention(nn.Module):\n",
    "    def __init__(self, dim, heads=4, dim_head=32):\n",
    "        super().__init__()\n",
    "        self.scale = dim_head**-0.5\n",
    "        self.heads = heads\n",
    "        hidden_dim = dim_head * heads\n",
    "        self.to_qkv = nn.Conv2d(dim, hidden_dim * 3, 1, bias=False)\n",
    "        self.to_out = nn.Conv2d(hidden_dim, dim, 1)\n",
    "\n",
    "    def forward(self, x):\n",
    "        b, c, h, w = x.shape\n",
    "        qkv = self.to_qkv(x).chunk(3, dim=1)\n",
    "        q, k, v = map(\n",
    "            lambda t: rearrange(t, \"b (h c) x y -> b h c (x y)\", h=self.heads), qkv\n",
    "        )\n",
    "        q = q * self.scale\n",
    "\n",
    "        sim = einsum(\"b h d i, b h d j -> b h i j\", q, k)\n",
    "        sim = sim - sim.amax(dim=-1, keepdim=True).detach()\n",
    "        attn = sim.softmax(dim=-1)\n",
    "\n",
    "        out = einsum(\"b h i j, b h d j -> b h i d\", attn, v)\n",
    "        out = rearrange(out, \"b h (x y) d -> b (h d) x y\", x=h, y=w)\n",
    "        return self.to_out(out)\n",
    "\n",
    "class LinearAttention(nn.Module):\n",
    "    def __init__(self, dim, heads=4, dim_head=32):\n",
    "        super().__init__()\n",
    "        self.scale = dim_head**-0.5\n",
    "        self.heads = heads\n",
    "        hidden_dim = dim_head * heads\n",
    "        self.to_qkv = nn.Conv2d(dim, hidden_dim * 3, 1, bias=False)\n",
    "\n",
    "        self.to_out = nn.Sequential(nn.Conv2d(hidden_dim, dim, 1), \n",
    "                                    nn.GroupNorm(1, dim))\n",
    "\n",
    "    def forward(self, x):\n",
    "        b, c, h, w = x.shape\n",
    "        qkv = self.to_qkv(x).chunk(3, dim=1)\n",
    "        q, k, v = map(\n",
    "            lambda t: rearrange(t, \"b (h c) x y -> b h c (x y)\", h=self.heads), qkv\n",
    "        )\n",
    "\n",
    "        q = q.softmax(dim=-2)\n",
    "        k = k.softmax(dim=-1)\n",
    "\n",
    "        q = q * self.scale\n",
    "        context = torch.einsum(\"b h d n, b h e n -> b h d e\", k, v)\n",
    "\n",
    "        out = torch.einsum(\"b h d e, b h d n -> b h e n\", context, q)\n",
    "        out = rearrange(out, \"b h c (x y) -> b (h c) x y\", h=self.heads, x=h, y=w)\n",
    "        return self.to_out(out)"
   ]
  },
  {
   "cell_type": "code",
   "execution_count": 52,
   "id": "40374d9c",
   "metadata": {},
   "outputs": [],
   "source": [
    "class PreNorm(nn.Module):\n",
    "    def __init__(self, dim, fn):\n",
    "        super().__init__()\n",
    "        self.fn = fn\n",
    "        self.norm = nn.GroupNorm(1, dim)\n",
    "\n",
    "    def forward(self, x):\n",
    "        x = self.norm(x)\n",
    "        return self.fn(x)"
   ]
  },
  {
   "cell_type": "code",
   "execution_count": 53,
   "id": "4e849fd9",
   "metadata": {},
   "outputs": [],
   "source": [
    "def cosine_beta_schedule(timesteps, s=0.008):\n",
    "    \"\"\"\n",
    "    cosine schedule as proposed in https://arxiv.org/abs/2102.09672\n",
    "    \"\"\"\n",
    "    steps = timesteps + 1\n",
    "    x = torch.linspace(0, timesteps, steps)\n",
    "    alphas_cumprod = torch.cos(((x / timesteps) + s) / (1 + s) * torch.pi * 0.5) ** 2\n",
    "    alphas_cumprod = alphas_cumprod / alphas_cumprod[0]\n",
    "    betas = 1 - (alphas_cumprod[1:] / alphas_cumprod[:-1])\n",
    "    return torch.clip(betas, 0.0001, 0.9999)\n",
    "\n",
    "def linear_beta_schedule(timesteps):\n",
    "    beta_start = 0.0001\n",
    "    beta_end = 0.02\n",
    "    return torch.linspace(beta_start, beta_end, timesteps)\n",
    "\n",
    "def quadratic_beta_schedule(timesteps):\n",
    "    beta_start = 0.0001\n",
    "    beta_end = 0.02\n",
    "    return torch.linspace(beta_start**0.5, beta_end**0.5, timesteps) ** 2\n",
    "\n",
    "def sigmoid_beta_schedule(timesteps):\n",
    "    beta_start = 0.0001\n",
    "    beta_end = 0.02\n",
    "    betas = torch.linspace(-6, 6, timesteps)\n",
    "    return torch.sigmoid(betas) * (beta_end - beta_start) + beta_start"
   ]
  },
  {
   "cell_type": "code",
   "execution_count": 54,
   "id": "4539b9fe",
   "metadata": {},
   "outputs": [],
   "source": [
    "timesteps = 300\n",
    "\n",
    "# define beta schedule\n",
    "betas = linear_beta_schedule(timesteps=timesteps)\n",
    "\n",
    "# define alphas \n",
    "alphas = 1. - betas\n",
    "alphas_cumprod = torch.cumprod(alphas, axis=0)\n",
    "alphas_cumprod_prev = F.pad(alphas_cumprod[:-1], (1, 0), value=1.0)\n",
    "sqrt_recip_alphas = torch.sqrt(1.0 / alphas)\n",
    "\n",
    "# calculations for diffusion q(x_t | x_{t-1}) and others\n",
    "sqrt_alphas_cumprod = torch.sqrt(alphas_cumprod)\n",
    "sqrt_one_minus_alphas_cumprod = torch.sqrt(1. - alphas_cumprod)\n",
    "\n",
    "# calculations for posterior q(x_{t-1} | x_t, x_0)\n",
    "posterior_variance = betas * (1. - alphas_cumprod_prev) / (1. - alphas_cumprod)\n",
    "\n",
    "def extract(a, t, x_shape): ## 인덱스에 해당되는 노이즈 추출 #[batch, 1,1,1]\n",
    "    batch_size = t.shape[0]\n",
    "    out = a.gather(-1, t.cpu())\n",
    "    return out.reshape(batch_size, *((1,) * (len(x_shape) - 1))).to(t.device)"
   ]
  },
  {
   "cell_type": "code",
   "execution_count": 55,
   "id": "5e41bdff",
   "metadata": {},
   "outputs": [],
   "source": [
    "# forward diffusion (using the nice property)\n",
    "def q_sample(x_start, t, noise=None):\n",
    "    if noise is None:\n",
    "        noise = torch.randn_like(x_start)\n",
    "\n",
    "    sqrt_alphas_cumprod_t = extract(sqrt_alphas_cumprod, t, x_start.shape)\n",
    "    sqrt_one_minus_alphas_cumprod_t = extract(\n",
    "        sqrt_one_minus_alphas_cumprod, t, x_start.shape\n",
    "    )\n",
    "\n",
    "    return sqrt_alphas_cumprod_t * x_start + sqrt_one_minus_alphas_cumprod_t * noise\n"
   ]
  },
  {
   "cell_type": "code",
   "execution_count": 56,
   "id": "8826c54b",
   "metadata": {},
   "outputs": [],
   "source": [
    "def get_noisy_image(x_start, t):\n",
    "    # add noise\n",
    "    x_noisy = q_sample(x_start, t=t)\n",
    "\n",
    "    # turn back into PIL image\n",
    "    noisy_image = reverse_transform(x_noisy.squeeze())\n",
    "\n",
    "    return noisy_image\n"
   ]
  },
  {
   "cell_type": "code",
   "execution_count": 57,
   "id": "c45f968d",
   "metadata": {},
   "outputs": [],
   "source": [
    "def p_losses(denoise_model, x_start, t, cemb, noise=None, loss_type=\"l1\"):\n",
    "    if noise is None:\n",
    "        noise = torch.randn_like(x_start)\n",
    "\n",
    "    x_noisy = q_sample(x_start=x_start, t=t, noise=noise)\n",
    "    predicted_noise = denoise_model(x_noisy, t, cemb)\n",
    "\n",
    "    if loss_type == 'l1':\n",
    "        loss = F.l1_loss(noise, predicted_noise)\n",
    "    elif loss_type == 'l2':\n",
    "        loss = F.mse_loss(noise, predicted_noise)\n",
    "    elif loss_type == \"huber\":\n",
    "        loss = F.smooth_l1_loss(noise, predicted_noise)\n",
    "    else:\n",
    "        raise NotImplementedError()\n",
    "\n",
    "    return loss"
   ]
  },
  {
   "cell_type": "code",
   "execution_count": 58,
   "id": "3d3e0d26",
   "metadata": {},
   "outputs": [],
   "source": [
    "@torch.no_grad()\n",
    "def p_sample(model, x, t, cemb, t_index, w):\n",
    "    '''\n",
    "    \n",
    "    w: classifier scaler\n",
    "    \n",
    "    '''\n",
    "    \n",
    "    betas_t = extract(betas, t, x.shape)\n",
    "    sqrt_one_minus_alphas_cumprod_t = extract(\n",
    "        sqrt_one_minus_alphas_cumprod, t, x.shape\n",
    "    )\n",
    "    \n",
    "    \n",
    "    alphas_t = extract(alphas, t, x.shape)\n",
    "    \n",
    "    sqrt_recip_alphas_t = extract(sqrt_recip_alphas, t, x.shape)\n",
    "    \n",
    "    # Equation 11 in the paper\n",
    "    # Use our model (noise predictor) to predict the mean\n",
    "    \n",
    "    #interpolation condition, uncondition in 'Classfier-free diffusion guidance' Algorithm 2, line 3.\n",
    "    \n",
    "    cemb_shape = cemb.shape\n",
    "    \n",
    "    pred_eps_cond = model(x, t, cemb) ## 컨디션을 받은 모델의 결과\n",
    "    \n",
    "    zeros_condition = torch.zeros(cemb_shape, device = device)  ## Zero condition\n",
    "    \n",
    "    pred_eps_uncond = model(x,t, zeros_condition)    ## 컨디션을 안받은 모델의 결과\n",
    "    \n",
    "    pred_eps = ((1+w) * pred_eps_cond) - (w * pred_eps_uncond) ## Conditioned + Unconditioned 결과를 interpolation 하여 Guidance 로 활용\n",
    "    \n",
    "    model_mean = sqrt_recip_alphas_t * (\n",
    "       x - betas_t * pred_eps / sqrt_one_minus_alphas_cumprod_t\n",
    "    )\n",
    "    \n",
    "    if t_index == 0:\n",
    "        return model_mean\n",
    "    else:\n",
    "        posterior_variance_t = extract(posterior_variance, t, x.shape)\n",
    "        noise = torch.randn_like(x)\n",
    "        # Algorithm 2 line 4:\n",
    "        return model_mean + torch.sqrt(posterior_variance_t) * noise \n",
    "\n",
    "# Algorithm 2 (including returning all images)\n",
    "@torch.no_grad()\n",
    "def p_sample_loop(model, cemb, shape, w):\n",
    "    device = next(model.parameters()).device\n",
    "\n",
    "    b = shape[0]\n",
    "    print(f\"shape = {shape}\")\n",
    "    # start from pure noise (for each example in the batch)\n",
    "    img = torch.randn(shape, device=device)\n",
    "    imgs = []\n",
    "\n",
    "    for i in tqdm(reversed(range(0, timesteps)), desc='sampling loop time step', total=timesteps):\n",
    "        img = p_sample(model, img, torch.full((b,), i, device=device, dtype=torch.long), cemb, i, w=w)\n",
    "        imgs.append(img.cpu().numpy())\n",
    "    return imgs\n",
    "\n",
    "@torch.no_grad()\n",
    "def sample(model, image_size, cemb, w = 1.0, batch_size=16, channels=3):\n",
    "    return p_sample_loop(model, cemb, w= w, shape=(batch_size, channels, image_size[0], image_size[1]))"
   ]
  },
  {
   "cell_type": "code",
   "execution_count": 59,
   "id": "6aa0a9b7",
   "metadata": {},
   "outputs": [],
   "source": [
    "\n",
    "\n",
    "class Unet(nn.Module):\n",
    "    def __init__(\n",
    "        self,\n",
    "        dim,\n",
    "        init_dim=None,\n",
    "        out_dim=None,\n",
    "        dim_mults=(1, 2, 4, 8),\n",
    "        channels=3,\n",
    "        cdim = 10,\n",
    "        self_condition=False,\n",
    "        resnet_block_groups=4,\n",
    "    ):\n",
    "        super().__init__()\n",
    "\n",
    "        # determine dimensions\n",
    "        self.channels = channels\n",
    "        self.self_condition = self_condition\n",
    "        input_channels = channels * (2 if self_condition else 1)\n",
    "        self.cdim = cdim\n",
    "\n",
    "        init_dim = default(init_dim, dim)\n",
    "        self.init_conv = nn.Conv2d(input_channels, init_dim, 1, padding=0) # changed to 1 and 0 from 7,3\n",
    "\n",
    "        dims = [init_dim, *map(lambda m: init_dim * m, dim_mults)]\n",
    "        in_out = list(zip(dims[:-1], dims[1:]))\n",
    "\n",
    "        block_klass = partial(ResnetBlock, groups=resnet_block_groups)\n",
    "        \n",
    "        uncond_klass = partial(Uncond_ResnetBlock, groups = resnet_block_groups)\n",
    "\n",
    "        # time embeddings\n",
    "        time_dim = init_dim * 4\n",
    "\n",
    "        self.time_mlp = nn.Sequential(\n",
    "            SinusoidalPositionEmbeddings(init_dim),\n",
    "            nn.Linear(init_dim, time_dim),\n",
    "            nn.GELU(),\n",
    "            nn.Linear(time_dim, time_dim),\n",
    "        )\n",
    "        \n",
    "        # conditional Embedding\n",
    "        self.cemb_layer = nn.Sequential(\n",
    "            nn.Linear(self.cdim, time_dim),\n",
    "            nn.SiLU(),\n",
    "            nn.Linear(time_dim, time_dim),\n",
    "        )\n",
    "        \n",
    "        \n",
    "\n",
    "        # layers\n",
    "        self.downs = nn.ModuleList([])\n",
    "        self.ups = nn.ModuleList([])\n",
    "        num_resolutions = len(in_out)\n",
    "\n",
    "        for ind, (dim_in, dim_out) in enumerate(in_out):\n",
    "            is_last = ind >= (num_resolutions - 1)\n",
    "\n",
    "            self.downs.append(\n",
    "                nn.ModuleList(\n",
    "                    [\n",
    "                        block_klass(dim_in, dim_in, cdim = time_dim, time_emb_dim=time_dim),\n",
    "                        block_klass(dim_in, dim_in, cdim = time_dim, time_emb_dim=time_dim),\n",
    "                        Residual(PreNorm(dim_in, LinearAttention(dim_in))),\n",
    "                        Downsample(dim_in, dim_out)\n",
    "                        if not is_last\n",
    "                        else nn.Conv2d(dim_in, dim_out, 3, padding=1),\n",
    "                    ]\n",
    "                )\n",
    "            )\n",
    "\n",
    "        mid_dim = dims[-1]\n",
    "        self.mid_block1 = block_klass(mid_dim, mid_dim, cdim = time_dim, time_emb_dim=time_dim)\n",
    "        self.mid_attn = Residual(PreNorm(mid_dim, Attention(mid_dim)))\n",
    "        self.mid_block2 = block_klass(mid_dim, mid_dim, cdim = time_dim, time_emb_dim=time_dim)\n",
    "\n",
    "        for ind, (dim_in, dim_out) in enumerate(reversed(in_out)):\n",
    "            is_last = ind == (len(in_out) - 1)\n",
    "\n",
    "            self.ups.append(\n",
    "                nn.ModuleList(\n",
    "                    [\n",
    "                        block_klass(dim_out + dim_in, dim_out, cdim = time_dim, time_emb_dim=time_dim),\n",
    "                        block_klass(dim_out + dim_in, dim_out, cdim = time_dim, time_emb_dim=time_dim),\n",
    "                        Residual(PreNorm(dim_out, LinearAttention(dim_out))),\n",
    "                        Upsample(dim_out, dim_in)\n",
    "                        if not is_last\n",
    "                        else nn.Conv2d(dim_out, dim_in, 3, padding=1),\n",
    "                    ]\n",
    "                )\n",
    "            )\n",
    "\n",
    "        \n",
    "        self.out_dim = default(out_dim, channels)\n",
    "\n",
    "        self.final_res_block = uncond_klass(init_dim * 2, init_dim, time_emb_dim=time_dim)\n",
    "        self.final_conv = nn.Conv2d(init_dim, self.out_dim, 1)\n",
    "\n",
    "    def forward(self, x, time, cemb, x_self_cond=None):\n",
    "        if self.self_condition:\n",
    "            x_self_cond = default(x_self_cond, lambda: torch.zeros_like(x))\n",
    "            x = torch.cat((x_self_cond, x), dim=1)\n",
    "\n",
    "        x = self.init_conv(x)\n",
    "        r = x.clone()\n",
    "\n",
    "        t = self.time_mlp(time)\n",
    "        cemb = self.cemb_layer(cemb)\n",
    "        \n",
    "        h = []\n",
    "\n",
    "        for block1, block2, attn, downsample in self.downs:\n",
    "            x = block1(x, t, cemb)\n",
    "            h.append(x)\n",
    "\n",
    "            x = block2(x, t, cemb)\n",
    "            x = attn(x)\n",
    "            h.append(x)\n",
    "\n",
    "            x = downsample(x)\n",
    "\n",
    "        x = self.mid_block1(x, t, cemb)\n",
    "        x = self.mid_attn(x)\n",
    "        x = self.mid_block2(x, t, cemb)\n",
    "\n",
    "        for block1, block2, attn, upsample in self.ups:\n",
    "            x = torch.cat((x, h.pop()), dim=1)\n",
    "            x = block1(x, t, cemb)\n",
    "\n",
    "            x = torch.cat((x, h.pop()), dim=1)\n",
    "            x = block2(x, t, cemb)\n",
    "            x = attn(x)\n",
    "\n",
    "            x = upsample(x)\n",
    "\n",
    "        x = torch.cat((x, r), dim=1)\n",
    "\n",
    "        x = self.final_res_block(x, t)\n",
    "        return self.final_conv(x)"
   ]
  },
  {
   "cell_type": "code",
   "execution_count": 60,
   "id": "bfa0c06b",
   "metadata": {},
   "outputs": [],
   "source": [
    "class ConditionalEmbedding(nn.Module):\n",
    "    def __init__(self, num_labels:int, d_model:int, dim:int):\n",
    "        assert d_model % 2 == 0\n",
    "        super().__init__()\n",
    "        self.condEmbedding = nn.Sequential(\n",
    "            nn.Embedding(num_embeddings=num_labels + 1, embedding_dim=d_model, padding_idx=10),\n",
    "            nn.Linear(d_model, dim),\n",
    "            nn.SiLU(),\n",
    "            nn.Linear(dim, dim),\n",
    "        )\n",
    "\n",
    "    def forward(self, t:torch.Tensor) -> torch.Tensor:\n",
    "        emb = self.condEmbedding(t)\n",
    "        return emb\n",
    "\n",
    "cemblayer = ConditionalEmbedding(10, 10, 10).to(device)"
   ]
  },
  {
   "cell_type": "code",
   "execution_count": 61,
   "id": "776bd135",
   "metadata": {},
   "outputs": [],
   "source": [
    "class AudioDataset(Dataset):\n",
    "    def __init__(self, path, feature_transform=None, label_transform=None,):\n",
    "        self.path = path\n",
    "        self.file_list = []\n",
    "        self.label_list = []\n",
    "        self.feature_transform = feature_transform\n",
    "        self.label_transform = label_transform\n",
    "        for dirname, _, filenames in os.walk(path):\n",
    "            for filename in filenames:\n",
    "                if filename[-3:] != \"txt\":\n",
    "                    self.file_list.append(os.path.join(dirname, filename))\n",
    "                    self.label_list.append(int(filename[0]))\n",
    "        \n",
    "        total_len = len(self.file_list)\n",
    "        \n",
    "                    \n",
    "    def __getitem__(self, idx):\n",
    "        try:\n",
    "            audio, sr = torchaudio.load(self.file_list[idx])\n",
    "            label = self.label_list[idx]\n",
    "            return audio, sr, label\n",
    "        except:\n",
    "            audio, sr = torchaudio.load(self.file_list[0])\n",
    "            label = self.label_list[idx]\n",
    "            return audio, sr, label\n",
    "    \n",
    "    def __len__(self):\n",
    "        return len(self.file_list)"
   ]
  },
  {
   "cell_type": "code",
   "execution_count": 62,
   "id": "52a45be6",
   "metadata": {},
   "outputs": [],
   "source": [
    "def collate_fn(batch):\n",
    "    \n",
    "    src_speech = [] \n",
    "    src_label = []\n",
    "    \n",
    "    for samples, sr, label in batch:                    \n",
    "                \n",
    "        resample_audio = torchaudio.functional.resample(samples, orig_freq=sr, new_freq=22050) ## [1,153600]\n",
    "        \n",
    "        mel_spec = mel_spectrogram(resample_audio[0][:14512])\n",
    "                \n",
    "        src_speech.append(mel_spec.squeeze().permute(1,0)) \n",
    "        \n",
    "        src_label.append(label)\n",
    "    \n",
    "    speech_batch = pad_sequence(src_speech, padding_value = 0.0, batch_first = True) # batch, Frame, mel\n",
    "    \n",
    "    speech_batch =speech_batch.permute(0,2,1)\n",
    "    \n",
    "    return speech_batch.unsqueeze(1), torch.tensor(src_label) ## batch, 1, mel, time"
   ]
  },
  {
   "cell_type": "code",
   "execution_count": 63,
   "id": "d539bdcf",
   "metadata": {},
   "outputs": [],
   "source": [
    "import torchvision.transforms as T\n",
    "\n",
    "batch_size = 32\n",
    "\n",
    "train_ds = AudioDataset('../data/', label_transform=T.ToTensor())\n",
    "\n",
    "data_loader = torch.utils.data.DataLoader(\n",
    "    train_ds,\n",
    "    batch_size=batch_size,\n",
    "    collate_fn = collate_fn,\n",
    "    num_workers = 8,\n",
    "    shuffle=True,\n",
    "    pin_memory = True,\n",
    "    drop_last = True\n",
    ")\n"
   ]
  },
  {
   "cell_type": "code",
   "execution_count": null,
   "id": "74013f52",
   "metadata": {},
   "outputs": [],
   "source": [
    "a,b = next(iter(data_loader))"
   ]
  },
  {
   "cell_type": "code",
   "execution_count": 64,
   "id": "099ca2f5",
   "metadata": {},
   "outputs": [],
   "source": [
    "model = Unet(\n",
    "    dim=56,\n",
    "    channels=1,\n",
    "    init_dim = 32,\n",
    "    cdim = 10,\n",
    "    dim_mults=(1, 2, 2, 4),\n",
    "    resnet_block_groups = 32,\n",
    ")\n",
    "\n",
    "model.to(device)\n",
    "\n",
    "optimizer = torch.optim.AdamW(itertools.chain(model.parameters(), cemblayer.parameters()), lr=5e-4)"
   ]
  },
  {
   "cell_type": "code",
   "execution_count": 66,
   "id": "a27e5e45",
   "metadata": {
    "scrolled": true
   },
   "outputs": [
    {
     "name": "stderr",
     "output_type": "stream",
     "text": [
      "100%|████████████████████████████████████████████████████████████████████████████████████████████████████████████████████████████████████████████████████████████████████████████████████████████████████████████████████████| 937/937 [01:36<00:00,  9.67it/s]\n"
     ]
    },
    {
     "name": "stdout",
     "output_type": "stream",
     "text": [
      "epoch : 0 Loss : 0.009848259389400482 \n",
      "before_loss = 999999.0000, loss = 0.0098, saved_epoch = 0\n",
      "model_save\n"
     ]
    },
    {
     "name": "stderr",
     "output_type": "stream",
     "text": [
      "100%|████████████████████████████████████████████████████████████████████████████████████████████████████████████████████████████████████████████████████████████████████████████████████████████████████████████████████████| 937/937 [01:37<00:00,  9.60it/s]\n"
     ]
    },
    {
     "name": "stdout",
     "output_type": "stream",
     "text": [
      "epoch : 1 Loss : 0.007726013194769621 \n",
      "before_loss = 0.0098, loss = 0.0077, saved_epoch = 1\n",
      "model_save\n"
     ]
    },
    {
     "name": "stderr",
     "output_type": "stream",
     "text": [
      "100%|████████████████████████████████████████████████████████████████████████████████████████████████████████████████████████████████████████████████████████████████████████████████████████████████████████████████████████| 937/937 [01:40<00:00,  9.34it/s]\n"
     ]
    },
    {
     "name": "stdout",
     "output_type": "stream",
     "text": [
      "epoch : 2 Loss : 0.00723652308806777 \n",
      "before_loss = 0.0077, loss = 0.0072, saved_epoch = 2\n",
      "model_save\n"
     ]
    },
    {
     "name": "stderr",
     "output_type": "stream",
     "text": [
      "100%|████████████████████████████████████████████████████████████████████████████████████████████████████████████████████████████████████████████████████████████████████████████████████████████████████████████████████████| 937/937 [01:40<00:00,  9.36it/s]\n"
     ]
    },
    {
     "name": "stdout",
     "output_type": "stream",
     "text": [
      "epoch : 3 Loss : 0.00724738510325551 \n"
     ]
    },
    {
     "name": "stderr",
     "output_type": "stream",
     "text": [
      "100%|████████████████████████████████████████████████████████████████████████████████████████████████████████████████████████████████████████████████████████████████████████████████████████████████████████████████████████| 937/937 [01:52<00:00,  8.32it/s]\n"
     ]
    },
    {
     "name": "stdout",
     "output_type": "stream",
     "text": [
      "epoch : 4 Loss : 0.007165540009737015 \n",
      "before_loss = 0.0072, loss = 0.0072, saved_epoch = 4\n",
      "model_save\n"
     ]
    },
    {
     "name": "stderr",
     "output_type": "stream",
     "text": [
      "100%|████████████████████████████████████████████████████████████████████████████████████████████████████████████████████████████████████████████████████████████████████████████████████████████████████████████████████████| 937/937 [01:45<00:00,  8.84it/s]\n"
     ]
    },
    {
     "name": "stdout",
     "output_type": "stream",
     "text": [
      "epoch : 5 Loss : 0.007023438811302185 \n",
      "before_loss = 0.0072, loss = 0.0070, saved_epoch = 5\n",
      "model_save\n"
     ]
    },
    {
     "name": "stderr",
     "output_type": "stream",
     "text": [
      "100%|████████████████████████████████████████████████████████████████████████████████████████████████████████████████████████████████████████████████████████████████████████████████████████████████████████████████████████| 937/937 [01:48<00:00,  8.62it/s]\n"
     ]
    },
    {
     "name": "stdout",
     "output_type": "stream",
     "text": [
      "epoch : 6 Loss : 0.007092773448675871 \n"
     ]
    },
    {
     "name": "stderr",
     "output_type": "stream",
     "text": [
      "100%|████████████████████████████████████████████████████████████████████████████████████████████████████████████████████████████████████████████████████████████████████████████████████████████████████████████████████████| 937/937 [01:49<00:00,  8.58it/s]\n"
     ]
    },
    {
     "name": "stdout",
     "output_type": "stream",
     "text": [
      "epoch : 7 Loss : 0.006618558429181576 \n",
      "before_loss = 0.0070, loss = 0.0066, saved_epoch = 7\n",
      "model_save\n"
     ]
    },
    {
     "name": "stderr",
     "output_type": "stream",
     "text": [
      "100%|████████████████████████████████████████████████████████████████████████████████████████████████████████████████████████████████████████████████████████████████████████████████████████████████████████████████████████| 937/937 [01:46<00:00,  8.82it/s]\n"
     ]
    },
    {
     "name": "stdout",
     "output_type": "stream",
     "text": [
      "epoch : 8 Loss : 0.006493923254311085 \n",
      "before_loss = 0.0066, loss = 0.0065, saved_epoch = 8\n",
      "model_save\n"
     ]
    },
    {
     "name": "stderr",
     "output_type": "stream",
     "text": [
      "100%|████████████████████████████████████████████████████████████████████████████████████████████████████████████████████████████████████████████████████████████████████████████████████████████████████████████████████████| 937/937 [01:47<00:00,  8.75it/s]\n"
     ]
    },
    {
     "name": "stdout",
     "output_type": "stream",
     "text": [
      "epoch : 9 Loss : 0.006877596490085125 \n"
     ]
    },
    {
     "name": "stderr",
     "output_type": "stream",
     "text": [
      "100%|████████████████████████████████████████████████████████████████████████████████████████████████████████████████████████████████████████████████████████████████████████████████████████████████████████████████████████| 937/937 [02:00<00:00,  7.79it/s]\n"
     ]
    },
    {
     "name": "stdout",
     "output_type": "stream",
     "text": [
      "epoch : 10 Loss : 0.006890430115163326 \n"
     ]
    },
    {
     "name": "stderr",
     "output_type": "stream",
     "text": [
      "100%|████████████████████████████████████████████████████████████████████████████████████████████████████████████████████████████████████████████████████████████████████████████████████████████████████████████████████████| 937/937 [01:53<00:00,  8.28it/s]\n"
     ]
    },
    {
     "name": "stdout",
     "output_type": "stream",
     "text": [
      "epoch : 11 Loss : 0.00649453466758132 \n"
     ]
    },
    {
     "name": "stderr",
     "output_type": "stream",
     "text": [
      "100%|████████████████████████████████████████████████████████████████████████████████████████████████████████████████████████████████████████████████████████████████████████████████████████████████████████████████████████| 937/937 [01:52<00:00,  8.33it/s]\n"
     ]
    },
    {
     "name": "stdout",
     "output_type": "stream",
     "text": [
      "epoch : 12 Loss : 0.006552936043590307 \n"
     ]
    },
    {
     "name": "stderr",
     "output_type": "stream",
     "text": [
      "100%|████████████████████████████████████████████████████████████████████████████████████████████████████████████████████████████████████████████████████████████████████████████████████████████████████████████████████████| 937/937 [01:42<00:00,  9.11it/s]\n"
     ]
    },
    {
     "name": "stdout",
     "output_type": "stream",
     "text": [
      "epoch : 13 Loss : 0.006838671863079071 \n"
     ]
    },
    {
     "name": "stderr",
     "output_type": "stream",
     "text": [
      "100%|████████████████████████████████████████████████████████████████████████████████████████████████████████████████████████████████████████████████████████████████████████████████████████████████████████████████████████| 937/937 [01:53<00:00,  8.26it/s]\n"
     ]
    },
    {
     "name": "stdout",
     "output_type": "stream",
     "text": [
      "epoch : 14 Loss : 0.006437457632273436 \n",
      "before_loss = 0.0065, loss = 0.0064, saved_epoch = 14\n",
      "model_save\n"
     ]
    },
    {
     "name": "stderr",
     "output_type": "stream",
     "text": [
      "100%|████████████████████████████████████████████████████████████████████████████████████████████████████████████████████████████████████████████████████████████████████████████████████████████████████████████████████████| 937/937 [01:44<00:00,  8.97it/s]\n"
     ]
    },
    {
     "name": "stdout",
     "output_type": "stream",
     "text": [
      "epoch : 15 Loss : 0.00672371918335557 \n"
     ]
    },
    {
     "name": "stderr",
     "output_type": "stream",
     "text": [
      "100%|████████████████████████████████████████████████████████████████████████████████████████████████████████████████████████████████████████████████████████████████████████████████████████████████████████████████████████| 937/937 [02:07<00:00,  7.35it/s]\n"
     ]
    },
    {
     "name": "stdout",
     "output_type": "stream",
     "text": [
      "epoch : 16 Loss : 0.006542601156979799 \n"
     ]
    },
    {
     "name": "stderr",
     "output_type": "stream",
     "text": [
      "100%|████████████████████████████████████████████████████████████████████████████████████████████████████████████████████████████████████████████████████████████████████████████████████████████████████████████████████████| 937/937 [01:48<00:00,  8.68it/s]\n"
     ]
    },
    {
     "name": "stdout",
     "output_type": "stream",
     "text": [
      "epoch : 17 Loss : 0.006717382930219173 \n"
     ]
    },
    {
     "name": "stderr",
     "output_type": "stream",
     "text": [
      "100%|████████████████████████████████████████████████████████████████████████████████████████████████████████████████████████████████████████████████████████████████████████████████████████████████████████████████████████| 937/937 [01:46<00:00,  8.80it/s]\n"
     ]
    },
    {
     "name": "stdout",
     "output_type": "stream",
     "text": [
      "epoch : 18 Loss : 0.006689203437417746 \n"
     ]
    },
    {
     "name": "stderr",
     "output_type": "stream",
     "text": [
      "100%|████████████████████████████████████████████████████████████████████████████████████████████████████████████████████████████████████████████████████████████████████████████████████████████████████████████████████████| 937/937 [01:45<00:00,  8.85it/s]\n"
     ]
    },
    {
     "name": "stdout",
     "output_type": "stream",
     "text": [
      "epoch : 19 Loss : 0.006267743185162544 \n",
      "before_loss = 0.0064, loss = 0.0063, saved_epoch = 19\n",
      "model_save\n"
     ]
    },
    {
     "name": "stderr",
     "output_type": "stream",
     "text": [
      "100%|████████████████████████████████████████████████████████████████████████████████████████████████████████████████████████████████████████████████████████████████████████████████████████████████████████████████████████| 937/937 [01:46<00:00,  8.77it/s]\n"
     ]
    },
    {
     "name": "stdout",
     "output_type": "stream",
     "text": [
      "epoch : 20 Loss : 0.0063987793400883675 \n"
     ]
    },
    {
     "name": "stderr",
     "output_type": "stream",
     "text": [
      "100%|████████████████████████████████████████████████████████████████████████████████████████████████████████████████████████████████████████████████████████████████████████████████████████████████████████████████████████| 937/937 [01:45<00:00,  8.90it/s]\n"
     ]
    },
    {
     "name": "stdout",
     "output_type": "stream",
     "text": [
      "epoch : 21 Loss : 0.006238880567252636 \n",
      "before_loss = 0.0063, loss = 0.0062, saved_epoch = 21\n",
      "model_save\n"
     ]
    },
    {
     "name": "stderr",
     "output_type": "stream",
     "text": [
      "100%|████████████████████████████████████████████████████████████████████████████████████████████████████████████████████████████████████████████████████████████████████████████████████████████████████████████████████████| 937/937 [02:06<00:00,  7.43it/s]\n"
     ]
    },
    {
     "name": "stdout",
     "output_type": "stream",
     "text": [
      "epoch : 22 Loss : 0.006172655150294304 \n",
      "before_loss = 0.0062, loss = 0.0062, saved_epoch = 22\n",
      "model_save\n"
     ]
    },
    {
     "name": "stderr",
     "output_type": "stream",
     "text": [
      "100%|████████████████████████████████████████████████████████████████████████████████████████████████████████████████████████████████████████████████████████████████████████████████████████████████████████████████████████| 937/937 [02:51<00:00,  5.46it/s]\n"
     ]
    },
    {
     "name": "stdout",
     "output_type": "stream",
     "text": [
      "epoch : 23 Loss : 0.006145407445728779 \n",
      "before_loss = 0.0062, loss = 0.0061, saved_epoch = 23\n",
      "model_save\n"
     ]
    },
    {
     "name": "stderr",
     "output_type": "stream",
     "text": [
      "100%|████████████████████████████████████████████████████████████████████████████████████████████████████████████████████████████████████████████████████████████████████████████████████████████████████████████████████████| 937/937 [02:51<00:00,  5.47it/s]\n"
     ]
    },
    {
     "name": "stdout",
     "output_type": "stream",
     "text": [
      "epoch : 24 Loss : 0.0062216888181865215 \n"
     ]
    },
    {
     "name": "stderr",
     "output_type": "stream",
     "text": [
      "100%|████████████████████████████████████████████████████████████████████████████████████████████████████████████████████████████████████████████████████████████████████████████████████████████████████████████████████████| 937/937 [02:51<00:00,  5.48it/s]\n"
     ]
    },
    {
     "name": "stdout",
     "output_type": "stream",
     "text": [
      "epoch : 25 Loss : 0.0060737780295312405 \n",
      "before_loss = 0.0061, loss = 0.0061, saved_epoch = 25\n",
      "model_save\n"
     ]
    },
    {
     "name": "stderr",
     "output_type": "stream",
     "text": [
      "100%|████████████████████████████████████████████████████████████████████████████████████████████████████████████████████████████████████████████████████████████████████████████████████████████████████████████████████████| 937/937 [02:50<00:00,  5.49it/s]\n"
     ]
    },
    {
     "name": "stdout",
     "output_type": "stream",
     "text": [
      "epoch : 26 Loss : 0.006308138836175203 \n"
     ]
    },
    {
     "name": "stderr",
     "output_type": "stream",
     "text": [
      "100%|████████████████████████████████████████████████████████████████████████████████████████████████████████████████████████████████████████████████████████████████████████████████████████████████████████████████████████| 937/937 [02:50<00:00,  5.50it/s]\n"
     ]
    },
    {
     "name": "stdout",
     "output_type": "stream",
     "text": [
      "epoch : 27 Loss : 0.006612150929868221 \n"
     ]
    },
    {
     "name": "stderr",
     "output_type": "stream",
     "text": [
      "100%|████████████████████████████████████████████████████████████████████████████████████████████████████████████████████████████████████████████████████████████████████████████████████████████████████████████████████████| 937/937 [02:50<00:00,  5.50it/s]\n"
     ]
    },
    {
     "name": "stdout",
     "output_type": "stream",
     "text": [
      "epoch : 28 Loss : 0.006439496763050556 \n"
     ]
    },
    {
     "name": "stderr",
     "output_type": "stream",
     "text": [
      "100%|████████████████████████████████████████████████████████████████████████████████████████████████████████████████████████████████████████████████████████████████████████████████████████████████████████████████████████| 937/937 [02:50<00:00,  5.48it/s]\n"
     ]
    },
    {
     "name": "stdout",
     "output_type": "stream",
     "text": [
      "epoch : 29 Loss : 0.006521484348922968 \n"
     ]
    },
    {
     "name": "stderr",
     "output_type": "stream",
     "text": [
      "100%|████████████████████████████████████████████████████████████████████████████████████████████████████████████████████████████████████████████████████████████████████████████████████████████████████████████████████████| 937/937 [02:51<00:00,  5.48it/s]\n"
     ]
    },
    {
     "name": "stdout",
     "output_type": "stream",
     "text": [
      "epoch : 30 Loss : 0.006382619962096214 \n"
     ]
    },
    {
     "name": "stderr",
     "output_type": "stream",
     "text": [
      "100%|████████████████████████████████████████████████████████████████████████████████████████████████████████████████████████████████████████████████████████████████████████████████████████████████████████████████████████| 937/937 [02:51<00:00,  5.48it/s]\n"
     ]
    },
    {
     "name": "stdout",
     "output_type": "stream",
     "text": [
      "epoch : 31 Loss : 0.006325960159301758 \n"
     ]
    },
    {
     "name": "stderr",
     "output_type": "stream",
     "text": [
      "100%|████████████████████████████████████████████████████████████████████████████████████████████████████████████████████████████████████████████████████████████████████████████████████████████████████████████████████████| 937/937 [02:47<00:00,  5.58it/s]\n"
     ]
    },
    {
     "name": "stdout",
     "output_type": "stream",
     "text": [
      "epoch : 32 Loss : 0.00615787785500288 \n"
     ]
    },
    {
     "name": "stderr",
     "output_type": "stream",
     "text": [
      "100%|████████████████████████████████████████████████████████████████████████████████████████████████████████████████████████████████████████████████████████████████████████████████████████████████████████████████████████| 937/937 [01:45<00:00,  8.86it/s]\n"
     ]
    },
    {
     "name": "stdout",
     "output_type": "stream",
     "text": [
      "epoch : 33 Loss : 0.006302692461758852 \n"
     ]
    },
    {
     "name": "stderr",
     "output_type": "stream",
     "text": [
      "100%|████████████████████████████████████████████████████████████████████████████████████████████████████████████████████████████████████████████████████████████████████████████████████████████████████████████████████████| 937/937 [01:46<00:00,  8.83it/s]\n"
     ]
    },
    {
     "name": "stdout",
     "output_type": "stream",
     "text": [
      "epoch : 34 Loss : 0.006469318643212318 \n"
     ]
    },
    {
     "name": "stderr",
     "output_type": "stream",
     "text": [
      "100%|████████████████████████████████████████████████████████████████████████████████████████████████████████████████████████████████████████████████████████████████████████████████████████████████████████████████████████| 937/937 [01:46<00:00,  8.80it/s]\n"
     ]
    },
    {
     "name": "stdout",
     "output_type": "stream",
     "text": [
      "epoch : 35 Loss : 0.00628251675516367 \n"
     ]
    },
    {
     "name": "stderr",
     "output_type": "stream",
     "text": [
      "100%|████████████████████████████████████████████████████████████████████████████████████████████████████████████████████████████████████████████████████████████████████████████████████████████████████████████████████████| 937/937 [01:45<00:00,  8.86it/s]\n"
     ]
    },
    {
     "name": "stdout",
     "output_type": "stream",
     "text": [
      "epoch : 36 Loss : 0.006045155227184296 \n",
      "before_loss = 0.0061, loss = 0.0060, saved_epoch = 36\n",
      "model_save\n"
     ]
    },
    {
     "name": "stderr",
     "output_type": "stream",
     "text": [
      "100%|████████████████████████████████████████████████████████████████████████████████████████████████████████████████████████████████████████████████████████████████████████████████████████████████████████████████████████| 937/937 [01:46<00:00,  8.81it/s]\n"
     ]
    },
    {
     "name": "stdout",
     "output_type": "stream",
     "text": [
      "epoch : 37 Loss : 0.0063622198067605495 \n"
     ]
    },
    {
     "name": "stderr",
     "output_type": "stream",
     "text": [
      "100%|████████████████████████████████████████████████████████████████████████████████████████████████████████████████████████████████████████████████████████████████████████████████████████████████████████████████████████| 937/937 [01:47<00:00,  8.69it/s]\n"
     ]
    },
    {
     "name": "stdout",
     "output_type": "stream",
     "text": [
      "epoch : 38 Loss : 0.005942298099398613 \n",
      "before_loss = 0.0060, loss = 0.0059, saved_epoch = 38\n",
      "model_save\n"
     ]
    },
    {
     "name": "stderr",
     "output_type": "stream",
     "text": [
      "100%|████████████████████████████████████████████████████████████████████████████████████████████████████████████████████████████████████████████████████████████████████████████████████████████████████████████████████████| 937/937 [01:47<00:00,  8.73it/s]\n"
     ]
    },
    {
     "name": "stdout",
     "output_type": "stream",
     "text": [
      "epoch : 39 Loss : 0.006048000883311033 \n"
     ]
    },
    {
     "name": "stderr",
     "output_type": "stream",
     "text": [
      "100%|████████████████████████████████████████████████████████████████████████████████████████████████████████████████████████████████████████████████████████████████████████████████████████████████████████████████████████| 937/937 [01:50<00:00,  8.51it/s]\n"
     ]
    },
    {
     "name": "stdout",
     "output_type": "stream",
     "text": [
      "epoch : 40 Loss : 0.006302032619714737 \n"
     ]
    },
    {
     "name": "stderr",
     "output_type": "stream",
     "text": [
      "100%|████████████████████████████████████████████████████████████████████████████████████████████████████████████████████████████████████████████████████████████████████████████████████████████████████████████████████████| 937/937 [01:46<00:00,  8.81it/s]\n"
     ]
    },
    {
     "name": "stdout",
     "output_type": "stream",
     "text": [
      "epoch : 41 Loss : 0.006126176565885544 \n"
     ]
    },
    {
     "name": "stderr",
     "output_type": "stream",
     "text": [
      "100%|████████████████████████████████████████████████████████████████████████████████████████████████████████████████████████████████████████████████████████████████████████████████████████████████████████████████████████| 937/937 [01:48<00:00,  8.62it/s]\n"
     ]
    },
    {
     "name": "stdout",
     "output_type": "stream",
     "text": [
      "epoch : 42 Loss : 0.006057752296328545 \n"
     ]
    },
    {
     "name": "stderr",
     "output_type": "stream",
     "text": [
      "100%|████████████████████████████████████████████████████████████████████████████████████████████████████████████████████████████████████████████████████████████████████████████████████████████████████████████████████████| 937/937 [01:50<00:00,  8.51it/s]\n"
     ]
    },
    {
     "name": "stdout",
     "output_type": "stream",
     "text": [
      "epoch : 43 Loss : 0.00597606785595417 \n"
     ]
    },
    {
     "name": "stderr",
     "output_type": "stream",
     "text": [
      "100%|████████████████████████████████████████████████████████████████████████████████████████████████████████████████████████████████████████████████████████████████████████████████████████████████████████████████████████| 937/937 [01:48<00:00,  8.65it/s]\n"
     ]
    },
    {
     "name": "stdout",
     "output_type": "stream",
     "text": [
      "epoch : 44 Loss : 0.005989712197333574 \n"
     ]
    },
    {
     "name": "stderr",
     "output_type": "stream",
     "text": [
      "100%|████████████████████████████████████████████████████████████████████████████████████████████████████████████████████████████████████████████████████████████████████████████████████████████████████████████████████████| 937/937 [01:47<00:00,  8.73it/s]\n"
     ]
    },
    {
     "name": "stdout",
     "output_type": "stream",
     "text": [
      "epoch : 45 Loss : 0.006112702190876007 \n"
     ]
    },
    {
     "name": "stderr",
     "output_type": "stream",
     "text": [
      "100%|████████████████████████████████████████████████████████████████████████████████████████████████████████████████████████████████████████████████████████████████████████████████████████████████████████████████████████| 937/937 [02:09<00:00,  7.23it/s]\n"
     ]
    },
    {
     "name": "stdout",
     "output_type": "stream",
     "text": [
      "epoch : 46 Loss : 0.0061502777971327305 \n"
     ]
    },
    {
     "name": "stderr",
     "output_type": "stream",
     "text": [
      "100%|████████████████████████████████████████████████████████████████████████████████████████████████████████████████████████████████████████████████████████████████████████████████████████████████████████████████████████| 937/937 [01:46<00:00,  8.76it/s]\n"
     ]
    },
    {
     "name": "stdout",
     "output_type": "stream",
     "text": [
      "epoch : 47 Loss : 0.006150688044726849 \n"
     ]
    },
    {
     "name": "stderr",
     "output_type": "stream",
     "text": [
      "100%|████████████████████████████████████████████████████████████████████████████████████████████████████████████████████████████████████████████████████████████████████████████████████████████████████████████████████████| 937/937 [01:43<00:00,  9.03it/s]\n"
     ]
    },
    {
     "name": "stdout",
     "output_type": "stream",
     "text": [
      "epoch : 48 Loss : 0.006132421083748341 \n"
     ]
    },
    {
     "name": "stderr",
     "output_type": "stream",
     "text": [
      "100%|████████████████████████████████████████████████████████████████████████████████████████████████████████████████████████████████████████████████████████████████████████████████████████████████████████████████████████| 937/937 [01:48<00:00,  8.66it/s]\n"
     ]
    },
    {
     "name": "stdout",
     "output_type": "stream",
     "text": [
      "epoch : 49 Loss : 0.005857391748577356 \n",
      "before_loss = 0.0059, loss = 0.0059, saved_epoch = 49\n",
      "model_save\n"
     ]
    },
    {
     "name": "stderr",
     "output_type": "stream",
     "text": [
      "100%|████████████████████████████████████████████████████████████████████████████████████████████████████████████████████████████████████████████████████████████████████████████████████████████████████████████████████████| 937/937 [01:45<00:00,  8.86it/s]\n"
     ]
    },
    {
     "name": "stdout",
     "output_type": "stream",
     "text": [
      "epoch : 50 Loss : 0.006136493757367134 \n"
     ]
    },
    {
     "name": "stderr",
     "output_type": "stream",
     "text": [
      "100%|████████████████████████████████████████████████████████████████████████████████████████████████████████████████████████████████████████████████████████████████████████████████████████████████████████████████████████| 937/937 [01:47<00:00,  8.71it/s]\n"
     ]
    },
    {
     "name": "stdout",
     "output_type": "stream",
     "text": [
      "epoch : 51 Loss : 0.005973221734166145 \n"
     ]
    },
    {
     "name": "stderr",
     "output_type": "stream",
     "text": [
      "100%|████████████████████████████████████████████████████████████████████████████████████████████████████████████████████████████████████████████████████████████████████████████████████████████████████████████████████████| 937/937 [01:48<00:00,  8.65it/s]\n"
     ]
    },
    {
     "name": "stdout",
     "output_type": "stream",
     "text": [
      "epoch : 52 Loss : 0.00609571160748601 \n"
     ]
    },
    {
     "name": "stderr",
     "output_type": "stream",
     "text": [
      "100%|████████████████████████████████████████████████████████████████████████████████████████████████████████████████████████████████████████████████████████████████████████████████████████████████████████████████████████| 937/937 [01:50<00:00,  8.45it/s]\n"
     ]
    },
    {
     "name": "stdout",
     "output_type": "stream",
     "text": [
      "epoch : 53 Loss : 0.00601635267958045 \n"
     ]
    },
    {
     "name": "stderr",
     "output_type": "stream",
     "text": [
      "100%|████████████████████████████████████████████████████████████████████████████████████████████████████████████████████████████████████████████████████████████████████████████████████████████████████████████████████████| 937/937 [01:48<00:00,  8.64it/s]\n"
     ]
    },
    {
     "name": "stdout",
     "output_type": "stream",
     "text": [
      "epoch : 54 Loss : 0.00588494585826993 \n"
     ]
    },
    {
     "name": "stderr",
     "output_type": "stream",
     "text": [
      "100%|████████████████████████████████████████████████████████████████████████████████████████████████████████████████████████████████████████████████████████████████████████████████████████████████████████████████████████| 937/937 [01:55<00:00,  8.11it/s]\n"
     ]
    },
    {
     "name": "stdout",
     "output_type": "stream",
     "text": [
      "epoch : 55 Loss : 0.005895001348108053 \n"
     ]
    },
    {
     "name": "stderr",
     "output_type": "stream",
     "text": [
      "100%|████████████████████████████████████████████████████████████████████████████████████████████████████████████████████████████████████████████████████████████████████████████████████████████████████████████████████████| 937/937 [01:42<00:00,  9.12it/s]\n"
     ]
    },
    {
     "name": "stdout",
     "output_type": "stream",
     "text": [
      "epoch : 56 Loss : 0.006041614804416895 \n"
     ]
    },
    {
     "name": "stderr",
     "output_type": "stream",
     "text": [
      "100%|████████████████████████████████████████████████████████████████████████████████████████████████████████████████████████████████████████████████████████████████████████████████████████████████████████████████████████| 937/937 [01:42<00:00,  9.13it/s]\n"
     ]
    },
    {
     "name": "stdout",
     "output_type": "stream",
     "text": [
      "epoch : 57 Loss : 0.0061224983073771 \n"
     ]
    },
    {
     "name": "stderr",
     "output_type": "stream",
     "text": [
      "100%|████████████████████████████████████████████████████████████████████████████████████████████████████████████████████████████████████████████████████████████████████████████████████████████████████████████████████████| 937/937 [01:42<00:00,  9.16it/s]\n"
     ]
    },
    {
     "name": "stdout",
     "output_type": "stream",
     "text": [
      "epoch : 58 Loss : 0.006084722932428122 \n"
     ]
    },
    {
     "name": "stderr",
     "output_type": "stream",
     "text": [
      "100%|████████████████████████████████████████████████████████████████████████████████████████████████████████████████████████████████████████████████████████████████████████████████████████████████████████████████████████| 937/937 [01:44<00:00,  8.99it/s]\n"
     ]
    },
    {
     "name": "stdout",
     "output_type": "stream",
     "text": [
      "epoch : 59 Loss : 0.006051271688193083 \n"
     ]
    },
    {
     "name": "stderr",
     "output_type": "stream",
     "text": [
      "100%|████████████████████████████████████████████████████████████████████████████████████████████████████████████████████████████████████████████████████████████████████████████████████████████████████████████████████████| 937/937 [01:48<00:00,  8.65it/s]\n"
     ]
    },
    {
     "name": "stdout",
     "output_type": "stream",
     "text": [
      "epoch : 60 Loss : 0.006058732978999615 \n"
     ]
    },
    {
     "name": "stderr",
     "output_type": "stream",
     "text": [
      "100%|████████████████████████████████████████████████████████████████████████████████████████████████████████████████████████████████████████████████████████████████████████████████████████████████████████████████████████| 937/937 [01:43<00:00,  9.05it/s]\n"
     ]
    },
    {
     "name": "stdout",
     "output_type": "stream",
     "text": [
      "epoch : 61 Loss : 0.006109710317105055 \n"
     ]
    },
    {
     "name": "stderr",
     "output_type": "stream",
     "text": [
      "100%|████████████████████████████████████████████████████████████████████████████████████████████████████████████████████████████████████████████████████████████████████████████████████████████████████████████████████████| 937/937 [01:43<00:00,  9.07it/s]\n"
     ]
    },
    {
     "name": "stdout",
     "output_type": "stream",
     "text": [
      "epoch : 62 Loss : 0.005964126903563738 \n"
     ]
    },
    {
     "name": "stderr",
     "output_type": "stream",
     "text": [
      "100%|████████████████████████████████████████████████████████████████████████████████████████████████████████████████████████████████████████████████████████████████████████████████████████████████████████████████████████| 937/937 [01:42<00:00,  9.11it/s]\n"
     ]
    },
    {
     "name": "stdout",
     "output_type": "stream",
     "text": [
      "epoch : 63 Loss : 0.005903857760131359 \n"
     ]
    },
    {
     "name": "stderr",
     "output_type": "stream",
     "text": [
      "100%|████████████████████████████████████████████████████████████████████████████████████████████████████████████████████████████████████████████████████████████████████████████████████████████████████████████████████████| 937/937 [01:47<00:00,  8.69it/s]\n"
     ]
    },
    {
     "name": "stdout",
     "output_type": "stream",
     "text": [
      "epoch : 64 Loss : 0.005856976378709078 \n",
      "before_loss = 0.0059, loss = 0.0059, saved_epoch = 64\n",
      "model_save\n"
     ]
    },
    {
     "name": "stderr",
     "output_type": "stream",
     "text": [
      "100%|████████████████████████████████████████████████████████████████████████████████████████████████████████████████████████████████████████████████████████████████████████████████████████████████████████████████████████| 937/937 [01:47<00:00,  8.73it/s]\n"
     ]
    },
    {
     "name": "stdout",
     "output_type": "stream",
     "text": [
      "epoch : 65 Loss : 0.005951717495918274 \n"
     ]
    },
    {
     "name": "stderr",
     "output_type": "stream",
     "text": [
      "100%|████████████████████████████████████████████████████████████████████████████████████████████████████████████████████████████████████████████████████████████████████████████████████████████████████████████████████████| 937/937 [01:49<00:00,  8.58it/s]\n"
     ]
    },
    {
     "name": "stdout",
     "output_type": "stream",
     "text": [
      "epoch : 66 Loss : 0.005912417080253363 \n"
     ]
    },
    {
     "name": "stderr",
     "output_type": "stream",
     "text": [
      "100%|████████████████████████████████████████████████████████████████████████████████████████████████████████████████████████████████████████████████████████████████████████████████████████████████████████████████████████| 937/937 [01:45<00:00,  8.85it/s]\n"
     ]
    },
    {
     "name": "stdout",
     "output_type": "stream",
     "text": [
      "epoch : 67 Loss : 0.0060105458833277225 \n"
     ]
    },
    {
     "name": "stderr",
     "output_type": "stream",
     "text": [
      "100%|████████████████████████████████████████████████████████████████████████████████████████████████████████████████████████████████████████████████████████████████████████████████████████████████████████████████████████| 937/937 [01:44<00:00,  9.00it/s]\n"
     ]
    },
    {
     "name": "stdout",
     "output_type": "stream",
     "text": [
      "epoch : 68 Loss : 0.0059028686955571175 \n"
     ]
    },
    {
     "name": "stderr",
     "output_type": "stream",
     "text": [
      "100%|████████████████████████████████████████████████████████████████████████████████████████████████████████████████████████████████████████████████████████████████████████████████████████████████████████████████████████| 937/937 [01:45<00:00,  8.88it/s]\n"
     ]
    },
    {
     "name": "stdout",
     "output_type": "stream",
     "text": [
      "epoch : 69 Loss : 0.005916104186326265 \n"
     ]
    },
    {
     "name": "stderr",
     "output_type": "stream",
     "text": [
      "100%|████████████████████████████████████████████████████████████████████████████████████████████████████████████████████████████████████████████████████████████████████████████████████████████████████████████████████████| 937/937 [01:45<00:00,  8.85it/s]\n"
     ]
    },
    {
     "name": "stdout",
     "output_type": "stream",
     "text": [
      "epoch : 70 Loss : 0.0058883316814899445 \n"
     ]
    },
    {
     "name": "stderr",
     "output_type": "stream",
     "text": [
      "100%|████████████████████████████████████████████████████████████████████████████████████████████████████████████████████████████████████████████████████████████████████████████████████████████████████████████████████████| 937/937 [01:44<00:00,  8.98it/s]\n"
     ]
    },
    {
     "name": "stdout",
     "output_type": "stream",
     "text": [
      "epoch : 71 Loss : 0.005910874810069799 \n"
     ]
    },
    {
     "name": "stderr",
     "output_type": "stream",
     "text": [
      "100%|████████████████████████████████████████████████████████████████████████████████████████████████████████████████████████████████████████████████████████████████████████████████████████████████████████████████████████| 937/937 [01:43<00:00,  9.08it/s]\n"
     ]
    },
    {
     "name": "stdout",
     "output_type": "stream",
     "text": [
      "epoch : 72 Loss : 0.005724890623241663 \n",
      "before_loss = 0.0059, loss = 0.0057, saved_epoch = 72\n",
      "model_save\n"
     ]
    },
    {
     "name": "stderr",
     "output_type": "stream",
     "text": [
      "100%|████████████████████████████████████████████████████████████████████████████████████████████████████████████████████████████████████████████████████████████████████████████████████████████████████████████████████████| 937/937 [01:42<00:00,  9.11it/s]\n"
     ]
    },
    {
     "name": "stdout",
     "output_type": "stream",
     "text": [
      "epoch : 73 Loss : 0.005925066769123077 \n"
     ]
    },
    {
     "name": "stderr",
     "output_type": "stream",
     "text": [
      "100%|████████████████████████████████████████████████████████████████████████████████████████████████████████████████████████████████████████████████████████████████████████████████████████████████████████████████████████| 937/937 [01:42<00:00,  9.10it/s]\n"
     ]
    },
    {
     "name": "stdout",
     "output_type": "stream",
     "text": [
      "epoch : 74 Loss : 0.006268465891480446 \n"
     ]
    },
    {
     "name": "stderr",
     "output_type": "stream",
     "text": [
      "100%|████████████████████████████████████████████████████████████████████████████████████████████████████████████████████████████████████████████████████████████████████████████████████████████████████████████████████████| 937/937 [01:42<00:00,  9.17it/s]\n"
     ]
    },
    {
     "name": "stdout",
     "output_type": "stream",
     "text": [
      "epoch : 75 Loss : 0.005881780758500099 \n"
     ]
    },
    {
     "name": "stderr",
     "output_type": "stream",
     "text": [
      "100%|████████████████████████████████████████████████████████████████████████████████████████████████████████████████████████████████████████████████████████████████████████████████████████████████████████████████████████| 937/937 [01:42<00:00,  9.16it/s]\n"
     ]
    },
    {
     "name": "stdout",
     "output_type": "stream",
     "text": [
      "epoch : 76 Loss : 0.005843235645443201 \n"
     ]
    },
    {
     "name": "stderr",
     "output_type": "stream",
     "text": [
      "100%|████████████████████████████████████████████████████████████████████████████████████████████████████████████████████████████████████████████████████████████████████████████████████████████████████████████████████████| 937/937 [01:43<00:00,  9.06it/s]\n"
     ]
    },
    {
     "name": "stdout",
     "output_type": "stream",
     "text": [
      "epoch : 77 Loss : 0.006088567432016134 \n"
     ]
    },
    {
     "name": "stderr",
     "output_type": "stream",
     "text": [
      "100%|████████████████████████████████████████████████████████████████████████████████████████████████████████████████████████████████████████████████████████████████████████████████████████████████████████████████████████| 937/937 [01:43<00:00,  9.03it/s]\n"
     ]
    },
    {
     "name": "stdout",
     "output_type": "stream",
     "text": [
      "epoch : 78 Loss : 0.00593321630731225 \n"
     ]
    },
    {
     "name": "stderr",
     "output_type": "stream",
     "text": [
      "100%|████████████████████████████████████████████████████████████████████████████████████████████████████████████████████████████████████████████████████████████████████████████████████████████████████████████████████████| 937/937 [01:43<00:00,  9.08it/s]\n"
     ]
    },
    {
     "name": "stdout",
     "output_type": "stream",
     "text": [
      "epoch : 79 Loss : 0.005793497432023287 \n"
     ]
    },
    {
     "name": "stderr",
     "output_type": "stream",
     "text": [
      "100%|████████████████████████████████████████████████████████████████████████████████████████████████████████████████████████████████████████████████████████████████████████████████████████████████████████████████████████| 937/937 [01:42<00:00,  9.14it/s]\n"
     ]
    },
    {
     "name": "stdout",
     "output_type": "stream",
     "text": [
      "epoch : 80 Loss : 0.0060320463962852955 \n"
     ]
    },
    {
     "name": "stderr",
     "output_type": "stream",
     "text": [
      "100%|████████████████████████████████████████████████████████████████████████████████████████████████████████████████████████████████████████████████████████████████████████████████████████████████████████████████████████| 937/937 [01:42<00:00,  9.14it/s]\n"
     ]
    },
    {
     "name": "stdout",
     "output_type": "stream",
     "text": [
      "epoch : 81 Loss : 0.005717575550079346 \n",
      "before_loss = 0.0057, loss = 0.0057, saved_epoch = 81\n",
      "model_save\n"
     ]
    },
    {
     "name": "stderr",
     "output_type": "stream",
     "text": [
      "100%|████████████████████████████████████████████████████████████████████████████████████████████████████████████████████████████████████████████████████████████████████████████████████████████████████████████████████████| 937/937 [01:42<00:00,  9.18it/s]\n"
     ]
    },
    {
     "name": "stdout",
     "output_type": "stream",
     "text": [
      "epoch : 82 Loss : 0.0059671965427696705 \n"
     ]
    },
    {
     "name": "stderr",
     "output_type": "stream",
     "text": [
      "100%|████████████████████████████████████████████████████████████████████████████████████████████████████████████████████████████████████████████████████████████████████████████████████████████████████████████████████████| 937/937 [01:43<00:00,  9.04it/s]\n"
     ]
    },
    {
     "name": "stdout",
     "output_type": "stream",
     "text": [
      "epoch : 83 Loss : 0.00583609426394105 \n"
     ]
    },
    {
     "name": "stderr",
     "output_type": "stream",
     "text": [
      "100%|████████████████████████████████████████████████████████████████████████████████████████████████████████████████████████████████████████████████████████████████████████████████████████████████████████████████████████| 937/937 [01:48<00:00,  8.66it/s]\n"
     ]
    },
    {
     "name": "stdout",
     "output_type": "stream",
     "text": [
      "epoch : 84 Loss : 0.006086794193834066 \n"
     ]
    },
    {
     "name": "stderr",
     "output_type": "stream",
     "text": [
      "100%|████████████████████████████████████████████████████████████████████████████████████████████████████████████████████████████████████████████████████████████████████████████████████████████████████████████████████████| 937/937 [01:45<00:00,  8.84it/s]\n"
     ]
    },
    {
     "name": "stdout",
     "output_type": "stream",
     "text": [
      "epoch : 85 Loss : 0.005893769674003124 \n"
     ]
    },
    {
     "name": "stderr",
     "output_type": "stream",
     "text": [
      "100%|████████████████████████████████████████████████████████████████████████████████████████████████████████████████████████████████████████████████████████████████████████████████████████████████████████████████████████| 937/937 [01:45<00:00,  8.90it/s]\n"
     ]
    },
    {
     "name": "stdout",
     "output_type": "stream",
     "text": [
      "epoch : 86 Loss : 0.005973170045763254 \n"
     ]
    },
    {
     "name": "stderr",
     "output_type": "stream",
     "text": [
      "100%|████████████████████████████████████████████████████████████████████████████████████████████████████████████████████████████████████████████████████████████████████████████████████████████████████████████████████████| 937/937 [01:41<00:00,  9.20it/s]\n"
     ]
    },
    {
     "name": "stdout",
     "output_type": "stream",
     "text": [
      "epoch : 87 Loss : 0.005952283274382353 \n"
     ]
    },
    {
     "name": "stderr",
     "output_type": "stream",
     "text": [
      "100%|████████████████████████████████████████████████████████████████████████████████████████████████████████████████████████████████████████████████████████████████████████████████████████████████████████████████████████| 937/937 [01:42<00:00,  9.16it/s]\n"
     ]
    },
    {
     "name": "stdout",
     "output_type": "stream",
     "text": [
      "epoch : 88 Loss : 0.006080640945583582 \n"
     ]
    },
    {
     "name": "stderr",
     "output_type": "stream",
     "text": [
      "100%|████████████████████████████████████████████████████████████████████████████████████████████████████████████████████████████████████████████████████████████████████████████████████████████████████████████████████████| 937/937 [01:42<00:00,  9.17it/s]\n"
     ]
    },
    {
     "name": "stdout",
     "output_type": "stream",
     "text": [
      "epoch : 89 Loss : 0.005725564900785685 \n"
     ]
    },
    {
     "name": "stderr",
     "output_type": "stream",
     "text": [
      "100%|████████████████████████████████████████████████████████████████████████████████████████████████████████████████████████████████████████████████████████████████████████████████████████████████████████████████████████| 937/937 [02:29<00:00,  6.26it/s]\n"
     ]
    },
    {
     "name": "stdout",
     "output_type": "stream",
     "text": [
      "epoch : 90 Loss : 0.006023379508405924 \n"
     ]
    },
    {
     "name": "stderr",
     "output_type": "stream",
     "text": [
      "100%|████████████████████████████████████████████████████████████████████████████████████████████████████████████████████████████████████████████████████████████████████████████████████████████████████████████████████████| 937/937 [02:37<00:00,  5.93it/s]\n"
     ]
    },
    {
     "name": "stdout",
     "output_type": "stream",
     "text": [
      "epoch : 91 Loss : 0.005896974820643663 \n"
     ]
    },
    {
     "name": "stderr",
     "output_type": "stream",
     "text": [
      "100%|████████████████████████████████████████████████████████████████████████████████████████████████████████████████████████████████████████████████████████████████████████████████████████████████████████████████████████| 937/937 [02:18<00:00,  6.76it/s]\n"
     ]
    },
    {
     "name": "stdout",
     "output_type": "stream",
     "text": [
      "epoch : 92 Loss : 0.005978811532258987 \n"
     ]
    },
    {
     "name": "stderr",
     "output_type": "stream",
     "text": [
      "100%|████████████████████████████████████████████████████████████████████████████████████████████████████████████████████████████████████████████████████████████████████████████████████████████████████████████████████████| 937/937 [01:43<00:00,  9.01it/s]\n"
     ]
    },
    {
     "name": "stdout",
     "output_type": "stream",
     "text": [
      "epoch : 93 Loss : 0.006090959068387747 \n"
     ]
    },
    {
     "name": "stderr",
     "output_type": "stream",
     "text": [
      "100%|████████████████████████████████████████████████████████████████████████████████████████████████████████████████████████████████████████████████████████████████████████████████████████████████████████████████████████| 937/937 [01:43<00:00,  9.06it/s]\n"
     ]
    },
    {
     "name": "stdout",
     "output_type": "stream",
     "text": [
      "epoch : 94 Loss : 0.005898263305425644 \n"
     ]
    },
    {
     "name": "stderr",
     "output_type": "stream",
     "text": [
      "100%|████████████████████████████████████████████████████████████████████████████████████████████████████████████████████████████████████████████████████████████████████████████████████████████████████████████████████████| 937/937 [01:44<00:00,  9.00it/s]\n"
     ]
    },
    {
     "name": "stdout",
     "output_type": "stream",
     "text": [
      "epoch : 95 Loss : 0.005742624402046204 \n"
     ]
    },
    {
     "name": "stderr",
     "output_type": "stream",
     "text": [
      "100%|████████████████████████████████████████████████████████████████████████████████████████████████████████████████████████████████████████████████████████████████████████████████████████████████████████████████████████| 937/937 [02:25<00:00,  6.42it/s]\n"
     ]
    },
    {
     "name": "stdout",
     "output_type": "stream",
     "text": [
      "epoch : 96 Loss : 0.005946714896708727 \n"
     ]
    },
    {
     "name": "stderr",
     "output_type": "stream",
     "text": [
      "100%|████████████████████████████████████████████████████████████████████████████████████████████████████████████████████████████████████████████████████████████████████████████████████████████████████████████████████████| 937/937 [02:38<00:00,  5.90it/s]\n"
     ]
    },
    {
     "name": "stdout",
     "output_type": "stream",
     "text": [
      "epoch : 97 Loss : 0.005989403929561377 \n"
     ]
    },
    {
     "name": "stderr",
     "output_type": "stream",
     "text": [
      "100%|████████████████████████████████████████████████████████████████████████████████████████████████████████████████████████████████████████████████████████████████████████████████████████████████████████████████████████| 937/937 [02:37<00:00,  5.96it/s]\n"
     ]
    },
    {
     "name": "stdout",
     "output_type": "stream",
     "text": [
      "epoch : 98 Loss : 0.006093787495046854 \n"
     ]
    },
    {
     "name": "stderr",
     "output_type": "stream",
     "text": [
      "100%|████████████████████████████████████████████████████████████████████████████████████████████████████████████████████████████████████████████████████████████████████████████████████████████████████████████████████████| 937/937 [01:58<00:00,  7.92it/s]\n"
     ]
    },
    {
     "name": "stdout",
     "output_type": "stream",
     "text": [
      "epoch : 99 Loss : 0.005919345188885927 \n"
     ]
    },
    {
     "name": "stderr",
     "output_type": "stream",
     "text": [
      "100%|████████████████████████████████████████████████████████████████████████████████████████████████████████████████████████████████████████████████████████████████████████████████████████████████████████████████████████| 937/937 [01:45<00:00,  8.89it/s]\n"
     ]
    },
    {
     "name": "stdout",
     "output_type": "stream",
     "text": [
      "epoch : 100 Loss : 0.005788326263427734 \n"
     ]
    },
    {
     "name": "stderr",
     "output_type": "stream",
     "text": [
      "100%|████████████████████████████████████████████████████████████████████████████████████████████████████████████████████████████████████████████████████████████████████████████████████████████████████████████████████████| 937/937 [01:46<00:00,  8.82it/s]\n"
     ]
    },
    {
     "name": "stdout",
     "output_type": "stream",
     "text": [
      "epoch : 101 Loss : 0.00600231159478426 \n"
     ]
    },
    {
     "name": "stderr",
     "output_type": "stream",
     "text": [
      "100%|████████████████████████████████████████████████████████████████████████████████████████████████████████████████████████████████████████████████████████████████████████████████████████████████████████████████████████| 937/937 [01:44<00:00,  8.92it/s]\n"
     ]
    },
    {
     "name": "stdout",
     "output_type": "stream",
     "text": [
      "epoch : 102 Loss : 0.005948399193584919 \n"
     ]
    },
    {
     "name": "stderr",
     "output_type": "stream",
     "text": [
      "100%|████████████████████████████████████████████████████████████████████████████████████████████████████████████████████████████████████████████████████████████████████████████████████████████████████████████████████████| 937/937 [01:45<00:00,  8.90it/s]\n"
     ]
    },
    {
     "name": "stdout",
     "output_type": "stream",
     "text": [
      "epoch : 103 Loss : 0.00590237183496356 \n"
     ]
    },
    {
     "name": "stderr",
     "output_type": "stream",
     "text": [
      "100%|████████████████████████████████████████████████████████████████████████████████████████████████████████████████████████████████████████████████████████████████████████████████████████████████████████████████████████| 937/937 [01:49<00:00,  8.55it/s]\n"
     ]
    },
    {
     "name": "stdout",
     "output_type": "stream",
     "text": [
      "epoch : 104 Loss : 0.006021610461175442 \n"
     ]
    },
    {
     "name": "stderr",
     "output_type": "stream",
     "text": [
      "100%|████████████████████████████████████████████████████████████████████████████████████████████████████████████████████████████████████████████████████████████████████████████████████████████████████████████████████████| 937/937 [01:43<00:00,  9.07it/s]\n"
     ]
    },
    {
     "name": "stdout",
     "output_type": "stream",
     "text": [
      "epoch : 105 Loss : 0.0059814839623868465 \n"
     ]
    },
    {
     "name": "stderr",
     "output_type": "stream",
     "text": [
      "100%|████████████████████████████████████████████████████████████████████████████████████████████████████████████████████████████████████████████████████████████████████████████████████████████████████████████████████████| 937/937 [01:42<00:00,  9.18it/s]\n"
     ]
    },
    {
     "name": "stdout",
     "output_type": "stream",
     "text": [
      "epoch : 106 Loss : 0.005811403505504131 \n"
     ]
    },
    {
     "name": "stderr",
     "output_type": "stream",
     "text": [
      "100%|████████████████████████████████████████████████████████████████████████████████████████████████████████████████████████████████████████████████████████████████████████████████████████████████████████████████████████| 937/937 [01:43<00:00,  9.09it/s]\n"
     ]
    },
    {
     "name": "stdout",
     "output_type": "stream",
     "text": [
      "epoch : 107 Loss : 0.005792293697595596 \n"
     ]
    },
    {
     "name": "stderr",
     "output_type": "stream",
     "text": [
      "100%|████████████████████████████████████████████████████████████████████████████████████████████████████████████████████████████████████████████████████████████████████████████████████████████████████████████████████████| 937/937 [01:43<00:00,  9.05it/s]\n"
     ]
    },
    {
     "name": "stdout",
     "output_type": "stream",
     "text": [
      "epoch : 108 Loss : 0.005944530013948679 \n"
     ]
    },
    {
     "name": "stderr",
     "output_type": "stream",
     "text": [
      "100%|████████████████████████████████████████████████████████████████████████████████████████████████████████████████████████████████████████████████████████████████████████████████████████████████████████████████████████| 937/937 [01:42<00:00,  9.15it/s]\n"
     ]
    },
    {
     "name": "stdout",
     "output_type": "stream",
     "text": [
      "epoch : 109 Loss : 0.005794869735836983 \n"
     ]
    },
    {
     "name": "stderr",
     "output_type": "stream",
     "text": [
      "100%|████████████████████████████████████████████████████████████████████████████████████████████████████████████████████████████████████████████████████████████████████████████████████████████████████████████████████████| 937/937 [01:47<00:00,  8.69it/s]\n"
     ]
    },
    {
     "name": "stdout",
     "output_type": "stream",
     "text": [
      "epoch : 110 Loss : 0.006257362198084593 \n"
     ]
    },
    {
     "name": "stderr",
     "output_type": "stream",
     "text": [
      "100%|████████████████████████████████████████████████████████████████████████████████████████████████████████████████████████████████████████████████████████████████████████████████████████████████████████████████████████| 937/937 [01:45<00:00,  8.91it/s]\n"
     ]
    },
    {
     "name": "stdout",
     "output_type": "stream",
     "text": [
      "epoch : 111 Loss : 0.005950078368186951 \n"
     ]
    },
    {
     "name": "stderr",
     "output_type": "stream",
     "text": [
      "100%|████████████████████████████████████████████████████████████████████████████████████████████████████████████████████████████████████████████████████████████████████████████████████████████████████████████████████████| 937/937 [01:44<00:00,  8.97it/s]\n"
     ]
    },
    {
     "name": "stdout",
     "output_type": "stream",
     "text": [
      "epoch : 112 Loss : 0.0060232351534068584 \n"
     ]
    },
    {
     "name": "stderr",
     "output_type": "stream",
     "text": [
      "100%|████████████████████████████████████████████████████████████████████████████████████████████████████████████████████████████████████████████████████████████████████████████████████████████████████████████████████████| 937/937 [01:45<00:00,  8.86it/s]\n"
     ]
    },
    {
     "name": "stdout",
     "output_type": "stream",
     "text": [
      "epoch : 113 Loss : 0.005898566916584969 \n"
     ]
    },
    {
     "name": "stderr",
     "output_type": "stream",
     "text": [
      "100%|████████████████████████████████████████████████████████████████████████████████████████████████████████████████████████████████████████████████████████████████████████████████████████████████████████████████████████| 937/937 [01:44<00:00,  8.93it/s]\n"
     ]
    },
    {
     "name": "stdout",
     "output_type": "stream",
     "text": [
      "epoch : 114 Loss : 0.005943002179265022 \n"
     ]
    },
    {
     "name": "stderr",
     "output_type": "stream",
     "text": [
      "100%|████████████████████████████████████████████████████████████████████████████████████████████████████████████████████████████████████████████████████████████████████████████████████████████████████████████████████████| 937/937 [01:45<00:00,  8.91it/s]\n"
     ]
    },
    {
     "name": "stdout",
     "output_type": "stream",
     "text": [
      "epoch : 115 Loss : 0.005937973503023386 \n"
     ]
    },
    {
     "name": "stderr",
     "output_type": "stream",
     "text": [
      "100%|████████████████████████████████████████████████████████████████████████████████████████████████████████████████████████████████████████████████████████████████████████████████████████████████████████████████████████| 937/937 [01:45<00:00,  8.91it/s]\n"
     ]
    },
    {
     "name": "stdout",
     "output_type": "stream",
     "text": [
      "epoch : 116 Loss : 0.005858988966792822 \n"
     ]
    },
    {
     "name": "stderr",
     "output_type": "stream",
     "text": [
      "100%|████████████████████████████████████████████████████████████████████████████████████████████████████████████████████████████████████████████████████████████████████████████████████████████████████████████████████████| 937/937 [01:45<00:00,  8.89it/s]\n"
     ]
    },
    {
     "name": "stdout",
     "output_type": "stream",
     "text": [
      "epoch : 117 Loss : 0.005788350943475962 \n"
     ]
    },
    {
     "name": "stderr",
     "output_type": "stream",
     "text": [
      "100%|████████████████████████████████████████████████████████████████████████████████████████████████████████████████████████████████████████████████████████████████████████████████████████████████████████████████████████| 937/937 [01:44<00:00,  8.94it/s]\n"
     ]
    },
    {
     "name": "stdout",
     "output_type": "stream",
     "text": [
      "epoch : 118 Loss : 0.005642097443342209 \n",
      "before_loss = 0.0057, loss = 0.0056, saved_epoch = 118\n",
      "model_save\n"
     ]
    },
    {
     "name": "stderr",
     "output_type": "stream",
     "text": [
      "100%|████████████████████████████████████████████████████████████████████████████████████████████████████████████████████████████████████████████████████████████████████████████████████████████████████████████████████████| 937/937 [01:45<00:00,  8.90it/s]\n"
     ]
    },
    {
     "name": "stdout",
     "output_type": "stream",
     "text": [
      "epoch : 119 Loss : 0.005749001167714596 \n"
     ]
    },
    {
     "name": "stderr",
     "output_type": "stream",
     "text": [
      "100%|████████████████████████████████████████████████████████████████████████████████████████████████████████████████████████████████████████████████████████████████████████████████████████████████████████████████████████| 937/937 [01:48<00:00,  8.63it/s]\n"
     ]
    },
    {
     "name": "stdout",
     "output_type": "stream",
     "text": [
      "epoch : 120 Loss : 0.005592494271695614 \n",
      "before_loss = 0.0056, loss = 0.0056, saved_epoch = 120\n",
      "model_save\n"
     ]
    },
    {
     "name": "stderr",
     "output_type": "stream",
     "text": [
      "100%|████████████████████████████████████████████████████████████████████████████████████████████████████████████████████████████████████████████████████████████████████████████████████████████████████████████████████████| 937/937 [01:46<00:00,  8.82it/s]\n"
     ]
    },
    {
     "name": "stdout",
     "output_type": "stream",
     "text": [
      "epoch : 121 Loss : 0.006086039822548628 \n"
     ]
    },
    {
     "name": "stderr",
     "output_type": "stream",
     "text": [
      "100%|████████████████████████████████████████████████████████████████████████████████████████████████████████████████████████████████████████████████████████████████████████████████████████████████████████████████████████| 937/937 [01:42<00:00,  9.15it/s]\n"
     ]
    },
    {
     "name": "stdout",
     "output_type": "stream",
     "text": [
      "epoch : 122 Loss : 0.005832042545080185 \n"
     ]
    },
    {
     "name": "stderr",
     "output_type": "stream",
     "text": [
      "100%|████████████████████████████████████████████████████████████████████████████████████████████████████████████████████████████████████████████████████████████████████████████████████████████████████████████████████████| 937/937 [01:43<00:00,  9.06it/s]\n"
     ]
    },
    {
     "name": "stdout",
     "output_type": "stream",
     "text": [
      "epoch : 123 Loss : 0.005835491698235273 \n"
     ]
    },
    {
     "name": "stderr",
     "output_type": "stream",
     "text": [
      "100%|████████████████████████████████████████████████████████████████████████████████████████████████████████████████████████████████████████████████████████████████████████████████████████████████████████████████████████| 937/937 [01:42<00:00,  9.14it/s]\n"
     ]
    },
    {
     "name": "stdout",
     "output_type": "stream",
     "text": [
      "epoch : 124 Loss : 0.005556398071348667 \n",
      "before_loss = 0.0056, loss = 0.0056, saved_epoch = 124\n",
      "model_save\n"
     ]
    },
    {
     "name": "stderr",
     "output_type": "stream",
     "text": [
      "100%|████████████████████████████████████████████████████████████████████████████████████████████████████████████████████████████████████████████████████████████████████████████████████████████████████████████████████████| 937/937 [01:43<00:00,  9.09it/s]\n"
     ]
    },
    {
     "name": "stdout",
     "output_type": "stream",
     "text": [
      "epoch : 125 Loss : 0.0059436471201479435 \n"
     ]
    },
    {
     "name": "stderr",
     "output_type": "stream",
     "text": [
      "100%|████████████████████████████████████████████████████████████████████████████████████████████████████████████████████████████████████████████████████████████████████████████████████████████████████████████████████████| 937/937 [01:41<00:00,  9.21it/s]\n"
     ]
    },
    {
     "name": "stdout",
     "output_type": "stream",
     "text": [
      "epoch : 126 Loss : 0.005857160780578852 \n"
     ]
    },
    {
     "name": "stderr",
     "output_type": "stream",
     "text": [
      "100%|████████████████████████████████████████████████████████████████████████████████████████████████████████████████████████████████████████████████████████████████████████████████████████████████████████████████████████| 937/937 [01:42<00:00,  9.16it/s]\n"
     ]
    },
    {
     "name": "stdout",
     "output_type": "stream",
     "text": [
      "epoch : 127 Loss : 0.005917977541685104 \n"
     ]
    },
    {
     "name": "stderr",
     "output_type": "stream",
     "text": [
      "100%|████████████████████████████████████████████████████████████████████████████████████████████████████████████████████████████████████████████████████████████████████████████████████████████████████████████████████████| 937/937 [01:43<00:00,  9.09it/s]\n"
     ]
    },
    {
     "name": "stdout",
     "output_type": "stream",
     "text": [
      "epoch : 128 Loss : 0.0057184952311217785 \n"
     ]
    },
    {
     "name": "stderr",
     "output_type": "stream",
     "text": [
      "100%|████████████████████████████████████████████████████████████████████████████████████████████████████████████████████████████████████████████████████████████████████████████████████████████████████████████████████████| 937/937 [01:44<00:00,  9.00it/s]\n"
     ]
    },
    {
     "name": "stdout",
     "output_type": "stream",
     "text": [
      "epoch : 129 Loss : 0.005707092117518187 \n"
     ]
    },
    {
     "name": "stderr",
     "output_type": "stream",
     "text": [
      "100%|████████████████████████████████████████████████████████████████████████████████████████████████████████████████████████████████████████████████████████████████████████████████████████████████████████████████████████| 937/937 [01:41<00:00,  9.21it/s]\n"
     ]
    },
    {
     "name": "stdout",
     "output_type": "stream",
     "text": [
      "epoch : 130 Loss : 0.005756037775427103 \n"
     ]
    },
    {
     "name": "stderr",
     "output_type": "stream",
     "text": [
      "100%|████████████████████████████████████████████████████████████████████████████████████████████████████████████████████████████████████████████████████████████████████████████████████████████████████████████████████████| 937/937 [01:44<00:00,  8.93it/s]\n"
     ]
    },
    {
     "name": "stdout",
     "output_type": "stream",
     "text": [
      "epoch : 131 Loss : 0.005886178929358721 \n"
     ]
    },
    {
     "name": "stderr",
     "output_type": "stream",
     "text": [
      "100%|████████████████████████████████████████████████████████████████████████████████████████████████████████████████████████████████████████████████████████████████████████████████████████████████████████████████████████| 937/937 [01:51<00:00,  8.37it/s]\n"
     ]
    },
    {
     "name": "stdout",
     "output_type": "stream",
     "text": [
      "epoch : 132 Loss : 0.005828706081956625 \n"
     ]
    },
    {
     "name": "stderr",
     "output_type": "stream",
     "text": [
      "100%|████████████████████████████████████████████████████████████████████████████████████████████████████████████████████████████████████████████████████████████████████████████████████████████████████████████████████████| 937/937 [02:57<00:00,  5.29it/s]\n"
     ]
    },
    {
     "name": "stdout",
     "output_type": "stream",
     "text": [
      "epoch : 133 Loss : 0.005915615241974592 \n"
     ]
    },
    {
     "name": "stderr",
     "output_type": "stream",
     "text": [
      "100%|████████████████████████████████████████████████████████████████████████████████████████████████████████████████████████████████████████████████████████████████████████████████████████████████████████████████████████| 937/937 [01:47<00:00,  8.68it/s]\n"
     ]
    },
    {
     "name": "stdout",
     "output_type": "stream",
     "text": [
      "epoch : 134 Loss : 0.005687991622835398 \n"
     ]
    },
    {
     "name": "stderr",
     "output_type": "stream",
     "text": [
      "100%|████████████████████████████████████████████████████████████████████████████████████████████████████████████████████████████████████████████████████████████████████████████████████████████████████████████████████████| 937/937 [02:16<00:00,  6.87it/s]\n"
     ]
    },
    {
     "name": "stdout",
     "output_type": "stream",
     "text": [
      "epoch : 135 Loss : 0.006030034739524126 \n"
     ]
    },
    {
     "name": "stderr",
     "output_type": "stream",
     "text": [
      "100%|████████████████████████████████████████████████████████████████████████████████████████████████████████████████████████████████████████████████████████████████████████████████████████████████████████████████████████| 937/937 [01:45<00:00,  8.88it/s]\n"
     ]
    },
    {
     "name": "stdout",
     "output_type": "stream",
     "text": [
      "epoch : 136 Loss : 0.005769934039562941 \n"
     ]
    },
    {
     "name": "stderr",
     "output_type": "stream",
     "text": [
      "100%|████████████████████████████████████████████████████████████████████████████████████████████████████████████████████████████████████████████████████████████████████████████████████████████████████████████████████████| 937/937 [01:45<00:00,  8.84it/s]\n"
     ]
    },
    {
     "name": "stdout",
     "output_type": "stream",
     "text": [
      "epoch : 137 Loss : 0.005805414170026779 \n"
     ]
    },
    {
     "name": "stderr",
     "output_type": "stream",
     "text": [
      "100%|████████████████████████████████████████████████████████████████████████████████████████████████████████████████████████████████████████████████████████████████████████████████████████████████████████████████████████| 937/937 [01:48<00:00,  8.60it/s]\n"
     ]
    },
    {
     "name": "stdout",
     "output_type": "stream",
     "text": [
      "epoch : 138 Loss : 0.005799304228276014 \n"
     ]
    },
    {
     "name": "stderr",
     "output_type": "stream",
     "text": [
      "100%|████████████████████████████████████████████████████████████████████████████████████████████████████████████████████████████████████████████████████████████████████████████████████████████████████████████████████████| 937/937 [01:45<00:00,  8.87it/s]\n"
     ]
    },
    {
     "name": "stdout",
     "output_type": "stream",
     "text": [
      "epoch : 139 Loss : 0.0060581024736166 \n"
     ]
    },
    {
     "name": "stderr",
     "output_type": "stream",
     "text": [
      "100%|████████████████████████████████████████████████████████████████████████████████████████████████████████████████████████████████████████████████████████████████████████████████████████████████████████████████████████| 937/937 [01:48<00:00,  8.66it/s]\n"
     ]
    },
    {
     "name": "stdout",
     "output_type": "stream",
     "text": [
      "epoch : 140 Loss : 0.0057450453750789165 \n"
     ]
    },
    {
     "name": "stderr",
     "output_type": "stream",
     "text": [
      "100%|████████████████████████████████████████████████████████████████████████████████████████████████████████████████████████████████████████████████████████████████████████████████████████████████████████████████████████| 937/937 [01:47<00:00,  8.73it/s]\n"
     ]
    },
    {
     "name": "stdout",
     "output_type": "stream",
     "text": [
      "epoch : 141 Loss : 0.005785937421023846 \n"
     ]
    },
    {
     "name": "stderr",
     "output_type": "stream",
     "text": [
      "100%|████████████████████████████████████████████████████████████████████████████████████████████████████████████████████████████████████████████████████████████████████████████████████████████████████████████████████████| 937/937 [01:47<00:00,  8.70it/s]\n"
     ]
    },
    {
     "name": "stdout",
     "output_type": "stream",
     "text": [
      "epoch : 142 Loss : 0.005667718593031168 \n"
     ]
    },
    {
     "name": "stderr",
     "output_type": "stream",
     "text": [
      "100%|████████████████████████████████████████████████████████████████████████████████████████████████████████████████████████████████████████████████████████████████████████████████████████████████████████████████████████| 937/937 [01:46<00:00,  8.77it/s]\n"
     ]
    },
    {
     "name": "stdout",
     "output_type": "stream",
     "text": [
      "epoch : 143 Loss : 0.005726791452616453 \n"
     ]
    },
    {
     "name": "stderr",
     "output_type": "stream",
     "text": [
      "100%|████████████████████████████████████████████████████████████████████████████████████████████████████████████████████████████████████████████████████████████████████████████████████████████████████████████████████████| 937/937 [01:46<00:00,  8.82it/s]\n"
     ]
    },
    {
     "name": "stdout",
     "output_type": "stream",
     "text": [
      "epoch : 144 Loss : 0.005994777660816908 \n"
     ]
    },
    {
     "name": "stderr",
     "output_type": "stream",
     "text": [
      "100%|████████████████████████████████████████████████████████████████████████████████████████████████████████████████████████████████████████████████████████████████████████████████████████████████████████████████████████| 937/937 [01:43<00:00,  9.10it/s]\n"
     ]
    },
    {
     "name": "stdout",
     "output_type": "stream",
     "text": [
      "epoch : 145 Loss : 0.005898159928619862 \n"
     ]
    },
    {
     "name": "stderr",
     "output_type": "stream",
     "text": [
      "100%|████████████████████████████████████████████████████████████████████████████████████████████████████████████████████████████████████████████████████████████████████████████████████████████████████████████████████████| 937/937 [01:42<00:00,  9.17it/s]\n"
     ]
    },
    {
     "name": "stdout",
     "output_type": "stream",
     "text": [
      "epoch : 146 Loss : 0.005918621551245451 \n"
     ]
    },
    {
     "name": "stderr",
     "output_type": "stream",
     "text": [
      "100%|████████████████████████████████████████████████████████████████████████████████████████████████████████████████████████████████████████████████████████████████████████████████████████████████████████████████████████| 937/937 [01:42<00:00,  9.13it/s]\n"
     ]
    },
    {
     "name": "stdout",
     "output_type": "stream",
     "text": [
      "epoch : 147 Loss : 0.005691434256732464 \n"
     ]
    },
    {
     "name": "stderr",
     "output_type": "stream",
     "text": [
      "100%|████████████████████████████████████████████████████████████████████████████████████████████████████████████████████████████████████████████████████████████████████████████████████████████████████████████████████████| 937/937 [01:42<00:00,  9.12it/s]\n"
     ]
    },
    {
     "name": "stdout",
     "output_type": "stream",
     "text": [
      "epoch : 148 Loss : 0.005676345434039831 \n"
     ]
    },
    {
     "name": "stderr",
     "output_type": "stream",
     "text": [
      "100%|████████████████████████████████████████████████████████████████████████████████████████████████████████████████████████████████████████████████████████████████████████████████████████████████████████████████████████| 937/937 [01:49<00:00,  8.53it/s]\n"
     ]
    },
    {
     "name": "stdout",
     "output_type": "stream",
     "text": [
      "epoch : 149 Loss : 0.005866432096809149 \n"
     ]
    },
    {
     "name": "stderr",
     "output_type": "stream",
     "text": [
      "100%|████████████████████████████████████████████████████████████████████████████████████████████████████████████████████████████████████████████████████████████████████████████████████████████████████████████████████████| 937/937 [01:50<00:00,  8.49it/s]\n"
     ]
    },
    {
     "name": "stdout",
     "output_type": "stream",
     "text": [
      "epoch : 150 Loss : 0.005917079281061888 \n"
     ]
    },
    {
     "name": "stderr",
     "output_type": "stream",
     "text": [
      "100%|████████████████████████████████████████████████████████████████████████████████████████████████████████████████████████████████████████████████████████████████████████████████████████████████████████████████████████| 937/937 [01:46<00:00,  8.79it/s]\n"
     ]
    },
    {
     "name": "stdout",
     "output_type": "stream",
     "text": [
      "epoch : 151 Loss : 0.005821533501148224 \n"
     ]
    },
    {
     "name": "stderr",
     "output_type": "stream",
     "text": [
      "100%|████████████████████████████████████████████████████████████████████████████████████████████████████████████████████████████████████████████████████████████████████████████████████████████████████████████████████████| 937/937 [02:06<00:00,  7.38it/s]\n"
     ]
    },
    {
     "name": "stdout",
     "output_type": "stream",
     "text": [
      "epoch : 152 Loss : 0.00565100833773613 \n"
     ]
    },
    {
     "name": "stderr",
     "output_type": "stream",
     "text": [
      "100%|████████████████████████████████████████████████████████████████████████████████████████████████████████████████████████████████████████████████████████████████████████████████████████████████████████████████████████| 937/937 [01:58<00:00,  7.93it/s]\n"
     ]
    },
    {
     "name": "stdout",
     "output_type": "stream",
     "text": [
      "epoch : 153 Loss : 0.00582727650180459 \n"
     ]
    },
    {
     "name": "stderr",
     "output_type": "stream",
     "text": [
      "100%|████████████████████████████████████████████████████████████████████████████████████████████████████████████████████████████████████████████████████████████████████████████████████████████████████████████████████████| 937/937 [01:47<00:00,  8.71it/s]\n"
     ]
    },
    {
     "name": "stdout",
     "output_type": "stream",
     "text": [
      "epoch : 154 Loss : 0.005884977988898754 \n"
     ]
    },
    {
     "name": "stderr",
     "output_type": "stream",
     "text": [
      "100%|████████████████████████████████████████████████████████████████████████████████████████████████████████████████████████████████████████████████████████████████████████████████████████████████████████████████████████| 937/937 [01:46<00:00,  8.78it/s]\n"
     ]
    },
    {
     "name": "stdout",
     "output_type": "stream",
     "text": [
      "epoch : 155 Loss : 0.00573214003816247 \n"
     ]
    },
    {
     "name": "stderr",
     "output_type": "stream",
     "text": [
      "100%|████████████████████████████████████████████████████████████████████████████████████████████████████████████████████████████████████████████████████████████████████████████████████████████████████████████████████████| 937/937 [01:41<00:00,  9.19it/s]\n"
     ]
    },
    {
     "name": "stdout",
     "output_type": "stream",
     "text": [
      "epoch : 156 Loss : 0.006079085636883974 \n"
     ]
    },
    {
     "name": "stderr",
     "output_type": "stream",
     "text": [
      "100%|████████████████████████████████████████████████████████████████████████████████████████████████████████████████████████████████████████████████████████████████████████████████████████████████████████████████████████| 937/937 [01:56<00:00,  8.06it/s]\n"
     ]
    },
    {
     "name": "stdout",
     "output_type": "stream",
     "text": [
      "epoch : 157 Loss : 0.005907298997044563 \n"
     ]
    },
    {
     "name": "stderr",
     "output_type": "stream",
     "text": [
      "100%|████████████████████████████████████████████████████████████████████████████████████████████████████████████████████████████████████████████████████████████████████████████████████████████████████████████████████████| 937/937 [01:47<00:00,  8.69it/s]\n"
     ]
    },
    {
     "name": "stdout",
     "output_type": "stream",
     "text": [
      "epoch : 158 Loss : 0.0057466644793748856 \n"
     ]
    },
    {
     "name": "stderr",
     "output_type": "stream",
     "text": [
      "100%|████████████████████████████████████████████████████████████████████████████████████████████████████████████████████████████████████████████████████████████████████████████████████████████████████████████████████████| 937/937 [01:46<00:00,  8.80it/s]\n"
     ]
    },
    {
     "name": "stdout",
     "output_type": "stream",
     "text": [
      "epoch : 159 Loss : 0.005919561255723238 \n"
     ]
    },
    {
     "name": "stderr",
     "output_type": "stream",
     "text": [
      "100%|████████████████████████████████████████████████████████████████████████████████████████████████████████████████████████████████████████████████████████████████████████████████████████████████████████████████████████| 937/937 [01:46<00:00,  8.77it/s]\n"
     ]
    },
    {
     "name": "stdout",
     "output_type": "stream",
     "text": [
      "epoch : 160 Loss : 0.00585448183119297 \n"
     ]
    },
    {
     "name": "stderr",
     "output_type": "stream",
     "text": [
      "100%|████████████████████████████████████████████████████████████████████████████████████████████████████████████████████████████████████████████████████████████████████████████████████████████████████████████████████████| 937/937 [01:47<00:00,  8.69it/s]\n"
     ]
    },
    {
     "name": "stdout",
     "output_type": "stream",
     "text": [
      "epoch : 161 Loss : 0.0057002464309334755 \n"
     ]
    },
    {
     "name": "stderr",
     "output_type": "stream",
     "text": [
      "100%|████████████████████████████████████████████████████████████████████████████████████████████████████████████████████████████████████████████████████████████████████████████████████████████████████████████████████████| 937/937 [01:47<00:00,  8.72it/s]\n"
     ]
    },
    {
     "name": "stdout",
     "output_type": "stream",
     "text": [
      "epoch : 162 Loss : 0.005761576816439629 \n"
     ]
    },
    {
     "name": "stderr",
     "output_type": "stream",
     "text": [
      "100%|████████████████████████████████████████████████████████████████████████████████████████████████████████████████████████████████████████████████████████████████████████████████████████████████████████████████████████| 937/937 [01:44<00:00,  8.98it/s]\n"
     ]
    },
    {
     "name": "stdout",
     "output_type": "stream",
     "text": [
      "epoch : 163 Loss : 0.006000978406518698 \n"
     ]
    },
    {
     "name": "stderr",
     "output_type": "stream",
     "text": [
      "100%|████████████████████████████████████████████████████████████████████████████████████████████████████████████████████████████████████████████████████████████████████████████████████████████████████████████████████████| 937/937 [01:42<00:00,  9.17it/s]\n"
     ]
    },
    {
     "name": "stdout",
     "output_type": "stream",
     "text": [
      "epoch : 164 Loss : 0.005826358217746019 \n"
     ]
    },
    {
     "name": "stderr",
     "output_type": "stream",
     "text": [
      "100%|████████████████████████████████████████████████████████████████████████████████████████████████████████████████████████████████████████████████████████████████████████████████████████████████████████████████████████| 937/937 [01:41<00:00,  9.23it/s]\n"
     ]
    },
    {
     "name": "stdout",
     "output_type": "stream",
     "text": [
      "epoch : 165 Loss : 0.005689565557986498 \n"
     ]
    },
    {
     "name": "stderr",
     "output_type": "stream",
     "text": [
      "100%|████████████████████████████████████████████████████████████████████████████████████████████████████████████████████████████████████████████████████████████████████████████████████████████████████████████████████████| 937/937 [01:55<00:00,  8.13it/s]\n"
     ]
    },
    {
     "name": "stdout",
     "output_type": "stream",
     "text": [
      "epoch : 166 Loss : 0.005784907378256321 \n"
     ]
    },
    {
     "name": "stderr",
     "output_type": "stream",
     "text": [
      "100%|████████████████████████████████████████████████████████████████████████████████████████████████████████████████████████████████████████████████████████████████████████████████████████████████████████████████████████| 937/937 [01:42<00:00,  9.12it/s]\n"
     ]
    },
    {
     "name": "stdout",
     "output_type": "stream",
     "text": [
      "epoch : 167 Loss : 0.005625638645142317 \n"
     ]
    },
    {
     "name": "stderr",
     "output_type": "stream",
     "text": [
      "100%|████████████████████████████████████████████████████████████████████████████████████████████████████████████████████████████████████████████████████████████████████████████████████████████████████████████████████████| 937/937 [01:46<00:00,  8.78it/s]\n"
     ]
    },
    {
     "name": "stdout",
     "output_type": "stream",
     "text": [
      "epoch : 168 Loss : 0.005857352167367935 \n"
     ]
    },
    {
     "name": "stderr",
     "output_type": "stream",
     "text": [
      "100%|████████████████████████████████████████████████████████████████████████████████████████████████████████████████████████████████████████████████████████████████████████████████████████████████████████████████████████| 937/937 [01:45<00:00,  8.89it/s]\n"
     ]
    },
    {
     "name": "stdout",
     "output_type": "stream",
     "text": [
      "epoch : 169 Loss : 0.005738297011703253 \n"
     ]
    },
    {
     "name": "stderr",
     "output_type": "stream",
     "text": [
      "100%|████████████████████████████████████████████████████████████████████████████████████████████████████████████████████████████████████████████████████████████████████████████████████████████████████████████████████████| 937/937 [01:45<00:00,  8.90it/s]\n"
     ]
    },
    {
     "name": "stdout",
     "output_type": "stream",
     "text": [
      "epoch : 170 Loss : 0.005800850689411163 \n"
     ]
    },
    {
     "name": "stderr",
     "output_type": "stream",
     "text": [
      "100%|████████████████████████████████████████████████████████████████████████████████████████████████████████████████████████████████████████████████████████████████████████████████████████████████████████████████████████| 937/937 [01:45<00:00,  8.88it/s]\n"
     ]
    },
    {
     "name": "stdout",
     "output_type": "stream",
     "text": [
      "epoch : 171 Loss : 0.005787573289126158 \n"
     ]
    },
    {
     "name": "stderr",
     "output_type": "stream",
     "text": [
      "100%|████████████████████████████████████████████████████████████████████████████████████████████████████████████████████████████████████████████████████████████████████████████████████████████████████████████████████████| 937/937 [01:46<00:00,  8.80it/s]\n"
     ]
    },
    {
     "name": "stdout",
     "output_type": "stream",
     "text": [
      "epoch : 172 Loss : 0.005754675716161728 \n"
     ]
    },
    {
     "name": "stderr",
     "output_type": "stream",
     "text": [
      "100%|████████████████████████████████████████████████████████████████████████████████████████████████████████████████████████████████████████████████████████████████████████████████████████████████████████████████████████| 937/937 [01:46<00:00,  8.84it/s]\n"
     ]
    },
    {
     "name": "stdout",
     "output_type": "stream",
     "text": [
      "epoch : 173 Loss : 0.005892857443541288 \n"
     ]
    },
    {
     "name": "stderr",
     "output_type": "stream",
     "text": [
      "100%|████████████████████████████████████████████████████████████████████████████████████████████████████████████████████████████████████████████████████████████████████████████████████████████████████████████████████████| 937/937 [01:45<00:00,  8.91it/s]\n"
     ]
    },
    {
     "name": "stdout",
     "output_type": "stream",
     "text": [
      "epoch : 174 Loss : 0.005697494838386774 \n"
     ]
    },
    {
     "name": "stderr",
     "output_type": "stream",
     "text": [
      "100%|████████████████████████████████████████████████████████████████████████████████████████████████████████████████████████████████████████████████████████████████████████████████████████████████████████████████████████| 937/937 [01:45<00:00,  8.87it/s]\n"
     ]
    },
    {
     "name": "stdout",
     "output_type": "stream",
     "text": [
      "epoch : 175 Loss : 0.0059164827689528465 \n"
     ]
    },
    {
     "name": "stderr",
     "output_type": "stream",
     "text": [
      "100%|████████████████████████████████████████████████████████████████████████████████████████████████████████████████████████████████████████████████████████████████████████████████████████████████████████████████████████| 937/937 [01:45<00:00,  8.87it/s]\n"
     ]
    },
    {
     "name": "stdout",
     "output_type": "stream",
     "text": [
      "epoch : 176 Loss : 0.005764468107372522 \n"
     ]
    },
    {
     "name": "stderr",
     "output_type": "stream",
     "text": [
      "100%|████████████████████████████████████████████████████████████████████████████████████████████████████████████████████████████████████████████████████████████████████████████████████████████████████████████████████████| 937/937 [01:44<00:00,  8.93it/s]\n"
     ]
    },
    {
     "name": "stdout",
     "output_type": "stream",
     "text": [
      "epoch : 177 Loss : 0.0060101659037172794 \n"
     ]
    },
    {
     "name": "stderr",
     "output_type": "stream",
     "text": [
      "100%|████████████████████████████████████████████████████████████████████████████████████████████████████████████████████████████████████████████████████████████████████████████████████████████████████████████████████████| 937/937 [02:14<00:00,  6.96it/s]\n"
     ]
    },
    {
     "name": "stdout",
     "output_type": "stream",
     "text": [
      "epoch : 178 Loss : 0.005514778196811676 \n",
      "before_loss = 0.0056, loss = 0.0055, saved_epoch = 178\n",
      "model_save\n"
     ]
    },
    {
     "name": "stderr",
     "output_type": "stream",
     "text": [
      "100%|████████████████████████████████████████████████████████████████████████████████████████████████████████████████████████████████████████████████████████████████████████████████████████████████████████████████████████| 937/937 [02:38<00:00,  5.91it/s]\n"
     ]
    },
    {
     "name": "stdout",
     "output_type": "stream",
     "text": [
      "epoch : 179 Loss : 0.005667315796017647 \n"
     ]
    },
    {
     "name": "stderr",
     "output_type": "stream",
     "text": [
      "100%|████████████████████████████████████████████████████████████████████████████████████████████████████████████████████████████████████████████████████████████████████████████████████████████████████████████████████████| 937/937 [02:37<00:00,  5.94it/s]\n"
     ]
    },
    {
     "name": "stdout",
     "output_type": "stream",
     "text": [
      "epoch : 180 Loss : 0.005822366569191217 \n"
     ]
    },
    {
     "name": "stderr",
     "output_type": "stream",
     "text": [
      "100%|████████████████████████████████████████████████████████████████████████████████████████████████████████████████████████████████████████████████████████████████████████████████████████████████████████████████████████| 937/937 [02:08<00:00,  7.27it/s]\n"
     ]
    },
    {
     "name": "stdout",
     "output_type": "stream",
     "text": [
      "epoch : 181 Loss : 0.005767944734543562 \n"
     ]
    },
    {
     "name": "stderr",
     "output_type": "stream",
     "text": [
      "100%|████████████████████████████████████████████████████████████████████████████████████████████████████████████████████████████████████████████████████████████████████████████████████████████████████████████████████████| 937/937 [01:45<00:00,  8.87it/s]\n"
     ]
    },
    {
     "name": "stdout",
     "output_type": "stream",
     "text": [
      "epoch : 182 Loss : 0.005983748007565737 \n"
     ]
    },
    {
     "name": "stderr",
     "output_type": "stream",
     "text": [
      "100%|████████████████████████████████████████████████████████████████████████████████████████████████████████████████████████████████████████████████████████████████████████████████████████████████████████████████████████| 937/937 [01:47<00:00,  8.70it/s]\n"
     ]
    },
    {
     "name": "stdout",
     "output_type": "stream",
     "text": [
      "epoch : 183 Loss : 0.005841300822794437 \n"
     ]
    },
    {
     "name": "stderr",
     "output_type": "stream",
     "text": [
      "100%|████████████████████████████████████████████████████████████████████████████████████████████████████████████████████████████████████████████████████████████████████████████████████████████████████████████████████████| 937/937 [01:43<00:00,  9.09it/s]\n"
     ]
    },
    {
     "name": "stdout",
     "output_type": "stream",
     "text": [
      "epoch : 184 Loss : 0.005799006670713425 \n"
     ]
    },
    {
     "name": "stderr",
     "output_type": "stream",
     "text": [
      "100%|████████████████████████████████████████████████████████████████████████████████████████████████████████████████████████████████████████████████████████████████████████████████████████████████████████████████████████| 937/937 [01:43<00:00,  9.02it/s]\n"
     ]
    },
    {
     "name": "stdout",
     "output_type": "stream",
     "text": [
      "epoch : 185 Loss : 0.005818370264023542 \n"
     ]
    },
    {
     "name": "stderr",
     "output_type": "stream",
     "text": [
      "100%|████████████████████████████████████████████████████████████████████████████████████████████████████████████████████████████████████████████████████████████████████████████████████████████████████████████████████████| 937/937 [02:04<00:00,  7.54it/s]\n"
     ]
    },
    {
     "name": "stdout",
     "output_type": "stream",
     "text": [
      "epoch : 186 Loss : 0.005679313093423843 \n"
     ]
    },
    {
     "name": "stderr",
     "output_type": "stream",
     "text": [
      "100%|████████████████████████████████████████████████████████████████████████████████████████████████████████████████████████████████████████████████████████████████████████████████████████████████████████████████████████| 937/937 [02:04<00:00,  7.51it/s]\n"
     ]
    },
    {
     "name": "stdout",
     "output_type": "stream",
     "text": [
      "epoch : 187 Loss : 0.005933794658631086 \n"
     ]
    },
    {
     "name": "stderr",
     "output_type": "stream",
     "text": [
      "100%|████████████████████████████████████████████████████████████████████████████████████████████████████████████████████████████████████████████████████████████████████████████████████████████████████████████████████████| 937/937 [02:59<00:00,  5.23it/s]\n"
     ]
    },
    {
     "name": "stdout",
     "output_type": "stream",
     "text": [
      "epoch : 188 Loss : 0.005928335711359978 \n"
     ]
    },
    {
     "name": "stderr",
     "output_type": "stream",
     "text": [
      "100%|████████████████████████████████████████████████████████████████████████████████████████████████████████████████████████████████████████████████████████████████████████████████████████████████████████████████████████| 937/937 [02:58<00:00,  5.25it/s]\n"
     ]
    },
    {
     "name": "stdout",
     "output_type": "stream",
     "text": [
      "epoch : 189 Loss : 0.005629401654005051 \n"
     ]
    },
    {
     "name": "stderr",
     "output_type": "stream",
     "text": [
      "100%|████████████████████████████████████████████████████████████████████████████████████████████████████████████████████████████████████████████████████████████████████████████████████████████████████████████████████████| 937/937 [02:58<00:00,  5.26it/s]\n"
     ]
    },
    {
     "name": "stdout",
     "output_type": "stream",
     "text": [
      "epoch : 190 Loss : 0.0057442630641162395 \n"
     ]
    },
    {
     "name": "stderr",
     "output_type": "stream",
     "text": [
      "100%|████████████████████████████████████████████████████████████████████████████████████████████████████████████████████████████████████████████████████████████████████████████████████████████████████████████████████████| 937/937 [02:58<00:00,  5.26it/s]\n"
     ]
    },
    {
     "name": "stdout",
     "output_type": "stream",
     "text": [
      "epoch : 191 Loss : 0.005920305382460356 \n"
     ]
    },
    {
     "name": "stderr",
     "output_type": "stream",
     "text": [
      "100%|████████████████████████████████████████████████████████████████████████████████████████████████████████████████████████████████████████████████████████████████████████████████████████████████████████████████████████| 937/937 [02:58<00:00,  5.26it/s]\n"
     ]
    },
    {
     "name": "stdout",
     "output_type": "stream",
     "text": [
      "epoch : 192 Loss : 0.005816486198455095 \n"
     ]
    },
    {
     "name": "stderr",
     "output_type": "stream",
     "text": [
      "100%|████████████████████████████████████████████████████████████████████████████████████████████████████████████████████████████████████████████████████████████████████████████████████████████████████████████████████████| 937/937 [02:58<00:00,  5.24it/s]\n"
     ]
    },
    {
     "name": "stdout",
     "output_type": "stream",
     "text": [
      "epoch : 193 Loss : 0.005882796831429005 \n"
     ]
    },
    {
     "name": "stderr",
     "output_type": "stream",
     "text": [
      "100%|████████████████████████████████████████████████████████████████████████████████████████████████████████████████████████████████████████████████████████████████████████████████████████████████████████████████████████| 937/937 [02:58<00:00,  5.24it/s]\n"
     ]
    },
    {
     "name": "stdout",
     "output_type": "stream",
     "text": [
      "epoch : 194 Loss : 0.005629963707178831 \n"
     ]
    },
    {
     "name": "stderr",
     "output_type": "stream",
     "text": [
      "100%|████████████████████████████████████████████████████████████████████████████████████████████████████████████████████████████████████████████████████████████████████████████████████████████████████████████████████████| 937/937 [02:11<00:00,  7.12it/s]\n"
     ]
    },
    {
     "name": "stdout",
     "output_type": "stream",
     "text": [
      "epoch : 195 Loss : 0.005812391173094511 \n"
     ]
    },
    {
     "name": "stderr",
     "output_type": "stream",
     "text": [
      "100%|████████████████████████████████████████████████████████████████████████████████████████████████████████████████████████████████████████████████████████████████████████████████████████████████████████████████████████| 937/937 [01:45<00:00,  8.91it/s]\n"
     ]
    },
    {
     "name": "stdout",
     "output_type": "stream",
     "text": [
      "epoch : 196 Loss : 0.0058402554132044315 \n"
     ]
    },
    {
     "name": "stderr",
     "output_type": "stream",
     "text": [
      "100%|████████████████████████████████████████████████████████████████████████████████████████████████████████████████████████████████████████████████████████████████████████████████████████████████████████████████████████| 937/937 [01:45<00:00,  8.92it/s]\n"
     ]
    },
    {
     "name": "stdout",
     "output_type": "stream",
     "text": [
      "epoch : 197 Loss : 0.00585815217345953 \n"
     ]
    },
    {
     "name": "stderr",
     "output_type": "stream",
     "text": [
      "100%|████████████████████████████████████████████████████████████████████████████████████████████████████████████████████████████████████████████████████████████████████████████████████████████████████████████████████████| 937/937 [01:44<00:00,  8.93it/s]\n"
     ]
    },
    {
     "name": "stdout",
     "output_type": "stream",
     "text": [
      "epoch : 198 Loss : 0.005956631153821945 \n"
     ]
    },
    {
     "name": "stderr",
     "output_type": "stream",
     "text": [
      "100%|████████████████████████████████████████████████████████████████████████████████████████████████████████████████████████████████████████████████████████████████████████████████████████████████████████████████████████| 937/937 [01:45<00:00,  8.90it/s]\n"
     ]
    },
    {
     "name": "stdout",
     "output_type": "stream",
     "text": [
      "epoch : 199 Loss : 0.005641031078994274 \n"
     ]
    },
    {
     "name": "stderr",
     "output_type": "stream",
     "text": [
      "100%|████████████████████████████████████████████████████████████████████████████████████████████████████████████████████████████████████████████████████████████████████████████████████████████████████████████████████████| 937/937 [01:44<00:00,  8.95it/s]\n"
     ]
    },
    {
     "name": "stdout",
     "output_type": "stream",
     "text": [
      "epoch : 200 Loss : 0.005720552988350391 \n"
     ]
    },
    {
     "name": "stderr",
     "output_type": "stream",
     "text": [
      "100%|████████████████████████████████████████████████████████████████████████████████████████████████████████████████████████████████████████████████████████████████████████████████████████████████████████████████████████| 937/937 [01:45<00:00,  8.92it/s]\n"
     ]
    },
    {
     "name": "stdout",
     "output_type": "stream",
     "text": [
      "epoch : 201 Loss : 0.00553189218044281 \n"
     ]
    },
    {
     "name": "stderr",
     "output_type": "stream",
     "text": [
      "100%|████████████████████████████████████████████████████████████████████████████████████████████████████████████████████████████████████████████████████████████████████████████████████████████████████████████████████████| 937/937 [01:45<00:00,  8.92it/s]\n"
     ]
    },
    {
     "name": "stdout",
     "output_type": "stream",
     "text": [
      "epoch : 202 Loss : 0.005605847109109163 \n"
     ]
    },
    {
     "name": "stderr",
     "output_type": "stream",
     "text": [
      "100%|████████████████████████████████████████████████████████████████████████████████████████████████████████████████████████████████████████████████████████████████████████████████████████████████████████████████████████| 937/937 [01:44<00:00,  8.92it/s]\n"
     ]
    },
    {
     "name": "stdout",
     "output_type": "stream",
     "text": [
      "epoch : 203 Loss : 0.005957433953881264 \n"
     ]
    },
    {
     "name": "stderr",
     "output_type": "stream",
     "text": [
      "100%|████████████████████████████████████████████████████████████████████████████████████████████████████████████████████████████████████████████████████████████████████████████████████████████████████████████████████████| 937/937 [01:44<00:00,  8.93it/s]\n"
     ]
    },
    {
     "name": "stdout",
     "output_type": "stream",
     "text": [
      "epoch : 204 Loss : 0.005756962578743696 \n"
     ]
    },
    {
     "name": "stderr",
     "output_type": "stream",
     "text": [
      "100%|████████████████████████████████████████████████████████████████████████████████████████████████████████████████████████████████████████████████████████████████████████████████████████████████████████████████████████| 937/937 [01:47<00:00,  8.75it/s]\n"
     ]
    },
    {
     "name": "stdout",
     "output_type": "stream",
     "text": [
      "epoch : 205 Loss : 0.005699675530195236 \n"
     ]
    },
    {
     "name": "stderr",
     "output_type": "stream",
     "text": [
      "100%|████████████████████████████████████████████████████████████████████████████████████████████████████████████████████████████████████████████████████████████████████████████████████████████████████████████████████████| 937/937 [01:44<00:00,  8.97it/s]\n"
     ]
    },
    {
     "name": "stdout",
     "output_type": "stream",
     "text": [
      "epoch : 206 Loss : 0.005787120200693607 \n"
     ]
    },
    {
     "name": "stderr",
     "output_type": "stream",
     "text": [
      "100%|████████████████████████████████████████████████████████████████████████████████████████████████████████████████████████████████████████████████████████████████████████████████████████████████████████████████████████| 937/937 [01:44<00:00,  8.99it/s]\n"
     ]
    },
    {
     "name": "stdout",
     "output_type": "stream",
     "text": [
      "epoch : 207 Loss : 0.00573298754170537 \n"
     ]
    },
    {
     "name": "stderr",
     "output_type": "stream",
     "text": [
      "100%|████████████████████████████████████████████████████████████████████████████████████████████████████████████████████████████████████████████████████████████████████████████████████████████████████████████████████████| 937/937 [01:44<00:00,  8.93it/s]\n"
     ]
    },
    {
     "name": "stdout",
     "output_type": "stream",
     "text": [
      "epoch : 208 Loss : 0.005987557582557201 \n"
     ]
    },
    {
     "name": "stderr",
     "output_type": "stream",
     "text": [
      "100%|████████████████████████████████████████████████████████████████████████████████████████████████████████████████████████████████████████████████████████████████████████████████████████████████████████████████████████| 937/937 [01:44<00:00,  8.95it/s]\n"
     ]
    },
    {
     "name": "stdout",
     "output_type": "stream",
     "text": [
      "epoch : 209 Loss : 0.005707541946321726 \n"
     ]
    },
    {
     "name": "stderr",
     "output_type": "stream",
     "text": [
      "100%|████████████████████████████████████████████████████████████████████████████████████████████████████████████████████████████████████████████████████████████████████████████████████████████████████████████████████████| 937/937 [01:47<00:00,  8.68it/s]\n"
     ]
    },
    {
     "name": "stdout",
     "output_type": "stream",
     "text": [
      "epoch : 210 Loss : 0.005718729924410582 \n"
     ]
    },
    {
     "name": "stderr",
     "output_type": "stream",
     "text": [
      "100%|████████████████████████████████████████████████████████████████████████████████████████████████████████████████████████████████████████████████████████████████████████████████████████████████████████████████████████| 937/937 [01:46<00:00,  8.84it/s]\n"
     ]
    },
    {
     "name": "stdout",
     "output_type": "stream",
     "text": [
      "epoch : 211 Loss : 0.005487591028213501 \n",
      "before_loss = 0.0055, loss = 0.0055, saved_epoch = 211\n",
      "model_save\n"
     ]
    },
    {
     "name": "stderr",
     "output_type": "stream",
     "text": [
      "100%|████████████████████████████████████████████████████████████████████████████████████████████████████████████████████████████████████████████████████████████████████████████████████████████████████████████████████████| 937/937 [01:43<00:00,  9.03it/s]\n"
     ]
    },
    {
     "name": "stdout",
     "output_type": "stream",
     "text": [
      "epoch : 212 Loss : 0.005835156887769699 \n"
     ]
    },
    {
     "name": "stderr",
     "output_type": "stream",
     "text": [
      "100%|████████████████████████████████████████████████████████████████████████████████████████████████████████████████████████████████████████████████████████████████████████████████████████████████████████████████████████| 937/937 [01:42<00:00,  9.14it/s]\n"
     ]
    },
    {
     "name": "stdout",
     "output_type": "stream",
     "text": [
      "epoch : 213 Loss : 0.005666924174875021 \n"
     ]
    },
    {
     "name": "stderr",
     "output_type": "stream",
     "text": [
      "100%|████████████████████████████████████████████████████████████████████████████████████████████████████████████████████████████████████████████████████████████████████████████████████████████████████████████████████████| 937/937 [01:41<00:00,  9.25it/s]\n"
     ]
    },
    {
     "name": "stdout",
     "output_type": "stream",
     "text": [
      "epoch : 214 Loss : 0.005690199788659811 \n"
     ]
    },
    {
     "name": "stderr",
     "output_type": "stream",
     "text": [
      "100%|████████████████████████████████████████████████████████████████████████████████████████████████████████████████████████████████████████████████████████████████████████████████████████████████████████████████████████| 937/937 [01:42<00:00,  9.16it/s]\n"
     ]
    },
    {
     "name": "stdout",
     "output_type": "stream",
     "text": [
      "epoch : 215 Loss : 0.005578683689236641 \n"
     ]
    },
    {
     "name": "stderr",
     "output_type": "stream",
     "text": [
      "100%|████████████████████████████████████████████████████████████████████████████████████████████████████████████████████████████████████████████████████████████████████████████████████████████████████████████████████████| 937/937 [01:42<00:00,  9.13it/s]\n"
     ]
    },
    {
     "name": "stdout",
     "output_type": "stream",
     "text": [
      "epoch : 216 Loss : 0.0056717274710536 \n"
     ]
    },
    {
     "name": "stderr",
     "output_type": "stream",
     "text": [
      "100%|████████████████████████████████████████████████████████████████████████████████████████████████████████████████████████████████████████████████████████████████████████████████████████████████████████████████████████| 937/937 [01:42<00:00,  9.16it/s]\n"
     ]
    },
    {
     "name": "stdout",
     "output_type": "stream",
     "text": [
      "epoch : 217 Loss : 0.00604769354686141 \n"
     ]
    },
    {
     "name": "stderr",
     "output_type": "stream",
     "text": [
      "100%|████████████████████████████████████████████████████████████████████████████████████████████████████████████████████████████████████████████████████████████████████████████████████████████████████████████████████████| 937/937 [01:46<00:00,  8.83it/s]\n"
     ]
    },
    {
     "name": "stdout",
     "output_type": "stream",
     "text": [
      "epoch : 218 Loss : 0.0058465455658733845 \n"
     ]
    },
    {
     "name": "stderr",
     "output_type": "stream",
     "text": [
      "100%|████████████████████████████████████████████████████████████████████████████████████████████████████████████████████████████████████████████████████████████████████████████████████████████████████████████████████████| 937/937 [01:44<00:00,  8.93it/s]\n"
     ]
    },
    {
     "name": "stdout",
     "output_type": "stream",
     "text": [
      "epoch : 219 Loss : 0.005644485354423523 \n"
     ]
    },
    {
     "name": "stderr",
     "output_type": "stream",
     "text": [
      "100%|████████████████████████████████████████████████████████████████████████████████████████████████████████████████████████████████████████████████████████████████████████████████████████████████████████████████████████| 937/937 [01:44<00:00,  8.92it/s]\n"
     ]
    },
    {
     "name": "stdout",
     "output_type": "stream",
     "text": [
      "epoch : 220 Loss : 0.0058840857818722725 \n"
     ]
    },
    {
     "name": "stderr",
     "output_type": "stream",
     "text": [
      "100%|████████████████████████████████████████████████████████████████████████████████████████████████████████████████████████████████████████████████████████████████████████████████████████████████████████████████████████| 937/937 [01:47<00:00,  8.72it/s]\n"
     ]
    },
    {
     "name": "stdout",
     "output_type": "stream",
     "text": [
      "epoch : 221 Loss : 0.005930899642407894 \n"
     ]
    },
    {
     "name": "stderr",
     "output_type": "stream",
     "text": [
      "100%|████████████████████████████████████████████████████████████████████████████████████████████████████████████████████████████████████████████████████████████████████████████████████████████████████████████████████████| 937/937 [01:43<00:00,  9.09it/s]\n"
     ]
    },
    {
     "name": "stdout",
     "output_type": "stream",
     "text": [
      "epoch : 222 Loss : 0.00565750990062952 \n"
     ]
    },
    {
     "name": "stderr",
     "output_type": "stream",
     "text": [
      "100%|████████████████████████████████████████████████████████████████████████████████████████████████████████████████████████████████████████████████████████████████████████████████████████████████████████████████████████| 937/937 [01:47<00:00,  8.74it/s]\n"
     ]
    },
    {
     "name": "stdout",
     "output_type": "stream",
     "text": [
      "epoch : 223 Loss : 0.006032756995409727 \n"
     ]
    },
    {
     "name": "stderr",
     "output_type": "stream",
     "text": [
      "100%|████████████████████████████████████████████████████████████████████████████████████████████████████████████████████████████████████████████████████████████████████████████████████████████████████████████████████████| 937/937 [01:44<00:00,  8.95it/s]\n"
     ]
    },
    {
     "name": "stdout",
     "output_type": "stream",
     "text": [
      "epoch : 224 Loss : 0.0058985077776014805 \n"
     ]
    },
    {
     "name": "stderr",
     "output_type": "stream",
     "text": [
      "100%|████████████████████████████████████████████████████████████████████████████████████████████████████████████████████████████████████████████████████████████████████████████████████████████████████████████████████████| 937/937 [01:44<00:00,  8.95it/s]\n"
     ]
    },
    {
     "name": "stdout",
     "output_type": "stream",
     "text": [
      "epoch : 225 Loss : 0.005785549059510231 \n"
     ]
    },
    {
     "name": "stderr",
     "output_type": "stream",
     "text": [
      "100%|████████████████████████████████████████████████████████████████████████████████████████████████████████████████████████████████████████████████████████████████████████████████████████████████████████████████████████| 937/937 [01:44<00:00,  8.97it/s]\n"
     ]
    },
    {
     "name": "stdout",
     "output_type": "stream",
     "text": [
      "epoch : 226 Loss : 0.005606199149042368 \n"
     ]
    },
    {
     "name": "stderr",
     "output_type": "stream",
     "text": [
      "100%|████████████████████████████████████████████████████████████████████████████████████████████████████████████████████████████████████████████████████████████████████████████████████████████████████████████████████████| 937/937 [01:45<00:00,  8.91it/s]\n"
     ]
    },
    {
     "name": "stdout",
     "output_type": "stream",
     "text": [
      "epoch : 227 Loss : 0.005823315586894751 \n"
     ]
    },
    {
     "name": "stderr",
     "output_type": "stream",
     "text": [
      "100%|████████████████████████████████████████████████████████████████████████████████████████████████████████████████████████████████████████████████████████████████████████████████████████████████████████████████████████| 937/937 [01:46<00:00,  8.81it/s]\n"
     ]
    },
    {
     "name": "stdout",
     "output_type": "stream",
     "text": [
      "epoch : 228 Loss : 0.0057223583571612835 \n"
     ]
    },
    {
     "name": "stderr",
     "output_type": "stream",
     "text": [
      "100%|████████████████████████████████████████████████████████████████████████████████████████████████████████████████████████████████████████████████████████████████████████████████████████████████████████████████████████| 937/937 [01:43<00:00,  9.02it/s]\n"
     ]
    },
    {
     "name": "stdout",
     "output_type": "stream",
     "text": [
      "epoch : 229 Loss : 0.0056663816794753075 \n"
     ]
    },
    {
     "name": "stderr",
     "output_type": "stream",
     "text": [
      "100%|████████████████████████████████████████████████████████████████████████████████████████████████████████████████████████████████████████████████████████████████████████████████████████████████████████████████████████| 937/937 [01:53<00:00,  8.27it/s]\n"
     ]
    },
    {
     "name": "stdout",
     "output_type": "stream",
     "text": [
      "epoch : 230 Loss : 0.005774340126663446 \n"
     ]
    },
    {
     "name": "stderr",
     "output_type": "stream",
     "text": [
      "100%|████████████████████████████████████████████████████████████████████████████████████████████████████████████████████████████████████████████████████████████████████████████████████████████████████████████████████████| 937/937 [01:43<00:00,  9.07it/s]\n"
     ]
    },
    {
     "name": "stdout",
     "output_type": "stream",
     "text": [
      "epoch : 231 Loss : 0.005944461561739445 \n"
     ]
    },
    {
     "name": "stderr",
     "output_type": "stream",
     "text": [
      " 15%|█████████████████████████████████▍                                                                                                                                                                                      | 145/937 [00:17<01:37,  8.09it/s]\n"
     ]
    },
    {
     "ename": "KeyboardInterrupt",
     "evalue": "",
     "output_type": "error",
     "traceback": [
      "\u001b[0;31m---------------------------------------------------------------------------\u001b[0m",
      "\u001b[0;31mKeyboardInterrupt\u001b[0m                         Traceback (most recent call last)",
      "\u001b[0;32m/tmp/ipykernel_1056/2075647672.py\u001b[0m in \u001b[0;36m<module>\u001b[0;34m\u001b[0m\n\u001b[1;32m     30\u001b[0m         \u001b[0mtotal_loss\u001b[0m \u001b[0;34m+=\u001b[0m \u001b[0mloss\u001b[0m\u001b[0;34m\u001b[0m\u001b[0;34m\u001b[0m\u001b[0m\n\u001b[1;32m     31\u001b[0m \u001b[0;34m\u001b[0m\u001b[0m\n\u001b[0;32m---> 32\u001b[0;31m         \u001b[0mloss\u001b[0m\u001b[0;34m.\u001b[0m\u001b[0mbackward\u001b[0m\u001b[0;34m(\u001b[0m\u001b[0;34m)\u001b[0m\u001b[0;34m\u001b[0m\u001b[0;34m\u001b[0m\u001b[0m\n\u001b[0m\u001b[1;32m     33\u001b[0m         \u001b[0moptimizer\u001b[0m\u001b[0;34m.\u001b[0m\u001b[0mstep\u001b[0m\u001b[0;34m(\u001b[0m\u001b[0;34m)\u001b[0m\u001b[0;34m\u001b[0m\u001b[0;34m\u001b[0m\u001b[0m\n\u001b[1;32m     34\u001b[0m \u001b[0;34m\u001b[0m\u001b[0m\n",
      "\u001b[0;32m/opt/conda/lib/python3.8/site-packages/torch/_tensor.py\u001b[0m in \u001b[0;36mbackward\u001b[0;34m(self, gradient, retain_graph, create_graph, inputs)\u001b[0m\n\u001b[1;32m    394\u001b[0m                 \u001b[0mcreate_graph\u001b[0m\u001b[0;34m=\u001b[0m\u001b[0mcreate_graph\u001b[0m\u001b[0;34m,\u001b[0m\u001b[0;34m\u001b[0m\u001b[0;34m\u001b[0m\u001b[0m\n\u001b[1;32m    395\u001b[0m                 inputs=inputs)\n\u001b[0;32m--> 396\u001b[0;31m         \u001b[0mtorch\u001b[0m\u001b[0;34m.\u001b[0m\u001b[0mautograd\u001b[0m\u001b[0;34m.\u001b[0m\u001b[0mbackward\u001b[0m\u001b[0;34m(\u001b[0m\u001b[0mself\u001b[0m\u001b[0;34m,\u001b[0m \u001b[0mgradient\u001b[0m\u001b[0;34m,\u001b[0m \u001b[0mretain_graph\u001b[0m\u001b[0;34m,\u001b[0m \u001b[0mcreate_graph\u001b[0m\u001b[0;34m,\u001b[0m \u001b[0minputs\u001b[0m\u001b[0;34m=\u001b[0m\u001b[0minputs\u001b[0m\u001b[0;34m)\u001b[0m\u001b[0;34m\u001b[0m\u001b[0;34m\u001b[0m\u001b[0m\n\u001b[0m\u001b[1;32m    397\u001b[0m \u001b[0;34m\u001b[0m\u001b[0m\n\u001b[1;32m    398\u001b[0m     \u001b[0;32mdef\u001b[0m \u001b[0mregister_hook\u001b[0m\u001b[0;34m(\u001b[0m\u001b[0mself\u001b[0m\u001b[0;34m,\u001b[0m \u001b[0mhook\u001b[0m\u001b[0;34m)\u001b[0m\u001b[0;34m:\u001b[0m\u001b[0;34m\u001b[0m\u001b[0;34m\u001b[0m\u001b[0m\n",
      "\u001b[0;32m/opt/conda/lib/python3.8/site-packages/torch/autograd/__init__.py\u001b[0m in \u001b[0;36mbackward\u001b[0;34m(tensors, grad_tensors, retain_graph, create_graph, grad_variables, inputs)\u001b[0m\n\u001b[1;32m    171\u001b[0m     \u001b[0;31m# some Python versions print out the first line of a multi-line function\u001b[0m\u001b[0;34m\u001b[0m\u001b[0;34m\u001b[0m\u001b[0;34m\u001b[0m\u001b[0m\n\u001b[1;32m    172\u001b[0m     \u001b[0;31m# calls in the traceback and some print out the last line\u001b[0m\u001b[0;34m\u001b[0m\u001b[0;34m\u001b[0m\u001b[0;34m\u001b[0m\u001b[0m\n\u001b[0;32m--> 173\u001b[0;31m     Variable._execution_engine.run_backward(  # Calls into the C++ engine to run the backward pass\n\u001b[0m\u001b[1;32m    174\u001b[0m         \u001b[0mtensors\u001b[0m\u001b[0;34m,\u001b[0m \u001b[0mgrad_tensors_\u001b[0m\u001b[0;34m,\u001b[0m \u001b[0mretain_graph\u001b[0m\u001b[0;34m,\u001b[0m \u001b[0mcreate_graph\u001b[0m\u001b[0;34m,\u001b[0m \u001b[0minputs\u001b[0m\u001b[0;34m,\u001b[0m\u001b[0;34m\u001b[0m\u001b[0;34m\u001b[0m\u001b[0m\n\u001b[1;32m    175\u001b[0m         allow_unreachable=True, accumulate_grad=True)  # Calls into the C++ engine to run the backward pass\n",
      "\u001b[0;31mKeyboardInterrupt\u001b[0m: "
     ]
    }
   ],
   "source": [
    "from torchvision.utils import save_image\n",
    "\n",
    "epochs = 250\n",
    "before_loss = 999999.0\n",
    "saved_epoch = 0\n",
    "\n",
    "threshold = 0.1\n",
    "\n",
    "for epoch in range(epochs):\n",
    "    \n",
    "    total_loss = 0\n",
    "\n",
    "    for step, batch in enumerate(tqdm(data_loader)):\n",
    "        optimizer.zero_grad()\n",
    "\n",
    "        batch_size = batch[0].shape[0]\n",
    "        image = batch[0].to(device)\n",
    "        label = batch[1].to(device)\n",
    "        \n",
    "        cemb = cemblayer(label)\n",
    "        \n",
    "        # threshold 미만인 부분은 unconditional 한 방식으로 학습\n",
    "        cemb[np.where(np.random.rand(batch_size)< threshold)] = 0\n",
    "\n",
    "       # Algorithm 1 line 3: sample t uniformally for every example in the batch\n",
    "        t = torch.randint(0, timesteps, (batch_size,), device=device).long()\n",
    "\n",
    "        loss = p_losses(model, image, t, cemb, loss_type=\"huber\")\n",
    "        \n",
    "        total_loss += loss\n",
    "\n",
    "        loss.backward()\n",
    "        optimizer.step()\n",
    "\n",
    "        \n",
    "    total_loss = total_loss / len(data_loader)\n",
    "    print(f\"epoch : {epoch} Loss : {total_loss} \")\n",
    "    \n",
    "    if before_loss > total_loss:\n",
    "            saved_epoch = epoch\n",
    "            print(f\"before_loss = {before_loss:.4f}, loss = {total_loss:.4f}, saved_epoch = {saved_epoch}\" )\n",
    "            print('model_save')\n",
    "            torch.save(cemblayer.state_dict(), 'diffusion_speech_enhancement/guided_speech_diffusion/DDPM_Speech_Guide_embedding_layer.pth')\n",
    "            torch.save(model.state_dict(), 'diffusion_speech_enhancement/guided_speech_diffusion/DDPM_Speech_Guided.pth')\n",
    "            before_loss = total_loss\n",
    "\n"
   ]
  },
  {
   "cell_type": "code",
   "execution_count": 67,
   "id": "25068f53",
   "metadata": {},
   "outputs": [
    {
     "data": {
      "text/plain": [
       "<All keys matched successfully>"
      ]
     },
     "execution_count": 67,
     "metadata": {},
     "output_type": "execute_result"
    }
   ],
   "source": [
    "\n",
    "ckpt = torch.load('../weights/DDPM_Speech_Guided.pth', map_location=device)\n",
    "model.load_state_dict(ckpt)\n",
    "ckpt = torch.load('../weights/DDPM_Speech_Guide_embedding_layer.pth', map_location=device)\n",
    "cemblayer.load_state_dict(ckpt)\n"
   ]
  },
  {
   "cell_type": "code",
   "execution_count": 68,
   "id": "9c2ff2ab",
   "metadata": {},
   "outputs": [
    {
     "data": {
      "text/plain": [
       "tensor([8, 4, 2, 9, 5, 2, 7, 6, 3, 1, 8, 3, 2, 4, 4, 0, 2, 9, 5, 7, 6, 0, 2, 4,\n",
       "        2, 3, 3, 0, 2, 6, 7, 9, 0, 7, 1, 3, 1, 2, 9, 2, 8, 0, 8, 7, 9, 8, 2, 0,\n",
       "        7, 5, 1, 6, 7, 9, 7, 9, 7, 4, 6, 0, 6, 8, 8, 5], device='cuda:0')"
      ]
     },
     "execution_count": 68,
     "metadata": {},
     "output_type": "execute_result"
    }
   ],
   "source": [
    "classes = torch.randint(low=0, high=10, size=(64,), device=device)\n",
    "classes"
   ]
  },
  {
   "cell_type": "code",
   "execution_count": 69,
   "id": "d824035c",
   "metadata": {},
   "outputs": [
    {
     "name": "stdout",
     "output_type": "stream",
     "text": [
      "shape = (64, 1, 80, 56)\n"
     ]
    },
    {
     "name": "stderr",
     "output_type": "stream",
     "text": [
      "sampling loop time step: 100%|███████████████████████████████████████████████████████████████████████████████████████████████████████████████████████████████████████████████████████████████████████████████████████████████| 300/300 [00:20<00:00, 14.72it/s]\n"
     ]
    }
   ],
   "source": [
    "samples = sample(model, cemb = cemblayer(classes), w= 4.0, image_size=(80,56), batch_size=64, channels=1)"
   ]
  },
  {
   "cell_type": "code",
   "execution_count": 73,
   "id": "8c0446a4",
   "metadata": {},
   "outputs": [
    {
     "name": "stdout",
     "output_type": "stream",
     "text": [
      "<librosa.display.AdaptiveWaveplot object at 0x7f55f6b72970>\n"
     ]
    },
    {
     "data": {
      "text/html": [
       "\n",
       "                <audio  controls=\"controls\" >\n",
       "                    <source src=\"data:audio/wav;base64,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\" type=\"audio/wav\" />\n",
       "                    Your browser does not support the audio element.\n",
       "                </audio>\n",
       "              "
      ],
      "text/plain": [
       "<IPython.lib.display.Audio object>"
      ]
     },
     "execution_count": 73,
     "metadata": {},
     "output_type": "execute_result"
    },
    {
     "data": {
      "image/png": "[encoded data removed]",
      "text/plain": [
       "<Figure size 432x288 with 1 Axes>"
      ]
     },
     "metadata": {
      "needs_background": "light"
     },
     "output_type": "display_data"
    }
   ],
   "source": [
    "a = inference_to_audio(torch.tensor(samples[-1][2]))\n",
    "ipd.Audio(a, rate= 22050)"
   ]
  },
  {
   "cell_type": "code",
   "execution_count": null,
   "id": "c56b0b33",
   "metadata": {},
   "outputs": [],
   "source": [
    "fig, ax = plt.subplots()\n",
    "img = librosa.display.specshow(samples[-1][13][0])\n",
    "fig.colorbar(img, ax=ax)\n"
   ]
  },
  {
   "cell_type": "code",
   "execution_count": null,
   "id": "884c4f06",
   "metadata": {},
   "outputs": [],
   "source": [
    "samples[-1][0][0].shape"
   ]
  },
  {
   "cell_type": "code",
   "execution_count": null,
   "id": "11c3a7f6",
   "metadata": {},
   "outputs": [],
   "source": []
  },
  {
   "cell_type": "markdown",
   "id": "f0a11271",
   "metadata": {},
   "source": [
    "## Noisy data 생성"
   ]
  },
  {
   "cell_type": "code",
   "execution_count": null,
   "id": "dba8c4a3",
   "metadata": {},
   "outputs": [],
   "source": [
    "## Korean Speech\n",
    "inference_data = torchaudio.load('kss_data/kss/4/4_5631.wav')[0] ## 학습 이외의 데이터\n",
    "inference_resample_audio = torchaudio.functional.resample(inference_data, orig_freq=44100, new_freq=22050)\n",
    "inference_mel= mel_spectrogram(inference_resample_audio[0][11025:32802+11025]) ## [1,80,128] \n",
    "\n"
   ]
  },
  {
   "cell_type": "code",
   "execution_count": null,
   "id": "f2367100",
   "metadata": {},
   "outputs": [],
   "source": [
    "inference_resample_audio = torchaudio.functional.resample(dataset[1][0], orig_freq=48000, new_freq=22050)\n",
    "inference_mel = mel_spectrogram(inference_resample_audio[0][11025:32802+11025]) #[11025:32802+11025]"
   ]
  },
  {
   "cell_type": "code",
   "execution_count": null,
   "id": "7c403068",
   "metadata": {},
   "outputs": [],
   "source": [
    "fig, ax = plt.subplots()\n",
    "img = librosa.display.specshow(inference_mel[0].numpy())\n",
    "fig.colorbar(img, ax=ax)\n",
    "a = inference_to_audio(inference_mel[0])\n",
    "ipd.Audio(a, rate= 22050)\n"
   ]
  },
  {
   "cell_type": "code",
   "execution_count": null,
   "id": "fc6e3e93",
   "metadata": {},
   "outputs": [],
   "source": [
    "nosiy_data = q_sample(inference_mel, torch.tensor([40]))\n",
    "fig, ax = plt.subplots()\n",
    "img = librosa.display.specshow(nosiy_data[0].numpy())\n",
    "fig.colorbar(img, ax=ax)\n",
    "a = inference_to_audio(nosiy_data[0])\n",
    "ipd.Audio(a, rate= 22050)"
   ]
  },
  {
   "cell_type": "code",
   "execution_count": null,
   "id": "bae30fd4",
   "metadata": {
    "scrolled": false
   },
   "outputs": [],
   "source": [
    "inference_mel.shape"
   ]
  },
  {
   "cell_type": "code",
   "execution_count": null,
   "id": "0f37cbaf",
   "metadata": {
    "scrolled": true
   },
   "outputs": [],
   "source": [
    "torch.randn(1,80,507).chunk(2,2)[0].shape"
   ]
  },
  {
   "cell_type": "code",
   "execution_count": null,
   "id": "84207c1a",
   "metadata": {},
   "outputs": [],
   "source": [
    "inference_mel.chunk(2, 2)[1].shape\n",
    "## 향후에 전체 음성으로 해보기\n",
    "## 완전 가우시안 노이즈가 아닌 노이즈가 낀 이미지를 Enhancement 하는 것\n",
    "## 전체 음성으로 하려면 노이즈가 낀 이미지를 나눠야함. 그 후 각각의 분할마다 for문을 돌려서 enhancement 시키고 나중에 합쳐서 생성\n",
    "## 추론에 시간 엄청 걸릴듯\n",
    "## 하나의 샘플이면 괜찮을지도"
   ]
  },
  {
   "cell_type": "code",
   "execution_count": null,
   "id": "f6fda5bf",
   "metadata": {},
   "outputs": [],
   "source": [
    "\n",
    "# Algorithm 2 (including returning all images)\n",
    "@torch.no_grad()\n",
    "def Enhancement_p_sample_loop(model, shape, image, timesteps):\n",
    "    device = next(model.parameters()).device\n",
    "    \n",
    "    timesteps = timesteps \n",
    "\n",
    "    b = shape[0]\n",
    "    # start from pure noise (for each example in the batch)\n",
    "    img = image.to(device)\n",
    "    imgs = []\n",
    "\n",
    "    for i in tqdm(reversed(range(0, timesteps)), desc='sampling loop time step', total=timesteps):\n",
    "        img = p_sample(model, img, torch.full((b,), i, device=device, dtype=torch.long), i)\n",
    "        imgs.append(img.cpu().numpy())\n",
    "    return imgs\n",
    "\n"
   ]
  },
  {
   "cell_type": "code",
   "execution_count": null,
   "id": "f19b30b8",
   "metadata": {},
   "outputs": [],
   "source": [
    "result = Enhancement_p_sample_loop(model, shape = (1,1,80,128), image = nosiy_data.unsqueeze(0), timesteps= 50)"
   ]
  },
  {
   "cell_type": "code",
   "execution_count": null,
   "id": "3f2ddb05",
   "metadata": {},
   "outputs": [],
   "source": [
    "\n",
    "fig, ax = plt.subplots()\n",
    "img = librosa.display.specshow(result[-1][0][0])\n",
    "fig.colorbar(img, ax=ax)\n",
    "a = inference_to_audio(torch.tensor(result[-1][0]))\n",
    "ipd.Audio(a, rate= 22050)"
   ]
  },
  {
   "cell_type": "code",
   "execution_count": null,
   "id": "b7fdb198",
   "metadata": {
    "scrolled": true
   },
   "outputs": [],
   "source": [
    "result[-1][0].shape"
   ]
  },
  {
   "cell_type": "code",
   "execution_count": null,
   "id": "199b48fe",
   "metadata": {},
   "outputs": [],
   "source": [
    "a= inference_to_audio(torch.tensor(samples[-1][7], device= device))\n",
    "ipd.Audio(a, rate= 22050)"
   ]
  }
 ],
 "metadata": {
  "kernelspec": {
   "display_name": "Python 3 (ipykernel)",
   "language": "python",
   "name": "python3"
  },
  "language_info": {
   "codemirror_mode": {
    "name": "ipython",
    "version": 3
   },
   "file_extension": ".py",
   "mimetype": "text/x-python",
   "name": "python",
   "nbconvert_exporter": "python",
   "pygments_lexer": "ipython3",
   "version": "3.8.12"
  }
 },
 "nbformat": 4,
 "nbformat_minor": 5
}
