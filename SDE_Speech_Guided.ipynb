{
 "cells": [
  {
   "cell_type": "code",
   "execution_count": 2,
   "id": "9bb22414",
   "metadata": {},
   "outputs": [],
   "source": [
    "import os\n",
    "import re\n",
    "import math\n",
    "import time\n",
    "import torch\n",
    "\n",
    "import librosa\n",
    "import librosa.display\n",
    "import itertools\n",
    "import functools\n",
    "import torchaudio\n",
    "import torchvision\n",
    "import torch.optim\n",
    "\n",
    "\n",
    "import numpy as np\n",
    "import torch.nn as nn\n",
    "from tqdm import tqdm\n",
    "from torch.optim import Adam\n",
    "from functools import partial\n",
    "import torch.nn.functional as F\n",
    "from torch.utils.data import DataLoader\n",
    "\n",
    "import IPython.display as ipd\n",
    "\n",
    "from einops import rearrange, reduce\n",
    "from einops.layers.torch import Rearrange\n",
    "from torch import nn, einsum\n",
    "from inspect import isfunction\n",
    "\n",
    "\n",
    "\n",
    "import torchaudio.transforms as T\n",
    "\n",
    "import IPython.display as ipd\n",
    "import sentencepiece as spm\n",
    "import pandas as pd\n",
    "import matplotlib.pyplot as plt\n",
    "from torch.utils.data import Dataset\n",
    "from torch.nn.utils.rnn import pad_sequence\n",
    "\n",
    "\n",
    "import torch.utils.data\n",
    "from librosa.util import normalize\n",
    "from scipy.io.wavfile import read\n",
    "from librosa.filters import mel as librosa_mel_fn\n",
    "\n",
    "import pickle\n",
    "import soundfile as sf\n",
    "from scipy import signal\n",
    "from scipy.signal import get_window\n",
    "from librosa.filters import mel\n",
    "\n",
    "MAX_WAV_VALUE = 32768.0\n",
    "\n",
    "\n",
    "import lib\n",
    "import tqdm\n",
    "from torchvision.utils import make_grid\n",
    "\n",
    "from tqdm import tqdm\n",
    "\n"
   ]
  },
  {
   "cell_type": "code",
   "execution_count": 3,
   "id": "9e0b701d",
   "metadata": {},
   "outputs": [
    {
     "name": "stdout",
     "output_type": "stream",
     "text": [
      "Current cuda device is cuda:0\n"
     ]
    }
   ],
   "source": [
    "is_cuda = torch.cuda.is_available()\n",
    "\n",
    "device = torch.device('cuda:0' if is_cuda else 'cpu')\n",
    "\n",
    "print('Current cuda device is', device)"
   ]
  },
  {
   "cell_type": "code",
   "execution_count": 7,
   "id": "800746ea",
   "metadata": {},
   "outputs": [
    {
     "name": "stdout",
     "output_type": "stream",
     "text": [
      "/data/code/kmkim\n"
     ]
    }
   ],
   "source": [
    "cd ../"
   ]
  },
  {
   "cell_type": "code",
   "execution_count": 8,
   "id": "ffbf8fb5",
   "metadata": {},
   "outputs": [
    {
     "data": {
      "text/plain": [
       "Generator(\n",
       "  (conv_pre): Conv1d(80, 512, kernel_size=(7,), stride=(1,), padding=(3,))\n",
       "  (ups): ModuleList(\n",
       "    (0): ConvTranspose1d(512, 256, kernel_size=(16,), stride=(8,), padding=(4,))\n",
       "    (1): ConvTranspose1d(256, 128, kernel_size=(16,), stride=(8,), padding=(4,))\n",
       "    (2): ConvTranspose1d(128, 64, kernel_size=(4,), stride=(2,), padding=(1,))\n",
       "    (3): ConvTranspose1d(64, 32, kernel_size=(4,), stride=(2,), padding=(1,))\n",
       "  )\n",
       "  (resblocks): ModuleList(\n",
       "    (0): ResBlock1(\n",
       "      (convs1): ModuleList(\n",
       "        (0): Conv1d(256, 256, kernel_size=(3,), stride=(1,), padding=(1,))\n",
       "        (1): Conv1d(256, 256, kernel_size=(3,), stride=(1,), padding=(3,), dilation=(3,))\n",
       "        (2): Conv1d(256, 256, kernel_size=(3,), stride=(1,), padding=(5,), dilation=(5,))\n",
       "      )\n",
       "      (convs2): ModuleList(\n",
       "        (0): Conv1d(256, 256, kernel_size=(3,), stride=(1,), padding=(1,))\n",
       "        (1): Conv1d(256, 256, kernel_size=(3,), stride=(1,), padding=(1,))\n",
       "        (2): Conv1d(256, 256, kernel_size=(3,), stride=(1,), padding=(1,))\n",
       "      )\n",
       "    )\n",
       "    (1): ResBlock1(\n",
       "      (convs1): ModuleList(\n",
       "        (0): Conv1d(256, 256, kernel_size=(7,), stride=(1,), padding=(3,))\n",
       "        (1): Conv1d(256, 256, kernel_size=(7,), stride=(1,), padding=(9,), dilation=(3,))\n",
       "        (2): Conv1d(256, 256, kernel_size=(7,), stride=(1,), padding=(15,), dilation=(5,))\n",
       "      )\n",
       "      (convs2): ModuleList(\n",
       "        (0): Conv1d(256, 256, kernel_size=(7,), stride=(1,), padding=(3,))\n",
       "        (1): Conv1d(256, 256, kernel_size=(7,), stride=(1,), padding=(3,))\n",
       "        (2): Conv1d(256, 256, kernel_size=(7,), stride=(1,), padding=(3,))\n",
       "      )\n",
       "    )\n",
       "    (2): ResBlock1(\n",
       "      (convs1): ModuleList(\n",
       "        (0): Conv1d(256, 256, kernel_size=(11,), stride=(1,), padding=(5,))\n",
       "        (1): Conv1d(256, 256, kernel_size=(11,), stride=(1,), padding=(15,), dilation=(3,))\n",
       "        (2): Conv1d(256, 256, kernel_size=(11,), stride=(1,), padding=(25,), dilation=(5,))\n",
       "      )\n",
       "      (convs2): ModuleList(\n",
       "        (0): Conv1d(256, 256, kernel_size=(11,), stride=(1,), padding=(5,))\n",
       "        (1): Conv1d(256, 256, kernel_size=(11,), stride=(1,), padding=(5,))\n",
       "        (2): Conv1d(256, 256, kernel_size=(11,), stride=(1,), padding=(5,))\n",
       "      )\n",
       "    )\n",
       "    (3): ResBlock1(\n",
       "      (convs1): ModuleList(\n",
       "        (0): Conv1d(128, 128, kernel_size=(3,), stride=(1,), padding=(1,))\n",
       "        (1): Conv1d(128, 128, kernel_size=(3,), stride=(1,), padding=(3,), dilation=(3,))\n",
       "        (2): Conv1d(128, 128, kernel_size=(3,), stride=(1,), padding=(5,), dilation=(5,))\n",
       "      )\n",
       "      (convs2): ModuleList(\n",
       "        (0): Conv1d(128, 128, kernel_size=(3,), stride=(1,), padding=(1,))\n",
       "        (1): Conv1d(128, 128, kernel_size=(3,), stride=(1,), padding=(1,))\n",
       "        (2): Conv1d(128, 128, kernel_size=(3,), stride=(1,), padding=(1,))\n",
       "      )\n",
       "    )\n",
       "    (4): ResBlock1(\n",
       "      (convs1): ModuleList(\n",
       "        (0): Conv1d(128, 128, kernel_size=(7,), stride=(1,), padding=(3,))\n",
       "        (1): Conv1d(128, 128, kernel_size=(7,), stride=(1,), padding=(9,), dilation=(3,))\n",
       "        (2): Conv1d(128, 128, kernel_size=(7,), stride=(1,), padding=(15,), dilation=(5,))\n",
       "      )\n",
       "      (convs2): ModuleList(\n",
       "        (0): Conv1d(128, 128, kernel_size=(7,), stride=(1,), padding=(3,))\n",
       "        (1): Conv1d(128, 128, kernel_size=(7,), stride=(1,), padding=(3,))\n",
       "        (2): Conv1d(128, 128, kernel_size=(7,), stride=(1,), padding=(3,))\n",
       "      )\n",
       "    )\n",
       "    (5): ResBlock1(\n",
       "      (convs1): ModuleList(\n",
       "        (0): Conv1d(128, 128, kernel_size=(11,), stride=(1,), padding=(5,))\n",
       "        (1): Conv1d(128, 128, kernel_size=(11,), stride=(1,), padding=(15,), dilation=(3,))\n",
       "        (2): Conv1d(128, 128, kernel_size=(11,), stride=(1,), padding=(25,), dilation=(5,))\n",
       "      )\n",
       "      (convs2): ModuleList(\n",
       "        (0): Conv1d(128, 128, kernel_size=(11,), stride=(1,), padding=(5,))\n",
       "        (1): Conv1d(128, 128, kernel_size=(11,), stride=(1,), padding=(5,))\n",
       "        (2): Conv1d(128, 128, kernel_size=(11,), stride=(1,), padding=(5,))\n",
       "      )\n",
       "    )\n",
       "    (6): ResBlock1(\n",
       "      (convs1): ModuleList(\n",
       "        (0): Conv1d(64, 64, kernel_size=(3,), stride=(1,), padding=(1,))\n",
       "        (1): Conv1d(64, 64, kernel_size=(3,), stride=(1,), padding=(3,), dilation=(3,))\n",
       "        (2): Conv1d(64, 64, kernel_size=(3,), stride=(1,), padding=(5,), dilation=(5,))\n",
       "      )\n",
       "      (convs2): ModuleList(\n",
       "        (0): Conv1d(64, 64, kernel_size=(3,), stride=(1,), padding=(1,))\n",
       "        (1): Conv1d(64, 64, kernel_size=(3,), stride=(1,), padding=(1,))\n",
       "        (2): Conv1d(64, 64, kernel_size=(3,), stride=(1,), padding=(1,))\n",
       "      )\n",
       "    )\n",
       "    (7): ResBlock1(\n",
       "      (convs1): ModuleList(\n",
       "        (0): Conv1d(64, 64, kernel_size=(7,), stride=(1,), padding=(3,))\n",
       "        (1): Conv1d(64, 64, kernel_size=(7,), stride=(1,), padding=(9,), dilation=(3,))\n",
       "        (2): Conv1d(64, 64, kernel_size=(7,), stride=(1,), padding=(15,), dilation=(5,))\n",
       "      )\n",
       "      (convs2): ModuleList(\n",
       "        (0): Conv1d(64, 64, kernel_size=(7,), stride=(1,), padding=(3,))\n",
       "        (1): Conv1d(64, 64, kernel_size=(7,), stride=(1,), padding=(3,))\n",
       "        (2): Conv1d(64, 64, kernel_size=(7,), stride=(1,), padding=(3,))\n",
       "      )\n",
       "    )\n",
       "    (8): ResBlock1(\n",
       "      (convs1): ModuleList(\n",
       "        (0): Conv1d(64, 64, kernel_size=(11,), stride=(1,), padding=(5,))\n",
       "        (1): Conv1d(64, 64, kernel_size=(11,), stride=(1,), padding=(15,), dilation=(3,))\n",
       "        (2): Conv1d(64, 64, kernel_size=(11,), stride=(1,), padding=(25,), dilation=(5,))\n",
       "      )\n",
       "      (convs2): ModuleList(\n",
       "        (0): Conv1d(64, 64, kernel_size=(11,), stride=(1,), padding=(5,))\n",
       "        (1): Conv1d(64, 64, kernel_size=(11,), stride=(1,), padding=(5,))\n",
       "        (2): Conv1d(64, 64, kernel_size=(11,), stride=(1,), padding=(5,))\n",
       "      )\n",
       "    )\n",
       "    (9): ResBlock1(\n",
       "      (convs1): ModuleList(\n",
       "        (0): Conv1d(32, 32, kernel_size=(3,), stride=(1,), padding=(1,))\n",
       "        (1): Conv1d(32, 32, kernel_size=(3,), stride=(1,), padding=(3,), dilation=(3,))\n",
       "        (2): Conv1d(32, 32, kernel_size=(3,), stride=(1,), padding=(5,), dilation=(5,))\n",
       "      )\n",
       "      (convs2): ModuleList(\n",
       "        (0): Conv1d(32, 32, kernel_size=(3,), stride=(1,), padding=(1,))\n",
       "        (1): Conv1d(32, 32, kernel_size=(3,), stride=(1,), padding=(1,))\n",
       "        (2): Conv1d(32, 32, kernel_size=(3,), stride=(1,), padding=(1,))\n",
       "      )\n",
       "    )\n",
       "    (10): ResBlock1(\n",
       "      (convs1): ModuleList(\n",
       "        (0): Conv1d(32, 32, kernel_size=(7,), stride=(1,), padding=(3,))\n",
       "        (1): Conv1d(32, 32, kernel_size=(7,), stride=(1,), padding=(9,), dilation=(3,))\n",
       "        (2): Conv1d(32, 32, kernel_size=(7,), stride=(1,), padding=(15,), dilation=(5,))\n",
       "      )\n",
       "      (convs2): ModuleList(\n",
       "        (0): Conv1d(32, 32, kernel_size=(7,), stride=(1,), padding=(3,))\n",
       "        (1): Conv1d(32, 32, kernel_size=(7,), stride=(1,), padding=(3,))\n",
       "        (2): Conv1d(32, 32, kernel_size=(7,), stride=(1,), padding=(3,))\n",
       "      )\n",
       "    )\n",
       "    (11): ResBlock1(\n",
       "      (convs1): ModuleList(\n",
       "        (0): Conv1d(32, 32, kernel_size=(11,), stride=(1,), padding=(5,))\n",
       "        (1): Conv1d(32, 32, kernel_size=(11,), stride=(1,), padding=(15,), dilation=(3,))\n",
       "        (2): Conv1d(32, 32, kernel_size=(11,), stride=(1,), padding=(25,), dilation=(5,))\n",
       "      )\n",
       "      (convs2): ModuleList(\n",
       "        (0): Conv1d(32, 32, kernel_size=(11,), stride=(1,), padding=(5,))\n",
       "        (1): Conv1d(32, 32, kernel_size=(11,), stride=(1,), padding=(5,))\n",
       "        (2): Conv1d(32, 32, kernel_size=(11,), stride=(1,), padding=(5,))\n",
       "      )\n",
       "    )\n",
       "  )\n",
       "  (conv_post): Conv1d(32, 1, kernel_size=(7,), stride=(1,), padding=(3,))\n",
       ")"
      ]
     },
     "execution_count": 8,
     "metadata": {},
     "output_type": "execute_result"
    }
   ],
   "source": [
    "from hifi_gan import Generator as hifigan_vocoder\n",
    "from omegaconf import OmegaConf\n",
    "\n",
    "path_config = 'hifi_gan.json'\n",
    "path_ckpt = 'g_02500000'\n",
    "\n",
    "hifigan_config = OmegaConf.load(path_config)\n",
    "vocoder = hifigan_vocoder(hifigan_config)\n",
    "\n",
    "state_dict_g = torch.load(path_ckpt)\n",
    "vocoder = vocoder.to(device)\n",
    "vocoder.load_state_dict(state_dict_g['generator'])\n",
    "vocoder.eval()"
   ]
  },
  {
   "cell_type": "code",
   "execution_count": 9,
   "id": "39690e4d",
   "metadata": {},
   "outputs": [],
   "source": [
    "    \n",
    "def inference_to_audio(x, sr = 22050, n_mels = 80):\n",
    "    \n",
    "    inference_ = (x.cpu() - 1) * 80.0\n",
    "\n",
    "    S = librosa.db_to_power(inference_)\n",
    "\n",
    "    zxc = spectral_normalize_torch(S.squeeze()) ## 나온 power 정규화 필수\n",
    "    \n",
    "    conv_wav = vocoder(zxc.to(device)) \n",
    "    \n",
    "    conv_wav = conv_wav.squeeze().detach().cpu().numpy()\n",
    "    \n",
    "    print(librosa.display.waveshow(conv_wav))\n",
    "    \n",
    "    return conv_wav"
   ]
  },
  {
   "cell_type": "code",
   "execution_count": 10,
   "id": "57ac2245",
   "metadata": {},
   "outputs": [],
   "source": [
    "def dynamic_range_compression(x, C=1, clip_val=1e-5):\n",
    "    return np.log(np.clip(x, a_min=clip_val, a_max=None) * C)\n",
    "\n",
    "\n",
    "def dynamic_range_decompression(x, C=1):\n",
    "    return np.exp(x) / C\n",
    "\n",
    "\n",
    "def dynamic_range_compression_torch(x, C=1, clip_val=1e-5):\n",
    "    return torch.log(torch.clamp(x, min=clip_val) * C)\n",
    "    # return torch.clamp(x, min=clip_val) * C\n",
    "\n",
    "\n",
    "def dynamic_range_decompression_torch(x, C=1):\n",
    "    return torch.exp(x) / C\n",
    "\n",
    "\n",
    "def spectral_normalize_torch(magnitudes):\n",
    "    output = dynamic_range_compression_torch(magnitudes)\n",
    "    return output\n",
    "\n",
    "\n",
    "def spectral_de_normalize_torch(magnitudes):\n",
    "    output = dynamic_range_decompression_torch(magnitudes)\n",
    "    return output\n",
    "\n",
    "\n",
    "sr = 22050\n",
    "n_fft = 1024\n",
    "win_length = n_fft\n",
    "hop_length = 256\n",
    "\n",
    "mel_basis = {}\n",
    "hann_window = {}\n",
    "\n",
    "def mel_spectrogram(y, n_fft=n_fft, num_mels=80, sampling_rate= sr, hop_size=hop_length, win_size=win_length, fmin=0, fmax=8000, center=False):\n",
    "    global mel_basis, hann_window\n",
    "    if fmax not in mel_basis:\n",
    "        mel = librosa_mel_fn(sr=sampling_rate, n_fft=n_fft, n_mels=num_mels, fmin=fmin, fmax=fmax)\n",
    "        mel_basis[str(fmax) + '_' + str(y.device)] = torch.from_numpy(mel).float().to(y.device)\n",
    "        hann_window[str(y.device)] = torch.hann_window(win_size).to(y.device)\n",
    "    \n",
    "    #print(y.shape) # 45237, 1 (1024-256)/2, (1024-256)/2\n",
    "    y = torch.nn.functional.pad(y.unsqueeze(0), ((int((n_fft - hop_size) / 2), int((n_fft - hop_size) / 2))),\n",
    "                                mode='reflect')\n",
    "    y = y.squeeze(1)\n",
    "    \n",
    "    spec = torch.stft(y, n_fft, hop_length=hop_size, win_length=win_size, window=hann_window[str(y.device)],\n",
    "                      center=center, pad_mode='reflect', normalized=False, onesided=True, return_complex = False) # return_complex =False\n",
    "\n",
    "    spec = torch.sqrt(spec.pow(2).sum(-1) + (1e-9)) #???\n",
    "\n",
    "    spec = torch.matmul(mel_basis[str(fmax) + '_' + str(y.device)], spec)\n",
    "        \n",
    "    spec = librosa.power_to_db(spec, ref=np.max, top_db = num_mels) ## dB 단위로 변형 numpy로 결과가 나옴\n",
    "    \n",
    "\n",
    "    spec = (spec / 80.0) + 1\n",
    "\n",
    "    \n",
    "    return torch.from_numpy(spec.astype(\"float32\")) ## numpy를 torch로"
   ]
  },
  {
   "cell_type": "code",
   "execution_count": 11,
   "id": "7e588319",
   "metadata": {},
   "outputs": [],
   "source": [
    "def marginal_prob_std(t, sigma):\n",
    "    \"\"\"Compute the mean and standard deviation of $p_{0t}(x(t) | x(0))$.\n",
    "\n",
    "    Args:    \n",
    "    t: A vector of time steps.\n",
    "    sigma: The $\\sigma$ in our SDE.  \n",
    "\n",
    "    Returns:\n",
    "    The standard deviation.\n",
    "    \"\"\"    \n",
    "    t = torch.tensor(t, device=device)\n",
    "    return torch.sqrt((sigma**(2 * t) - 1.) / 2. / np.log(sigma))\n",
    "\n",
    "def diffusion_coeff(t, sigma):\n",
    "    \"\"\"Compute the diffusion coefficient of our SDE.\n",
    "\n",
    "    Args:\n",
    "    t: A vector of time steps.\n",
    "    sigma: The $\\sigma$ in our SDE.\n",
    "\n",
    "    Returns:\n",
    "    The vector of diffusion coefficients.\n",
    "    \"\"\"\n",
    "    return torch.tensor(sigma**t, device=device)\n",
    "  \n",
    "sigma =  25.0#@param {'type':'number'}\n",
    "marginal_prob_std_fn = functools.partial(marginal_prob_std, sigma=sigma)\n",
    "diffusion_coeff_fn = functools.partial(diffusion_coeff, sigma=sigma)\n",
    "\n",
    "def loss_fn(model, x, marginal_prob_std, eps=1e-5):\n",
    "    \"\"\"The loss function for training score-based generative models.\n",
    "\n",
    "    Args:\n",
    "    model: A PyTorch model instance that represents a \n",
    "      time-dependent score-based model.\n",
    "    x: A mini-batch of training data.    \n",
    "    marginal_prob_std: A function that gives the standard deviation of \n",
    "      the perturbation kernel.\n",
    "    eps: A tolerance value for numerical stability.\n",
    "    \"\"\"\n",
    "    random_t = torch.rand(x.shape[0], device=x.device) * (1. - eps) + eps  \n",
    "    z = torch.randn_like(x)\n",
    "    std = marginal_prob_std(random_t)\n",
    "    perturbed_x = x + z * std[:, None, None, None]\n",
    "    score = model(perturbed_x, random_t)\n",
    "    loss = torch.mean(torch.sum((score * std[:, None, None, None] + z)**2, dim=(1,2,3)))\n",
    "    return loss"
   ]
  },
  {
   "cell_type": "code",
   "execution_count": 12,
   "id": "bd71ad10",
   "metadata": {},
   "outputs": [],
   "source": [
    "\n",
    "\n",
    "cemblayer = lib.ConditionalEmbedding(10, 10, 10).to(device)"
   ]
  },
  {
   "cell_type": "code",
   "execution_count": 13,
   "id": "d539bdcf",
   "metadata": {},
   "outputs": [],
   "source": [
    "import torchvision.transforms as T\n",
    "\n",
    "batch_size = 32\n",
    "\n",
    "train_ds = lib.AudioDataset('./diffusion_speech_enhancement/guided_speech_diffusion/data/', label_transform=T.ToTensor())\n",
    "\n",
    "data_loader = torch.utils.data.DataLoader(\n",
    "    train_ds,\n",
    "    batch_size=batch_size,\n",
    "    collate_fn = lib.collate_fn,\n",
    "    num_workers = 8,\n",
    "    shuffle=True,\n",
    "    pin_memory = True,\n",
    "    drop_last = True\n",
    ")\n"
   ]
  },
  {
   "cell_type": "code",
   "execution_count": 14,
   "id": "099ca2f5",
   "metadata": {},
   "outputs": [],
   "source": [
    "import lib\n",
    "model = lib.CF_Unet(\n",
    "    dim=56,\n",
    "    channels=1,\n",
    "    init_dim = 32,\n",
    "    cdim = 10,\n",
    "    dim_mults=(1, 2, 2, 4),\n",
    "    resnet_block_groups = 32,\n",
    ")\n",
    "\n",
    "model.to(device)\n",
    "\n",
    "optimizer = torch.optim.AdamW(itertools.chain(model.parameters(), cemblayer.parameters()), lr=5e-4)"
   ]
  },
  {
   "cell_type": "code",
   "execution_count": 15,
   "id": "c45f968d",
   "metadata": {},
   "outputs": [],
   "source": [
    "def p_losses(denoise_model, x_start, t, cemb, noise=None, loss_type=\"l1\"):\n",
    "    if noise is None:\n",
    "        noise = torch.randn_like(x_start)\n",
    "\n",
    "    x_noisy = q_sample(x_start=x_start, t=t, noise=noise)\n",
    "    predicted_noise = denoise_model(x_noisy, t, cemb)\n",
    "\n",
    "    if loss_type == 'l1':\n",
    "        loss = F.l1_loss(noise, predicted_noise)\n",
    "    elif loss_type == 'l2':\n",
    "        loss = F.mse_loss(noise, predicted_noise)\n",
    "    elif loss_type == \"huber\":\n",
    "        loss = F.smooth_l1_loss(noise, predicted_noise)\n",
    "    else:\n",
    "        raise NotImplementedError()\n",
    "\n",
    "    return loss"
   ]
  },
  {
   "cell_type": "code",
   "execution_count": 16,
   "id": "8cdbe2d7",
   "metadata": {},
   "outputs": [],
   "source": [
    "def loss_fn(model, x, marginal_prob_std, cemb, eps=1e-5):\n",
    "    \"\"\"The loss function for training score-based generative models.\n",
    "\n",
    "    Args:\n",
    "    model: A PyTorch model instance that represents a \n",
    "      time-dependent score-based model.\n",
    "    x: A mini-batch of training data.    \n",
    "    marginal_prob_std: A function that gives the standard deviation of \n",
    "      the perturbation kernel.\n",
    "    eps: A tolerance value for numerical stability.\n",
    "    \"\"\"\n",
    "    random_t = torch.rand(x.shape[0], device=x.device) * (1. - eps) + eps  \n",
    "    z = torch.randn_like(x)\n",
    "    std = marginal_prob_std(random_t)\n",
    "    perturbed_x = x + z * std[:, None, None, None]\n",
    "    score = model(perturbed_x, random_t, cemb)\n",
    "    loss = torch.mean(torch.sum((score * std[:, None, None, None] + z)**2, dim=(1,2,3)))\n",
    "    return loss"
   ]
  },
  {
   "cell_type": "code",
   "execution_count": 28,
   "id": "a27e5e45",
   "metadata": {
    "scrolled": true
   },
   "outputs": [
    {
     "name": "stderr",
     "output_type": "stream",
     "text": [
      "  0%|                                                   | 0/937 [00:00<?, ?it/s]/tmp/ipykernel_1556452/2894061068.py:11: UserWarning: To copy construct from a tensor, it is recommended to use sourceTensor.clone().detach() or sourceTensor.clone().detach().requires_grad_(True), rather than torch.tensor(sourceTensor).\n",
      "  t = torch.tensor(t, device=device)\n",
      "100%|█████████████████████████████████████████| 937/937 [01:37<00:00,  9.64it/s]\n"
     ]
    },
    {
     "name": "stdout",
     "output_type": "stream",
     "text": [
      "epoch : 0 Loss : 713.4583740234375 \n",
      "before_loss = 999999.0000, loss = 713.4584, saved_epoch = 0\n",
      "model_save\n"
     ]
    },
    {
     "name": "stderr",
     "output_type": "stream",
     "text": [
      "100%|█████████████████████████████████████████| 937/937 [01:41<00:00,  9.24it/s]\n"
     ]
    },
    {
     "name": "stdout",
     "output_type": "stream",
     "text": [
      "epoch : 1 Loss : 130.3097381591797 \n",
      "before_loss = 713.4584, loss = 130.3097, saved_epoch = 1\n",
      "model_save\n"
     ]
    },
    {
     "name": "stderr",
     "output_type": "stream",
     "text": [
      "100%|█████████████████████████████████████████| 937/937 [01:43<00:00,  9.09it/s]\n"
     ]
    },
    {
     "name": "stdout",
     "output_type": "stream",
     "text": [
      "epoch : 2 Loss : 128.90438842773438 \n",
      "before_loss = 130.3097, loss = 128.9044, saved_epoch = 2\n",
      "model_save\n"
     ]
    },
    {
     "name": "stderr",
     "output_type": "stream",
     "text": [
      "100%|█████████████████████████████████████████| 937/937 [01:40<00:00,  9.31it/s]\n"
     ]
    },
    {
     "name": "stdout",
     "output_type": "stream",
     "text": [
      "epoch : 3 Loss : 102.23424530029297 \n",
      "before_loss = 128.9044, loss = 102.2342, saved_epoch = 3\n",
      "model_save\n"
     ]
    },
    {
     "name": "stderr",
     "output_type": "stream",
     "text": [
      "100%|█████████████████████████████████████████| 937/937 [01:41<00:00,  9.26it/s]\n"
     ]
    },
    {
     "name": "stdout",
     "output_type": "stream",
     "text": [
      "epoch : 4 Loss : 57.696964263916016 \n",
      "before_loss = 102.2342, loss = 57.6970, saved_epoch = 4\n",
      "model_save\n"
     ]
    },
    {
     "name": "stderr",
     "output_type": "stream",
     "text": [
      "100%|█████████████████████████████████████████| 937/937 [01:40<00:00,  9.30it/s]\n"
     ]
    },
    {
     "name": "stdout",
     "output_type": "stream",
     "text": [
      "epoch : 5 Loss : 123.6903305053711 \n"
     ]
    },
    {
     "name": "stderr",
     "output_type": "stream",
     "text": [
      "100%|█████████████████████████████████████████| 937/937 [01:42<00:00,  9.19it/s]\n"
     ]
    },
    {
     "name": "stdout",
     "output_type": "stream",
     "text": [
      "epoch : 6 Loss : 64.52717590332031 \n"
     ]
    },
    {
     "name": "stderr",
     "output_type": "stream",
     "text": [
      "100%|█████████████████████████████████████████| 937/937 [01:46<00:00,  8.83it/s]\n"
     ]
    },
    {
     "name": "stdout",
     "output_type": "stream",
     "text": [
      "epoch : 7 Loss : 46.356388092041016 \n",
      "before_loss = 57.6970, loss = 46.3564, saved_epoch = 7\n",
      "model_save\n"
     ]
    },
    {
     "name": "stderr",
     "output_type": "stream",
     "text": [
      "100%|█████████████████████████████████████████| 937/937 [01:47<00:00,  8.68it/s]\n"
     ]
    },
    {
     "name": "stdout",
     "output_type": "stream",
     "text": [
      "epoch : 8 Loss : 73.21258544921875 \n"
     ]
    },
    {
     "name": "stderr",
     "output_type": "stream",
     "text": [
      "100%|█████████████████████████████████████████| 937/937 [01:45<00:00,  8.89it/s]\n"
     ]
    },
    {
     "name": "stdout",
     "output_type": "stream",
     "text": [
      "epoch : 9 Loss : 40.136131286621094 \n",
      "before_loss = 46.3564, loss = 40.1361, saved_epoch = 9\n",
      "model_save\n"
     ]
    },
    {
     "name": "stderr",
     "output_type": "stream",
     "text": [
      "100%|█████████████████████████████████████████| 937/937 [01:46<00:00,  8.82it/s]\n"
     ]
    },
    {
     "name": "stdout",
     "output_type": "stream",
     "text": [
      "epoch : 10 Loss : 58.968353271484375 \n"
     ]
    },
    {
     "name": "stderr",
     "output_type": "stream",
     "text": [
      "100%|█████████████████████████████████████████| 937/937 [01:46<00:00,  8.84it/s]\n"
     ]
    },
    {
     "name": "stdout",
     "output_type": "stream",
     "text": [
      "epoch : 11 Loss : 43.031166076660156 \n"
     ]
    },
    {
     "name": "stderr",
     "output_type": "stream",
     "text": [
      "100%|█████████████████████████████████████████| 937/937 [01:46<00:00,  8.82it/s]\n"
     ]
    },
    {
     "name": "stdout",
     "output_type": "stream",
     "text": [
      "epoch : 12 Loss : 31.889192581176758 \n",
      "before_loss = 40.1361, loss = 31.8892, saved_epoch = 12\n",
      "model_save\n"
     ]
    },
    {
     "name": "stderr",
     "output_type": "stream",
     "text": [
      "100%|█████████████████████████████████████████| 937/937 [01:47<00:00,  8.71it/s]\n"
     ]
    },
    {
     "name": "stdout",
     "output_type": "stream",
     "text": [
      "epoch : 13 Loss : 53.08932113647461 \n"
     ]
    },
    {
     "name": "stderr",
     "output_type": "stream",
     "text": [
      "100%|█████████████████████████████████████████| 937/937 [01:48<00:00,  8.66it/s]\n"
     ]
    },
    {
     "name": "stdout",
     "output_type": "stream",
     "text": [
      "epoch : 14 Loss : 42.52814865112305 \n"
     ]
    },
    {
     "name": "stderr",
     "output_type": "stream",
     "text": [
      "100%|█████████████████████████████████████████| 937/937 [01:49<00:00,  8.58it/s]\n"
     ]
    },
    {
     "name": "stdout",
     "output_type": "stream",
     "text": [
      "epoch : 15 Loss : 47.57037353515625 \n"
     ]
    },
    {
     "name": "stderr",
     "output_type": "stream",
     "text": [
      "100%|█████████████████████████████████████████| 937/937 [01:49<00:00,  8.59it/s]\n"
     ]
    },
    {
     "name": "stdout",
     "output_type": "stream",
     "text": [
      "epoch : 16 Loss : 28.665210723876953 \n",
      "before_loss = 31.8892, loss = 28.6652, saved_epoch = 16\n",
      "model_save\n"
     ]
    },
    {
     "name": "stderr",
     "output_type": "stream",
     "text": [
      "100%|█████████████████████████████████████████| 937/937 [01:48<00:00,  8.67it/s]\n"
     ]
    },
    {
     "name": "stdout",
     "output_type": "stream",
     "text": [
      "epoch : 17 Loss : 30.759838104248047 \n"
     ]
    },
    {
     "name": "stderr",
     "output_type": "stream",
     "text": [
      "100%|█████████████████████████████████████████| 937/937 [01:47<00:00,  8.75it/s]\n"
     ]
    },
    {
     "name": "stdout",
     "output_type": "stream",
     "text": [
      "epoch : 18 Loss : 29.884376525878906 \n"
     ]
    },
    {
     "name": "stderr",
     "output_type": "stream",
     "text": [
      "100%|█████████████████████████████████████████| 937/937 [01:48<00:00,  8.61it/s]\n"
     ]
    },
    {
     "name": "stdout",
     "output_type": "stream",
     "text": [
      "epoch : 19 Loss : 28.588220596313477 \n",
      "before_loss = 28.6652, loss = 28.5882, saved_epoch = 19\n",
      "model_save\n"
     ]
    },
    {
     "name": "stderr",
     "output_type": "stream",
     "text": [
      "100%|█████████████████████████████████████████| 937/937 [01:45<00:00,  8.86it/s]\n"
     ]
    },
    {
     "name": "stdout",
     "output_type": "stream",
     "text": [
      "epoch : 20 Loss : 29.80550193786621 \n"
     ]
    },
    {
     "name": "stderr",
     "output_type": "stream",
     "text": [
      "100%|█████████████████████████████████████████| 937/937 [01:42<00:00,  9.13it/s]\n"
     ]
    },
    {
     "name": "stdout",
     "output_type": "stream",
     "text": [
      "epoch : 21 Loss : 40.0292854309082 \n"
     ]
    },
    {
     "name": "stderr",
     "output_type": "stream",
     "text": [
      "100%|█████████████████████████████████████████| 937/937 [01:46<00:00,  8.76it/s]\n"
     ]
    },
    {
     "name": "stdout",
     "output_type": "stream",
     "text": [
      "epoch : 22 Loss : 45.170387268066406 \n"
     ]
    },
    {
     "name": "stderr",
     "output_type": "stream",
     "text": [
      "100%|█████████████████████████████████████████| 937/937 [01:47<00:00,  8.73it/s]\n"
     ]
    },
    {
     "name": "stdout",
     "output_type": "stream",
     "text": [
      "epoch : 23 Loss : 26.9453182220459 \n",
      "before_loss = 28.5882, loss = 26.9453, saved_epoch = 23\n",
      "model_save\n"
     ]
    },
    {
     "name": "stderr",
     "output_type": "stream",
     "text": [
      "100%|█████████████████████████████████████████| 937/937 [01:47<00:00,  8.69it/s]\n"
     ]
    },
    {
     "name": "stdout",
     "output_type": "stream",
     "text": [
      "epoch : 24 Loss : 26.2386417388916 \n",
      "before_loss = 26.9453, loss = 26.2386, saved_epoch = 24\n",
      "model_save\n"
     ]
    },
    {
     "name": "stderr",
     "output_type": "stream",
     "text": [
      "100%|█████████████████████████████████████████| 937/937 [01:46<00:00,  8.76it/s]\n"
     ]
    },
    {
     "name": "stdout",
     "output_type": "stream",
     "text": [
      "epoch : 25 Loss : 25.602190017700195 \n",
      "before_loss = 26.2386, loss = 25.6022, saved_epoch = 25\n",
      "model_save\n"
     ]
    },
    {
     "name": "stderr",
     "output_type": "stream",
     "text": [
      "100%|█████████████████████████████████████████| 937/937 [01:44<00:00,  8.99it/s]\n"
     ]
    },
    {
     "name": "stdout",
     "output_type": "stream",
     "text": [
      "epoch : 26 Loss : 25.114524841308594 \n",
      "before_loss = 25.6022, loss = 25.1145, saved_epoch = 26\n",
      "model_save\n"
     ]
    },
    {
     "name": "stderr",
     "output_type": "stream",
     "text": [
      "100%|█████████████████████████████████████████| 937/937 [01:46<00:00,  8.76it/s]\n"
     ]
    },
    {
     "name": "stdout",
     "output_type": "stream",
     "text": [
      "epoch : 27 Loss : 35.04175567626953 \n"
     ]
    },
    {
     "name": "stderr",
     "output_type": "stream",
     "text": [
      "100%|█████████████████████████████████████████| 937/937 [01:46<00:00,  8.81it/s]\n"
     ]
    },
    {
     "name": "stdout",
     "output_type": "stream",
     "text": [
      "epoch : 28 Loss : 26.857948303222656 \n"
     ]
    },
    {
     "name": "stderr",
     "output_type": "stream",
     "text": [
      "100%|█████████████████████████████████████████| 937/937 [01:43<00:00,  9.05it/s]\n"
     ]
    },
    {
     "name": "stdout",
     "output_type": "stream",
     "text": [
      "epoch : 29 Loss : 24.47201919555664 \n",
      "before_loss = 25.1145, loss = 24.4720, saved_epoch = 29\n",
      "model_save\n"
     ]
    },
    {
     "name": "stderr",
     "output_type": "stream",
     "text": [
      "100%|█████████████████████████████████████████| 937/937 [01:44<00:00,  9.01it/s]\n"
     ]
    },
    {
     "name": "stdout",
     "output_type": "stream",
     "text": [
      "epoch : 30 Loss : 25.162363052368164 \n"
     ]
    },
    {
     "name": "stderr",
     "output_type": "stream",
     "text": [
      "100%|█████████████████████████████████████████| 937/937 [01:43<00:00,  9.06it/s]\n"
     ]
    },
    {
     "name": "stdout",
     "output_type": "stream",
     "text": [
      "epoch : 31 Loss : 23.386381149291992 \n",
      "before_loss = 24.4720, loss = 23.3864, saved_epoch = 31\n",
      "model_save\n"
     ]
    },
    {
     "name": "stderr",
     "output_type": "stream",
     "text": [
      "100%|█████████████████████████████████████████| 937/937 [01:46<00:00,  8.77it/s]\n"
     ]
    },
    {
     "name": "stdout",
     "output_type": "stream",
     "text": [
      "epoch : 32 Loss : 24.14159393310547 \n"
     ]
    },
    {
     "name": "stderr",
     "output_type": "stream",
     "text": [
      "100%|█████████████████████████████████████████| 937/937 [01:46<00:00,  8.77it/s]\n"
     ]
    },
    {
     "name": "stdout",
     "output_type": "stream",
     "text": [
      "epoch : 33 Loss : 24.312541961669922 \n"
     ]
    },
    {
     "name": "stderr",
     "output_type": "stream",
     "text": [
      "100%|█████████████████████████████████████████| 937/937 [01:46<00:00,  8.79it/s]\n"
     ]
    },
    {
     "name": "stdout",
     "output_type": "stream",
     "text": [
      "epoch : 34 Loss : 24.283397674560547 \n"
     ]
    },
    {
     "name": "stderr",
     "output_type": "stream",
     "text": [
      "100%|█████████████████████████████████████████| 937/937 [01:45<00:00,  8.87it/s]\n"
     ]
    },
    {
     "name": "stdout",
     "output_type": "stream",
     "text": [
      "epoch : 35 Loss : 23.685443878173828 \n"
     ]
    },
    {
     "name": "stderr",
     "output_type": "stream",
     "text": [
      "100%|█████████████████████████████████████████| 937/937 [01:49<00:00,  8.58it/s]\n"
     ]
    },
    {
     "name": "stdout",
     "output_type": "stream",
     "text": [
      "epoch : 36 Loss : 28.977304458618164 \n"
     ]
    },
    {
     "name": "stderr",
     "output_type": "stream",
     "text": [
      "100%|█████████████████████████████████████████| 937/937 [01:48<00:00,  8.61it/s]\n"
     ]
    },
    {
     "name": "stdout",
     "output_type": "stream",
     "text": [
      "epoch : 37 Loss : 27.840938568115234 \n"
     ]
    },
    {
     "name": "stderr",
     "output_type": "stream",
     "text": [
      "100%|█████████████████████████████████████████| 937/937 [01:42<00:00,  9.10it/s]\n"
     ]
    },
    {
     "name": "stdout",
     "output_type": "stream",
     "text": [
      "epoch : 38 Loss : 24.652572631835938 \n"
     ]
    },
    {
     "name": "stderr",
     "output_type": "stream",
     "text": [
      "100%|█████████████████████████████████████████| 937/937 [01:47<00:00,  8.70it/s]\n"
     ]
    },
    {
     "name": "stdout",
     "output_type": "stream",
     "text": [
      "epoch : 39 Loss : 22.113754272460938 \n",
      "before_loss = 23.3864, loss = 22.1138, saved_epoch = 39\n",
      "model_save\n"
     ]
    },
    {
     "name": "stderr",
     "output_type": "stream",
     "text": [
      "100%|█████████████████████████████████████████| 937/937 [01:46<00:00,  8.80it/s]\n"
     ]
    },
    {
     "name": "stdout",
     "output_type": "stream",
     "text": [
      "epoch : 40 Loss : 22.214033126831055 \n"
     ]
    },
    {
     "name": "stderr",
     "output_type": "stream",
     "text": [
      "100%|█████████████████████████████████████████| 937/937 [01:46<00:00,  8.83it/s]\n"
     ]
    },
    {
     "name": "stdout",
     "output_type": "stream",
     "text": [
      "epoch : 41 Loss : 23.266815185546875 \n"
     ]
    },
    {
     "name": "stderr",
     "output_type": "stream",
     "text": [
      "100%|█████████████████████████████████████████| 937/937 [01:45<00:00,  8.85it/s]\n"
     ]
    },
    {
     "name": "stdout",
     "output_type": "stream",
     "text": [
      "epoch : 42 Loss : 21.753040313720703 \n",
      "before_loss = 22.1138, loss = 21.7530, saved_epoch = 42\n",
      "model_save\n"
     ]
    },
    {
     "name": "stderr",
     "output_type": "stream",
     "text": [
      "100%|█████████████████████████████████████████| 937/937 [01:46<00:00,  8.83it/s]\n"
     ]
    },
    {
     "name": "stdout",
     "output_type": "stream",
     "text": [
      "epoch : 43 Loss : 22.318288803100586 \n"
     ]
    },
    {
     "name": "stderr",
     "output_type": "stream",
     "text": [
      "100%|█████████████████████████████████████████| 937/937 [01:45<00:00,  8.85it/s]\n"
     ]
    },
    {
     "name": "stdout",
     "output_type": "stream",
     "text": [
      "epoch : 44 Loss : 45.198692321777344 \n"
     ]
    },
    {
     "name": "stderr",
     "output_type": "stream",
     "text": [
      "100%|█████████████████████████████████████████| 937/937 [01:45<00:00,  8.91it/s]\n"
     ]
    },
    {
     "name": "stdout",
     "output_type": "stream",
     "text": [
      "epoch : 45 Loss : 22.733091354370117 \n"
     ]
    },
    {
     "name": "stderr",
     "output_type": "stream",
     "text": [
      "100%|█████████████████████████████████████████| 937/937 [01:45<00:00,  8.86it/s]\n"
     ]
    },
    {
     "name": "stdout",
     "output_type": "stream",
     "text": [
      "epoch : 46 Loss : 21.77787208557129 \n"
     ]
    },
    {
     "name": "stderr",
     "output_type": "stream",
     "text": [
      "100%|█████████████████████████████████████████| 937/937 [01:45<00:00,  8.86it/s]\n"
     ]
    },
    {
     "name": "stdout",
     "output_type": "stream",
     "text": [
      "epoch : 47 Loss : 21.59054183959961 \n",
      "before_loss = 21.7530, loss = 21.5905, saved_epoch = 47\n",
      "model_save\n"
     ]
    },
    {
     "name": "stderr",
     "output_type": "stream",
     "text": [
      "100%|█████████████████████████████████████████| 937/937 [01:45<00:00,  8.89it/s]\n"
     ]
    },
    {
     "name": "stdout",
     "output_type": "stream",
     "text": [
      "epoch : 48 Loss : 21.844247817993164 \n"
     ]
    },
    {
     "name": "stderr",
     "output_type": "stream",
     "text": [
      "100%|█████████████████████████████████████████| 937/937 [01:46<00:00,  8.81it/s]\n"
     ]
    },
    {
     "name": "stdout",
     "output_type": "stream",
     "text": [
      "epoch : 49 Loss : 21.08514404296875 \n",
      "before_loss = 21.5905, loss = 21.0851, saved_epoch = 49\n",
      "model_save\n"
     ]
    },
    {
     "name": "stderr",
     "output_type": "stream",
     "text": [
      "100%|█████████████████████████████████████████| 937/937 [01:47<00:00,  8.73it/s]\n"
     ]
    },
    {
     "name": "stdout",
     "output_type": "stream",
     "text": [
      "epoch : 50 Loss : 20.859464645385742 \n",
      "before_loss = 21.0851, loss = 20.8595, saved_epoch = 50\n",
      "model_save\n"
     ]
    },
    {
     "name": "stderr",
     "output_type": "stream",
     "text": [
      "100%|█████████████████████████████████████████| 937/937 [01:48<00:00,  8.60it/s]\n"
     ]
    },
    {
     "name": "stdout",
     "output_type": "stream",
     "text": [
      "epoch : 51 Loss : 34.02927780151367 \n"
     ]
    },
    {
     "name": "stderr",
     "output_type": "stream",
     "text": [
      "100%|█████████████████████████████████████████| 937/937 [01:48<00:00,  8.60it/s]\n"
     ]
    },
    {
     "name": "stdout",
     "output_type": "stream",
     "text": [
      "epoch : 52 Loss : 21.6550235748291 \n"
     ]
    },
    {
     "name": "stderr",
     "output_type": "stream",
     "text": [
      "100%|█████████████████████████████████████████| 937/937 [01:44<00:00,  8.99it/s]\n"
     ]
    },
    {
     "name": "stdout",
     "output_type": "stream",
     "text": [
      "epoch : 53 Loss : 21.569122314453125 \n"
     ]
    },
    {
     "name": "stderr",
     "output_type": "stream",
     "text": [
      "100%|█████████████████████████████████████████| 937/937 [01:42<00:00,  9.11it/s]\n"
     ]
    },
    {
     "name": "stdout",
     "output_type": "stream",
     "text": [
      "epoch : 54 Loss : 21.4857120513916 \n"
     ]
    },
    {
     "name": "stderr",
     "output_type": "stream",
     "text": [
      "100%|█████████████████████████████████████████| 937/937 [01:47<00:00,  8.68it/s]\n"
     ]
    },
    {
     "name": "stdout",
     "output_type": "stream",
     "text": [
      "epoch : 55 Loss : 21.672468185424805 \n"
     ]
    },
    {
     "name": "stderr",
     "output_type": "stream",
     "text": [
      "100%|█████████████████████████████████████████| 937/937 [01:46<00:00,  8.79it/s]\n"
     ]
    },
    {
     "name": "stdout",
     "output_type": "stream",
     "text": [
      "epoch : 56 Loss : 21.3800106048584 \n"
     ]
    },
    {
     "name": "stderr",
     "output_type": "stream",
     "text": [
      "100%|█████████████████████████████████████████| 937/937 [01:46<00:00,  8.82it/s]\n"
     ]
    },
    {
     "name": "stdout",
     "output_type": "stream",
     "text": [
      "epoch : 57 Loss : 20.733640670776367 \n",
      "before_loss = 20.8595, loss = 20.7336, saved_epoch = 57\n",
      "model_save\n"
     ]
    },
    {
     "name": "stderr",
     "output_type": "stream",
     "text": [
      "100%|█████████████████████████████████████████| 937/937 [01:46<00:00,  8.80it/s]\n"
     ]
    },
    {
     "name": "stdout",
     "output_type": "stream",
     "text": [
      "epoch : 58 Loss : 21.16469383239746 \n"
     ]
    },
    {
     "name": "stderr",
     "output_type": "stream",
     "text": [
      "100%|█████████████████████████████████████████| 937/937 [01:46<00:00,  8.77it/s]\n"
     ]
    },
    {
     "name": "stdout",
     "output_type": "stream",
     "text": [
      "epoch : 59 Loss : 20.4544677734375 \n",
      "before_loss = 20.7336, loss = 20.4545, saved_epoch = 59\n",
      "model_save\n"
     ]
    },
    {
     "name": "stderr",
     "output_type": "stream",
     "text": [
      "100%|█████████████████████████████████████████| 937/937 [01:47<00:00,  8.68it/s]\n"
     ]
    },
    {
     "name": "stdout",
     "output_type": "stream",
     "text": [
      "epoch : 60 Loss : 30.468833923339844 \n"
     ]
    },
    {
     "name": "stderr",
     "output_type": "stream",
     "text": [
      "100%|█████████████████████████████████████████| 937/937 [01:47<00:00,  8.69it/s]\n"
     ]
    },
    {
     "name": "stdout",
     "output_type": "stream",
     "text": [
      "epoch : 61 Loss : 21.910125732421875 \n"
     ]
    },
    {
     "name": "stderr",
     "output_type": "stream",
     "text": [
      "100%|█████████████████████████████████████████| 937/937 [01:49<00:00,  8.53it/s]\n"
     ]
    },
    {
     "name": "stdout",
     "output_type": "stream",
     "text": [
      "epoch : 62 Loss : 20.683446884155273 \n"
     ]
    },
    {
     "name": "stderr",
     "output_type": "stream",
     "text": [
      "100%|█████████████████████████████████████████| 937/937 [01:49<00:00,  8.59it/s]\n"
     ]
    },
    {
     "name": "stdout",
     "output_type": "stream",
     "text": [
      "epoch : 63 Loss : 20.88414764404297 \n"
     ]
    },
    {
     "name": "stderr",
     "output_type": "stream",
     "text": [
      "100%|█████████████████████████████████████████| 937/937 [01:50<00:00,  8.51it/s]\n"
     ]
    },
    {
     "name": "stdout",
     "output_type": "stream",
     "text": [
      "epoch : 64 Loss : 21.28934669494629 \n"
     ]
    },
    {
     "name": "stderr",
     "output_type": "stream",
     "text": [
      "100%|█████████████████████████████████████████| 937/937 [01:44<00:00,  8.97it/s]\n"
     ]
    },
    {
     "name": "stdout",
     "output_type": "stream",
     "text": [
      "epoch : 65 Loss : 20.553691864013672 \n"
     ]
    },
    {
     "name": "stderr",
     "output_type": "stream",
     "text": [
      "100%|█████████████████████████████████████████| 937/937 [01:43<00:00,  9.07it/s]\n"
     ]
    },
    {
     "name": "stdout",
     "output_type": "stream",
     "text": [
      "epoch : 66 Loss : 20.145313262939453 \n",
      "before_loss = 20.4545, loss = 20.1453, saved_epoch = 66\n",
      "model_save\n"
     ]
    },
    {
     "name": "stderr",
     "output_type": "stream",
     "text": [
      "100%|█████████████████████████████████████████| 937/937 [01:42<00:00,  9.14it/s]\n"
     ]
    },
    {
     "name": "stdout",
     "output_type": "stream",
     "text": [
      "epoch : 67 Loss : 19.910602569580078 \n",
      "before_loss = 20.1453, loss = 19.9106, saved_epoch = 67\n",
      "model_save\n"
     ]
    },
    {
     "name": "stderr",
     "output_type": "stream",
     "text": [
      "100%|█████████████████████████████████████████| 937/937 [01:41<00:00,  9.23it/s]\n"
     ]
    },
    {
     "name": "stdout",
     "output_type": "stream",
     "text": [
      "epoch : 68 Loss : 32.262413024902344 \n"
     ]
    },
    {
     "name": "stderr",
     "output_type": "stream",
     "text": [
      "100%|█████████████████████████████████████████| 937/937 [01:41<00:00,  9.21it/s]\n"
     ]
    },
    {
     "name": "stdout",
     "output_type": "stream",
     "text": [
      "epoch : 69 Loss : 19.1771240234375 \n",
      "before_loss = 19.9106, loss = 19.1771, saved_epoch = 69\n",
      "model_save\n"
     ]
    },
    {
     "name": "stderr",
     "output_type": "stream",
     "text": [
      "100%|█████████████████████████████████████████| 937/937 [01:42<00:00,  9.16it/s]\n"
     ]
    },
    {
     "name": "stdout",
     "output_type": "stream",
     "text": [
      "epoch : 70 Loss : 20.617887496948242 \n"
     ]
    },
    {
     "name": "stderr",
     "output_type": "stream",
     "text": [
      "100%|█████████████████████████████████████████| 937/937 [01:43<00:00,  9.03it/s]\n"
     ]
    },
    {
     "name": "stdout",
     "output_type": "stream",
     "text": [
      "epoch : 71 Loss : 20.108806610107422 \n"
     ]
    },
    {
     "name": "stderr",
     "output_type": "stream",
     "text": [
      "100%|█████████████████████████████████████████| 937/937 [01:43<00:00,  9.07it/s]\n"
     ]
    },
    {
     "name": "stdout",
     "output_type": "stream",
     "text": [
      "epoch : 72 Loss : 18.869646072387695 \n",
      "before_loss = 19.1771, loss = 18.8696, saved_epoch = 72\n",
      "model_save\n"
     ]
    },
    {
     "name": "stderr",
     "output_type": "stream",
     "text": [
      "100%|█████████████████████████████████████████| 937/937 [01:44<00:00,  8.98it/s]\n"
     ]
    },
    {
     "name": "stdout",
     "output_type": "stream",
     "text": [
      "epoch : 73 Loss : 20.870779037475586 \n"
     ]
    },
    {
     "name": "stderr",
     "output_type": "stream",
     "text": [
      "100%|█████████████████████████████████████████| 937/937 [01:42<00:00,  9.16it/s]\n"
     ]
    },
    {
     "name": "stdout",
     "output_type": "stream",
     "text": [
      "epoch : 74 Loss : 19.34052085876465 \n"
     ]
    },
    {
     "name": "stderr",
     "output_type": "stream",
     "text": [
      "100%|█████████████████████████████████████████| 937/937 [01:42<00:00,  9.18it/s]\n"
     ]
    },
    {
     "name": "stdout",
     "output_type": "stream",
     "text": [
      "epoch : 75 Loss : 19.807390213012695 \n"
     ]
    },
    {
     "name": "stderr",
     "output_type": "stream",
     "text": [
      "100%|█████████████████████████████████████████| 937/937 [01:42<00:00,  9.18it/s]\n"
     ]
    },
    {
     "name": "stdout",
     "output_type": "stream",
     "text": [
      "epoch : 76 Loss : 19.802536010742188 \n"
     ]
    },
    {
     "name": "stderr",
     "output_type": "stream",
     "text": [
      "100%|█████████████████████████████████████████| 937/937 [01:41<00:00,  9.24it/s]\n"
     ]
    },
    {
     "name": "stdout",
     "output_type": "stream",
     "text": [
      "epoch : 77 Loss : 20.75693702697754 \n"
     ]
    },
    {
     "name": "stderr",
     "output_type": "stream",
     "text": [
      "100%|█████████████████████████████████████████| 937/937 [01:41<00:00,  9.19it/s]\n"
     ]
    },
    {
     "name": "stdout",
     "output_type": "stream",
     "text": [
      "epoch : 78 Loss : 19.573307037353516 \n"
     ]
    },
    {
     "name": "stderr",
     "output_type": "stream",
     "text": [
      "100%|█████████████████████████████████████████| 937/937 [01:42<00:00,  9.17it/s]\n"
     ]
    },
    {
     "name": "stdout",
     "output_type": "stream",
     "text": [
      "epoch : 79 Loss : 19.443628311157227 \n"
     ]
    },
    {
     "name": "stderr",
     "output_type": "stream",
     "text": [
      "100%|█████████████████████████████████████████| 937/937 [01:41<00:00,  9.24it/s]\n"
     ]
    },
    {
     "name": "stdout",
     "output_type": "stream",
     "text": [
      "epoch : 80 Loss : 19.643348693847656 \n"
     ]
    },
    {
     "name": "stderr",
     "output_type": "stream",
     "text": [
      "100%|█████████████████████████████████████████| 937/937 [01:41<00:00,  9.24it/s]\n"
     ]
    },
    {
     "name": "stdout",
     "output_type": "stream",
     "text": [
      "epoch : 81 Loss : 19.175586700439453 \n"
     ]
    },
    {
     "name": "stderr",
     "output_type": "stream",
     "text": [
      "100%|█████████████████████████████████████████| 937/937 [01:42<00:00,  9.17it/s]\n"
     ]
    },
    {
     "name": "stdout",
     "output_type": "stream",
     "text": [
      "epoch : 82 Loss : 18.976011276245117 \n"
     ]
    },
    {
     "name": "stderr",
     "output_type": "stream",
     "text": [
      "100%|█████████████████████████████████████████| 937/937 [01:41<00:00,  9.22it/s]\n"
     ]
    },
    {
     "name": "stdout",
     "output_type": "stream",
     "text": [
      "epoch : 83 Loss : 20.566558837890625 \n"
     ]
    },
    {
     "name": "stderr",
     "output_type": "stream",
     "text": [
      "100%|█████████████████████████████████████████| 937/937 [01:41<00:00,  9.21it/s]\n"
     ]
    },
    {
     "name": "stdout",
     "output_type": "stream",
     "text": [
      "epoch : 84 Loss : 19.655452728271484 \n"
     ]
    },
    {
     "name": "stderr",
     "output_type": "stream",
     "text": [
      "100%|█████████████████████████████████████████| 937/937 [01:42<00:00,  9.18it/s]\n"
     ]
    },
    {
     "name": "stdout",
     "output_type": "stream",
     "text": [
      "epoch : 85 Loss : 52.44232940673828 \n"
     ]
    },
    {
     "name": "stderr",
     "output_type": "stream",
     "text": [
      "100%|█████████████████████████████████████████| 937/937 [01:41<00:00,  9.25it/s]\n"
     ]
    },
    {
     "name": "stdout",
     "output_type": "stream",
     "text": [
      "epoch : 86 Loss : 25.1998291015625 \n"
     ]
    },
    {
     "name": "stderr",
     "output_type": "stream",
     "text": [
      "100%|█████████████████████████████████████████| 937/937 [01:42<00:00,  9.17it/s]\n"
     ]
    },
    {
     "name": "stdout",
     "output_type": "stream",
     "text": [
      "epoch : 87 Loss : 20.509811401367188 \n"
     ]
    },
    {
     "name": "stderr",
     "output_type": "stream",
     "text": [
      "100%|█████████████████████████████████████████| 937/937 [01:41<00:00,  9.20it/s]\n"
     ]
    },
    {
     "name": "stdout",
     "output_type": "stream",
     "text": [
      "epoch : 88 Loss : 20.83037757873535 \n"
     ]
    },
    {
     "name": "stderr",
     "output_type": "stream",
     "text": [
      "100%|█████████████████████████████████████████| 937/937 [01:42<00:00,  9.16it/s]\n"
     ]
    },
    {
     "name": "stdout",
     "output_type": "stream",
     "text": [
      "epoch : 89 Loss : 19.928510665893555 \n"
     ]
    },
    {
     "name": "stderr",
     "output_type": "stream",
     "text": [
      "100%|█████████████████████████████████████████| 937/937 [01:42<00:00,  9.17it/s]\n"
     ]
    },
    {
     "name": "stdout",
     "output_type": "stream",
     "text": [
      "epoch : 90 Loss : 18.859634399414062 \n",
      "before_loss = 18.8696, loss = 18.8596, saved_epoch = 90\n",
      "model_save\n"
     ]
    },
    {
     "name": "stderr",
     "output_type": "stream",
     "text": [
      "100%|█████████████████████████████████████████| 937/937 [01:41<00:00,  9.20it/s]\n"
     ]
    },
    {
     "name": "stdout",
     "output_type": "stream",
     "text": [
      "epoch : 91 Loss : 20.435134887695312 \n"
     ]
    },
    {
     "name": "stderr",
     "output_type": "stream",
     "text": [
      "100%|█████████████████████████████████████████| 937/937 [01:41<00:00,  9.24it/s]\n"
     ]
    },
    {
     "name": "stdout",
     "output_type": "stream",
     "text": [
      "epoch : 92 Loss : 18.986263275146484 \n"
     ]
    },
    {
     "name": "stderr",
     "output_type": "stream",
     "text": [
      "100%|█████████████████████████████████████████| 937/937 [01:41<00:00,  9.20it/s]\n"
     ]
    },
    {
     "name": "stdout",
     "output_type": "stream",
     "text": [
      "epoch : 93 Loss : 19.038545608520508 \n"
     ]
    },
    {
     "name": "stderr",
     "output_type": "stream",
     "text": [
      "100%|█████████████████████████████████████████| 937/937 [01:40<00:00,  9.28it/s]\n"
     ]
    },
    {
     "name": "stdout",
     "output_type": "stream",
     "text": [
      "epoch : 94 Loss : 19.62745475769043 \n"
     ]
    },
    {
     "name": "stderr",
     "output_type": "stream",
     "text": [
      "100%|█████████████████████████████████████████| 937/937 [01:43<00:00,  9.05it/s]\n"
     ]
    },
    {
     "name": "stdout",
     "output_type": "stream",
     "text": [
      "epoch : 95 Loss : 29.64150047302246 \n"
     ]
    },
    {
     "name": "stderr",
     "output_type": "stream",
     "text": [
      "100%|█████████████████████████████████████████| 937/937 [01:42<00:00,  9.13it/s]\n"
     ]
    },
    {
     "name": "stdout",
     "output_type": "stream",
     "text": [
      "epoch : 96 Loss : 19.500469207763672 \n"
     ]
    },
    {
     "name": "stderr",
     "output_type": "stream",
     "text": [
      "100%|█████████████████████████████████████████| 937/937 [01:43<00:00,  9.04it/s]\n"
     ]
    },
    {
     "name": "stdout",
     "output_type": "stream",
     "text": [
      "epoch : 97 Loss : 19.37566566467285 \n"
     ]
    },
    {
     "name": "stderr",
     "output_type": "stream",
     "text": [
      "100%|█████████████████████████████████████████| 937/937 [01:41<00:00,  9.21it/s]\n"
     ]
    },
    {
     "name": "stdout",
     "output_type": "stream",
     "text": [
      "epoch : 98 Loss : 19.278427124023438 \n"
     ]
    },
    {
     "name": "stderr",
     "output_type": "stream",
     "text": [
      "100%|█████████████████████████████████████████| 937/937 [01:42<00:00,  9.14it/s]\n"
     ]
    },
    {
     "name": "stdout",
     "output_type": "stream",
     "text": [
      "epoch : 99 Loss : 19.751544952392578 \n"
     ]
    },
    {
     "name": "stderr",
     "output_type": "stream",
     "text": [
      "100%|█████████████████████████████████████████| 937/937 [01:42<00:00,  9.11it/s]\n"
     ]
    },
    {
     "name": "stdout",
     "output_type": "stream",
     "text": [
      "epoch : 100 Loss : 20.055686950683594 \n"
     ]
    },
    {
     "name": "stderr",
     "output_type": "stream",
     "text": [
      "100%|█████████████████████████████████████████| 937/937 [01:42<00:00,  9.17it/s]\n"
     ]
    },
    {
     "name": "stdout",
     "output_type": "stream",
     "text": [
      "epoch : 101 Loss : 18.74850845336914 \n",
      "before_loss = 18.8596, loss = 18.7485, saved_epoch = 101\n",
      "model_save\n"
     ]
    },
    {
     "name": "stderr",
     "output_type": "stream",
     "text": [
      "100%|█████████████████████████████████████████| 937/937 [01:42<00:00,  9.14it/s]\n"
     ]
    },
    {
     "name": "stdout",
     "output_type": "stream",
     "text": [
      "epoch : 102 Loss : 18.819068908691406 \n"
     ]
    },
    {
     "name": "stderr",
     "output_type": "stream",
     "text": [
      "100%|█████████████████████████████████████████| 937/937 [01:41<00:00,  9.22it/s]\n"
     ]
    },
    {
     "name": "stdout",
     "output_type": "stream",
     "text": [
      "epoch : 103 Loss : 19.293004989624023 \n"
     ]
    },
    {
     "name": "stderr",
     "output_type": "stream",
     "text": [
      "100%|█████████████████████████████████████████| 937/937 [01:42<00:00,  9.15it/s]\n"
     ]
    },
    {
     "name": "stdout",
     "output_type": "stream",
     "text": [
      "epoch : 104 Loss : 29.15974998474121 \n"
     ]
    },
    {
     "name": "stderr",
     "output_type": "stream",
     "text": [
      "100%|█████████████████████████████████████████| 937/937 [01:43<00:00,  9.02it/s]\n"
     ]
    },
    {
     "name": "stdout",
     "output_type": "stream",
     "text": [
      "epoch : 105 Loss : 19.793012619018555 \n"
     ]
    },
    {
     "name": "stderr",
     "output_type": "stream",
     "text": [
      "100%|█████████████████████████████████████████| 937/937 [01:42<00:00,  9.16it/s]\n"
     ]
    },
    {
     "name": "stdout",
     "output_type": "stream",
     "text": [
      "epoch : 106 Loss : 19.715599060058594 \n"
     ]
    },
    {
     "name": "stderr",
     "output_type": "stream",
     "text": [
      "100%|█████████████████████████████████████████| 937/937 [01:42<00:00,  9.14it/s]\n"
     ]
    },
    {
     "name": "stdout",
     "output_type": "stream",
     "text": [
      "epoch : 107 Loss : 19.229393005371094 \n"
     ]
    },
    {
     "name": "stderr",
     "output_type": "stream",
     "text": [
      "100%|█████████████████████████████████████████| 937/937 [01:42<00:00,  9.18it/s]\n"
     ]
    },
    {
     "name": "stdout",
     "output_type": "stream",
     "text": [
      "epoch : 108 Loss : 19.146137237548828 \n"
     ]
    },
    {
     "name": "stderr",
     "output_type": "stream",
     "text": [
      "100%|█████████████████████████████████████████| 937/937 [01:42<00:00,  9.18it/s]\n"
     ]
    },
    {
     "name": "stdout",
     "output_type": "stream",
     "text": [
      "epoch : 109 Loss : 20.126680374145508 \n"
     ]
    },
    {
     "name": "stderr",
     "output_type": "stream",
     "text": [
      "100%|█████████████████████████████████████████| 937/937 [01:42<00:00,  9.13it/s]\n"
     ]
    },
    {
     "name": "stdout",
     "output_type": "stream",
     "text": [
      "epoch : 110 Loss : 19.327016830444336 \n"
     ]
    },
    {
     "name": "stderr",
     "output_type": "stream",
     "text": [
      "100%|█████████████████████████████████████████| 937/937 [01:41<00:00,  9.22it/s]\n"
     ]
    },
    {
     "name": "stdout",
     "output_type": "stream",
     "text": [
      "epoch : 111 Loss : 18.988264083862305 \n"
     ]
    },
    {
     "name": "stderr",
     "output_type": "stream",
     "text": [
      "100%|█████████████████████████████████████████| 937/937 [01:42<00:00,  9.18it/s]\n"
     ]
    },
    {
     "name": "stdout",
     "output_type": "stream",
     "text": [
      "epoch : 112 Loss : 23.08840560913086 \n"
     ]
    },
    {
     "name": "stderr",
     "output_type": "stream",
     "text": [
      "100%|█████████████████████████████████████████| 937/937 [01:41<00:00,  9.21it/s]\n"
     ]
    },
    {
     "name": "stdout",
     "output_type": "stream",
     "text": [
      "epoch : 113 Loss : 18.206445693969727 \n",
      "before_loss = 18.7485, loss = 18.2064, saved_epoch = 113\n",
      "model_save\n"
     ]
    },
    {
     "name": "stderr",
     "output_type": "stream",
     "text": [
      "100%|█████████████████████████████████████████| 937/937 [01:47<00:00,  8.71it/s]\n"
     ]
    },
    {
     "name": "stdout",
     "output_type": "stream",
     "text": [
      "epoch : 114 Loss : 18.95791244506836 \n"
     ]
    },
    {
     "name": "stderr",
     "output_type": "stream",
     "text": [
      "100%|█████████████████████████████████████████| 937/937 [01:48<00:00,  8.64it/s]\n"
     ]
    },
    {
     "name": "stdout",
     "output_type": "stream",
     "text": [
      "epoch : 115 Loss : 19.271728515625 \n"
     ]
    },
    {
     "name": "stderr",
     "output_type": "stream",
     "text": [
      "100%|█████████████████████████████████████████| 937/937 [01:43<00:00,  9.04it/s]\n"
     ]
    },
    {
     "name": "stdout",
     "output_type": "stream",
     "text": [
      "epoch : 116 Loss : 18.516130447387695 \n"
     ]
    },
    {
     "name": "stderr",
     "output_type": "stream",
     "text": [
      "100%|█████████████████████████████████████████| 937/937 [01:44<00:00,  8.97it/s]\n"
     ]
    },
    {
     "name": "stdout",
     "output_type": "stream",
     "text": [
      "epoch : 117 Loss : 29.521764755249023 \n"
     ]
    },
    {
     "name": "stderr",
     "output_type": "stream",
     "text": [
      "100%|█████████████████████████████████████████| 937/937 [01:42<00:00,  9.12it/s]\n"
     ]
    },
    {
     "name": "stdout",
     "output_type": "stream",
     "text": [
      "epoch : 118 Loss : 19.410322189331055 \n"
     ]
    },
    {
     "name": "stderr",
     "output_type": "stream",
     "text": [
      "100%|█████████████████████████████████████████| 937/937 [01:41<00:00,  9.19it/s]\n"
     ]
    },
    {
     "name": "stdout",
     "output_type": "stream",
     "text": [
      "epoch : 119 Loss : 19.113384246826172 \n"
     ]
    },
    {
     "name": "stderr",
     "output_type": "stream",
     "text": [
      "100%|█████████████████████████████████████████| 937/937 [01:41<00:00,  9.23it/s]\n"
     ]
    },
    {
     "name": "stdout",
     "output_type": "stream",
     "text": [
      "epoch : 120 Loss : 18.941360473632812 \n"
     ]
    },
    {
     "name": "stderr",
     "output_type": "stream",
     "text": [
      "100%|█████████████████████████████████████████| 937/937 [01:42<00:00,  9.15it/s]\n"
     ]
    },
    {
     "name": "stdout",
     "output_type": "stream",
     "text": [
      "epoch : 121 Loss : 20.479368209838867 \n"
     ]
    },
    {
     "name": "stderr",
     "output_type": "stream",
     "text": [
      "100%|█████████████████████████████████████████| 937/937 [01:41<00:00,  9.23it/s]\n"
     ]
    },
    {
     "name": "stdout",
     "output_type": "stream",
     "text": [
      "epoch : 122 Loss : 18.81820297241211 \n"
     ]
    },
    {
     "name": "stderr",
     "output_type": "stream",
     "text": [
      "100%|█████████████████████████████████████████| 937/937 [01:41<00:00,  9.23it/s]\n"
     ]
    },
    {
     "name": "stdout",
     "output_type": "stream",
     "text": [
      "epoch : 123 Loss : 18.26188087463379 \n"
     ]
    },
    {
     "name": "stderr",
     "output_type": "stream",
     "text": [
      "100%|█████████████████████████████████████████| 937/937 [01:42<00:00,  9.15it/s]\n"
     ]
    },
    {
     "name": "stdout",
     "output_type": "stream",
     "text": [
      "epoch : 124 Loss : 18.82113265991211 \n"
     ]
    },
    {
     "name": "stderr",
     "output_type": "stream",
     "text": [
      "100%|█████████████████████████████████████████| 937/937 [01:41<00:00,  9.20it/s]\n"
     ]
    },
    {
     "name": "stdout",
     "output_type": "stream",
     "text": [
      "epoch : 125 Loss : 18.736669540405273 \n"
     ]
    },
    {
     "name": "stderr",
     "output_type": "stream",
     "text": [
      "100%|█████████████████████████████████████████| 937/937 [01:41<00:00,  9.21it/s]\n"
     ]
    },
    {
     "name": "stdout",
     "output_type": "stream",
     "text": [
      "epoch : 126 Loss : 18.334980010986328 \n"
     ]
    },
    {
     "name": "stderr",
     "output_type": "stream",
     "text": [
      "100%|█████████████████████████████████████████| 937/937 [01:41<00:00,  9.25it/s]\n"
     ]
    },
    {
     "name": "stdout",
     "output_type": "stream",
     "text": [
      "epoch : 127 Loss : 38.80116653442383 \n"
     ]
    },
    {
     "name": "stderr",
     "output_type": "stream",
     "text": [
      "100%|█████████████████████████████████████████| 937/937 [01:41<00:00,  9.21it/s]\n"
     ]
    },
    {
     "name": "stdout",
     "output_type": "stream",
     "text": [
      "epoch : 128 Loss : 18.513092041015625 \n"
     ]
    },
    {
     "name": "stderr",
     "output_type": "stream",
     "text": [
      "100%|█████████████████████████████████████████| 937/937 [01:41<00:00,  9.28it/s]\n"
     ]
    },
    {
     "name": "stdout",
     "output_type": "stream",
     "text": [
      "epoch : 129 Loss : 17.616657257080078 \n",
      "before_loss = 18.2064, loss = 17.6167, saved_epoch = 129\n",
      "model_save\n"
     ]
    },
    {
     "name": "stderr",
     "output_type": "stream",
     "text": [
      "100%|█████████████████████████████████████████| 937/937 [01:42<00:00,  9.13it/s]\n"
     ]
    },
    {
     "name": "stdout",
     "output_type": "stream",
     "text": [
      "epoch : 130 Loss : 18.258953094482422 \n"
     ]
    },
    {
     "name": "stderr",
     "output_type": "stream",
     "text": [
      "100%|█████████████████████████████████████████| 937/937 [01:41<00:00,  9.21it/s]\n"
     ]
    },
    {
     "name": "stdout",
     "output_type": "stream",
     "text": [
      "epoch : 131 Loss : 18.671945571899414 \n"
     ]
    },
    {
     "name": "stderr",
     "output_type": "stream",
     "text": [
      "100%|█████████████████████████████████████████| 937/937 [01:41<00:00,  9.26it/s]\n"
     ]
    },
    {
     "name": "stdout",
     "output_type": "stream",
     "text": [
      "epoch : 132 Loss : 18.135719299316406 \n"
     ]
    },
    {
     "name": "stderr",
     "output_type": "stream",
     "text": [
      "100%|█████████████████████████████████████████| 937/937 [01:41<00:00,  9.19it/s]\n"
     ]
    },
    {
     "name": "stdout",
     "output_type": "stream",
     "text": [
      "epoch : 133 Loss : 18.870193481445312 \n"
     ]
    },
    {
     "name": "stderr",
     "output_type": "stream",
     "text": [
      "100%|█████████████████████████████████████████| 937/937 [01:41<00:00,  9.26it/s]\n"
     ]
    },
    {
     "name": "stdout",
     "output_type": "stream",
     "text": [
      "epoch : 134 Loss : 17.627029418945312 \n"
     ]
    },
    {
     "name": "stderr",
     "output_type": "stream",
     "text": [
      "100%|█████████████████████████████████████████| 937/937 [01:42<00:00,  9.18it/s]\n"
     ]
    },
    {
     "name": "stdout",
     "output_type": "stream",
     "text": [
      "epoch : 135 Loss : 18.382173538208008 \n"
     ]
    },
    {
     "name": "stderr",
     "output_type": "stream",
     "text": [
      "100%|█████████████████████████████████████████| 937/937 [01:41<00:00,  9.20it/s]\n"
     ]
    },
    {
     "name": "stdout",
     "output_type": "stream",
     "text": [
      "epoch : 136 Loss : 18.346519470214844 \n"
     ]
    },
    {
     "name": "stderr",
     "output_type": "stream",
     "text": [
      "100%|█████████████████████████████████████████| 937/937 [01:41<00:00,  9.21it/s]\n"
     ]
    },
    {
     "name": "stdout",
     "output_type": "stream",
     "text": [
      "epoch : 137 Loss : 18.262897491455078 \n"
     ]
    },
    {
     "name": "stderr",
     "output_type": "stream",
     "text": [
      "100%|█████████████████████████████████████████| 937/937 [01:41<00:00,  9.23it/s]\n"
     ]
    },
    {
     "name": "stdout",
     "output_type": "stream",
     "text": [
      "epoch : 138 Loss : 18.121810913085938 \n"
     ]
    },
    {
     "name": "stderr",
     "output_type": "stream",
     "text": [
      "100%|█████████████████████████████████████████| 937/937 [01:41<00:00,  9.22it/s]\n"
     ]
    },
    {
     "name": "stdout",
     "output_type": "stream",
     "text": [
      "epoch : 139 Loss : 17.640575408935547 \n"
     ]
    },
    {
     "name": "stderr",
     "output_type": "stream",
     "text": [
      "100%|█████████████████████████████████████████| 937/937 [01:41<00:00,  9.21it/s]\n"
     ]
    },
    {
     "name": "stdout",
     "output_type": "stream",
     "text": [
      "epoch : 140 Loss : 18.58066749572754 \n"
     ]
    },
    {
     "name": "stderr",
     "output_type": "stream",
     "text": [
      "100%|█████████████████████████████████████████| 937/937 [01:41<00:00,  9.24it/s]\n"
     ]
    },
    {
     "name": "stdout",
     "output_type": "stream",
     "text": [
      "epoch : 141 Loss : 18.66260528564453 \n"
     ]
    },
    {
     "name": "stderr",
     "output_type": "stream",
     "text": [
      "100%|█████████████████████████████████████████| 937/937 [01:41<00:00,  9.27it/s]\n"
     ]
    },
    {
     "name": "stdout",
     "output_type": "stream",
     "text": [
      "epoch : 142 Loss : 18.547605514526367 \n"
     ]
    },
    {
     "name": "stderr",
     "output_type": "stream",
     "text": [
      "100%|█████████████████████████████████████████| 937/937 [01:42<00:00,  9.18it/s]\n"
     ]
    },
    {
     "name": "stdout",
     "output_type": "stream",
     "text": [
      "epoch : 143 Loss : 17.44152069091797 \n",
      "before_loss = 17.6167, loss = 17.4415, saved_epoch = 143\n",
      "model_save\n"
     ]
    },
    {
     "name": "stderr",
     "output_type": "stream",
     "text": [
      "100%|█████████████████████████████████████████| 937/937 [01:43<00:00,  9.07it/s]\n"
     ]
    },
    {
     "name": "stdout",
     "output_type": "stream",
     "text": [
      "epoch : 144 Loss : 18.874731063842773 \n"
     ]
    },
    {
     "name": "stderr",
     "output_type": "stream",
     "text": [
      "100%|█████████████████████████████████████████| 937/937 [01:42<00:00,  9.18it/s]\n"
     ]
    },
    {
     "name": "stdout",
     "output_type": "stream",
     "text": [
      "epoch : 145 Loss : 18.780630111694336 \n"
     ]
    },
    {
     "name": "stderr",
     "output_type": "stream",
     "text": [
      "100%|█████████████████████████████████████████| 937/937 [01:42<00:00,  9.15it/s]\n"
     ]
    },
    {
     "name": "stdout",
     "output_type": "stream",
     "text": [
      "epoch : 146 Loss : 18.63235855102539 \n"
     ]
    },
    {
     "name": "stderr",
     "output_type": "stream",
     "text": [
      "100%|█████████████████████████████████████████| 937/937 [01:42<00:00,  9.18it/s]\n"
     ]
    },
    {
     "name": "stdout",
     "output_type": "stream",
     "text": [
      "epoch : 147 Loss : 19.4512939453125 \n"
     ]
    },
    {
     "name": "stderr",
     "output_type": "stream",
     "text": [
      "100%|█████████████████████████████████████████| 937/937 [01:42<00:00,  9.14it/s]\n"
     ]
    },
    {
     "name": "stdout",
     "output_type": "stream",
     "text": [
      "epoch : 148 Loss : 17.696455001831055 \n"
     ]
    },
    {
     "name": "stderr",
     "output_type": "stream",
     "text": [
      "100%|█████████████████████████████████████████| 937/937 [01:41<00:00,  9.19it/s]\n"
     ]
    },
    {
     "name": "stdout",
     "output_type": "stream",
     "text": [
      "epoch : 149 Loss : 18.453269958496094 \n"
     ]
    },
    {
     "name": "stderr",
     "output_type": "stream",
     "text": [
      "100%|█████████████████████████████████████████| 937/937 [01:41<00:00,  9.24it/s]\n"
     ]
    },
    {
     "name": "stdout",
     "output_type": "stream",
     "text": [
      "epoch : 150 Loss : 17.347030639648438 \n",
      "before_loss = 17.4415, loss = 17.3470, saved_epoch = 150\n",
      "model_save\n"
     ]
    },
    {
     "name": "stderr",
     "output_type": "stream",
     "text": [
      "100%|█████████████████████████████████████████| 937/937 [01:41<00:00,  9.26it/s]\n"
     ]
    },
    {
     "name": "stdout",
     "output_type": "stream",
     "text": [
      "epoch : 151 Loss : 18.41736602783203 \n"
     ]
    },
    {
     "name": "stderr",
     "output_type": "stream",
     "text": [
      "100%|█████████████████████████████████████████| 937/937 [01:41<00:00,  9.20it/s]\n"
     ]
    },
    {
     "name": "stdout",
     "output_type": "stream",
     "text": [
      "epoch : 152 Loss : 18.23472023010254 \n"
     ]
    },
    {
     "name": "stderr",
     "output_type": "stream",
     "text": [
      "100%|█████████████████████████████████████████| 937/937 [01:42<00:00,  9.10it/s]\n"
     ]
    },
    {
     "name": "stdout",
     "output_type": "stream",
     "text": [
      "epoch : 153 Loss : 18.158992767333984 \n"
     ]
    },
    {
     "name": "stderr",
     "output_type": "stream",
     "text": [
      "100%|█████████████████████████████████████████| 937/937 [01:41<00:00,  9.21it/s]\n"
     ]
    },
    {
     "name": "stdout",
     "output_type": "stream",
     "text": [
      "epoch : 154 Loss : 28.321002960205078 \n"
     ]
    },
    {
     "name": "stderr",
     "output_type": "stream",
     "text": [
      "100%|█████████████████████████████████████████| 937/937 [01:41<00:00,  9.26it/s]\n"
     ]
    },
    {
     "name": "stdout",
     "output_type": "stream",
     "text": [
      "epoch : 155 Loss : 18.953794479370117 \n"
     ]
    },
    {
     "name": "stderr",
     "output_type": "stream",
     "text": [
      "100%|█████████████████████████████████████████| 937/937 [01:42<00:00,  9.18it/s]\n"
     ]
    },
    {
     "name": "stdout",
     "output_type": "stream",
     "text": [
      "epoch : 156 Loss : 18.194271087646484 \n"
     ]
    },
    {
     "name": "stderr",
     "output_type": "stream",
     "text": [
      "100%|█████████████████████████████████████████| 937/937 [01:42<00:00,  9.18it/s]\n"
     ]
    },
    {
     "name": "stdout",
     "output_type": "stream",
     "text": [
      "epoch : 157 Loss : 17.841333389282227 \n"
     ]
    },
    {
     "name": "stderr",
     "output_type": "stream",
     "text": [
      "100%|█████████████████████████████████████████| 937/937 [01:41<00:00,  9.20it/s]\n"
     ]
    },
    {
     "name": "stdout",
     "output_type": "stream",
     "text": [
      "epoch : 158 Loss : 17.822538375854492 \n"
     ]
    },
    {
     "name": "stderr",
     "output_type": "stream",
     "text": [
      "100%|█████████████████████████████████████████| 937/937 [01:42<00:00,  9.16it/s]\n"
     ]
    },
    {
     "name": "stdout",
     "output_type": "stream",
     "text": [
      "epoch : 159 Loss : 18.474754333496094 \n"
     ]
    },
    {
     "name": "stderr",
     "output_type": "stream",
     "text": [
      "100%|█████████████████████████████████████████| 937/937 [01:42<00:00,  9.17it/s]\n"
     ]
    },
    {
     "name": "stdout",
     "output_type": "stream",
     "text": [
      "epoch : 160 Loss : 17.961191177368164 \n"
     ]
    },
    {
     "name": "stderr",
     "output_type": "stream",
     "text": [
      "100%|█████████████████████████████████████████| 937/937 [01:42<00:00,  9.16it/s]\n"
     ]
    },
    {
     "name": "stdout",
     "output_type": "stream",
     "text": [
      "epoch : 161 Loss : 17.729232788085938 \n"
     ]
    },
    {
     "name": "stderr",
     "output_type": "stream",
     "text": [
      "100%|█████████████████████████████████████████| 937/937 [01:42<00:00,  9.16it/s]\n"
     ]
    },
    {
     "name": "stdout",
     "output_type": "stream",
     "text": [
      "epoch : 162 Loss : 23.944473266601562 \n"
     ]
    },
    {
     "name": "stderr",
     "output_type": "stream",
     "text": [
      "100%|█████████████████████████████████████████| 937/937 [01:41<00:00,  9.22it/s]\n"
     ]
    },
    {
     "name": "stdout",
     "output_type": "stream",
     "text": [
      "epoch : 163 Loss : 17.82406997680664 \n"
     ]
    },
    {
     "name": "stderr",
     "output_type": "stream",
     "text": [
      "100%|█████████████████████████████████████████| 937/937 [01:41<00:00,  9.27it/s]\n"
     ]
    },
    {
     "name": "stdout",
     "output_type": "stream",
     "text": [
      "epoch : 164 Loss : 17.775388717651367 \n"
     ]
    },
    {
     "name": "stderr",
     "output_type": "stream",
     "text": [
      "100%|█████████████████████████████████████████| 937/937 [01:43<00:00,  9.07it/s]\n"
     ]
    },
    {
     "name": "stdout",
     "output_type": "stream",
     "text": [
      "epoch : 165 Loss : 18.0002384185791 \n"
     ]
    },
    {
     "name": "stderr",
     "output_type": "stream",
     "text": [
      "100%|█████████████████████████████████████████| 937/937 [01:42<00:00,  9.14it/s]\n"
     ]
    },
    {
     "name": "stdout",
     "output_type": "stream",
     "text": [
      "epoch : 166 Loss : 17.849618911743164 \n"
     ]
    },
    {
     "name": "stderr",
     "output_type": "stream",
     "text": [
      "100%|█████████████████████████████████████████| 937/937 [01:42<00:00,  9.15it/s]\n"
     ]
    },
    {
     "name": "stdout",
     "output_type": "stream",
     "text": [
      "epoch : 167 Loss : 18.10349464416504 \n"
     ]
    },
    {
     "name": "stderr",
     "output_type": "stream",
     "text": [
      "100%|█████████████████████████████████████████| 937/937 [01:42<00:00,  9.12it/s]\n"
     ]
    },
    {
     "name": "stdout",
     "output_type": "stream",
     "text": [
      "epoch : 168 Loss : 17.6396427154541 \n"
     ]
    },
    {
     "name": "stderr",
     "output_type": "stream",
     "text": [
      "100%|█████████████████████████████████████████| 937/937 [01:42<00:00,  9.15it/s]\n"
     ]
    },
    {
     "name": "stdout",
     "output_type": "stream",
     "text": [
      "epoch : 169 Loss : 18.00296401977539 \n"
     ]
    },
    {
     "name": "stderr",
     "output_type": "stream",
     "text": [
      "100%|█████████████████████████████████████████| 937/937 [01:42<00:00,  9.16it/s]\n"
     ]
    },
    {
     "name": "stdout",
     "output_type": "stream",
     "text": [
      "epoch : 170 Loss : 18.681602478027344 \n"
     ]
    },
    {
     "name": "stderr",
     "output_type": "stream",
     "text": [
      "100%|█████████████████████████████████████████| 937/937 [01:42<00:00,  9.16it/s]\n"
     ]
    },
    {
     "name": "stdout",
     "output_type": "stream",
     "text": [
      "epoch : 171 Loss : 18.03745460510254 \n"
     ]
    },
    {
     "name": "stderr",
     "output_type": "stream",
     "text": [
      "100%|█████████████████████████████████████████| 937/937 [01:42<00:00,  9.17it/s]\n"
     ]
    },
    {
     "name": "stdout",
     "output_type": "stream",
     "text": [
      "epoch : 172 Loss : 18.361064910888672 \n"
     ]
    },
    {
     "name": "stderr",
     "output_type": "stream",
     "text": [
      "100%|█████████████████████████████████████████| 937/937 [01:42<00:00,  9.13it/s]\n"
     ]
    },
    {
     "name": "stdout",
     "output_type": "stream",
     "text": [
      "epoch : 173 Loss : 17.830751419067383 \n"
     ]
    },
    {
     "name": "stderr",
     "output_type": "stream",
     "text": [
      "100%|█████████████████████████████████████████| 937/937 [01:41<00:00,  9.21it/s]\n"
     ]
    },
    {
     "name": "stdout",
     "output_type": "stream",
     "text": [
      "epoch : 174 Loss : 17.829357147216797 \n"
     ]
    },
    {
     "name": "stderr",
     "output_type": "stream",
     "text": [
      "100%|█████████████████████████████████████████| 937/937 [01:42<00:00,  9.16it/s]\n"
     ]
    },
    {
     "name": "stdout",
     "output_type": "stream",
     "text": [
      "epoch : 175 Loss : 17.974506378173828 \n"
     ]
    },
    {
     "name": "stderr",
     "output_type": "stream",
     "text": [
      "100%|█████████████████████████████████████████| 937/937 [01:41<00:00,  9.23it/s]\n"
     ]
    },
    {
     "name": "stdout",
     "output_type": "stream",
     "text": [
      "epoch : 176 Loss : 18.089618682861328 \n"
     ]
    },
    {
     "name": "stderr",
     "output_type": "stream",
     "text": [
      "100%|█████████████████████████████████████████| 937/937 [01:41<00:00,  9.24it/s]\n"
     ]
    },
    {
     "name": "stdout",
     "output_type": "stream",
     "text": [
      "epoch : 177 Loss : 18.153182983398438 \n"
     ]
    },
    {
     "name": "stderr",
     "output_type": "stream",
     "text": [
      "100%|█████████████████████████████████████████| 937/937 [01:43<00:00,  9.05it/s]\n"
     ]
    },
    {
     "name": "stdout",
     "output_type": "stream",
     "text": [
      "epoch : 178 Loss : 23.999879837036133 \n"
     ]
    },
    {
     "name": "stderr",
     "output_type": "stream",
     "text": [
      "100%|█████████████████████████████████████████| 937/937 [01:42<00:00,  9.12it/s]\n"
     ]
    },
    {
     "name": "stdout",
     "output_type": "stream",
     "text": [
      "epoch : 179 Loss : 18.300413131713867 \n"
     ]
    },
    {
     "name": "stderr",
     "output_type": "stream",
     "text": [
      "100%|█████████████████████████████████████████| 937/937 [01:42<00:00,  9.17it/s]\n"
     ]
    },
    {
     "name": "stdout",
     "output_type": "stream",
     "text": [
      "epoch : 180 Loss : 17.68060874938965 \n"
     ]
    },
    {
     "name": "stderr",
     "output_type": "stream",
     "text": [
      "100%|█████████████████████████████████████████| 937/937 [01:42<00:00,  9.12it/s]\n"
     ]
    },
    {
     "name": "stdout",
     "output_type": "stream",
     "text": [
      "epoch : 181 Loss : 17.777666091918945 \n"
     ]
    },
    {
     "name": "stderr",
     "output_type": "stream",
     "text": [
      "100%|█████████████████████████████████████████| 937/937 [01:41<00:00,  9.22it/s]\n"
     ]
    },
    {
     "name": "stdout",
     "output_type": "stream",
     "text": [
      "epoch : 182 Loss : 17.781421661376953 \n"
     ]
    },
    {
     "name": "stderr",
     "output_type": "stream",
     "text": [
      "100%|█████████████████████████████████████████| 937/937 [01:41<00:00,  9.21it/s]\n"
     ]
    },
    {
     "name": "stdout",
     "output_type": "stream",
     "text": [
      "epoch : 183 Loss : 18.39644432067871 \n"
     ]
    },
    {
     "name": "stderr",
     "output_type": "stream",
     "text": [
      "100%|█████████████████████████████████████████| 937/937 [01:43<00:00,  9.09it/s]\n"
     ]
    },
    {
     "name": "stdout",
     "output_type": "stream",
     "text": [
      "epoch : 184 Loss : 17.619457244873047 \n"
     ]
    },
    {
     "name": "stderr",
     "output_type": "stream",
     "text": [
      "100%|█████████████████████████████████████████| 937/937 [01:44<00:00,  8.94it/s]\n"
     ]
    },
    {
     "name": "stdout",
     "output_type": "stream",
     "text": [
      "epoch : 185 Loss : 17.535282135009766 \n"
     ]
    },
    {
     "name": "stderr",
     "output_type": "stream",
     "text": [
      "100%|█████████████████████████████████████████| 937/937 [01:42<00:00,  9.10it/s]\n"
     ]
    },
    {
     "name": "stdout",
     "output_type": "stream",
     "text": [
      "epoch : 186 Loss : 18.466384887695312 \n"
     ]
    },
    {
     "name": "stderr",
     "output_type": "stream",
     "text": [
      "100%|█████████████████████████████████████████| 937/937 [01:47<00:00,  8.72it/s]\n"
     ]
    },
    {
     "name": "stdout",
     "output_type": "stream",
     "text": [
      "epoch : 187 Loss : 18.060901641845703 \n"
     ]
    },
    {
     "name": "stderr",
     "output_type": "stream",
     "text": [
      "100%|█████████████████████████████████████████| 937/937 [01:48<00:00,  8.62it/s]\n"
     ]
    },
    {
     "name": "stdout",
     "output_type": "stream",
     "text": [
      "epoch : 188 Loss : 17.737709045410156 \n"
     ]
    },
    {
     "name": "stderr",
     "output_type": "stream",
     "text": [
      "100%|█████████████████████████████████████████| 937/937 [01:47<00:00,  8.70it/s]\n"
     ]
    },
    {
     "name": "stdout",
     "output_type": "stream",
     "text": [
      "epoch : 189 Loss : 17.06998062133789 \n",
      "before_loss = 17.3470, loss = 17.0700, saved_epoch = 189\n",
      "model_save\n"
     ]
    },
    {
     "name": "stderr",
     "output_type": "stream",
     "text": [
      "100%|█████████████████████████████████████████| 937/937 [01:43<00:00,  9.04it/s]\n"
     ]
    },
    {
     "name": "stdout",
     "output_type": "stream",
     "text": [
      "epoch : 190 Loss : 17.281660079956055 \n"
     ]
    },
    {
     "name": "stderr",
     "output_type": "stream",
     "text": [
      "100%|█████████████████████████████████████████| 937/937 [01:43<00:00,  9.08it/s]\n"
     ]
    },
    {
     "name": "stdout",
     "output_type": "stream",
     "text": [
      "epoch : 191 Loss : 17.52147102355957 \n"
     ]
    },
    {
     "name": "stderr",
     "output_type": "stream",
     "text": [
      "100%|█████████████████████████████████████████| 937/937 [01:42<00:00,  9.13it/s]\n"
     ]
    },
    {
     "name": "stdout",
     "output_type": "stream",
     "text": [
      "epoch : 192 Loss : 18.334077835083008 \n"
     ]
    },
    {
     "name": "stderr",
     "output_type": "stream",
     "text": [
      "100%|█████████████████████████████████████████| 937/937 [01:43<00:00,  9.01it/s]\n"
     ]
    },
    {
     "name": "stdout",
     "output_type": "stream",
     "text": [
      "epoch : 193 Loss : 17.692523956298828 \n"
     ]
    },
    {
     "name": "stderr",
     "output_type": "stream",
     "text": [
      "100%|█████████████████████████████████████████| 937/937 [01:42<00:00,  9.16it/s]\n"
     ]
    },
    {
     "name": "stdout",
     "output_type": "stream",
     "text": [
      "epoch : 194 Loss : 17.73520851135254 \n"
     ]
    },
    {
     "name": "stderr",
     "output_type": "stream",
     "text": [
      "100%|█████████████████████████████████████████| 937/937 [01:42<00:00,  9.15it/s]\n"
     ]
    },
    {
     "name": "stdout",
     "output_type": "stream",
     "text": [
      "epoch : 195 Loss : 17.913169860839844 \n"
     ]
    },
    {
     "name": "stderr",
     "output_type": "stream",
     "text": [
      "100%|█████████████████████████████████████████| 937/937 [01:42<00:00,  9.12it/s]\n"
     ]
    },
    {
     "name": "stdout",
     "output_type": "stream",
     "text": [
      "epoch : 196 Loss : 17.20606803894043 \n"
     ]
    },
    {
     "name": "stderr",
     "output_type": "stream",
     "text": [
      "100%|█████████████████████████████████████████| 937/937 [01:46<00:00,  8.78it/s]\n"
     ]
    },
    {
     "name": "stdout",
     "output_type": "stream",
     "text": [
      "epoch : 197 Loss : 17.35961151123047 \n"
     ]
    },
    {
     "name": "stderr",
     "output_type": "stream",
     "text": [
      "100%|█████████████████████████████████████████| 937/937 [01:46<00:00,  8.78it/s]\n"
     ]
    },
    {
     "name": "stdout",
     "output_type": "stream",
     "text": [
      "epoch : 198 Loss : 17.33099937438965 \n"
     ]
    },
    {
     "name": "stderr",
     "output_type": "stream",
     "text": [
      "100%|█████████████████████████████████████████| 937/937 [01:48<00:00,  8.67it/s]\n"
     ]
    },
    {
     "name": "stdout",
     "output_type": "stream",
     "text": [
      "epoch : 199 Loss : 17.81101417541504 \n"
     ]
    },
    {
     "name": "stderr",
     "output_type": "stream",
     "text": [
      "100%|█████████████████████████████████████████| 937/937 [01:50<00:00,  8.51it/s]\n"
     ]
    },
    {
     "name": "stdout",
     "output_type": "stream",
     "text": [
      "epoch : 200 Loss : 17.632490158081055 \n"
     ]
    },
    {
     "name": "stderr",
     "output_type": "stream",
     "text": [
      "100%|█████████████████████████████████████████| 937/937 [01:47<00:00,  8.70it/s]\n"
     ]
    },
    {
     "name": "stdout",
     "output_type": "stream",
     "text": [
      "epoch : 201 Loss : 18.112180709838867 \n"
     ]
    },
    {
     "name": "stderr",
     "output_type": "stream",
     "text": [
      "100%|█████████████████████████████████████████| 937/937 [01:46<00:00,  8.77it/s]\n"
     ]
    },
    {
     "name": "stdout",
     "output_type": "stream",
     "text": [
      "epoch : 202 Loss : 17.36508560180664 \n"
     ]
    },
    {
     "name": "stderr",
     "output_type": "stream",
     "text": [
      "100%|█████████████████████████████████████████| 937/937 [01:47<00:00,  8.68it/s]\n"
     ]
    },
    {
     "name": "stdout",
     "output_type": "stream",
     "text": [
      "epoch : 203 Loss : 17.13510513305664 \n"
     ]
    },
    {
     "name": "stderr",
     "output_type": "stream",
     "text": [
      "100%|█████████████████████████████████████████| 937/937 [01:46<00:00,  8.81it/s]\n"
     ]
    },
    {
     "name": "stdout",
     "output_type": "stream",
     "text": [
      "epoch : 204 Loss : 17.568220138549805 \n"
     ]
    },
    {
     "name": "stderr",
     "output_type": "stream",
     "text": [
      "100%|█████████████████████████████████████████| 937/937 [01:47<00:00,  8.75it/s]\n"
     ]
    },
    {
     "name": "stdout",
     "output_type": "stream",
     "text": [
      "epoch : 205 Loss : 17.448814392089844 \n"
     ]
    },
    {
     "name": "stderr",
     "output_type": "stream",
     "text": [
      "100%|█████████████████████████████████████████| 937/937 [01:46<00:00,  8.79it/s]\n"
     ]
    },
    {
     "name": "stdout",
     "output_type": "stream",
     "text": [
      "epoch : 206 Loss : 18.316987991333008 \n"
     ]
    },
    {
     "name": "stderr",
     "output_type": "stream",
     "text": [
      "100%|█████████████████████████████████████████| 937/937 [01:46<00:00,  8.77it/s]\n"
     ]
    },
    {
     "name": "stdout",
     "output_type": "stream",
     "text": [
      "epoch : 207 Loss : 18.02448081970215 \n"
     ]
    },
    {
     "name": "stderr",
     "output_type": "stream",
     "text": [
      "100%|█████████████████████████████████████████| 937/937 [01:46<00:00,  8.77it/s]\n"
     ]
    },
    {
     "name": "stdout",
     "output_type": "stream",
     "text": [
      "epoch : 208 Loss : 17.984966278076172 \n"
     ]
    },
    {
     "name": "stderr",
     "output_type": "stream",
     "text": [
      "100%|█████████████████████████████████████████| 937/937 [01:46<00:00,  8.79it/s]\n"
     ]
    },
    {
     "name": "stdout",
     "output_type": "stream",
     "text": [
      "epoch : 209 Loss : 17.32306480407715 \n"
     ]
    },
    {
     "name": "stderr",
     "output_type": "stream",
     "text": [
      "100%|█████████████████████████████████████████| 937/937 [01:46<00:00,  8.83it/s]\n"
     ]
    },
    {
     "name": "stdout",
     "output_type": "stream",
     "text": [
      "epoch : 210 Loss : 17.790861129760742 \n"
     ]
    },
    {
     "name": "stderr",
     "output_type": "stream",
     "text": [
      "100%|█████████████████████████████████████████| 937/937 [01:45<00:00,  8.84it/s]\n"
     ]
    },
    {
     "name": "stdout",
     "output_type": "stream",
     "text": [
      "epoch : 211 Loss : 17.818010330200195 \n"
     ]
    },
    {
     "name": "stderr",
     "output_type": "stream",
     "text": [
      "100%|█████████████████████████████████████████| 937/937 [01:46<00:00,  8.83it/s]\n"
     ]
    },
    {
     "name": "stdout",
     "output_type": "stream",
     "text": [
      "epoch : 212 Loss : 17.16922378540039 \n"
     ]
    },
    {
     "name": "stderr",
     "output_type": "stream",
     "text": [
      "100%|█████████████████████████████████████████| 937/937 [01:46<00:00,  8.82it/s]\n"
     ]
    },
    {
     "name": "stdout",
     "output_type": "stream",
     "text": [
      "epoch : 213 Loss : 17.450456619262695 \n"
     ]
    },
    {
     "name": "stderr",
     "output_type": "stream",
     "text": [
      "100%|█████████████████████████████████████████| 937/937 [01:47<00:00,  8.70it/s]\n"
     ]
    },
    {
     "name": "stdout",
     "output_type": "stream",
     "text": [
      "epoch : 214 Loss : 17.51751708984375 \n"
     ]
    },
    {
     "name": "stderr",
     "output_type": "stream",
     "text": [
      "100%|█████████████████████████████████████████| 937/937 [01:46<00:00,  8.78it/s]\n"
     ]
    },
    {
     "name": "stdout",
     "output_type": "stream",
     "text": [
      "epoch : 215 Loss : 17.679758071899414 \n"
     ]
    },
    {
     "name": "stderr",
     "output_type": "stream",
     "text": [
      "100%|█████████████████████████████████████████| 937/937 [01:48<00:00,  8.61it/s]\n"
     ]
    },
    {
     "name": "stdout",
     "output_type": "stream",
     "text": [
      "epoch : 216 Loss : 17.93060302734375 \n"
     ]
    },
    {
     "name": "stderr",
     "output_type": "stream",
     "text": [
      "100%|█████████████████████████████████████████| 937/937 [01:43<00:00,  9.05it/s]\n"
     ]
    },
    {
     "name": "stdout",
     "output_type": "stream",
     "text": [
      "epoch : 217 Loss : 17.981721878051758 \n"
     ]
    },
    {
     "name": "stderr",
     "output_type": "stream",
     "text": [
      "100%|█████████████████████████████████████████| 937/937 [01:43<00:00,  9.06it/s]\n"
     ]
    },
    {
     "name": "stdout",
     "output_type": "stream",
     "text": [
      "epoch : 218 Loss : 17.0878963470459 \n"
     ]
    },
    {
     "name": "stderr",
     "output_type": "stream",
     "text": [
      "100%|█████████████████████████████████████████| 937/937 [01:43<00:00,  9.07it/s]\n"
     ]
    },
    {
     "name": "stdout",
     "output_type": "stream",
     "text": [
      "epoch : 219 Loss : 17.02851676940918 \n",
      "before_loss = 17.0700, loss = 17.0285, saved_epoch = 219\n",
      "model_save\n"
     ]
    },
    {
     "name": "stderr",
     "output_type": "stream",
     "text": [
      "100%|█████████████████████████████████████████| 937/937 [01:46<00:00,  8.78it/s]\n"
     ]
    },
    {
     "name": "stdout",
     "output_type": "stream",
     "text": [
      "epoch : 220 Loss : 17.395519256591797 \n"
     ]
    },
    {
     "name": "stderr",
     "output_type": "stream",
     "text": [
      "100%|█████████████████████████████████████████| 937/937 [01:49<00:00,  8.54it/s]\n"
     ]
    },
    {
     "name": "stdout",
     "output_type": "stream",
     "text": [
      "epoch : 221 Loss : 17.605432510375977 \n"
     ]
    },
    {
     "name": "stderr",
     "output_type": "stream",
     "text": [
      "100%|█████████████████████████████████████████| 937/937 [01:47<00:00,  8.71it/s]\n"
     ]
    },
    {
     "name": "stdout",
     "output_type": "stream",
     "text": [
      "epoch : 222 Loss : 17.625802993774414 \n"
     ]
    },
    {
     "name": "stderr",
     "output_type": "stream",
     "text": [
      "100%|█████████████████████████████████████████| 937/937 [01:46<00:00,  8.79it/s]\n"
     ]
    },
    {
     "name": "stdout",
     "output_type": "stream",
     "text": [
      "epoch : 223 Loss : 16.59807777404785 \n",
      "before_loss = 17.0285, loss = 16.5981, saved_epoch = 223\n",
      "model_save\n"
     ]
    },
    {
     "name": "stderr",
     "output_type": "stream",
     "text": [
      "100%|█████████████████████████████████████████| 937/937 [01:46<00:00,  8.81it/s]\n"
     ]
    },
    {
     "name": "stdout",
     "output_type": "stream",
     "text": [
      "epoch : 224 Loss : 18.04629898071289 \n"
     ]
    },
    {
     "name": "stderr",
     "output_type": "stream",
     "text": [
      "100%|█████████████████████████████████████████| 937/937 [01:47<00:00,  8.74it/s]\n"
     ]
    },
    {
     "name": "stdout",
     "output_type": "stream",
     "text": [
      "epoch : 225 Loss : 17.030712127685547 \n"
     ]
    },
    {
     "name": "stderr",
     "output_type": "stream",
     "text": [
      "100%|█████████████████████████████████████████| 937/937 [01:47<00:00,  8.68it/s]\n"
     ]
    },
    {
     "name": "stdout",
     "output_type": "stream",
     "text": [
      "epoch : 226 Loss : 21.893651962280273 \n"
     ]
    },
    {
     "name": "stderr",
     "output_type": "stream",
     "text": [
      "100%|█████████████████████████████████████████| 937/937 [01:47<00:00,  8.69it/s]\n"
     ]
    },
    {
     "name": "stdout",
     "output_type": "stream",
     "text": [
      "epoch : 227 Loss : 17.565750122070312 \n"
     ]
    },
    {
     "name": "stderr",
     "output_type": "stream",
     "text": [
      "100%|█████████████████████████████████████████| 937/937 [01:49<00:00,  8.59it/s]\n"
     ]
    },
    {
     "name": "stdout",
     "output_type": "stream",
     "text": [
      "epoch : 228 Loss : 17.61324119567871 \n"
     ]
    },
    {
     "name": "stderr",
     "output_type": "stream",
     "text": [
      "100%|█████████████████████████████████████████| 937/937 [01:46<00:00,  8.79it/s]\n"
     ]
    },
    {
     "name": "stdout",
     "output_type": "stream",
     "text": [
      "epoch : 229 Loss : 17.728906631469727 \n"
     ]
    },
    {
     "name": "stderr",
     "output_type": "stream",
     "text": [
      "100%|█████████████████████████████████████████| 937/937 [01:47<00:00,  8.71it/s]\n"
     ]
    },
    {
     "name": "stdout",
     "output_type": "stream",
     "text": [
      "epoch : 230 Loss : 18.029930114746094 \n"
     ]
    },
    {
     "name": "stderr",
     "output_type": "stream",
     "text": [
      "100%|█████████████████████████████████████████| 937/937 [01:46<00:00,  8.82it/s]\n"
     ]
    },
    {
     "name": "stdout",
     "output_type": "stream",
     "text": [
      "epoch : 231 Loss : 16.30765724182129 \n",
      "before_loss = 16.5981, loss = 16.3077, saved_epoch = 231\n",
      "model_save\n"
     ]
    },
    {
     "name": "stderr",
     "output_type": "stream",
     "text": [
      "100%|█████████████████████████████████████████| 937/937 [01:45<00:00,  8.85it/s]\n"
     ]
    },
    {
     "name": "stdout",
     "output_type": "stream",
     "text": [
      "epoch : 232 Loss : 16.664709091186523 \n"
     ]
    },
    {
     "name": "stderr",
     "output_type": "stream",
     "text": [
      "100%|█████████████████████████████████████████| 937/937 [01:47<00:00,  8.75it/s]\n"
     ]
    },
    {
     "name": "stdout",
     "output_type": "stream",
     "text": [
      "epoch : 233 Loss : 17.638263702392578 \n"
     ]
    },
    {
     "name": "stderr",
     "output_type": "stream",
     "text": [
      "100%|█████████████████████████████████████████| 937/937 [01:48<00:00,  8.67it/s]\n"
     ]
    },
    {
     "name": "stdout",
     "output_type": "stream",
     "text": [
      "epoch : 234 Loss : 17.6994571685791 \n"
     ]
    },
    {
     "name": "stderr",
     "output_type": "stream",
     "text": [
      "100%|█████████████████████████████████████████| 937/937 [01:48<00:00,  8.65it/s]\n"
     ]
    },
    {
     "name": "stdout",
     "output_type": "stream",
     "text": [
      "epoch : 235 Loss : 16.742128372192383 \n"
     ]
    },
    {
     "name": "stderr",
     "output_type": "stream",
     "text": [
      "100%|█████████████████████████████████████████| 937/937 [01:47<00:00,  8.75it/s]\n"
     ]
    },
    {
     "name": "stdout",
     "output_type": "stream",
     "text": [
      "epoch : 236 Loss : 18.265422821044922 \n"
     ]
    },
    {
     "name": "stderr",
     "output_type": "stream",
     "text": [
      "100%|█████████████████████████████████████████| 937/937 [01:49<00:00,  8.54it/s]\n"
     ]
    },
    {
     "name": "stdout",
     "output_type": "stream",
     "text": [
      "epoch : 237 Loss : 17.294315338134766 \n"
     ]
    },
    {
     "name": "stderr",
     "output_type": "stream",
     "text": [
      "100%|█████████████████████████████████████████| 937/937 [01:45<00:00,  8.91it/s]\n"
     ]
    },
    {
     "name": "stdout",
     "output_type": "stream",
     "text": [
      "epoch : 238 Loss : 17.73671531677246 \n"
     ]
    },
    {
     "name": "stderr",
     "output_type": "stream",
     "text": [
      "100%|█████████████████████████████████████████| 937/937 [01:43<00:00,  9.08it/s]\n"
     ]
    },
    {
     "name": "stdout",
     "output_type": "stream",
     "text": [
      "epoch : 239 Loss : 17.395360946655273 \n"
     ]
    },
    {
     "name": "stderr",
     "output_type": "stream",
     "text": [
      "100%|█████████████████████████████████████████| 937/937 [01:42<00:00,  9.13it/s]\n"
     ]
    },
    {
     "name": "stdout",
     "output_type": "stream",
     "text": [
      "epoch : 240 Loss : 17.571331024169922 \n"
     ]
    },
    {
     "name": "stderr",
     "output_type": "stream",
     "text": [
      "100%|█████████████████████████████████████████| 937/937 [01:44<00:00,  8.96it/s]\n"
     ]
    },
    {
     "name": "stdout",
     "output_type": "stream",
     "text": [
      "epoch : 241 Loss : 18.12240982055664 \n"
     ]
    },
    {
     "name": "stderr",
     "output_type": "stream",
     "text": [
      "100%|█████████████████████████████████████████| 937/937 [01:42<00:00,  9.14it/s]\n"
     ]
    },
    {
     "name": "stdout",
     "output_type": "stream",
     "text": [
      "epoch : 242 Loss : 17.58015251159668 \n"
     ]
    },
    {
     "name": "stderr",
     "output_type": "stream",
     "text": [
      "100%|█████████████████████████████████████████| 937/937 [01:43<00:00,  9.09it/s]\n"
     ]
    },
    {
     "name": "stdout",
     "output_type": "stream",
     "text": [
      "epoch : 243 Loss : 17.391714096069336 \n"
     ]
    },
    {
     "name": "stderr",
     "output_type": "stream",
     "text": [
      "100%|█████████████████████████████████████████| 937/937 [01:51<00:00,  8.42it/s]\n"
     ]
    },
    {
     "name": "stdout",
     "output_type": "stream",
     "text": [
      "epoch : 244 Loss : 17.361915588378906 \n"
     ]
    },
    {
     "name": "stderr",
     "output_type": "stream",
     "text": [
      "100%|█████████████████████████████████████████| 937/937 [01:47<00:00,  8.71it/s]\n"
     ]
    },
    {
     "name": "stdout",
     "output_type": "stream",
     "text": [
      "epoch : 245 Loss : 17.055034637451172 \n"
     ]
    },
    {
     "name": "stderr",
     "output_type": "stream",
     "text": [
      "100%|█████████████████████████████████████████| 937/937 [01:48<00:00,  8.67it/s]\n"
     ]
    },
    {
     "name": "stdout",
     "output_type": "stream",
     "text": [
      "epoch : 246 Loss : 17.24681282043457 \n"
     ]
    },
    {
     "name": "stderr",
     "output_type": "stream",
     "text": [
      "100%|█████████████████████████████████████████| 937/937 [01:44<00:00,  8.94it/s]\n"
     ]
    },
    {
     "name": "stdout",
     "output_type": "stream",
     "text": [
      "epoch : 247 Loss : 17.506107330322266 \n"
     ]
    },
    {
     "name": "stderr",
     "output_type": "stream",
     "text": [
      "100%|█████████████████████████████████████████| 937/937 [01:42<00:00,  9.12it/s]\n"
     ]
    },
    {
     "name": "stdout",
     "output_type": "stream",
     "text": [
      "epoch : 248 Loss : 17.222558975219727 \n"
     ]
    },
    {
     "name": "stderr",
     "output_type": "stream",
     "text": [
      "100%|█████████████████████████████████████████| 937/937 [01:43<00:00,  9.08it/s]\n"
     ]
    },
    {
     "name": "stdout",
     "output_type": "stream",
     "text": [
      "epoch : 249 Loss : 17.72998809814453 \n"
     ]
    },
    {
     "name": "stderr",
     "output_type": "stream",
     "text": [
      "100%|█████████████████████████████████████████| 937/937 [01:43<00:00,  9.05it/s]\n"
     ]
    },
    {
     "name": "stdout",
     "output_type": "stream",
     "text": [
      "epoch : 250 Loss : 17.303028106689453 \n"
     ]
    },
    {
     "name": "stderr",
     "output_type": "stream",
     "text": [
      "100%|█████████████████████████████████████████| 937/937 [01:43<00:00,  9.07it/s]\n"
     ]
    },
    {
     "name": "stdout",
     "output_type": "stream",
     "text": [
      "epoch : 251 Loss : 16.941238403320312 \n"
     ]
    },
    {
     "name": "stderr",
     "output_type": "stream",
     "text": [
      "100%|█████████████████████████████████████████| 937/937 [01:41<00:00,  9.19it/s]\n"
     ]
    },
    {
     "name": "stdout",
     "output_type": "stream",
     "text": [
      "epoch : 252 Loss : 17.252145767211914 \n"
     ]
    },
    {
     "name": "stderr",
     "output_type": "stream",
     "text": [
      "100%|█████████████████████████████████████████| 937/937 [01:46<00:00,  8.79it/s]\n"
     ]
    },
    {
     "name": "stdout",
     "output_type": "stream",
     "text": [
      "epoch : 253 Loss : 17.74139404296875 \n"
     ]
    },
    {
     "name": "stderr",
     "output_type": "stream",
     "text": [
      "100%|█████████████████████████████████████████| 937/937 [01:48<00:00,  8.65it/s]\n"
     ]
    },
    {
     "name": "stdout",
     "output_type": "stream",
     "text": [
      "epoch : 254 Loss : 16.99083709716797 \n"
     ]
    },
    {
     "name": "stderr",
     "output_type": "stream",
     "text": [
      "100%|█████████████████████████████████████████| 937/937 [01:48<00:00,  8.61it/s]\n"
     ]
    },
    {
     "name": "stdout",
     "output_type": "stream",
     "text": [
      "epoch : 255 Loss : 17.455080032348633 \n"
     ]
    },
    {
     "name": "stderr",
     "output_type": "stream",
     "text": [
      "100%|█████████████████████████████████████████| 937/937 [01:46<00:00,  8.78it/s]\n"
     ]
    },
    {
     "name": "stdout",
     "output_type": "stream",
     "text": [
      "epoch : 256 Loss : 17.404882431030273 \n"
     ]
    },
    {
     "name": "stderr",
     "output_type": "stream",
     "text": [
      "100%|█████████████████████████████████████████| 937/937 [01:46<00:00,  8.77it/s]\n"
     ]
    },
    {
     "name": "stdout",
     "output_type": "stream",
     "text": [
      "epoch : 257 Loss : 17.84972381591797 \n"
     ]
    },
    {
     "name": "stderr",
     "output_type": "stream",
     "text": [
      "100%|█████████████████████████████████████████| 937/937 [01:46<00:00,  8.78it/s]\n"
     ]
    },
    {
     "name": "stdout",
     "output_type": "stream",
     "text": [
      "epoch : 258 Loss : 17.410314559936523 \n"
     ]
    },
    {
     "name": "stderr",
     "output_type": "stream",
     "text": [
      "100%|█████████████████████████████████████████| 937/937 [01:46<00:00,  8.79it/s]\n"
     ]
    },
    {
     "name": "stdout",
     "output_type": "stream",
     "text": [
      "epoch : 259 Loss : 16.9641056060791 \n"
     ]
    },
    {
     "name": "stderr",
     "output_type": "stream",
     "text": [
      "100%|█████████████████████████████████████████| 937/937 [01:46<00:00,  8.80it/s]\n"
     ]
    },
    {
     "name": "stdout",
     "output_type": "stream",
     "text": [
      "epoch : 260 Loss : 17.242813110351562 \n"
     ]
    },
    {
     "name": "stderr",
     "output_type": "stream",
     "text": [
      "100%|█████████████████████████████████████████| 937/937 [01:49<00:00,  8.57it/s]\n"
     ]
    },
    {
     "name": "stdout",
     "output_type": "stream",
     "text": [
      "epoch : 261 Loss : 16.83465576171875 \n"
     ]
    },
    {
     "name": "stderr",
     "output_type": "stream",
     "text": [
      "100%|█████████████████████████████████████████| 937/937 [01:48<00:00,  8.65it/s]\n"
     ]
    },
    {
     "name": "stdout",
     "output_type": "stream",
     "text": [
      "epoch : 262 Loss : 16.883888244628906 \n"
     ]
    },
    {
     "name": "stderr",
     "output_type": "stream",
     "text": [
      "100%|█████████████████████████████████████████| 937/937 [01:44<00:00,  8.97it/s]\n"
     ]
    },
    {
     "name": "stdout",
     "output_type": "stream",
     "text": [
      "epoch : 263 Loss : 17.192066192626953 \n"
     ]
    },
    {
     "name": "stderr",
     "output_type": "stream",
     "text": [
      "100%|█████████████████████████████████████████| 937/937 [01:42<00:00,  9.12it/s]\n"
     ]
    },
    {
     "name": "stdout",
     "output_type": "stream",
     "text": [
      "epoch : 264 Loss : 17.764835357666016 \n"
     ]
    },
    {
     "name": "stderr",
     "output_type": "stream",
     "text": [
      "100%|█████████████████████████████████████████| 937/937 [01:43<00:00,  9.03it/s]\n"
     ]
    },
    {
     "name": "stdout",
     "output_type": "stream",
     "text": [
      "epoch : 265 Loss : 24.747602462768555 \n"
     ]
    },
    {
     "name": "stderr",
     "output_type": "stream",
     "text": [
      "100%|█████████████████████████████████████████| 937/937 [01:48<00:00,  8.65it/s]\n"
     ]
    },
    {
     "name": "stdout",
     "output_type": "stream",
     "text": [
      "epoch : 266 Loss : 18.17658805847168 \n"
     ]
    },
    {
     "name": "stderr",
     "output_type": "stream",
     "text": [
      "100%|█████████████████████████████████████████| 937/937 [01:47<00:00,  8.75it/s]\n"
     ]
    },
    {
     "name": "stdout",
     "output_type": "stream",
     "text": [
      "epoch : 267 Loss : 16.997772216796875 \n"
     ]
    },
    {
     "name": "stderr",
     "output_type": "stream",
     "text": [
      "100%|█████████████████████████████████████████| 937/937 [01:47<00:00,  8.75it/s]\n"
     ]
    },
    {
     "name": "stdout",
     "output_type": "stream",
     "text": [
      "epoch : 268 Loss : 16.415494918823242 \n"
     ]
    },
    {
     "name": "stderr",
     "output_type": "stream",
     "text": [
      "100%|█████████████████████████████████████████| 937/937 [01:45<00:00,  8.84it/s]\n"
     ]
    },
    {
     "name": "stdout",
     "output_type": "stream",
     "text": [
      "epoch : 269 Loss : 19.91853904724121 \n"
     ]
    },
    {
     "name": "stderr",
     "output_type": "stream",
     "text": [
      "100%|█████████████████████████████████████████| 937/937 [01:47<00:00,  8.73it/s]\n"
     ]
    },
    {
     "name": "stdout",
     "output_type": "stream",
     "text": [
      "epoch : 270 Loss : 17.404035568237305 \n"
     ]
    },
    {
     "name": "stderr",
     "output_type": "stream",
     "text": [
      "100%|█████████████████████████████████████████| 937/937 [01:46<00:00,  8.80it/s]\n"
     ]
    },
    {
     "name": "stdout",
     "output_type": "stream",
     "text": [
      "epoch : 271 Loss : 17.1483211517334 \n"
     ]
    },
    {
     "name": "stderr",
     "output_type": "stream",
     "text": [
      "100%|█████████████████████████████████████████| 937/937 [01:46<00:00,  8.81it/s]\n"
     ]
    },
    {
     "name": "stdout",
     "output_type": "stream",
     "text": [
      "epoch : 272 Loss : 17.38631248474121 \n"
     ]
    },
    {
     "name": "stderr",
     "output_type": "stream",
     "text": [
      "100%|█████████████████████████████████████████| 937/937 [01:47<00:00,  8.75it/s]\n"
     ]
    },
    {
     "name": "stdout",
     "output_type": "stream",
     "text": [
      "epoch : 273 Loss : 17.292261123657227 \n"
     ]
    },
    {
     "name": "stderr",
     "output_type": "stream",
     "text": [
      "100%|█████████████████████████████████████████| 937/937 [01:48<00:00,  8.61it/s]\n"
     ]
    },
    {
     "name": "stdout",
     "output_type": "stream",
     "text": [
      "epoch : 274 Loss : 17.47329330444336 \n"
     ]
    },
    {
     "name": "stderr",
     "output_type": "stream",
     "text": [
      "100%|█████████████████████████████████████████| 937/937 [01:44<00:00,  8.94it/s]\n"
     ]
    },
    {
     "name": "stdout",
     "output_type": "stream",
     "text": [
      "epoch : 275 Loss : 17.609237670898438 \n"
     ]
    },
    {
     "name": "stderr",
     "output_type": "stream",
     "text": [
      "100%|█████████████████████████████████████████| 937/937 [01:43<00:00,  9.08it/s]\n"
     ]
    },
    {
     "name": "stdout",
     "output_type": "stream",
     "text": [
      "epoch : 276 Loss : 17.43733024597168 \n"
     ]
    },
    {
     "name": "stderr",
     "output_type": "stream",
     "text": [
      "100%|█████████████████████████████████████████| 937/937 [01:43<00:00,  9.04it/s]\n"
     ]
    },
    {
     "name": "stdout",
     "output_type": "stream",
     "text": [
      "epoch : 277 Loss : 17.22333526611328 \n"
     ]
    },
    {
     "name": "stderr",
     "output_type": "stream",
     "text": [
      "100%|█████████████████████████████████████████| 937/937 [01:42<00:00,  9.18it/s]\n"
     ]
    },
    {
     "name": "stdout",
     "output_type": "stream",
     "text": [
      "epoch : 278 Loss : 17.52836799621582 \n"
     ]
    },
    {
     "name": "stderr",
     "output_type": "stream",
     "text": [
      "100%|█████████████████████████████████████████| 937/937 [01:48<00:00,  8.64it/s]\n"
     ]
    },
    {
     "name": "stdout",
     "output_type": "stream",
     "text": [
      "epoch : 279 Loss : 17.149009704589844 \n"
     ]
    },
    {
     "name": "stderr",
     "output_type": "stream",
     "text": [
      "100%|█████████████████████████████████████████| 937/937 [01:46<00:00,  8.80it/s]\n"
     ]
    },
    {
     "name": "stdout",
     "output_type": "stream",
     "text": [
      "epoch : 280 Loss : 16.920907974243164 \n"
     ]
    },
    {
     "name": "stderr",
     "output_type": "stream",
     "text": [
      "100%|█████████████████████████████████████████| 937/937 [01:45<00:00,  8.87it/s]\n"
     ]
    },
    {
     "name": "stdout",
     "output_type": "stream",
     "text": [
      "epoch : 281 Loss : 16.812793731689453 \n"
     ]
    },
    {
     "name": "stderr",
     "output_type": "stream",
     "text": [
      "100%|█████████████████████████████████████████| 937/937 [01:48<00:00,  8.61it/s]\n"
     ]
    },
    {
     "name": "stdout",
     "output_type": "stream",
     "text": [
      "epoch : 282 Loss : 16.73040199279785 \n"
     ]
    },
    {
     "name": "stderr",
     "output_type": "stream",
     "text": [
      "100%|█████████████████████████████████████████| 937/937 [01:46<00:00,  8.79it/s]\n"
     ]
    },
    {
     "name": "stdout",
     "output_type": "stream",
     "text": [
      "epoch : 283 Loss : 23.918249130249023 \n"
     ]
    },
    {
     "name": "stderr",
     "output_type": "stream",
     "text": [
      "100%|█████████████████████████████████████████| 937/937 [01:48<00:00,  8.61it/s]\n"
     ]
    },
    {
     "name": "stdout",
     "output_type": "stream",
     "text": [
      "epoch : 284 Loss : 17.457422256469727 \n"
     ]
    },
    {
     "name": "stderr",
     "output_type": "stream",
     "text": [
      "100%|█████████████████████████████████████████| 937/937 [01:46<00:00,  8.78it/s]\n"
     ]
    },
    {
     "name": "stdout",
     "output_type": "stream",
     "text": [
      "epoch : 285 Loss : 17.45713996887207 \n"
     ]
    },
    {
     "name": "stderr",
     "output_type": "stream",
     "text": [
      "100%|█████████████████████████████████████████| 937/937 [01:46<00:00,  8.79it/s]\n"
     ]
    },
    {
     "name": "stdout",
     "output_type": "stream",
     "text": [
      "epoch : 286 Loss : 17.27841567993164 \n"
     ]
    },
    {
     "name": "stderr",
     "output_type": "stream",
     "text": [
      "100%|█████████████████████████████████████████| 937/937 [01:48<00:00,  8.64it/s]\n"
     ]
    },
    {
     "name": "stdout",
     "output_type": "stream",
     "text": [
      "epoch : 287 Loss : 16.9277286529541 \n"
     ]
    },
    {
     "name": "stderr",
     "output_type": "stream",
     "text": [
      "100%|█████████████████████████████████████████| 937/937 [01:47<00:00,  8.70it/s]\n"
     ]
    },
    {
     "name": "stdout",
     "output_type": "stream",
     "text": [
      "epoch : 288 Loss : 17.45337677001953 \n"
     ]
    },
    {
     "name": "stderr",
     "output_type": "stream",
     "text": [
      "100%|█████████████████████████████████████████| 937/937 [01:45<00:00,  8.86it/s]\n"
     ]
    },
    {
     "name": "stdout",
     "output_type": "stream",
     "text": [
      "epoch : 289 Loss : 17.551578521728516 \n"
     ]
    },
    {
     "name": "stderr",
     "output_type": "stream",
     "text": [
      "100%|█████████████████████████████████████████| 937/937 [01:44<00:00,  8.98it/s]\n"
     ]
    },
    {
     "name": "stdout",
     "output_type": "stream",
     "text": [
      "epoch : 290 Loss : 16.78471565246582 \n"
     ]
    },
    {
     "name": "stderr",
     "output_type": "stream",
     "text": [
      "100%|█████████████████████████████████████████| 937/937 [01:46<00:00,  8.83it/s]\n"
     ]
    },
    {
     "name": "stdout",
     "output_type": "stream",
     "text": [
      "epoch : 291 Loss : 16.338279724121094 \n"
     ]
    },
    {
     "name": "stderr",
     "output_type": "stream",
     "text": [
      "100%|█████████████████████████████████████████| 937/937 [01:44<00:00,  8.96it/s]\n"
     ]
    },
    {
     "name": "stdout",
     "output_type": "stream",
     "text": [
      "epoch : 292 Loss : 16.661773681640625 \n"
     ]
    },
    {
     "name": "stderr",
     "output_type": "stream",
     "text": [
      "100%|█████████████████████████████████████████| 937/937 [01:44<00:00,  8.93it/s]\n"
     ]
    },
    {
     "name": "stdout",
     "output_type": "stream",
     "text": [
      "epoch : 293 Loss : 17.222270965576172 \n"
     ]
    },
    {
     "name": "stderr",
     "output_type": "stream",
     "text": [
      "100%|█████████████████████████████████████████| 937/937 [01:43<00:00,  9.04it/s]\n"
     ]
    },
    {
     "name": "stdout",
     "output_type": "stream",
     "text": [
      "epoch : 294 Loss : 17.369503021240234 \n"
     ]
    },
    {
     "name": "stderr",
     "output_type": "stream",
     "text": [
      "100%|█████████████████████████████████████████| 937/937 [01:47<00:00,  8.71it/s]\n"
     ]
    },
    {
     "name": "stdout",
     "output_type": "stream",
     "text": [
      "epoch : 295 Loss : 17.19091796875 \n"
     ]
    },
    {
     "name": "stderr",
     "output_type": "stream",
     "text": [
      "100%|█████████████████████████████████████████| 937/937 [01:47<00:00,  8.68it/s]\n"
     ]
    },
    {
     "name": "stdout",
     "output_type": "stream",
     "text": [
      "epoch : 296 Loss : 17.04503631591797 \n"
     ]
    },
    {
     "name": "stderr",
     "output_type": "stream",
     "text": [
      "100%|█████████████████████████████████████████| 937/937 [01:46<00:00,  8.83it/s]\n"
     ]
    },
    {
     "name": "stdout",
     "output_type": "stream",
     "text": [
      "epoch : 297 Loss : 16.4881591796875 \n"
     ]
    },
    {
     "name": "stderr",
     "output_type": "stream",
     "text": [
      "100%|█████████████████████████████████████████| 937/937 [01:46<00:00,  8.78it/s]\n"
     ]
    },
    {
     "name": "stdout",
     "output_type": "stream",
     "text": [
      "epoch : 298 Loss : 17.37830924987793 \n"
     ]
    },
    {
     "name": "stderr",
     "output_type": "stream",
     "text": [
      "100%|█████████████████████████████████████████| 937/937 [01:46<00:00,  8.78it/s]\n"
     ]
    },
    {
     "name": "stdout",
     "output_type": "stream",
     "text": [
      "epoch : 299 Loss : 17.111629486083984 \n"
     ]
    },
    {
     "name": "stderr",
     "output_type": "stream",
     "text": [
      "100%|█████████████████████████████████████████| 937/937 [01:46<00:00,  8.77it/s]\n"
     ]
    },
    {
     "name": "stdout",
     "output_type": "stream",
     "text": [
      "epoch : 300 Loss : 17.525035858154297 \n"
     ]
    },
    {
     "name": "stderr",
     "output_type": "stream",
     "text": [
      "100%|█████████████████████████████████████████| 937/937 [01:49<00:00,  8.56it/s]\n"
     ]
    },
    {
     "name": "stdout",
     "output_type": "stream",
     "text": [
      "epoch : 301 Loss : 20.370718002319336 \n"
     ]
    },
    {
     "name": "stderr",
     "output_type": "stream",
     "text": [
      "100%|█████████████████████████████████████████| 937/937 [01:50<00:00,  8.44it/s]\n"
     ]
    },
    {
     "name": "stdout",
     "output_type": "stream",
     "text": [
      "epoch : 302 Loss : 17.12055206298828 \n"
     ]
    },
    {
     "name": "stderr",
     "output_type": "stream",
     "text": [
      "100%|█████████████████████████████████████████| 937/937 [01:51<00:00,  8.39it/s]\n"
     ]
    },
    {
     "name": "stdout",
     "output_type": "stream",
     "text": [
      "epoch : 303 Loss : 17.494169235229492 \n"
     ]
    },
    {
     "name": "stderr",
     "output_type": "stream",
     "text": [
      "100%|█████████████████████████████████████████| 937/937 [01:46<00:00,  8.76it/s]\n"
     ]
    },
    {
     "name": "stdout",
     "output_type": "stream",
     "text": [
      "epoch : 304 Loss : 17.4717960357666 \n"
     ]
    },
    {
     "name": "stderr",
     "output_type": "stream",
     "text": [
      "100%|█████████████████████████████████████████| 937/937 [01:47<00:00,  8.72it/s]\n"
     ]
    },
    {
     "name": "stdout",
     "output_type": "stream",
     "text": [
      "epoch : 305 Loss : 17.544178009033203 \n"
     ]
    },
    {
     "name": "stderr",
     "output_type": "stream",
     "text": [
      "100%|█████████████████████████████████████████| 937/937 [01:43<00:00,  9.07it/s]\n"
     ]
    },
    {
     "name": "stdout",
     "output_type": "stream",
     "text": [
      "epoch : 306 Loss : 17.156248092651367 \n"
     ]
    },
    {
     "name": "stderr",
     "output_type": "stream",
     "text": [
      "100%|█████████████████████████████████████████| 937/937 [01:41<00:00,  9.20it/s]\n"
     ]
    },
    {
     "name": "stdout",
     "output_type": "stream",
     "text": [
      "epoch : 307 Loss : 16.696369171142578 \n"
     ]
    },
    {
     "name": "stderr",
     "output_type": "stream",
     "text": [
      "100%|█████████████████████████████████████████| 937/937 [01:43<00:00,  9.07it/s]\n"
     ]
    },
    {
     "name": "stdout",
     "output_type": "stream",
     "text": [
      "epoch : 308 Loss : 18.005992889404297 \n"
     ]
    },
    {
     "name": "stderr",
     "output_type": "stream",
     "text": [
      "100%|█████████████████████████████████████████| 937/937 [01:42<00:00,  9.11it/s]\n"
     ]
    },
    {
     "name": "stdout",
     "output_type": "stream",
     "text": [
      "epoch : 309 Loss : 17.191421508789062 \n"
     ]
    },
    {
     "name": "stderr",
     "output_type": "stream",
     "text": [
      "100%|█████████████████████████████████████████| 937/937 [01:49<00:00,  8.52it/s]\n"
     ]
    },
    {
     "name": "stdout",
     "output_type": "stream",
     "text": [
      "epoch : 310 Loss : 17.26094627380371 \n"
     ]
    },
    {
     "name": "stderr",
     "output_type": "stream",
     "text": [
      "100%|█████████████████████████████████████████| 937/937 [01:49<00:00,  8.57it/s]\n"
     ]
    },
    {
     "name": "stdout",
     "output_type": "stream",
     "text": [
      "epoch : 311 Loss : 20.78728675842285 \n"
     ]
    },
    {
     "name": "stderr",
     "output_type": "stream",
     "text": [
      "100%|█████████████████████████████████████████| 937/937 [01:48<00:00,  8.61it/s]\n"
     ]
    },
    {
     "name": "stdout",
     "output_type": "stream",
     "text": [
      "epoch : 312 Loss : 17.10817527770996 \n"
     ]
    },
    {
     "name": "stderr",
     "output_type": "stream",
     "text": [
      "100%|█████████████████████████████████████████| 937/937 [01:43<00:00,  9.10it/s]\n"
     ]
    },
    {
     "name": "stdout",
     "output_type": "stream",
     "text": [
      "epoch : 313 Loss : 16.40228271484375 \n"
     ]
    },
    {
     "name": "stderr",
     "output_type": "stream",
     "text": [
      "100%|█████████████████████████████████████████| 937/937 [01:43<00:00,  9.04it/s]\n"
     ]
    },
    {
     "name": "stdout",
     "output_type": "stream",
     "text": [
      "epoch : 314 Loss : 17.078739166259766 \n"
     ]
    },
    {
     "name": "stderr",
     "output_type": "stream",
     "text": [
      "100%|█████████████████████████████████████████| 937/937 [01:43<00:00,  9.09it/s]\n"
     ]
    },
    {
     "name": "stdout",
     "output_type": "stream",
     "text": [
      "epoch : 315 Loss : 16.904447555541992 \n"
     ]
    },
    {
     "name": "stderr",
     "output_type": "stream",
     "text": [
      "100%|█████████████████████████████████████████| 937/937 [01:43<00:00,  9.05it/s]\n"
     ]
    },
    {
     "name": "stdout",
     "output_type": "stream",
     "text": [
      "epoch : 316 Loss : 17.89793586730957 \n"
     ]
    },
    {
     "name": "stderr",
     "output_type": "stream",
     "text": [
      "100%|█████████████████████████████████████████| 937/937 [01:43<00:00,  9.09it/s]\n"
     ]
    },
    {
     "name": "stdout",
     "output_type": "stream",
     "text": [
      "epoch : 317 Loss : 17.076704025268555 \n"
     ]
    },
    {
     "name": "stderr",
     "output_type": "stream",
     "text": [
      "100%|█████████████████████████████████████████| 937/937 [01:43<00:00,  9.04it/s]\n"
     ]
    },
    {
     "name": "stdout",
     "output_type": "stream",
     "text": [
      "epoch : 318 Loss : 17.240432739257812 \n"
     ]
    },
    {
     "name": "stderr",
     "output_type": "stream",
     "text": [
      "100%|█████████████████████████████████████████| 937/937 [01:41<00:00,  9.21it/s]\n"
     ]
    },
    {
     "name": "stdout",
     "output_type": "stream",
     "text": [
      "epoch : 319 Loss : 17.066268920898438 \n"
     ]
    },
    {
     "name": "stderr",
     "output_type": "stream",
     "text": [
      "100%|█████████████████████████████████████████| 937/937 [01:43<00:00,  9.02it/s]\n"
     ]
    },
    {
     "name": "stdout",
     "output_type": "stream",
     "text": [
      "epoch : 320 Loss : 16.96117401123047 \n"
     ]
    },
    {
     "name": "stderr",
     "output_type": "stream",
     "text": [
      "100%|█████████████████████████████████████████| 937/937 [01:43<00:00,  9.05it/s]\n"
     ]
    },
    {
     "name": "stdout",
     "output_type": "stream",
     "text": [
      "epoch : 321 Loss : 17.18421173095703 \n"
     ]
    },
    {
     "name": "stderr",
     "output_type": "stream",
     "text": [
      "100%|█████████████████████████████████████████| 937/937 [01:44<00:00,  8.95it/s]\n"
     ]
    },
    {
     "name": "stdout",
     "output_type": "stream",
     "text": [
      "epoch : 322 Loss : 17.924461364746094 \n"
     ]
    },
    {
     "name": "stderr",
     "output_type": "stream",
     "text": [
      "100%|█████████████████████████████████████████| 937/937 [01:42<00:00,  9.15it/s]\n"
     ]
    },
    {
     "name": "stdout",
     "output_type": "stream",
     "text": [
      "epoch : 323 Loss : 17.77532958984375 \n"
     ]
    },
    {
     "name": "stderr",
     "output_type": "stream",
     "text": [
      "100%|█████████████████████████████████████████| 937/937 [01:42<00:00,  9.15it/s]\n"
     ]
    },
    {
     "name": "stdout",
     "output_type": "stream",
     "text": [
      "epoch : 324 Loss : 16.74494743347168 \n"
     ]
    },
    {
     "name": "stderr",
     "output_type": "stream",
     "text": [
      "100%|█████████████████████████████████████████| 937/937 [01:43<00:00,  9.05it/s]\n"
     ]
    },
    {
     "name": "stdout",
     "output_type": "stream",
     "text": [
      "epoch : 325 Loss : 16.656953811645508 \n"
     ]
    },
    {
     "name": "stderr",
     "output_type": "stream",
     "text": [
      "100%|█████████████████████████████████████████| 937/937 [01:46<00:00,  8.76it/s]\n"
     ]
    },
    {
     "name": "stdout",
     "output_type": "stream",
     "text": [
      "epoch : 326 Loss : 16.478336334228516 \n"
     ]
    },
    {
     "name": "stderr",
     "output_type": "stream",
     "text": [
      "100%|█████████████████████████████████████████| 937/937 [01:49<00:00,  8.52it/s]\n"
     ]
    },
    {
     "name": "stdout",
     "output_type": "stream",
     "text": [
      "epoch : 327 Loss : 22.00225830078125 \n"
     ]
    },
    {
     "name": "stderr",
     "output_type": "stream",
     "text": [
      "100%|█████████████████████████████████████████| 937/937 [01:46<00:00,  8.80it/s]\n"
     ]
    },
    {
     "name": "stdout",
     "output_type": "stream",
     "text": [
      "epoch : 328 Loss : 16.642356872558594 \n"
     ]
    },
    {
     "name": "stderr",
     "output_type": "stream",
     "text": [
      "100%|█████████████████████████████████████████| 937/937 [01:50<00:00,  8.48it/s]\n"
     ]
    },
    {
     "name": "stdout",
     "output_type": "stream",
     "text": [
      "epoch : 329 Loss : 17.629230499267578 \n"
     ]
    },
    {
     "name": "stderr",
     "output_type": "stream",
     "text": [
      "100%|█████████████████████████████████████████| 937/937 [01:47<00:00,  8.70it/s]\n"
     ]
    },
    {
     "name": "stdout",
     "output_type": "stream",
     "text": [
      "epoch : 330 Loss : 17.043415069580078 \n"
     ]
    },
    {
     "name": "stderr",
     "output_type": "stream",
     "text": [
      "100%|█████████████████████████████████████████| 937/937 [01:46<00:00,  8.78it/s]\n"
     ]
    },
    {
     "name": "stdout",
     "output_type": "stream",
     "text": [
      "epoch : 331 Loss : 16.846500396728516 \n"
     ]
    },
    {
     "name": "stderr",
     "output_type": "stream",
     "text": [
      "100%|█████████████████████████████████████████| 937/937 [01:48<00:00,  8.66it/s]\n"
     ]
    },
    {
     "name": "stdout",
     "output_type": "stream",
     "text": [
      "epoch : 332 Loss : 17.417903900146484 \n"
     ]
    },
    {
     "name": "stderr",
     "output_type": "stream",
     "text": [
      "100%|█████████████████████████████████████████| 937/937 [01:48<00:00,  8.61it/s]\n"
     ]
    },
    {
     "name": "stdout",
     "output_type": "stream",
     "text": [
      "epoch : 333 Loss : 16.883974075317383 \n"
     ]
    },
    {
     "name": "stderr",
     "output_type": "stream",
     "text": [
      "100%|█████████████████████████████████████████| 937/937 [01:47<00:00,  8.70it/s]\n"
     ]
    },
    {
     "name": "stdout",
     "output_type": "stream",
     "text": [
      "epoch : 334 Loss : 16.38690185546875 \n"
     ]
    },
    {
     "name": "stderr",
     "output_type": "stream",
     "text": [
      "100%|█████████████████████████████████████████| 937/937 [01:46<00:00,  8.80it/s]\n"
     ]
    },
    {
     "name": "stdout",
     "output_type": "stream",
     "text": [
      "epoch : 335 Loss : 17.110647201538086 \n"
     ]
    },
    {
     "name": "stderr",
     "output_type": "stream",
     "text": [
      "100%|█████████████████████████████████████████| 937/937 [01:47<00:00,  8.69it/s]\n"
     ]
    },
    {
     "name": "stdout",
     "output_type": "stream",
     "text": [
      "epoch : 336 Loss : 17.039430618286133 \n"
     ]
    },
    {
     "name": "stderr",
     "output_type": "stream",
     "text": [
      "100%|█████████████████████████████████████████| 937/937 [01:47<00:00,  8.73it/s]\n"
     ]
    },
    {
     "name": "stdout",
     "output_type": "stream",
     "text": [
      "epoch : 337 Loss : 17.31337547302246 \n"
     ]
    },
    {
     "name": "stderr",
     "output_type": "stream",
     "text": [
      "100%|█████████████████████████████████████████| 937/937 [01:45<00:00,  8.84it/s]\n"
     ]
    },
    {
     "name": "stdout",
     "output_type": "stream",
     "text": [
      "epoch : 338 Loss : 17.624347686767578 \n"
     ]
    },
    {
     "name": "stderr",
     "output_type": "stream",
     "text": [
      "100%|█████████████████████████████████████████| 937/937 [01:46<00:00,  8.81it/s]\n"
     ]
    },
    {
     "name": "stdout",
     "output_type": "stream",
     "text": [
      "epoch : 339 Loss : 27.08868408203125 \n"
     ]
    },
    {
     "name": "stderr",
     "output_type": "stream",
     "text": [
      "100%|█████████████████████████████████████████| 937/937 [01:46<00:00,  8.78it/s]\n"
     ]
    },
    {
     "name": "stdout",
     "output_type": "stream",
     "text": [
      "epoch : 340 Loss : 16.750301361083984 \n"
     ]
    },
    {
     "name": "stderr",
     "output_type": "stream",
     "text": [
      "100%|█████████████████████████████████████████| 937/937 [01:47<00:00,  8.71it/s]\n"
     ]
    },
    {
     "name": "stdout",
     "output_type": "stream",
     "text": [
      "epoch : 341 Loss : 16.781307220458984 \n"
     ]
    },
    {
     "name": "stderr",
     "output_type": "stream",
     "text": [
      "100%|█████████████████████████████████████████| 937/937 [01:46<00:00,  8.80it/s]\n"
     ]
    },
    {
     "name": "stdout",
     "output_type": "stream",
     "text": [
      "epoch : 342 Loss : 17.27678108215332 \n"
     ]
    },
    {
     "name": "stderr",
     "output_type": "stream",
     "text": [
      "100%|█████████████████████████████████████████| 937/937 [01:46<00:00,  8.77it/s]\n"
     ]
    },
    {
     "name": "stdout",
     "output_type": "stream",
     "text": [
      "epoch : 343 Loss : 16.967493057250977 \n"
     ]
    },
    {
     "name": "stderr",
     "output_type": "stream",
     "text": [
      "100%|█████████████████████████████████████████| 937/937 [01:42<00:00,  9.12it/s]\n"
     ]
    },
    {
     "name": "stdout",
     "output_type": "stream",
     "text": [
      "epoch : 344 Loss : 17.238969802856445 \n"
     ]
    },
    {
     "name": "stderr",
     "output_type": "stream",
     "text": [
      "100%|█████████████████████████████████████████| 937/937 [01:44<00:00,  8.94it/s]\n"
     ]
    },
    {
     "name": "stdout",
     "output_type": "stream",
     "text": [
      "epoch : 345 Loss : 16.93731689453125 \n"
     ]
    },
    {
     "name": "stderr",
     "output_type": "stream",
     "text": [
      "100%|█████████████████████████████████████████| 937/937 [01:50<00:00,  8.51it/s]\n"
     ]
    },
    {
     "name": "stdout",
     "output_type": "stream",
     "text": [
      "epoch : 346 Loss : 16.98109245300293 \n"
     ]
    },
    {
     "name": "stderr",
     "output_type": "stream",
     "text": [
      "100%|█████████████████████████████████████████| 937/937 [01:47<00:00,  8.71it/s]\n"
     ]
    },
    {
     "name": "stdout",
     "output_type": "stream",
     "text": [
      "epoch : 347 Loss : 17.575664520263672 \n"
     ]
    },
    {
     "name": "stderr",
     "output_type": "stream",
     "text": [
      "100%|█████████████████████████████████████████| 937/937 [01:47<00:00,  8.71it/s]\n"
     ]
    },
    {
     "name": "stdout",
     "output_type": "stream",
     "text": [
      "epoch : 348 Loss : 17.08755111694336 \n"
     ]
    },
    {
     "name": "stderr",
     "output_type": "stream",
     "text": [
      "100%|█████████████████████████████████████████| 937/937 [01:49<00:00,  8.59it/s]\n"
     ]
    },
    {
     "name": "stdout",
     "output_type": "stream",
     "text": [
      "epoch : 349 Loss : 17.66248893737793 \n"
     ]
    },
    {
     "name": "stderr",
     "output_type": "stream",
     "text": [
      "100%|█████████████████████████████████████████| 937/937 [01:43<00:00,  9.03it/s]\n"
     ]
    },
    {
     "name": "stdout",
     "output_type": "stream",
     "text": [
      "epoch : 350 Loss : 15.820819854736328 \n",
      "before_loss = 16.3077, loss = 15.8208, saved_epoch = 350\n",
      "model_save\n"
     ]
    },
    {
     "name": "stderr",
     "output_type": "stream",
     "text": [
      "100%|█████████████████████████████████████████| 937/937 [01:43<00:00,  9.06it/s]\n"
     ]
    },
    {
     "name": "stdout",
     "output_type": "stream",
     "text": [
      "epoch : 351 Loss : 17.37224769592285 \n"
     ]
    },
    {
     "name": "stderr",
     "output_type": "stream",
     "text": [
      "100%|█████████████████████████████████████████| 937/937 [01:44<00:00,  8.96it/s]\n"
     ]
    },
    {
     "name": "stdout",
     "output_type": "stream",
     "text": [
      "epoch : 352 Loss : 16.67904281616211 \n"
     ]
    },
    {
     "name": "stderr",
     "output_type": "stream",
     "text": [
      "100%|█████████████████████████████████████████| 937/937 [01:44<00:00,  8.99it/s]\n"
     ]
    },
    {
     "name": "stdout",
     "output_type": "stream",
     "text": [
      "epoch : 353 Loss : 17.1628475189209 \n"
     ]
    },
    {
     "name": "stderr",
     "output_type": "stream",
     "text": [
      "100%|█████████████████████████████████████████| 937/937 [01:47<00:00,  8.68it/s]\n"
     ]
    },
    {
     "name": "stdout",
     "output_type": "stream",
     "text": [
      "epoch : 354 Loss : 17.064340591430664 \n"
     ]
    },
    {
     "name": "stderr",
     "output_type": "stream",
     "text": [
      "100%|█████████████████████████████████████████| 937/937 [01:52<00:00,  8.32it/s]\n"
     ]
    },
    {
     "name": "stdout",
     "output_type": "stream",
     "text": [
      "epoch : 355 Loss : 20.254362106323242 \n"
     ]
    },
    {
     "name": "stderr",
     "output_type": "stream",
     "text": [
      "100%|█████████████████████████████████████████| 937/937 [01:50<00:00,  8.51it/s]\n"
     ]
    },
    {
     "name": "stdout",
     "output_type": "stream",
     "text": [
      "epoch : 356 Loss : 16.486967086791992 \n"
     ]
    },
    {
     "name": "stderr",
     "output_type": "stream",
     "text": [
      "100%|█████████████████████████████████████████| 937/937 [01:48<00:00,  8.60it/s]\n"
     ]
    },
    {
     "name": "stdout",
     "output_type": "stream",
     "text": [
      "epoch : 357 Loss : 17.474746704101562 \n"
     ]
    },
    {
     "name": "stderr",
     "output_type": "stream",
     "text": [
      "100%|█████████████████████████████████████████| 937/937 [01:48<00:00,  8.65it/s]\n"
     ]
    },
    {
     "name": "stdout",
     "output_type": "stream",
     "text": [
      "epoch : 358 Loss : 16.49443244934082 \n"
     ]
    },
    {
     "name": "stderr",
     "output_type": "stream",
     "text": [
      "100%|█████████████████████████████████████████| 937/937 [01:48<00:00,  8.62it/s]\n"
     ]
    },
    {
     "name": "stdout",
     "output_type": "stream",
     "text": [
      "epoch : 359 Loss : 16.732337951660156 \n"
     ]
    },
    {
     "name": "stderr",
     "output_type": "stream",
     "text": [
      "100%|█████████████████████████████████████████| 937/937 [01:50<00:00,  8.51it/s]\n"
     ]
    },
    {
     "name": "stdout",
     "output_type": "stream",
     "text": [
      "epoch : 360 Loss : 16.437576293945312 \n"
     ]
    },
    {
     "name": "stderr",
     "output_type": "stream",
     "text": [
      "100%|█████████████████████████████████████████| 937/937 [01:49<00:00,  8.55it/s]\n"
     ]
    },
    {
     "name": "stdout",
     "output_type": "stream",
     "text": [
      "epoch : 361 Loss : 17.02147674560547 \n"
     ]
    },
    {
     "name": "stderr",
     "output_type": "stream",
     "text": [
      "100%|█████████████████████████████████████████| 937/937 [01:49<00:00,  8.53it/s]\n"
     ]
    },
    {
     "name": "stdout",
     "output_type": "stream",
     "text": [
      "epoch : 362 Loss : 16.735368728637695 \n"
     ]
    },
    {
     "name": "stderr",
     "output_type": "stream",
     "text": [
      "100%|█████████████████████████████████████████| 937/937 [01:51<00:00,  8.39it/s]\n"
     ]
    },
    {
     "name": "stdout",
     "output_type": "stream",
     "text": [
      "epoch : 363 Loss : 17.392061233520508 \n"
     ]
    },
    {
     "name": "stderr",
     "output_type": "stream",
     "text": [
      "100%|█████████████████████████████████████████| 937/937 [01:52<00:00,  8.34it/s]\n"
     ]
    },
    {
     "name": "stdout",
     "output_type": "stream",
     "text": [
      "epoch : 364 Loss : 16.991912841796875 \n"
     ]
    },
    {
     "name": "stderr",
     "output_type": "stream",
     "text": [
      "100%|█████████████████████████████████████████| 937/937 [01:46<00:00,  8.77it/s]\n"
     ]
    },
    {
     "name": "stdout",
     "output_type": "stream",
     "text": [
      "epoch : 365 Loss : 17.318185806274414 \n"
     ]
    },
    {
     "name": "stderr",
     "output_type": "stream",
     "text": [
      "100%|█████████████████████████████████████████| 937/937 [01:48<00:00,  8.64it/s]\n"
     ]
    },
    {
     "name": "stdout",
     "output_type": "stream",
     "text": [
      "epoch : 366 Loss : 17.513303756713867 \n"
     ]
    },
    {
     "name": "stderr",
     "output_type": "stream",
     "text": [
      "100%|█████████████████████████████████████████| 937/937 [01:48<00:00,  8.65it/s]\n"
     ]
    },
    {
     "name": "stdout",
     "output_type": "stream",
     "text": [
      "epoch : 367 Loss : 16.98690414428711 \n"
     ]
    },
    {
     "name": "stderr",
     "output_type": "stream",
     "text": [
      "100%|█████████████████████████████████████████| 937/937 [01:49<00:00,  8.57it/s]\n"
     ]
    },
    {
     "name": "stdout",
     "output_type": "stream",
     "text": [
      "epoch : 368 Loss : 17.18466567993164 \n"
     ]
    },
    {
     "name": "stderr",
     "output_type": "stream",
     "text": [
      "100%|█████████████████████████████████████████| 937/937 [01:47<00:00,  8.71it/s]\n"
     ]
    },
    {
     "name": "stdout",
     "output_type": "stream",
     "text": [
      "epoch : 369 Loss : 17.379989624023438 \n"
     ]
    },
    {
     "name": "stderr",
     "output_type": "stream",
     "text": [
      "100%|█████████████████████████████████████████| 937/937 [01:49<00:00,  8.54it/s]\n"
     ]
    },
    {
     "name": "stdout",
     "output_type": "stream",
     "text": [
      "epoch : 370 Loss : 16.775360107421875 \n"
     ]
    },
    {
     "name": "stderr",
     "output_type": "stream",
     "text": [
      "100%|█████████████████████████████████████████| 937/937 [01:46<00:00,  8.79it/s]\n"
     ]
    },
    {
     "name": "stdout",
     "output_type": "stream",
     "text": [
      "epoch : 371 Loss : 16.954410552978516 \n"
     ]
    },
    {
     "name": "stderr",
     "output_type": "stream",
     "text": [
      "100%|█████████████████████████████████████████| 937/937 [01:46<00:00,  8.78it/s]\n"
     ]
    },
    {
     "name": "stdout",
     "output_type": "stream",
     "text": [
      "epoch : 372 Loss : 16.624521255493164 \n"
     ]
    },
    {
     "name": "stderr",
     "output_type": "stream",
     "text": [
      "100%|█████████████████████████████████████████| 937/937 [01:46<00:00,  8.79it/s]\n"
     ]
    },
    {
     "name": "stdout",
     "output_type": "stream",
     "text": [
      "epoch : 373 Loss : 17.56279754638672 \n"
     ]
    },
    {
     "name": "stderr",
     "output_type": "stream",
     "text": [
      "100%|█████████████████████████████████████████| 937/937 [01:46<00:00,  8.81it/s]\n"
     ]
    },
    {
     "name": "stdout",
     "output_type": "stream",
     "text": [
      "epoch : 374 Loss : 17.26761817932129 \n"
     ]
    },
    {
     "name": "stderr",
     "output_type": "stream",
     "text": [
      "100%|█████████████████████████████████████████| 937/937 [01:47<00:00,  8.74it/s]\n"
     ]
    },
    {
     "name": "stdout",
     "output_type": "stream",
     "text": [
      "epoch : 375 Loss : 17.17845344543457 \n"
     ]
    },
    {
     "name": "stderr",
     "output_type": "stream",
     "text": [
      "100%|█████████████████████████████████████████| 937/937 [01:47<00:00,  8.75it/s]\n"
     ]
    },
    {
     "name": "stdout",
     "output_type": "stream",
     "text": [
      "epoch : 376 Loss : 16.36429786682129 \n"
     ]
    },
    {
     "name": "stderr",
     "output_type": "stream",
     "text": [
      "100%|█████████████████████████████████████████| 937/937 [01:47<00:00,  8.71it/s]\n"
     ]
    },
    {
     "name": "stdout",
     "output_type": "stream",
     "text": [
      "epoch : 377 Loss : 16.666748046875 \n"
     ]
    },
    {
     "name": "stderr",
     "output_type": "stream",
     "text": [
      "100%|█████████████████████████████████████████| 937/937 [01:47<00:00,  8.74it/s]\n"
     ]
    },
    {
     "name": "stdout",
     "output_type": "stream",
     "text": [
      "epoch : 378 Loss : 17.16610336303711 \n"
     ]
    },
    {
     "name": "stderr",
     "output_type": "stream",
     "text": [
      "100%|█████████████████████████████████████████| 937/937 [01:47<00:00,  8.70it/s]\n"
     ]
    },
    {
     "name": "stdout",
     "output_type": "stream",
     "text": [
      "epoch : 379 Loss : 16.591835021972656 \n"
     ]
    },
    {
     "name": "stderr",
     "output_type": "stream",
     "text": [
      "100%|█████████████████████████████████████████| 937/937 [01:46<00:00,  8.81it/s]\n"
     ]
    },
    {
     "name": "stdout",
     "output_type": "stream",
     "text": [
      "epoch : 380 Loss : 17.177995681762695 \n"
     ]
    },
    {
     "name": "stderr",
     "output_type": "stream",
     "text": [
      "100%|█████████████████████████████████████████| 937/937 [01:49<00:00,  8.55it/s]\n"
     ]
    },
    {
     "name": "stdout",
     "output_type": "stream",
     "text": [
      "epoch : 381 Loss : 16.942485809326172 \n"
     ]
    },
    {
     "name": "stderr",
     "output_type": "stream",
     "text": [
      "100%|█████████████████████████████████████████| 937/937 [01:49<00:00,  8.56it/s]\n"
     ]
    },
    {
     "name": "stdout",
     "output_type": "stream",
     "text": [
      "epoch : 382 Loss : 17.33751106262207 \n"
     ]
    },
    {
     "name": "stderr",
     "output_type": "stream",
     "text": [
      "100%|█████████████████████████████████████████| 937/937 [01:49<00:00,  8.58it/s]\n"
     ]
    },
    {
     "name": "stdout",
     "output_type": "stream",
     "text": [
      "epoch : 383 Loss : 16.8997745513916 \n"
     ]
    },
    {
     "name": "stderr",
     "output_type": "stream",
     "text": [
      "100%|█████████████████████████████████████████| 937/937 [01:47<00:00,  8.72it/s]\n"
     ]
    },
    {
     "name": "stdout",
     "output_type": "stream",
     "text": [
      "epoch : 384 Loss : 17.20131492614746 \n"
     ]
    },
    {
     "name": "stderr",
     "output_type": "stream",
     "text": [
      "100%|█████████████████████████████████████████| 937/937 [01:42<00:00,  9.16it/s]\n"
     ]
    },
    {
     "name": "stdout",
     "output_type": "stream",
     "text": [
      "epoch : 385 Loss : 17.008014678955078 \n"
     ]
    },
    {
     "name": "stderr",
     "output_type": "stream",
     "text": [
      "100%|█████████████████████████████████████████| 937/937 [01:47<00:00,  8.70it/s]\n"
     ]
    },
    {
     "name": "stdout",
     "output_type": "stream",
     "text": [
      "epoch : 386 Loss : 17.428436279296875 \n"
     ]
    },
    {
     "name": "stderr",
     "output_type": "stream",
     "text": [
      "100%|█████████████████████████████████████████| 937/937 [01:48<00:00,  8.62it/s]\n"
     ]
    },
    {
     "name": "stdout",
     "output_type": "stream",
     "text": [
      "epoch : 387 Loss : 17.063623428344727 \n"
     ]
    },
    {
     "name": "stderr",
     "output_type": "stream",
     "text": [
      "100%|█████████████████████████████████████████| 937/937 [01:47<00:00,  8.71it/s]\n"
     ]
    },
    {
     "name": "stdout",
     "output_type": "stream",
     "text": [
      "epoch : 388 Loss : 16.615142822265625 \n"
     ]
    },
    {
     "name": "stderr",
     "output_type": "stream",
     "text": [
      "100%|█████████████████████████████████████████| 937/937 [01:46<00:00,  8.79it/s]\n"
     ]
    },
    {
     "name": "stdout",
     "output_type": "stream",
     "text": [
      "epoch : 389 Loss : 16.53463363647461 \n"
     ]
    },
    {
     "name": "stderr",
     "output_type": "stream",
     "text": [
      "100%|█████████████████████████████████████████| 937/937 [01:47<00:00,  8.72it/s]\n"
     ]
    },
    {
     "name": "stdout",
     "output_type": "stream",
     "text": [
      "epoch : 390 Loss : 16.12642478942871 \n"
     ]
    },
    {
     "name": "stderr",
     "output_type": "stream",
     "text": [
      "100%|█████████████████████████████████████████| 937/937 [01:46<00:00,  8.78it/s]\n"
     ]
    },
    {
     "name": "stdout",
     "output_type": "stream",
     "text": [
      "epoch : 391 Loss : 16.707958221435547 \n"
     ]
    },
    {
     "name": "stderr",
     "output_type": "stream",
     "text": [
      "100%|█████████████████████████████████████████| 937/937 [01:49<00:00,  8.59it/s]\n"
     ]
    },
    {
     "name": "stdout",
     "output_type": "stream",
     "text": [
      "epoch : 392 Loss : 17.40985107421875 \n"
     ]
    },
    {
     "name": "stderr",
     "output_type": "stream",
     "text": [
      "100%|█████████████████████████████████████████| 937/937 [01:50<00:00,  8.44it/s]\n"
     ]
    },
    {
     "name": "stdout",
     "output_type": "stream",
     "text": [
      "epoch : 393 Loss : 16.63469696044922 \n"
     ]
    },
    {
     "name": "stderr",
     "output_type": "stream",
     "text": [
      "100%|█████████████████████████████████████████| 937/937 [01:48<00:00,  8.65it/s]\n"
     ]
    },
    {
     "name": "stdout",
     "output_type": "stream",
     "text": [
      "epoch : 394 Loss : 17.315946578979492 \n"
     ]
    },
    {
     "name": "stderr",
     "output_type": "stream",
     "text": [
      "100%|█████████████████████████████████████████| 937/937 [01:43<00:00,  9.02it/s]\n"
     ]
    },
    {
     "name": "stdout",
     "output_type": "stream",
     "text": [
      "epoch : 395 Loss : 16.870590209960938 \n"
     ]
    },
    {
     "name": "stderr",
     "output_type": "stream",
     "text": [
      "100%|█████████████████████████████████████████| 937/937 [01:44<00:00,  9.00it/s]\n"
     ]
    },
    {
     "name": "stdout",
     "output_type": "stream",
     "text": [
      "epoch : 396 Loss : 21.08550262451172 \n"
     ]
    },
    {
     "name": "stderr",
     "output_type": "stream",
     "text": [
      "100%|█████████████████████████████████████████| 937/937 [01:43<00:00,  9.06it/s]\n"
     ]
    },
    {
     "name": "stdout",
     "output_type": "stream",
     "text": [
      "epoch : 397 Loss : 17.22049331665039 \n"
     ]
    },
    {
     "name": "stderr",
     "output_type": "stream",
     "text": [
      "100%|█████████████████████████████████████████| 937/937 [01:52<00:00,  8.32it/s]\n"
     ]
    },
    {
     "name": "stdout",
     "output_type": "stream",
     "text": [
      "epoch : 398 Loss : 16.42074203491211 \n"
     ]
    },
    {
     "name": "stderr",
     "output_type": "stream",
     "text": [
      "100%|█████████████████████████████████████████| 937/937 [01:46<00:00,  8.78it/s]\n"
     ]
    },
    {
     "name": "stdout",
     "output_type": "stream",
     "text": [
      "epoch : 399 Loss : 16.65406036376953 \n"
     ]
    },
    {
     "name": "stderr",
     "output_type": "stream",
     "text": [
      "100%|█████████████████████████████████████████| 937/937 [01:46<00:00,  8.80it/s]\n"
     ]
    },
    {
     "name": "stdout",
     "output_type": "stream",
     "text": [
      "epoch : 400 Loss : 17.234819412231445 \n"
     ]
    },
    {
     "name": "stderr",
     "output_type": "stream",
     "text": [
      "100%|█████████████████████████████████████████| 937/937 [01:46<00:00,  8.80it/s]\n"
     ]
    },
    {
     "name": "stdout",
     "output_type": "stream",
     "text": [
      "epoch : 401 Loss : 17.70353126525879 \n"
     ]
    },
    {
     "name": "stderr",
     "output_type": "stream",
     "text": [
      "100%|█████████████████████████████████████████| 937/937 [01:47<00:00,  8.72it/s]\n"
     ]
    },
    {
     "name": "stdout",
     "output_type": "stream",
     "text": [
      "epoch : 402 Loss : 16.373348236083984 \n"
     ]
    },
    {
     "name": "stderr",
     "output_type": "stream",
     "text": [
      "100%|█████████████████████████████████████████| 937/937 [01:47<00:00,  8.73it/s]\n"
     ]
    },
    {
     "name": "stdout",
     "output_type": "stream",
     "text": [
      "epoch : 403 Loss : 16.16665267944336 \n"
     ]
    },
    {
     "name": "stderr",
     "output_type": "stream",
     "text": [
      "100%|█████████████████████████████████████████| 937/937 [01:46<00:00,  8.81it/s]\n"
     ]
    },
    {
     "name": "stdout",
     "output_type": "stream",
     "text": [
      "epoch : 404 Loss : 17.005008697509766 \n"
     ]
    },
    {
     "name": "stderr",
     "output_type": "stream",
     "text": [
      "100%|█████████████████████████████████████████| 937/937 [01:47<00:00,  8.72it/s]\n"
     ]
    },
    {
     "name": "stdout",
     "output_type": "stream",
     "text": [
      "epoch : 405 Loss : 16.673437118530273 \n"
     ]
    },
    {
     "name": "stderr",
     "output_type": "stream",
     "text": [
      "100%|█████████████████████████████████████████| 937/937 [01:46<00:00,  8.76it/s]\n"
     ]
    },
    {
     "name": "stdout",
     "output_type": "stream",
     "text": [
      "epoch : 406 Loss : 16.702579498291016 \n"
     ]
    },
    {
     "name": "stderr",
     "output_type": "stream",
     "text": [
      "100%|█████████████████████████████████████████| 937/937 [01:47<00:00,  8.74it/s]\n"
     ]
    },
    {
     "name": "stdout",
     "output_type": "stream",
     "text": [
      "epoch : 407 Loss : 16.307613372802734 \n"
     ]
    },
    {
     "name": "stderr",
     "output_type": "stream",
     "text": [
      "100%|█████████████████████████████████████████| 937/937 [01:46<00:00,  8.80it/s]\n"
     ]
    },
    {
     "name": "stdout",
     "output_type": "stream",
     "text": [
      "epoch : 408 Loss : 17.158159255981445 \n"
     ]
    },
    {
     "name": "stderr",
     "output_type": "stream",
     "text": [
      "100%|█████████████████████████████████████████| 937/937 [01:46<00:00,  8.80it/s]\n"
     ]
    },
    {
     "name": "stdout",
     "output_type": "stream",
     "text": [
      "epoch : 409 Loss : 17.05460548400879 \n"
     ]
    },
    {
     "name": "stderr",
     "output_type": "stream",
     "text": [
      "100%|█████████████████████████████████████████| 937/937 [01:46<00:00,  8.79it/s]\n"
     ]
    },
    {
     "name": "stdout",
     "output_type": "stream",
     "text": [
      "epoch : 410 Loss : 16.678810119628906 \n"
     ]
    },
    {
     "name": "stderr",
     "output_type": "stream",
     "text": [
      "100%|█████████████████████████████████████████| 937/937 [01:46<00:00,  8.82it/s]\n"
     ]
    },
    {
     "name": "stdout",
     "output_type": "stream",
     "text": [
      "epoch : 411 Loss : 16.29073715209961 \n"
     ]
    },
    {
     "name": "stderr",
     "output_type": "stream",
     "text": [
      "100%|█████████████████████████████████████████| 937/937 [01:46<00:00,  8.79it/s]\n"
     ]
    },
    {
     "name": "stdout",
     "output_type": "stream",
     "text": [
      "epoch : 412 Loss : 16.678361892700195 \n"
     ]
    },
    {
     "name": "stderr",
     "output_type": "stream",
     "text": [
      "100%|█████████████████████████████████████████| 937/937 [01:46<00:00,  8.81it/s]\n"
     ]
    },
    {
     "name": "stdout",
     "output_type": "stream",
     "text": [
      "epoch : 413 Loss : 17.082393646240234 \n"
     ]
    },
    {
     "name": "stderr",
     "output_type": "stream",
     "text": [
      "100%|█████████████████████████████████████████| 937/937 [01:47<00:00,  8.72it/s]\n"
     ]
    },
    {
     "name": "stdout",
     "output_type": "stream",
     "text": [
      "epoch : 414 Loss : 16.218828201293945 \n"
     ]
    },
    {
     "name": "stderr",
     "output_type": "stream",
     "text": [
      "100%|█████████████████████████████████████████| 937/937 [01:46<00:00,  8.81it/s]\n"
     ]
    },
    {
     "name": "stdout",
     "output_type": "stream",
     "text": [
      "epoch : 415 Loss : 17.117992401123047 \n"
     ]
    },
    {
     "name": "stderr",
     "output_type": "stream",
     "text": [
      "100%|█████████████████████████████████████████| 937/937 [01:48<00:00,  8.60it/s]\n"
     ]
    },
    {
     "name": "stdout",
     "output_type": "stream",
     "text": [
      "epoch : 416 Loss : 16.263486862182617 \n"
     ]
    },
    {
     "name": "stderr",
     "output_type": "stream",
     "text": [
      "100%|█████████████████████████████████████████| 937/937 [01:50<00:00,  8.45it/s]\n"
     ]
    },
    {
     "name": "stdout",
     "output_type": "stream",
     "text": [
      "epoch : 417 Loss : 16.94443702697754 \n"
     ]
    },
    {
     "name": "stderr",
     "output_type": "stream",
     "text": [
      "100%|█████████████████████████████████████████| 937/937 [01:47<00:00,  8.71it/s]\n"
     ]
    },
    {
     "name": "stdout",
     "output_type": "stream",
     "text": [
      "epoch : 418 Loss : 17.145931243896484 \n"
     ]
    },
    {
     "name": "stderr",
     "output_type": "stream",
     "text": [
      "100%|█████████████████████████████████████████| 937/937 [01:45<00:00,  8.87it/s]\n"
     ]
    },
    {
     "name": "stdout",
     "output_type": "stream",
     "text": [
      "epoch : 419 Loss : 19.847280502319336 \n"
     ]
    },
    {
     "name": "stderr",
     "output_type": "stream",
     "text": [
      "100%|█████████████████████████████████████████| 937/937 [01:46<00:00,  8.81it/s]\n"
     ]
    },
    {
     "name": "stdout",
     "output_type": "stream",
     "text": [
      "epoch : 420 Loss : 16.691587448120117 \n"
     ]
    },
    {
     "name": "stderr",
     "output_type": "stream",
     "text": [
      "100%|█████████████████████████████████████████| 937/937 [01:46<00:00,  8.77it/s]\n"
     ]
    },
    {
     "name": "stdout",
     "output_type": "stream",
     "text": [
      "epoch : 421 Loss : 16.433549880981445 \n"
     ]
    },
    {
     "name": "stderr",
     "output_type": "stream",
     "text": [
      "100%|█████████████████████████████████████████| 937/937 [01:46<00:00,  8.79it/s]\n"
     ]
    },
    {
     "name": "stdout",
     "output_type": "stream",
     "text": [
      "epoch : 422 Loss : 17.08761978149414 \n"
     ]
    },
    {
     "name": "stderr",
     "output_type": "stream",
     "text": [
      "100%|█████████████████████████████████████████| 937/937 [01:45<00:00,  8.91it/s]\n"
     ]
    },
    {
     "name": "stdout",
     "output_type": "stream",
     "text": [
      "epoch : 423 Loss : 17.391315460205078 \n"
     ]
    },
    {
     "name": "stderr",
     "output_type": "stream",
     "text": [
      "100%|█████████████████████████████████████████| 937/937 [01:47<00:00,  8.68it/s]\n"
     ]
    },
    {
     "name": "stdout",
     "output_type": "stream",
     "text": [
      "epoch : 424 Loss : 16.7481632232666 \n"
     ]
    },
    {
     "name": "stderr",
     "output_type": "stream",
     "text": [
      "100%|█████████████████████████████████████████| 937/937 [01:49<00:00,  8.53it/s]\n"
     ]
    },
    {
     "name": "stdout",
     "output_type": "stream",
     "text": [
      "epoch : 425 Loss : 16.776546478271484 \n"
     ]
    },
    {
     "name": "stderr",
     "output_type": "stream",
     "text": [
      "100%|█████████████████████████████████████████| 937/937 [01:47<00:00,  8.70it/s]\n"
     ]
    },
    {
     "name": "stdout",
     "output_type": "stream",
     "text": [
      "epoch : 426 Loss : 16.870941162109375 \n"
     ]
    },
    {
     "name": "stderr",
     "output_type": "stream",
     "text": [
      "100%|█████████████████████████████████████████| 937/937 [01:48<00:00,  8.62it/s]\n"
     ]
    },
    {
     "name": "stdout",
     "output_type": "stream",
     "text": [
      "epoch : 427 Loss : 16.822904586791992 \n"
     ]
    },
    {
     "name": "stderr",
     "output_type": "stream",
     "text": [
      "100%|█████████████████████████████████████████| 937/937 [01:49<00:00,  8.57it/s]\n"
     ]
    },
    {
     "name": "stdout",
     "output_type": "stream",
     "text": [
      "epoch : 428 Loss : 16.889081954956055 \n"
     ]
    },
    {
     "name": "stderr",
     "output_type": "stream",
     "text": [
      "100%|█████████████████████████████████████████| 937/937 [01:46<00:00,  8.83it/s]\n"
     ]
    },
    {
     "name": "stdout",
     "output_type": "stream",
     "text": [
      "epoch : 429 Loss : 16.346681594848633 \n"
     ]
    },
    {
     "name": "stderr",
     "output_type": "stream",
     "text": [
      "100%|█████████████████████████████████████████| 937/937 [01:45<00:00,  8.85it/s]\n"
     ]
    },
    {
     "name": "stdout",
     "output_type": "stream",
     "text": [
      "epoch : 430 Loss : 16.9469051361084 \n"
     ]
    },
    {
     "name": "stderr",
     "output_type": "stream",
     "text": [
      "100%|█████████████████████████████████████████| 937/937 [01:47<00:00,  8.75it/s]\n"
     ]
    },
    {
     "name": "stdout",
     "output_type": "stream",
     "text": [
      "epoch : 431 Loss : 18.79022979736328 \n"
     ]
    },
    {
     "name": "stderr",
     "output_type": "stream",
     "text": [
      "100%|█████████████████████████████████████████| 937/937 [01:45<00:00,  8.86it/s]\n"
     ]
    },
    {
     "name": "stdout",
     "output_type": "stream",
     "text": [
      "epoch : 432 Loss : 16.72323989868164 \n"
     ]
    },
    {
     "name": "stderr",
     "output_type": "stream",
     "text": [
      "100%|█████████████████████████████████████████| 937/937 [01:46<00:00,  8.83it/s]\n"
     ]
    },
    {
     "name": "stdout",
     "output_type": "stream",
     "text": [
      "epoch : 433 Loss : 16.987483978271484 \n"
     ]
    },
    {
     "name": "stderr",
     "output_type": "stream",
     "text": [
      "100%|█████████████████████████████████████████| 937/937 [01:46<00:00,  8.78it/s]\n"
     ]
    },
    {
     "name": "stdout",
     "output_type": "stream",
     "text": [
      "epoch : 434 Loss : 17.070131301879883 \n"
     ]
    },
    {
     "name": "stderr",
     "output_type": "stream",
     "text": [
      "100%|█████████████████████████████████████████| 937/937 [01:47<00:00,  8.74it/s]\n"
     ]
    },
    {
     "name": "stdout",
     "output_type": "stream",
     "text": [
      "epoch : 435 Loss : 16.55097770690918 \n"
     ]
    },
    {
     "name": "stderr",
     "output_type": "stream",
     "text": [
      "100%|█████████████████████████████████████████| 937/937 [01:46<00:00,  8.79it/s]\n"
     ]
    },
    {
     "name": "stdout",
     "output_type": "stream",
     "text": [
      "epoch : 436 Loss : 17.106966018676758 \n"
     ]
    },
    {
     "name": "stderr",
     "output_type": "stream",
     "text": [
      "100%|█████████████████████████████████████████| 937/937 [01:46<00:00,  8.84it/s]\n"
     ]
    },
    {
     "name": "stdout",
     "output_type": "stream",
     "text": [
      "epoch : 437 Loss : 16.497325897216797 \n"
     ]
    },
    {
     "name": "stderr",
     "output_type": "stream",
     "text": [
      "100%|█████████████████████████████████████████| 937/937 [01:48<00:00,  8.63it/s]\n"
     ]
    },
    {
     "name": "stdout",
     "output_type": "stream",
     "text": [
      "epoch : 438 Loss : 16.813262939453125 \n"
     ]
    },
    {
     "name": "stderr",
     "output_type": "stream",
     "text": [
      "100%|█████████████████████████████████████████| 937/937 [01:47<00:00,  8.75it/s]\n"
     ]
    },
    {
     "name": "stdout",
     "output_type": "stream",
     "text": [
      "epoch : 439 Loss : 16.73967170715332 \n"
     ]
    },
    {
     "name": "stderr",
     "output_type": "stream",
     "text": [
      "100%|█████████████████████████████████████████| 937/937 [01:43<00:00,  9.08it/s]\n"
     ]
    },
    {
     "name": "stdout",
     "output_type": "stream",
     "text": [
      "epoch : 440 Loss : 16.48202896118164 \n"
     ]
    },
    {
     "name": "stderr",
     "output_type": "stream",
     "text": [
      "100%|█████████████████████████████████████████| 937/937 [01:43<00:00,  9.06it/s]\n"
     ]
    },
    {
     "name": "stdout",
     "output_type": "stream",
     "text": [
      "epoch : 441 Loss : 16.6976375579834 \n"
     ]
    },
    {
     "name": "stderr",
     "output_type": "stream",
     "text": [
      "100%|█████████████████████████████████████████| 937/937 [01:43<00:00,  9.07it/s]\n"
     ]
    },
    {
     "name": "stdout",
     "output_type": "stream",
     "text": [
      "epoch : 442 Loss : 16.757787704467773 \n"
     ]
    },
    {
     "name": "stderr",
     "output_type": "stream",
     "text": [
      "100%|█████████████████████████████████████████| 937/937 [01:47<00:00,  8.70it/s]\n"
     ]
    },
    {
     "name": "stdout",
     "output_type": "stream",
     "text": [
      "epoch : 443 Loss : 16.190698623657227 \n"
     ]
    },
    {
     "name": "stderr",
     "output_type": "stream",
     "text": [
      "100%|█████████████████████████████████████████| 937/937 [01:51<00:00,  8.41it/s]\n"
     ]
    },
    {
     "name": "stdout",
     "output_type": "stream",
     "text": [
      "epoch : 444 Loss : 17.046533584594727 \n"
     ]
    },
    {
     "name": "stderr",
     "output_type": "stream",
     "text": [
      "100%|█████████████████████████████████████████| 937/937 [01:47<00:00,  8.72it/s]\n"
     ]
    },
    {
     "name": "stdout",
     "output_type": "stream",
     "text": [
      "epoch : 445 Loss : 21.503074645996094 \n"
     ]
    },
    {
     "name": "stderr",
     "output_type": "stream",
     "text": [
      "100%|█████████████████████████████████████████| 937/937 [01:45<00:00,  8.86it/s]\n"
     ]
    },
    {
     "name": "stdout",
     "output_type": "stream",
     "text": [
      "epoch : 446 Loss : 16.369081497192383 \n"
     ]
    },
    {
     "name": "stderr",
     "output_type": "stream",
     "text": [
      "100%|█████████████████████████████████████████| 937/937 [01:46<00:00,  8.81it/s]\n"
     ]
    },
    {
     "name": "stdout",
     "output_type": "stream",
     "text": [
      "epoch : 447 Loss : 17.301008224487305 \n"
     ]
    },
    {
     "name": "stderr",
     "output_type": "stream",
     "text": [
      "100%|█████████████████████████████████████████| 937/937 [01:46<00:00,  8.82it/s]\n"
     ]
    },
    {
     "name": "stdout",
     "output_type": "stream",
     "text": [
      "epoch : 448 Loss : 16.949920654296875 \n"
     ]
    },
    {
     "name": "stderr",
     "output_type": "stream",
     "text": [
      "100%|█████████████████████████████████████████| 937/937 [01:45<00:00,  8.85it/s]\n"
     ]
    },
    {
     "name": "stdout",
     "output_type": "stream",
     "text": [
      "epoch : 449 Loss : 16.67353630065918 \n"
     ]
    },
    {
     "name": "stderr",
     "output_type": "stream",
     "text": [
      "100%|█████████████████████████████████████████| 937/937 [01:46<00:00,  8.80it/s]\n"
     ]
    },
    {
     "name": "stdout",
     "output_type": "stream",
     "text": [
      "epoch : 450 Loss : 16.846267700195312 \n"
     ]
    },
    {
     "name": "stderr",
     "output_type": "stream",
     "text": [
      "100%|█████████████████████████████████████████| 937/937 [01:46<00:00,  8.78it/s]\n"
     ]
    },
    {
     "name": "stdout",
     "output_type": "stream",
     "text": [
      "epoch : 451 Loss : 16.763174057006836 \n"
     ]
    },
    {
     "name": "stderr",
     "output_type": "stream",
     "text": [
      "100%|█████████████████████████████████████████| 937/937 [01:48<00:00,  8.66it/s]\n"
     ]
    },
    {
     "name": "stdout",
     "output_type": "stream",
     "text": [
      "epoch : 452 Loss : 16.739530563354492 \n"
     ]
    },
    {
     "name": "stderr",
     "output_type": "stream",
     "text": [
      "100%|█████████████████████████████████████████| 937/937 [01:46<00:00,  8.79it/s]\n"
     ]
    },
    {
     "name": "stdout",
     "output_type": "stream",
     "text": [
      "epoch : 453 Loss : 16.72422981262207 \n"
     ]
    },
    {
     "name": "stderr",
     "output_type": "stream",
     "text": [
      "100%|█████████████████████████████████████████| 937/937 [01:45<00:00,  8.85it/s]\n"
     ]
    },
    {
     "name": "stdout",
     "output_type": "stream",
     "text": [
      "epoch : 454 Loss : 17.63068389892578 \n"
     ]
    },
    {
     "name": "stderr",
     "output_type": "stream",
     "text": [
      "100%|█████████████████████████████████████████| 937/937 [01:47<00:00,  8.76it/s]\n"
     ]
    },
    {
     "name": "stdout",
     "output_type": "stream",
     "text": [
      "epoch : 455 Loss : 17.117176055908203 \n"
     ]
    },
    {
     "name": "stderr",
     "output_type": "stream",
     "text": [
      "100%|█████████████████████████████████████████| 937/937 [01:43<00:00,  9.01it/s]\n"
     ]
    },
    {
     "name": "stdout",
     "output_type": "stream",
     "text": [
      "epoch : 456 Loss : 16.694091796875 \n"
     ]
    },
    {
     "name": "stderr",
     "output_type": "stream",
     "text": [
      "100%|█████████████████████████████████████████| 937/937 [01:48<00:00,  8.67it/s]\n"
     ]
    },
    {
     "name": "stdout",
     "output_type": "stream",
     "text": [
      "epoch : 457 Loss : 16.778162002563477 \n"
     ]
    },
    {
     "name": "stderr",
     "output_type": "stream",
     "text": [
      "100%|█████████████████████████████████████████| 937/937 [01:47<00:00,  8.69it/s]\n"
     ]
    },
    {
     "name": "stdout",
     "output_type": "stream",
     "text": [
      "epoch : 458 Loss : 16.69245147705078 \n"
     ]
    },
    {
     "name": "stderr",
     "output_type": "stream",
     "text": [
      "100%|█████████████████████████████████████████| 937/937 [01:46<00:00,  8.82it/s]\n"
     ]
    },
    {
     "name": "stdout",
     "output_type": "stream",
     "text": [
      "epoch : 459 Loss : 16.349227905273438 \n"
     ]
    },
    {
     "name": "stderr",
     "output_type": "stream",
     "text": [
      "100%|█████████████████████████████████████████| 937/937 [01:43<00:00,  9.06it/s]\n"
     ]
    },
    {
     "name": "stdout",
     "output_type": "stream",
     "text": [
      "epoch : 460 Loss : 18.349342346191406 \n"
     ]
    },
    {
     "name": "stderr",
     "output_type": "stream",
     "text": [
      "100%|█████████████████████████████████████████| 937/937 [01:43<00:00,  9.05it/s]\n"
     ]
    },
    {
     "name": "stdout",
     "output_type": "stream",
     "text": [
      "epoch : 461 Loss : 16.946687698364258 \n"
     ]
    },
    {
     "name": "stderr",
     "output_type": "stream",
     "text": [
      "100%|█████████████████████████████████████████| 937/937 [01:43<00:00,  9.07it/s]\n"
     ]
    },
    {
     "name": "stdout",
     "output_type": "stream",
     "text": [
      "epoch : 462 Loss : 16.426244735717773 \n"
     ]
    },
    {
     "name": "stderr",
     "output_type": "stream",
     "text": [
      "100%|█████████████████████████████████████████| 937/937 [01:43<00:00,  9.06it/s]\n"
     ]
    },
    {
     "name": "stdout",
     "output_type": "stream",
     "text": [
      "epoch : 463 Loss : 16.78412437438965 \n"
     ]
    },
    {
     "name": "stderr",
     "output_type": "stream",
     "text": [
      "100%|█████████████████████████████████████████| 937/937 [01:44<00:00,  8.98it/s]\n"
     ]
    },
    {
     "name": "stdout",
     "output_type": "stream",
     "text": [
      "epoch : 464 Loss : 16.823362350463867 \n"
     ]
    },
    {
     "name": "stderr",
     "output_type": "stream",
     "text": [
      "100%|█████████████████████████████████████████| 937/937 [01:43<00:00,  9.06it/s]\n"
     ]
    },
    {
     "name": "stdout",
     "output_type": "stream",
     "text": [
      "epoch : 465 Loss : 16.745492935180664 \n"
     ]
    },
    {
     "name": "stderr",
     "output_type": "stream",
     "text": [
      "100%|█████████████████████████████████████████| 937/937 [01:44<00:00,  9.00it/s]\n"
     ]
    },
    {
     "name": "stdout",
     "output_type": "stream",
     "text": [
      "epoch : 466 Loss : 16.881994247436523 \n"
     ]
    },
    {
     "name": "stderr",
     "output_type": "stream",
     "text": [
      "100%|█████████████████████████████████████████| 937/937 [01:42<00:00,  9.10it/s]\n"
     ]
    },
    {
     "name": "stdout",
     "output_type": "stream",
     "text": [
      "epoch : 467 Loss : 17.222949981689453 \n"
     ]
    },
    {
     "name": "stderr",
     "output_type": "stream",
     "text": [
      "100%|█████████████████████████████████████████| 937/937 [01:42<00:00,  9.12it/s]\n"
     ]
    },
    {
     "name": "stdout",
     "output_type": "stream",
     "text": [
      "epoch : 468 Loss : 16.79134178161621 \n"
     ]
    },
    {
     "name": "stderr",
     "output_type": "stream",
     "text": [
      "100%|█████████████████████████████████████████| 937/937 [01:44<00:00,  8.97it/s]\n"
     ]
    },
    {
     "name": "stdout",
     "output_type": "stream",
     "text": [
      "epoch : 469 Loss : 17.17350959777832 \n"
     ]
    },
    {
     "name": "stderr",
     "output_type": "stream",
     "text": [
      "100%|█████████████████████████████████████████| 937/937 [01:44<00:00,  8.93it/s]\n"
     ]
    },
    {
     "name": "stdout",
     "output_type": "stream",
     "text": [
      "epoch : 470 Loss : 16.838762283325195 \n"
     ]
    },
    {
     "name": "stderr",
     "output_type": "stream",
     "text": [
      "100%|█████████████████████████████████████████| 937/937 [01:44<00:00,  8.99it/s]\n"
     ]
    },
    {
     "name": "stdout",
     "output_type": "stream",
     "text": [
      "epoch : 471 Loss : 16.71489715576172 \n"
     ]
    },
    {
     "name": "stderr",
     "output_type": "stream",
     "text": [
      "100%|█████████████████████████████████████████| 937/937 [01:42<00:00,  9.11it/s]\n"
     ]
    },
    {
     "name": "stdout",
     "output_type": "stream",
     "text": [
      "epoch : 472 Loss : 17.364519119262695 \n"
     ]
    },
    {
     "name": "stderr",
     "output_type": "stream",
     "text": [
      "100%|█████████████████████████████████████████| 937/937 [01:43<00:00,  9.06it/s]\n"
     ]
    },
    {
     "name": "stdout",
     "output_type": "stream",
     "text": [
      "epoch : 473 Loss : 17.682117462158203 \n"
     ]
    },
    {
     "name": "stderr",
     "output_type": "stream",
     "text": [
      "100%|█████████████████████████████████████████| 937/937 [01:42<00:00,  9.17it/s]\n"
     ]
    },
    {
     "name": "stdout",
     "output_type": "stream",
     "text": [
      "epoch : 474 Loss : 16.8636474609375 \n"
     ]
    },
    {
     "name": "stderr",
     "output_type": "stream",
     "text": [
      "100%|█████████████████████████████████████████| 937/937 [01:44<00:00,  9.00it/s]\n"
     ]
    },
    {
     "name": "stdout",
     "output_type": "stream",
     "text": [
      "epoch : 475 Loss : 16.36338233947754 \n"
     ]
    },
    {
     "name": "stderr",
     "output_type": "stream",
     "text": [
      "100%|█████████████████████████████████████████| 937/937 [01:43<00:00,  9.02it/s]\n"
     ]
    },
    {
     "name": "stdout",
     "output_type": "stream",
     "text": [
      "epoch : 476 Loss : 16.765901565551758 \n"
     ]
    },
    {
     "name": "stderr",
     "output_type": "stream",
     "text": [
      "100%|█████████████████████████████████████████| 937/937 [01:50<00:00,  8.46it/s]\n"
     ]
    },
    {
     "name": "stdout",
     "output_type": "stream",
     "text": [
      "epoch : 477 Loss : 17.12082290649414 \n"
     ]
    },
    {
     "name": "stderr",
     "output_type": "stream",
     "text": [
      "100%|█████████████████████████████████████████| 937/937 [01:50<00:00,  8.44it/s]\n"
     ]
    },
    {
     "name": "stdout",
     "output_type": "stream",
     "text": [
      "epoch : 478 Loss : 16.94602394104004 \n"
     ]
    },
    {
     "name": "stderr",
     "output_type": "stream",
     "text": [
      "100%|█████████████████████████████████████████| 937/937 [01:50<00:00,  8.46it/s]\n"
     ]
    },
    {
     "name": "stdout",
     "output_type": "stream",
     "text": [
      "epoch : 479 Loss : 17.58596420288086 \n"
     ]
    },
    {
     "name": "stderr",
     "output_type": "stream",
     "text": [
      "100%|█████████████████████████████████████████| 937/937 [01:49<00:00,  8.59it/s]\n"
     ]
    },
    {
     "name": "stdout",
     "output_type": "stream",
     "text": [
      "epoch : 480 Loss : 16.51054573059082 \n"
     ]
    },
    {
     "name": "stderr",
     "output_type": "stream",
     "text": [
      "100%|█████████████████████████████████████████| 937/937 [01:46<00:00,  8.81it/s]\n"
     ]
    },
    {
     "name": "stdout",
     "output_type": "stream",
     "text": [
      "epoch : 481 Loss : 16.975683212280273 \n"
     ]
    },
    {
     "name": "stderr",
     "output_type": "stream",
     "text": [
      "100%|█████████████████████████████████████████| 937/937 [01:49<00:00,  8.57it/s]\n"
     ]
    },
    {
     "name": "stdout",
     "output_type": "stream",
     "text": [
      "epoch : 482 Loss : 17.211986541748047 \n"
     ]
    },
    {
     "name": "stderr",
     "output_type": "stream",
     "text": [
      "100%|█████████████████████████████████████████| 937/937 [01:49<00:00,  8.57it/s]\n"
     ]
    },
    {
     "name": "stdout",
     "output_type": "stream",
     "text": [
      "epoch : 483 Loss : 17.56134605407715 \n"
     ]
    },
    {
     "name": "stderr",
     "output_type": "stream",
     "text": [
      "100%|█████████████████████████████████████████| 937/937 [01:46<00:00,  8.78it/s]\n"
     ]
    },
    {
     "name": "stdout",
     "output_type": "stream",
     "text": [
      "epoch : 484 Loss : 17.034029006958008 \n"
     ]
    },
    {
     "name": "stderr",
     "output_type": "stream",
     "text": [
      "100%|█████████████████████████████████████████| 937/937 [01:46<00:00,  8.78it/s]\n"
     ]
    },
    {
     "name": "stdout",
     "output_type": "stream",
     "text": [
      "epoch : 485 Loss : 16.425771713256836 \n"
     ]
    },
    {
     "name": "stderr",
     "output_type": "stream",
     "text": [
      "100%|█████████████████████████████████████████| 937/937 [01:48<00:00,  8.66it/s]\n"
     ]
    },
    {
     "name": "stdout",
     "output_type": "stream",
     "text": [
      "epoch : 486 Loss : 16.47420310974121 \n"
     ]
    },
    {
     "name": "stderr",
     "output_type": "stream",
     "text": [
      "100%|█████████████████████████████████████████| 937/937 [01:45<00:00,  8.91it/s]\n"
     ]
    },
    {
     "name": "stdout",
     "output_type": "stream",
     "text": [
      "epoch : 487 Loss : 16.772769927978516 \n"
     ]
    },
    {
     "name": "stderr",
     "output_type": "stream",
     "text": [
      "100%|█████████████████████████████████████████| 937/937 [01:49<00:00,  8.57it/s]\n"
     ]
    },
    {
     "name": "stdout",
     "output_type": "stream",
     "text": [
      "epoch : 488 Loss : 16.689348220825195 \n"
     ]
    },
    {
     "name": "stderr",
     "output_type": "stream",
     "text": [
      "100%|█████████████████████████████████████████| 937/937 [01:48<00:00,  8.67it/s]\n"
     ]
    },
    {
     "name": "stdout",
     "output_type": "stream",
     "text": [
      "epoch : 489 Loss : 16.805070877075195 \n"
     ]
    },
    {
     "name": "stderr",
     "output_type": "stream",
     "text": [
      "100%|█████████████████████████████████████████| 937/937 [01:48<00:00,  8.61it/s]\n"
     ]
    },
    {
     "name": "stdout",
     "output_type": "stream",
     "text": [
      "epoch : 490 Loss : 17.0230655670166 \n"
     ]
    },
    {
     "name": "stderr",
     "output_type": "stream",
     "text": [
      "100%|█████████████████████████████████████████| 937/937 [01:50<00:00,  8.45it/s]\n"
     ]
    },
    {
     "name": "stdout",
     "output_type": "stream",
     "text": [
      "epoch : 491 Loss : 17.117603302001953 \n"
     ]
    },
    {
     "name": "stderr",
     "output_type": "stream",
     "text": [
      "100%|█████████████████████████████████████████| 937/937 [01:43<00:00,  9.03it/s]\n"
     ]
    },
    {
     "name": "stdout",
     "output_type": "stream",
     "text": [
      "epoch : 492 Loss : 16.45090103149414 \n"
     ]
    },
    {
     "name": "stderr",
     "output_type": "stream",
     "text": [
      "100%|█████████████████████████████████████████| 937/937 [01:44<00:00,  9.00it/s]\n"
     ]
    },
    {
     "name": "stdout",
     "output_type": "stream",
     "text": [
      "epoch : 493 Loss : 16.464242935180664 \n"
     ]
    },
    {
     "name": "stderr",
     "output_type": "stream",
     "text": [
      "100%|█████████████████████████████████████████| 937/937 [01:43<00:00,  9.02it/s]\n"
     ]
    },
    {
     "name": "stdout",
     "output_type": "stream",
     "text": [
      "epoch : 494 Loss : 16.550994873046875 \n"
     ]
    },
    {
     "name": "stderr",
     "output_type": "stream",
     "text": [
      "100%|█████████████████████████████████████████| 937/937 [01:42<00:00,  9.10it/s]\n"
     ]
    },
    {
     "name": "stdout",
     "output_type": "stream",
     "text": [
      "epoch : 495 Loss : 16.10089683532715 \n"
     ]
    },
    {
     "name": "stderr",
     "output_type": "stream",
     "text": [
      "100%|█████████████████████████████████████████| 937/937 [01:45<00:00,  8.89it/s]\n"
     ]
    },
    {
     "name": "stdout",
     "output_type": "stream",
     "text": [
      "epoch : 496 Loss : 16.804948806762695 \n"
     ]
    },
    {
     "name": "stderr",
     "output_type": "stream",
     "text": [
      "100%|█████████████████████████████████████████| 937/937 [01:48<00:00,  8.67it/s]\n"
     ]
    },
    {
     "name": "stdout",
     "output_type": "stream",
     "text": [
      "epoch : 497 Loss : 17.192659378051758 \n"
     ]
    },
    {
     "name": "stderr",
     "output_type": "stream",
     "text": [
      "100%|█████████████████████████████████████████| 937/937 [01:49<00:00,  8.54it/s]\n"
     ]
    },
    {
     "name": "stdout",
     "output_type": "stream",
     "text": [
      "epoch : 498 Loss : 16.60100555419922 \n"
     ]
    },
    {
     "name": "stderr",
     "output_type": "stream",
     "text": [
      "100%|█████████████████████████████████████████| 937/937 [01:48<00:00,  8.67it/s]\n"
     ]
    },
    {
     "name": "stdout",
     "output_type": "stream",
     "text": [
      "epoch : 499 Loss : 17.15223503112793 \n"
     ]
    },
    {
     "name": "stderr",
     "output_type": "stream",
     "text": [
      "100%|█████████████████████████████████████████| 937/937 [01:46<00:00,  8.79it/s]\n"
     ]
    },
    {
     "name": "stdout",
     "output_type": "stream",
     "text": [
      "epoch : 500 Loss : 16.609270095825195 \n"
     ]
    },
    {
     "name": "stderr",
     "output_type": "stream",
     "text": [
      "100%|█████████████████████████████████████████| 937/937 [01:47<00:00,  8.73it/s]\n"
     ]
    },
    {
     "name": "stdout",
     "output_type": "stream",
     "text": [
      "epoch : 501 Loss : 16.728723526000977 \n"
     ]
    },
    {
     "name": "stderr",
     "output_type": "stream",
     "text": [
      "100%|█████████████████████████████████████████| 937/937 [01:45<00:00,  8.84it/s]\n"
     ]
    },
    {
     "name": "stdout",
     "output_type": "stream",
     "text": [
      "epoch : 502 Loss : 16.768346786499023 \n"
     ]
    },
    {
     "name": "stderr",
     "output_type": "stream",
     "text": [
      "100%|█████████████████████████████████████████| 937/937 [01:47<00:00,  8.72it/s]\n"
     ]
    },
    {
     "name": "stdout",
     "output_type": "stream",
     "text": [
      "epoch : 503 Loss : 16.235450744628906 \n"
     ]
    },
    {
     "name": "stderr",
     "output_type": "stream",
     "text": [
      "100%|█████████████████████████████████████████| 937/937 [01:47<00:00,  8.75it/s]\n"
     ]
    },
    {
     "name": "stdout",
     "output_type": "stream",
     "text": [
      "epoch : 504 Loss : 16.69429588317871 \n"
     ]
    },
    {
     "name": "stderr",
     "output_type": "stream",
     "text": [
      "100%|█████████████████████████████████████████| 937/937 [01:47<00:00,  8.68it/s]\n"
     ]
    },
    {
     "name": "stdout",
     "output_type": "stream",
     "text": [
      "epoch : 505 Loss : 22.25364112854004 \n"
     ]
    },
    {
     "name": "stderr",
     "output_type": "stream",
     "text": [
      "100%|█████████████████████████████████████████| 937/937 [01:50<00:00,  8.51it/s]\n"
     ]
    },
    {
     "name": "stdout",
     "output_type": "stream",
     "text": [
      "epoch : 506 Loss : 17.202468872070312 \n"
     ]
    },
    {
     "name": "stderr",
     "output_type": "stream",
     "text": [
      "100%|█████████████████████████████████████████| 937/937 [01:48<00:00,  8.65it/s]\n"
     ]
    },
    {
     "name": "stdout",
     "output_type": "stream",
     "text": [
      "epoch : 507 Loss : 16.329137802124023 \n"
     ]
    },
    {
     "name": "stderr",
     "output_type": "stream",
     "text": [
      "100%|█████████████████████████████████████████| 937/937 [01:49<00:00,  8.58it/s]\n"
     ]
    },
    {
     "name": "stdout",
     "output_type": "stream",
     "text": [
      "epoch : 508 Loss : 16.52503204345703 \n"
     ]
    },
    {
     "name": "stderr",
     "output_type": "stream",
     "text": [
      "100%|█████████████████████████████████████████| 937/937 [01:47<00:00,  8.73it/s]\n"
     ]
    },
    {
     "name": "stdout",
     "output_type": "stream",
     "text": [
      "epoch : 509 Loss : 17.252702713012695 \n"
     ]
    },
    {
     "name": "stderr",
     "output_type": "stream",
     "text": [
      "100%|█████████████████████████████████████████| 937/937 [01:46<00:00,  8.76it/s]\n"
     ]
    },
    {
     "name": "stdout",
     "output_type": "stream",
     "text": [
      "epoch : 510 Loss : 16.477001190185547 \n"
     ]
    },
    {
     "name": "stderr",
     "output_type": "stream",
     "text": [
      "100%|█████████████████████████████████████████| 937/937 [01:46<00:00,  8.77it/s]\n"
     ]
    },
    {
     "name": "stdout",
     "output_type": "stream",
     "text": [
      "epoch : 511 Loss : 17.819538116455078 \n"
     ]
    },
    {
     "name": "stderr",
     "output_type": "stream",
     "text": [
      "100%|█████████████████████████████████████████| 937/937 [01:47<00:00,  8.76it/s]\n"
     ]
    },
    {
     "name": "stdout",
     "output_type": "stream",
     "text": [
      "epoch : 512 Loss : 17.593523025512695 \n"
     ]
    },
    {
     "name": "stderr",
     "output_type": "stream",
     "text": [
      "100%|█████████████████████████████████████████| 937/937 [01:47<00:00,  8.73it/s]\n"
     ]
    },
    {
     "name": "stdout",
     "output_type": "stream",
     "text": [
      "epoch : 513 Loss : 16.67279624938965 \n"
     ]
    },
    {
     "name": "stderr",
     "output_type": "stream",
     "text": [
      "100%|█████████████████████████████████████████| 937/937 [01:45<00:00,  8.87it/s]\n"
     ]
    },
    {
     "name": "stdout",
     "output_type": "stream",
     "text": [
      "epoch : 514 Loss : 16.960512161254883 \n"
     ]
    },
    {
     "name": "stderr",
     "output_type": "stream",
     "text": [
      "100%|█████████████████████████████████████████| 937/937 [01:47<00:00,  8.72it/s]\n"
     ]
    },
    {
     "name": "stdout",
     "output_type": "stream",
     "text": [
      "epoch : 515 Loss : 17.17376136779785 \n"
     ]
    },
    {
     "name": "stderr",
     "output_type": "stream",
     "text": [
      "100%|█████████████████████████████████████████| 937/937 [01:47<00:00,  8.72it/s]\n"
     ]
    },
    {
     "name": "stdout",
     "output_type": "stream",
     "text": [
      "epoch : 516 Loss : 16.44194221496582 \n"
     ]
    },
    {
     "name": "stderr",
     "output_type": "stream",
     "text": [
      "100%|█████████████████████████████████████████| 937/937 [01:49<00:00,  8.58it/s]\n"
     ]
    },
    {
     "name": "stdout",
     "output_type": "stream",
     "text": [
      "epoch : 517 Loss : 16.78609275817871 \n"
     ]
    },
    {
     "name": "stderr",
     "output_type": "stream",
     "text": [
      "100%|█████████████████████████████████████████| 937/937 [01:47<00:00,  8.75it/s]\n"
     ]
    },
    {
     "name": "stdout",
     "output_type": "stream",
     "text": [
      "epoch : 518 Loss : 17.852691650390625 \n"
     ]
    },
    {
     "name": "stderr",
     "output_type": "stream",
     "text": [
      "100%|█████████████████████████████████████████| 937/937 [01:47<00:00,  8.70it/s]\n"
     ]
    },
    {
     "name": "stdout",
     "output_type": "stream",
     "text": [
      "epoch : 519 Loss : 17.04842185974121 \n"
     ]
    },
    {
     "name": "stderr",
     "output_type": "stream",
     "text": [
      "100%|█████████████████████████████████████████| 937/937 [01:49<00:00,  8.54it/s]\n"
     ]
    },
    {
     "name": "stdout",
     "output_type": "stream",
     "text": [
      "epoch : 520 Loss : 16.378211975097656 \n"
     ]
    },
    {
     "name": "stderr",
     "output_type": "stream",
     "text": [
      "100%|█████████████████████████████████████████| 937/937 [01:46<00:00,  8.78it/s]\n"
     ]
    },
    {
     "name": "stdout",
     "output_type": "stream",
     "text": [
      "epoch : 521 Loss : 17.129505157470703 \n"
     ]
    },
    {
     "name": "stderr",
     "output_type": "stream",
     "text": [
      "100%|█████████████████████████████████████████| 937/937 [01:46<00:00,  8.76it/s]\n"
     ]
    },
    {
     "name": "stdout",
     "output_type": "stream",
     "text": [
      "epoch : 522 Loss : 16.28458595275879 \n"
     ]
    },
    {
     "name": "stderr",
     "output_type": "stream",
     "text": [
      "100%|█████████████████████████████████████████| 937/937 [01:48<00:00,  8.65it/s]\n"
     ]
    },
    {
     "name": "stdout",
     "output_type": "stream",
     "text": [
      "epoch : 523 Loss : 16.305288314819336 \n"
     ]
    },
    {
     "name": "stderr",
     "output_type": "stream",
     "text": [
      "100%|█████████████████████████████████████████| 937/937 [01:43<00:00,  9.05it/s]\n"
     ]
    },
    {
     "name": "stdout",
     "output_type": "stream",
     "text": [
      "epoch : 524 Loss : 16.692541122436523 \n"
     ]
    },
    {
     "name": "stderr",
     "output_type": "stream",
     "text": [
      "100%|█████████████████████████████████████████| 937/937 [01:50<00:00,  8.45it/s]\n"
     ]
    },
    {
     "name": "stdout",
     "output_type": "stream",
     "text": [
      "epoch : 525 Loss : 16.621063232421875 \n"
     ]
    },
    {
     "name": "stderr",
     "output_type": "stream",
     "text": [
      "100%|█████████████████████████████████████████| 937/937 [01:47<00:00,  8.72it/s]\n"
     ]
    },
    {
     "name": "stdout",
     "output_type": "stream",
     "text": [
      "epoch : 526 Loss : 16.31705093383789 \n"
     ]
    },
    {
     "name": "stderr",
     "output_type": "stream",
     "text": [
      "100%|█████████████████████████████████████████| 937/937 [01:49<00:00,  8.58it/s]\n"
     ]
    },
    {
     "name": "stdout",
     "output_type": "stream",
     "text": [
      "epoch : 527 Loss : 20.29262924194336 \n"
     ]
    },
    {
     "name": "stderr",
     "output_type": "stream",
     "text": [
      "100%|█████████████████████████████████████████| 937/937 [01:46<00:00,  8.81it/s]\n"
     ]
    },
    {
     "name": "stdout",
     "output_type": "stream",
     "text": [
      "epoch : 528 Loss : 17.280296325683594 \n"
     ]
    },
    {
     "name": "stderr",
     "output_type": "stream",
     "text": [
      "100%|█████████████████████████████████████████| 937/937 [01:46<00:00,  8.81it/s]\n"
     ]
    },
    {
     "name": "stdout",
     "output_type": "stream",
     "text": [
      "epoch : 529 Loss : 16.96200180053711 \n"
     ]
    },
    {
     "name": "stderr",
     "output_type": "stream",
     "text": [
      "100%|█████████████████████████████████████████| 937/937 [01:46<00:00,  8.78it/s]\n"
     ]
    },
    {
     "name": "stdout",
     "output_type": "stream",
     "text": [
      "epoch : 530 Loss : 17.0511474609375 \n"
     ]
    },
    {
     "name": "stderr",
     "output_type": "stream",
     "text": [
      "100%|█████████████████████████████████████████| 937/937 [01:46<00:00,  8.76it/s]\n"
     ]
    },
    {
     "name": "stdout",
     "output_type": "stream",
     "text": [
      "epoch : 531 Loss : 16.404258728027344 \n"
     ]
    },
    {
     "name": "stderr",
     "output_type": "stream",
     "text": [
      "100%|█████████████████████████████████████████| 937/937 [01:48<00:00,  8.66it/s]\n"
     ]
    },
    {
     "name": "stdout",
     "output_type": "stream",
     "text": [
      "epoch : 532 Loss : 16.301557540893555 \n"
     ]
    },
    {
     "name": "stderr",
     "output_type": "stream",
     "text": [
      "100%|█████████████████████████████████████████| 937/937 [01:44<00:00,  8.96it/s]\n"
     ]
    },
    {
     "name": "stdout",
     "output_type": "stream",
     "text": [
      "epoch : 533 Loss : 17.05462646484375 \n"
     ]
    },
    {
     "name": "stderr",
     "output_type": "stream",
     "text": [
      "100%|█████████████████████████████████████████| 937/937 [01:47<00:00,  8.70it/s]\n"
     ]
    },
    {
     "name": "stdout",
     "output_type": "stream",
     "text": [
      "epoch : 534 Loss : 17.088212966918945 \n"
     ]
    },
    {
     "name": "stderr",
     "output_type": "stream",
     "text": [
      "100%|█████████████████████████████████████████| 937/937 [01:49<00:00,  8.57it/s]\n"
     ]
    },
    {
     "name": "stdout",
     "output_type": "stream",
     "text": [
      "epoch : 535 Loss : 16.491207122802734 \n"
     ]
    },
    {
     "name": "stderr",
     "output_type": "stream",
     "text": [
      "100%|█████████████████████████████████████████| 937/937 [01:48<00:00,  8.60it/s]\n"
     ]
    },
    {
     "name": "stdout",
     "output_type": "stream",
     "text": [
      "epoch : 536 Loss : 16.79928207397461 \n"
     ]
    },
    {
     "name": "stderr",
     "output_type": "stream",
     "text": [
      "100%|█████████████████████████████████████████| 937/937 [01:48<00:00,  8.67it/s]\n"
     ]
    },
    {
     "name": "stdout",
     "output_type": "stream",
     "text": [
      "epoch : 537 Loss : 16.67391586303711 \n"
     ]
    },
    {
     "name": "stderr",
     "output_type": "stream",
     "text": [
      "100%|█████████████████████████████████████████| 937/937 [01:48<00:00,  8.62it/s]\n"
     ]
    },
    {
     "name": "stdout",
     "output_type": "stream",
     "text": [
      "epoch : 538 Loss : 16.751951217651367 \n"
     ]
    },
    {
     "name": "stderr",
     "output_type": "stream",
     "text": [
      "100%|█████████████████████████████████████████| 937/937 [01:43<00:00,  9.02it/s]\n"
     ]
    },
    {
     "name": "stdout",
     "output_type": "stream",
     "text": [
      "epoch : 539 Loss : 17.05743980407715 \n"
     ]
    },
    {
     "name": "stderr",
     "output_type": "stream",
     "text": [
      "100%|█████████████████████████████████████████| 937/937 [01:43<00:00,  9.04it/s]\n"
     ]
    },
    {
     "name": "stdout",
     "output_type": "stream",
     "text": [
      "epoch : 540 Loss : 16.273406982421875 \n"
     ]
    },
    {
     "name": "stderr",
     "output_type": "stream",
     "text": [
      "100%|█████████████████████████████████████████| 937/937 [01:42<00:00,  9.12it/s]\n"
     ]
    },
    {
     "name": "stdout",
     "output_type": "stream",
     "text": [
      "epoch : 541 Loss : 16.645071029663086 \n"
     ]
    },
    {
     "name": "stderr",
     "output_type": "stream",
     "text": [
      "100%|█████████████████████████████████████████| 937/937 [01:42<00:00,  9.17it/s]\n"
     ]
    },
    {
     "name": "stdout",
     "output_type": "stream",
     "text": [
      "epoch : 542 Loss : 16.244937896728516 \n"
     ]
    },
    {
     "name": "stderr",
     "output_type": "stream",
     "text": [
      "100%|█████████████████████████████████████████| 937/937 [01:43<00:00,  9.08it/s]\n"
     ]
    },
    {
     "name": "stdout",
     "output_type": "stream",
     "text": [
      "epoch : 543 Loss : 16.569324493408203 \n"
     ]
    },
    {
     "name": "stderr",
     "output_type": "stream",
     "text": [
      "100%|█████████████████████████████████████████| 937/937 [01:49<00:00,  8.52it/s]\n"
     ]
    },
    {
     "name": "stdout",
     "output_type": "stream",
     "text": [
      "epoch : 544 Loss : 17.072317123413086 \n"
     ]
    },
    {
     "name": "stderr",
     "output_type": "stream",
     "text": [
      "100%|█████████████████████████████████████████| 937/937 [01:47<00:00,  8.71it/s]\n"
     ]
    },
    {
     "name": "stdout",
     "output_type": "stream",
     "text": [
      "epoch : 545 Loss : 17.01567840576172 \n"
     ]
    },
    {
     "name": "stderr",
     "output_type": "stream",
     "text": [
      "100%|█████████████████████████████████████████| 937/937 [01:43<00:00,  9.03it/s]\n"
     ]
    },
    {
     "name": "stdout",
     "output_type": "stream",
     "text": [
      "epoch : 546 Loss : 25.025327682495117 \n"
     ]
    },
    {
     "name": "stderr",
     "output_type": "stream",
     "text": [
      "100%|█████████████████████████████████████████| 937/937 [01:47<00:00,  8.69it/s]\n"
     ]
    },
    {
     "name": "stdout",
     "output_type": "stream",
     "text": [
      "epoch : 547 Loss : 17.792142868041992 \n"
     ]
    },
    {
     "name": "stderr",
     "output_type": "stream",
     "text": [
      "100%|█████████████████████████████████████████| 937/937 [01:49<00:00,  8.59it/s]\n"
     ]
    },
    {
     "name": "stdout",
     "output_type": "stream",
     "text": [
      "epoch : 548 Loss : 17.248361587524414 \n"
     ]
    },
    {
     "name": "stderr",
     "output_type": "stream",
     "text": [
      "100%|█████████████████████████████████████████| 937/937 [01:49<00:00,  8.56it/s]\n"
     ]
    },
    {
     "name": "stdout",
     "output_type": "stream",
     "text": [
      "epoch : 549 Loss : 16.33997344970703 \n"
     ]
    },
    {
     "name": "stderr",
     "output_type": "stream",
     "text": [
      "100%|█████████████████████████████████████████| 937/937 [01:44<00:00,  8.95it/s]\n"
     ]
    },
    {
     "name": "stdout",
     "output_type": "stream",
     "text": [
      "epoch : 550 Loss : 16.690702438354492 \n"
     ]
    },
    {
     "name": "stderr",
     "output_type": "stream",
     "text": [
      "100%|█████████████████████████████████████████| 937/937 [01:47<00:00,  8.73it/s]\n"
     ]
    },
    {
     "name": "stdout",
     "output_type": "stream",
     "text": [
      "epoch : 551 Loss : 16.988628387451172 \n"
     ]
    },
    {
     "name": "stderr",
     "output_type": "stream",
     "text": [
      "100%|█████████████████████████████████████████| 937/937 [01:47<00:00,  8.72it/s]\n"
     ]
    },
    {
     "name": "stdout",
     "output_type": "stream",
     "text": [
      "epoch : 552 Loss : 16.87022590637207 \n"
     ]
    },
    {
     "name": "stderr",
     "output_type": "stream",
     "text": [
      "100%|█████████████████████████████████████████| 937/937 [01:48<00:00,  8.64it/s]\n"
     ]
    },
    {
     "name": "stdout",
     "output_type": "stream",
     "text": [
      "epoch : 553 Loss : 17.042680740356445 \n"
     ]
    },
    {
     "name": "stderr",
     "output_type": "stream",
     "text": [
      "100%|█████████████████████████████████████████| 937/937 [01:46<00:00,  8.77it/s]\n"
     ]
    },
    {
     "name": "stdout",
     "output_type": "stream",
     "text": [
      "epoch : 554 Loss : 16.89643669128418 \n"
     ]
    },
    {
     "name": "stderr",
     "output_type": "stream",
     "text": [
      "100%|█████████████████████████████████████████| 937/937 [01:47<00:00,  8.71it/s]\n"
     ]
    },
    {
     "name": "stdout",
     "output_type": "stream",
     "text": [
      "epoch : 555 Loss : 16.96350860595703 \n"
     ]
    },
    {
     "name": "stderr",
     "output_type": "stream",
     "text": [
      "100%|█████████████████████████████████████████| 937/937 [01:47<00:00,  8.69it/s]\n"
     ]
    },
    {
     "name": "stdout",
     "output_type": "stream",
     "text": [
      "epoch : 556 Loss : 16.76801300048828 \n"
     ]
    },
    {
     "name": "stderr",
     "output_type": "stream",
     "text": [
      "100%|█████████████████████████████████████████| 937/937 [01:50<00:00,  8.50it/s]\n"
     ]
    },
    {
     "name": "stdout",
     "output_type": "stream",
     "text": [
      "epoch : 557 Loss : 17.345369338989258 \n"
     ]
    },
    {
     "name": "stderr",
     "output_type": "stream",
     "text": [
      "100%|█████████████████████████████████████████| 937/937 [01:48<00:00,  8.67it/s]\n"
     ]
    },
    {
     "name": "stdout",
     "output_type": "stream",
     "text": [
      "epoch : 558 Loss : 16.527132034301758 \n"
     ]
    },
    {
     "name": "stderr",
     "output_type": "stream",
     "text": [
      "100%|█████████████████████████████████████████| 937/937 [01:47<00:00,  8.72it/s]\n"
     ]
    },
    {
     "name": "stdout",
     "output_type": "stream",
     "text": [
      "epoch : 559 Loss : 16.520933151245117 \n"
     ]
    },
    {
     "name": "stderr",
     "output_type": "stream",
     "text": [
      "100%|█████████████████████████████████████████| 937/937 [01:50<00:00,  8.50it/s]\n"
     ]
    },
    {
     "name": "stdout",
     "output_type": "stream",
     "text": [
      "epoch : 560 Loss : 16.484006881713867 \n"
     ]
    },
    {
     "name": "stderr",
     "output_type": "stream",
     "text": [
      "100%|█████████████████████████████████████████| 937/937 [01:48<00:00,  8.67it/s]\n"
     ]
    },
    {
     "name": "stdout",
     "output_type": "stream",
     "text": [
      "epoch : 561 Loss : 17.110599517822266 \n"
     ]
    },
    {
     "name": "stderr",
     "output_type": "stream",
     "text": [
      "100%|█████████████████████████████████████████| 937/937 [01:47<00:00,  8.71it/s]\n"
     ]
    },
    {
     "name": "stdout",
     "output_type": "stream",
     "text": [
      "epoch : 562 Loss : 16.486740112304688 \n"
     ]
    },
    {
     "name": "stderr",
     "output_type": "stream",
     "text": [
      "100%|█████████████████████████████████████████| 937/937 [01:48<00:00,  8.67it/s]\n"
     ]
    },
    {
     "name": "stdout",
     "output_type": "stream",
     "text": [
      "epoch : 563 Loss : 16.5778865814209 \n"
     ]
    },
    {
     "name": "stderr",
     "output_type": "stream",
     "text": [
      "100%|█████████████████████████████████████████| 937/937 [01:48<00:00,  8.63it/s]\n"
     ]
    },
    {
     "name": "stdout",
     "output_type": "stream",
     "text": [
      "epoch : 564 Loss : 16.162216186523438 \n"
     ]
    },
    {
     "name": "stderr",
     "output_type": "stream",
     "text": [
      "100%|█████████████████████████████████████████| 937/937 [01:45<00:00,  8.92it/s]\n"
     ]
    },
    {
     "name": "stdout",
     "output_type": "stream",
     "text": [
      "epoch : 565 Loss : 16.7333927154541 \n"
     ]
    },
    {
     "name": "stderr",
     "output_type": "stream",
     "text": [
      "100%|█████████████████████████████████████████| 937/937 [01:44<00:00,  9.00it/s]\n"
     ]
    },
    {
     "name": "stdout",
     "output_type": "stream",
     "text": [
      "epoch : 566 Loss : 17.214271545410156 \n"
     ]
    },
    {
     "name": "stderr",
     "output_type": "stream",
     "text": [
      "100%|█████████████████████████████████████████| 937/937 [01:44<00:00,  8.95it/s]\n"
     ]
    },
    {
     "name": "stdout",
     "output_type": "stream",
     "text": [
      "epoch : 567 Loss : 16.043630599975586 \n"
     ]
    },
    {
     "name": "stderr",
     "output_type": "stream",
     "text": [
      "100%|█████████████████████████████████████████| 937/937 [01:46<00:00,  8.81it/s]\n"
     ]
    },
    {
     "name": "stdout",
     "output_type": "stream",
     "text": [
      "epoch : 568 Loss : 16.583471298217773 \n"
     ]
    },
    {
     "name": "stderr",
     "output_type": "stream",
     "text": [
      "  5%|██▎                                       | 51/937 [00:09<02:40,  5.53it/s]\n"
     ]
    },
    {
     "ename": "KeyboardInterrupt",
     "evalue": "",
     "output_type": "error",
     "traceback": [
      "\u001b[0;31m---------------------------------------------------------------------------\u001b[0m",
      "\u001b[0;31mKeyboardInterrupt\u001b[0m                         Traceback (most recent call last)",
      "\u001b[0;32m/tmp/ipykernel_1556452/2909970429.py\u001b[0m in \u001b[0;36m<module>\u001b[0;34m\u001b[0m\n\u001b[1;32m     31\u001b[0m \u001b[0;34m\u001b[0m\u001b[0m\n\u001b[1;32m     32\u001b[0m         \u001b[0mloss\u001b[0m\u001b[0;34m.\u001b[0m\u001b[0mbackward\u001b[0m\u001b[0;34m(\u001b[0m\u001b[0;34m)\u001b[0m\u001b[0;34m\u001b[0m\u001b[0;34m\u001b[0m\u001b[0m\n\u001b[0;32m---> 33\u001b[0;31m         \u001b[0moptimizer\u001b[0m\u001b[0;34m.\u001b[0m\u001b[0mstep\u001b[0m\u001b[0;34m(\u001b[0m\u001b[0;34m)\u001b[0m\u001b[0;34m\u001b[0m\u001b[0;34m\u001b[0m\u001b[0m\n\u001b[0m\u001b[1;32m     34\u001b[0m \u001b[0;34m\u001b[0m\u001b[0m\n\u001b[1;32m     35\u001b[0m \u001b[0;34m\u001b[0m\u001b[0m\n",
      "\u001b[0;32m/opt/conda/lib/python3.8/site-packages/torch/optim/optimizer.py\u001b[0m in \u001b[0;36mwrapper\u001b[0;34m(*args, **kwargs)\u001b[0m\n\u001b[1;32m    107\u001b[0m                 \u001b[0mprofile_name\u001b[0m \u001b[0;34m=\u001b[0m \u001b[0;34m\"Optimizer.step#{}.step\"\u001b[0m\u001b[0;34m.\u001b[0m\u001b[0mformat\u001b[0m\u001b[0;34m(\u001b[0m\u001b[0mobj\u001b[0m\u001b[0;34m.\u001b[0m\u001b[0m__class__\u001b[0m\u001b[0;34m.\u001b[0m\u001b[0m__name__\u001b[0m\u001b[0;34m)\u001b[0m\u001b[0;34m\u001b[0m\u001b[0;34m\u001b[0m\u001b[0m\n\u001b[1;32m    108\u001b[0m                 \u001b[0;32mwith\u001b[0m \u001b[0mtorch\u001b[0m\u001b[0;34m.\u001b[0m\u001b[0mautograd\u001b[0m\u001b[0;34m.\u001b[0m\u001b[0mprofiler\u001b[0m\u001b[0;34m.\u001b[0m\u001b[0mrecord_function\u001b[0m\u001b[0;34m(\u001b[0m\u001b[0mprofile_name\u001b[0m\u001b[0;34m)\u001b[0m\u001b[0;34m:\u001b[0m\u001b[0;34m\u001b[0m\u001b[0;34m\u001b[0m\u001b[0m\n\u001b[0;32m--> 109\u001b[0;31m                     \u001b[0;32mreturn\u001b[0m \u001b[0mfunc\u001b[0m\u001b[0;34m(\u001b[0m\u001b[0;34m*\u001b[0m\u001b[0margs\u001b[0m\u001b[0;34m,\u001b[0m \u001b[0;34m**\u001b[0m\u001b[0mkwargs\u001b[0m\u001b[0;34m)\u001b[0m\u001b[0;34m\u001b[0m\u001b[0;34m\u001b[0m\u001b[0m\n\u001b[0m\u001b[1;32m    110\u001b[0m             \u001b[0;32mreturn\u001b[0m \u001b[0mwrapper\u001b[0m\u001b[0;34m\u001b[0m\u001b[0;34m\u001b[0m\u001b[0m\n\u001b[1;32m    111\u001b[0m \u001b[0;34m\u001b[0m\u001b[0m\n",
      "\u001b[0;32m/opt/conda/lib/python3.8/site-packages/torch/autograd/grad_mode.py\u001b[0m in \u001b[0;36mdecorate_context\u001b[0;34m(*args, **kwargs)\u001b[0m\n\u001b[1;32m     25\u001b[0m         \u001b[0;32mdef\u001b[0m \u001b[0mdecorate_context\u001b[0m\u001b[0;34m(\u001b[0m\u001b[0;34m*\u001b[0m\u001b[0margs\u001b[0m\u001b[0;34m,\u001b[0m \u001b[0;34m**\u001b[0m\u001b[0mkwargs\u001b[0m\u001b[0;34m)\u001b[0m\u001b[0;34m:\u001b[0m\u001b[0;34m\u001b[0m\u001b[0;34m\u001b[0m\u001b[0m\n\u001b[1;32m     26\u001b[0m             \u001b[0;32mwith\u001b[0m \u001b[0mself\u001b[0m\u001b[0;34m.\u001b[0m\u001b[0mclone\u001b[0m\u001b[0;34m(\u001b[0m\u001b[0;34m)\u001b[0m\u001b[0;34m:\u001b[0m\u001b[0;34m\u001b[0m\u001b[0;34m\u001b[0m\u001b[0m\n\u001b[0;32m---> 27\u001b[0;31m                 \u001b[0;32mreturn\u001b[0m \u001b[0mfunc\u001b[0m\u001b[0;34m(\u001b[0m\u001b[0;34m*\u001b[0m\u001b[0margs\u001b[0m\u001b[0;34m,\u001b[0m \u001b[0;34m**\u001b[0m\u001b[0mkwargs\u001b[0m\u001b[0;34m)\u001b[0m\u001b[0;34m\u001b[0m\u001b[0;34m\u001b[0m\u001b[0m\n\u001b[0m\u001b[1;32m     28\u001b[0m         \u001b[0;32mreturn\u001b[0m \u001b[0mcast\u001b[0m\u001b[0;34m(\u001b[0m\u001b[0mF\u001b[0m\u001b[0;34m,\u001b[0m \u001b[0mdecorate_context\u001b[0m\u001b[0;34m)\u001b[0m\u001b[0;34m\u001b[0m\u001b[0;34m\u001b[0m\u001b[0m\n\u001b[1;32m     29\u001b[0m \u001b[0;34m\u001b[0m\u001b[0m\n",
      "\u001b[0;32m/opt/conda/lib/python3.8/site-packages/torch/optim/adamw.py\u001b[0m in \u001b[0;36mstep\u001b[0;34m(self, closure)\u001b[0m\n\u001b[1;32m    159\u001b[0m                 \u001b[0mstate_steps\u001b[0m\u001b[0;34m.\u001b[0m\u001b[0mappend\u001b[0m\u001b[0;34m(\u001b[0m\u001b[0mstate\u001b[0m\u001b[0;34m[\u001b[0m\u001b[0;34m'step'\u001b[0m\u001b[0;34m]\u001b[0m\u001b[0;34m)\u001b[0m\u001b[0;34m\u001b[0m\u001b[0;34m\u001b[0m\u001b[0m\n\u001b[1;32m    160\u001b[0m \u001b[0;34m\u001b[0m\u001b[0m\n\u001b[0;32m--> 161\u001b[0;31m             adamw(params_with_grad,\n\u001b[0m\u001b[1;32m    162\u001b[0m                   \u001b[0mgrads\u001b[0m\u001b[0;34m,\u001b[0m\u001b[0;34m\u001b[0m\u001b[0;34m\u001b[0m\u001b[0m\n\u001b[1;32m    163\u001b[0m                   \u001b[0mexp_avgs\u001b[0m\u001b[0;34m,\u001b[0m\u001b[0;34m\u001b[0m\u001b[0;34m\u001b[0m\u001b[0m\n",
      "\u001b[0;32m/opt/conda/lib/python3.8/site-packages/torch/optim/adamw.py\u001b[0m in \u001b[0;36madamw\u001b[0;34m(params, grads, exp_avgs, exp_avg_sqs, max_exp_avg_sqs, state_steps, foreach, capturable, amsgrad, beta1, beta2, lr, weight_decay, eps, maximize)\u001b[0m\n\u001b[1;32m    216\u001b[0m         \u001b[0mfunc\u001b[0m \u001b[0;34m=\u001b[0m \u001b[0m_single_tensor_adamw\u001b[0m\u001b[0;34m\u001b[0m\u001b[0;34m\u001b[0m\u001b[0m\n\u001b[1;32m    217\u001b[0m \u001b[0;34m\u001b[0m\u001b[0m\n\u001b[0;32m--> 218\u001b[0;31m     func(params,\n\u001b[0m\u001b[1;32m    219\u001b[0m          \u001b[0mgrads\u001b[0m\u001b[0;34m,\u001b[0m\u001b[0;34m\u001b[0m\u001b[0;34m\u001b[0m\u001b[0m\n\u001b[1;32m    220\u001b[0m          \u001b[0mexp_avgs\u001b[0m\u001b[0;34m,\u001b[0m\u001b[0;34m\u001b[0m\u001b[0;34m\u001b[0m\u001b[0m\n",
      "\u001b[0;32m/opt/conda/lib/python3.8/site-packages/torch/optim/adamw.py\u001b[0m in \u001b[0;36m_single_tensor_adamw\u001b[0;34m(params, grads, exp_avgs, exp_avg_sqs, max_exp_avg_sqs, state_steps, amsgrad, beta1, beta2, lr, weight_decay, eps, maximize, capturable)\u001b[0m\n\u001b[1;32m    266\u001b[0m \u001b[0;34m\u001b[0m\u001b[0m\n\u001b[1;32m    267\u001b[0m         \u001b[0;31m# Decay the first and second moment running average coefficient\u001b[0m\u001b[0;34m\u001b[0m\u001b[0;34m\u001b[0m\u001b[0;34m\u001b[0m\u001b[0m\n\u001b[0;32m--> 268\u001b[0;31m         \u001b[0mexp_avg\u001b[0m\u001b[0;34m.\u001b[0m\u001b[0mmul_\u001b[0m\u001b[0;34m(\u001b[0m\u001b[0mbeta1\u001b[0m\u001b[0;34m)\u001b[0m\u001b[0;34m.\u001b[0m\u001b[0madd_\u001b[0m\u001b[0;34m(\u001b[0m\u001b[0mgrad\u001b[0m\u001b[0;34m,\u001b[0m \u001b[0malpha\u001b[0m\u001b[0;34m=\u001b[0m\u001b[0;36m1\u001b[0m \u001b[0;34m-\u001b[0m \u001b[0mbeta1\u001b[0m\u001b[0;34m)\u001b[0m\u001b[0;34m\u001b[0m\u001b[0;34m\u001b[0m\u001b[0m\n\u001b[0m\u001b[1;32m    269\u001b[0m         \u001b[0mexp_avg_sq\u001b[0m\u001b[0;34m.\u001b[0m\u001b[0mmul_\u001b[0m\u001b[0;34m(\u001b[0m\u001b[0mbeta2\u001b[0m\u001b[0;34m)\u001b[0m\u001b[0;34m.\u001b[0m\u001b[0maddcmul_\u001b[0m\u001b[0;34m(\u001b[0m\u001b[0mgrad\u001b[0m\u001b[0;34m,\u001b[0m \u001b[0mgrad\u001b[0m\u001b[0;34m,\u001b[0m \u001b[0mvalue\u001b[0m\u001b[0;34m=\u001b[0m\u001b[0;36m1\u001b[0m \u001b[0;34m-\u001b[0m \u001b[0mbeta2\u001b[0m\u001b[0;34m)\u001b[0m\u001b[0;34m\u001b[0m\u001b[0;34m\u001b[0m\u001b[0m\n\u001b[1;32m    270\u001b[0m \u001b[0;34m\u001b[0m\u001b[0m\n",
      "\u001b[0;31mKeyboardInterrupt\u001b[0m: "
     ]
    }
   ],
   "source": [
    "from torchvision.utils import save_image\n",
    "from tqdm import tqdm\n",
    "epochs = 600\n",
    "before_loss = 999999.0\n",
    "saved_epoch = 0\n",
    "\n",
    "threshold = 0.2\n",
    "\n",
    "for epoch in range(epochs):\n",
    "    \n",
    "    total_loss = 0\n",
    "\n",
    "    for step, batch in enumerate(tqdm(data_loader)):\n",
    "        optimizer.zero_grad()\n",
    "\n",
    "        batch_size = batch[0].shape[0]\n",
    "        image = batch[0].to(device)\n",
    "        label = batch[1].to(device)\n",
    "        \n",
    "        cemb = cemblayer(label)\n",
    "        \n",
    "        # threshold 미만인 부분은 unconditional 한 방식으로 학습\n",
    "        cemb[np.where(np.random.rand(batch_size)< threshold)] = 0\n",
    "\n",
    "       # Algorithm 1 line 3: sample t uniformally for every example in the batch\n",
    "        #t = torch.randint(0, timesteps, (batch_size,), device=device).long()\n",
    "\n",
    "        loss = loss_fn(model, image, marginal_prob_std_fn, cemb)\n",
    "        \n",
    "        total_loss += loss\n",
    "\n",
    "        loss.backward()\n",
    "        optimizer.step()\n",
    "\n",
    "        \n",
    "    total_loss = total_loss / len(data_loader)\n",
    "    print(f\"epoch : {epoch} Loss : {total_loss} \")\n",
    "    \n",
    "    if before_loss > total_loss:\n",
    "            saved_epoch = epoch\n",
    "            print(f\"before_loss = {before_loss:.4f}, loss = {total_loss:.4f}, saved_epoch = {saved_epoch}\" )\n",
    "            print('model_save')\n",
    "            torch.save(cemblayer.state_dict(), 'diffusion_speech_enhancement/guided_speech_diffusion/SDE_Speech_Guide_embedding_layer.pth')\n",
    "            torch.save(model.state_dict(), 'diffusion_speech_enhancement/guided_speech_diffusion/SDE_Speech_Guided.pth')\n",
    "            before_loss = total_loss\n",
    "\n"
   ]
  },
  {
   "cell_type": "code",
   "execution_count": 17,
   "id": "25068f53",
   "metadata": {},
   "outputs": [
    {
     "data": {
      "text/plain": [
       "ConditionalEmbedding(\n",
       "  (condEmbedding): Sequential(\n",
       "    (0): Embedding(11, 10, padding_idx=10)\n",
       "    (1): Linear(in_features=10, out_features=10, bias=True)\n",
       "    (2): SiLU()\n",
       "    (3): Linear(in_features=10, out_features=10, bias=True)\n",
       "  )\n",
       ")"
      ]
     },
     "execution_count": 17,
     "metadata": {},
     "output_type": "execute_result"
    }
   ],
   "source": [
    "\n",
    "ckpt = torch.load('diffusion_speech_enhancement/guided_speech_diffusion/SDE_Speech_Guided.pth', map_location=device)\n",
    "model.load_state_dict(ckpt)\n",
    "ckpt = torch.load('diffusion_speech_enhancement/guided_speech_diffusion/SDE_Speech_Guide_embedding_layer.pth', map_location=device)\n",
    "cemblayer.load_state_dict(ckpt)\n",
    "\n",
    "model.eval()\n",
    "cemblayer.eval()"
   ]
  },
  {
   "cell_type": "code",
   "execution_count": 18,
   "id": "eb185aff",
   "metadata": {},
   "outputs": [
    {
     "data": {
      "text/plain": [
       "tensor([8, 5, 1, 3, 6, 2, 8, 2, 1, 8, 2, 7, 8, 7, 7, 6, 4, 9, 8, 7, 6, 3, 6, 5,\n",
       "        2, 1, 7, 9, 2, 6, 6, 5, 3, 7, 9, 6, 5, 6, 2, 5, 2, 7, 3, 4, 2, 8, 4, 8,\n",
       "        4, 8, 8, 2, 9, 8, 6, 5, 9, 1, 8, 4, 4, 8, 8, 2], device='cuda:0')"
      ]
     },
     "execution_count": 18,
     "metadata": {},
     "output_type": "execute_result"
    }
   ],
   "source": [
    "classes = torch.randint(low=0, high=10, size=(64,), device=device)\n",
    "classes"
   ]
  },
  {
   "cell_type": "code",
   "execution_count": 19,
   "id": "34652c81",
   "metadata": {},
   "outputs": [],
   "source": [
    "num_steps = 300\n",
    "def Euler_Maruyama_sampler(score_model, \n",
    "                           marginal_prob_std,\n",
    "                           diffusion_coeff,\n",
    "                           cemb,\n",
    "                           w = 0,\n",
    "                           batch_size=64, \n",
    "                           num_steps=num_steps, \n",
    "                           device='cuda', \n",
    "                           z = None,\n",
    "                           eps=1e-3):\n",
    "    \"\"\"Generate samples from score-based models with the Euler-Maruyama solver.\n",
    "\n",
    "    Args:\n",
    "    score_model: A PyTorch model that represents the time-dependent score-based model.\n",
    "    marginal_prob_std: A function that gives the standard deviation of\n",
    "      the perturbation kernel.\n",
    "    diffusion_coeff: A function that gives the diffusion coefficient of the SDE.\n",
    "    batch_size: The number of samplers to generate by calling this function once.\n",
    "    num_steps: The number of sampling steps. \n",
    "      Equivalent to the number of discretized time steps.\n",
    "    device: 'cuda' for running on GPUs, and 'cpu' for running on CPUs.\n",
    "    eps: The smallest time step for numerical stability.\n",
    "\n",
    "    Returns:\n",
    "    Samples.    \n",
    "    \"\"\"\n",
    "    \n",
    "    cemb_shape = cemb.shape\n",
    "    zeros_condition = torch.zeros(cemb_shape, device = device)\n",
    "    \n",
    "    t = torch.ones(batch_size, device=device)\n",
    "    \n",
    "    init_x = torch.randn(batch_size, 1, 80, 56, device=device) * marginal_prob_std(t)[:, None, None, None]\n",
    "    time_steps = torch.linspace(1., eps, num_steps, device=device)\n",
    "    step_size = time_steps[0] - time_steps[1]\n",
    "    x = init_x\n",
    "    \n",
    "    with torch.no_grad():\n",
    "        for time_step in tqdm.notebook.tqdm(time_steps):\n",
    "            batch_time_step = torch.ones(batch_size, device=device) * time_step\n",
    "            \n",
    "            pred_eps_cond = score_model(x, batch_time_step, cemb)\n",
    "            pred_eps_uncond = score_model(x,batch_time_step, zeros_condition)\n",
    "            pred_eps = ((1+w) * pred_eps_cond) - (w * pred_eps_uncond)\n",
    "            \n",
    "            g = diffusion_coeff(batch_time_step)\n",
    "            mean_x = x + (g**2)[:, None, None, None] * pred_eps * step_size\n",
    "            x = mean_x + torch.sqrt(step_size) * g[:, None, None, None] * torch.randn_like(x)      \n",
    "            # Do not include any noise in the last sampling step.\n",
    "    return mean_x"
   ]
  },
  {
   "cell_type": "code",
   "execution_count": 20,
   "id": "9138fc00",
   "metadata": {},
   "outputs": [],
   "source": [
    "\n",
    "signal_to_noise_ratio = 0.16 #@param {'type':'number'}\n",
    "\n",
    "## The number of sampling steps.\n",
    "def pc_sampler(score_model, \n",
    "               marginal_prob_std,\n",
    "               diffusion_coeff,\n",
    "               cemb,\n",
    "               w = 0,\n",
    "               batch_size=64,\n",
    "               num_steps=num_steps, \n",
    "               snr=signal_to_noise_ratio,                \n",
    "               device='cuda',\n",
    "               z= None,\n",
    "               eps=1e-5):\n",
    "    \"\"\"Generate samples from score-based models with Predictor-Corrector method.\n",
    "\n",
    "    Args:\n",
    "    score_model: A PyTorch model that represents the time-dependent score-based model.\n",
    "    marginal_prob_std: A function that gives the standard deviation\n",
    "      of the perturbation kernel.\n",
    "    diffusion_coeff: A function that gives the diffusion coefficient \n",
    "      of the SDE.\n",
    "    batch_size: The number of samplers to generate by calling this function once.\n",
    "    num_steps: The number of sampling steps. \n",
    "      Equivalent to the number of discretized time steps.    \n",
    "    device: 'cuda' for running on GPUs, and 'cpu' for running on CPUs.\n",
    "    eps: The smallest time step for numerical stability.\n",
    "\n",
    "    Returns: \n",
    "    Samples.\n",
    "    \"\"\"\n",
    "    cemb_shape = cemb.shape\n",
    "    zeros_condition = torch.zeros(cemb_shape, device = device)\n",
    "    \n",
    "    t = torch.ones(batch_size, device=device)\n",
    "    \n",
    "    init_x = torch.randn(batch_size, 1, 80, 56, device=device) * marginal_prob_std(t)[:, None, None, None]\n",
    "    time_steps = np.linspace(1., eps, num_steps)\n",
    "    step_size = time_steps[0] - time_steps[1]\n",
    "    x = init_x\n",
    "    \n",
    "    with torch.no_grad():\n",
    "        for predictor_timstep in tqdm.notebook.tqdm(time_steps):\n",
    "            \n",
    "            batch_time_step = torch.ones(batch_size, device=device) * predictor_timstep\n",
    "        \n",
    "            # Corrector step (Langevin MCMC)\n",
    "            for i in range(int(num_steps / 10)):      \n",
    "                pred_eps_cond = score_model(x, batch_time_step, cemb)\n",
    "                pred_eps_uncond = score_model(x,batch_time_step, zeros_condition)\n",
    "                pred_eps = ((1+w) * pred_eps_cond) - (w * pred_eps_uncond)\n",
    "                \n",
    "                grad = pred_eps #score_model(x, batch_time_step, cemb)\n",
    "                grad_norm = torch.norm(grad.reshape(grad.shape[0], -1), dim=-1).mean()\n",
    "                noise_norm = np.sqrt(np.prod(x.shape[1:]))\n",
    "                langevin_step_size = 2 * (snr * noise_norm / grad_norm)**2\n",
    "                x = x + langevin_step_size * grad + torch.sqrt(2 * langevin_step_size) * torch.randn_like(x)      \n",
    "            \n",
    "            # Predictor step (Euler-Maruyama)\n",
    "            pred_eps_cond = score_model(x, batch_time_step, cemb)\n",
    "            pred_eps_uncond = score_model(x,batch_time_step, zeros_condition)\n",
    "            pred_eps = ((1+w) * pred_eps_cond) - (w * pred_eps_uncond)\n",
    "                \n",
    "            g = diffusion_coeff(batch_time_step)\n",
    "            x_mean = x + (g**2)[:, None, None, None] * pred_eps * step_size\n",
    "            x = x_mean + torch.sqrt(g**2 * step_size)[:, None, None, None] * torch.randn_like(x)      \n",
    "    \n",
    "    # The last step does not include any noise\n",
    "    return x_mean"
   ]
  },
  {
   "cell_type": "code",
   "execution_count": 21,
   "id": "74da40a1",
   "metadata": {},
   "outputs": [],
   "source": [
    "from scipy import integrate\n",
    "\n",
    "## The error tolerance for the black-box ODE solver\n",
    "error_tolerance = 1e-5 #@param {'type': 'number'}\n",
    "def ode_sampler(score_model,\n",
    "                marginal_prob_std,\n",
    "                diffusion_coeff,\n",
    "                cemb,\n",
    "                num_steps,\n",
    "                w = 0,\n",
    "                batch_size=64,\n",
    "                atol=error_tolerance, \n",
    "                rtol=error_tolerance, \n",
    "                device='cuda',\n",
    "                z = None,\n",
    "                eps=1e-5):\n",
    "    \"\"\"Generate samples from score-based models with black-box ODE solvers.\n",
    "\n",
    "    Args:\n",
    "    score_model: A PyTorch model that represents the time-dependent score-based model.\n",
    "    marginal_prob_std: A function that returns the standard deviation \n",
    "      of the perturbation kernel.\n",
    "    diffusion_coeff: A function that returns the diffusion coefficient of the SDE.\n",
    "    batch_size: The number of samplers to generate by calling this function once.\n",
    "    atol: Tolerance of absolute errors.\n",
    "    rtol: Tolerance of relative errors.\n",
    "    device: 'cuda' for running on GPUs, and 'cpu' for running on CPUs.\n",
    "    z: The latent code that governs the final sample. If None, we start from p_1;\n",
    "      otherwise, we start from the given z.\n",
    "    eps: The smallest time step for numerical stability.\n",
    "    \"\"\"\n",
    "    t = torch.ones(batch_size, device=device)\n",
    "    \n",
    "    cemb_shape = cemb.shape\n",
    "    zeros_condition = torch.zeros(cemb_shape, device = device)\n",
    "    \n",
    "    # Create the latent code\n",
    "    if z is None:\n",
    "        init_x = torch.randn(batch_size, 1, 80, 56, device=device) * marginal_prob_std(t)[:, None, None, None]\n",
    "    else:\n",
    "        init_x = z\n",
    "    \n",
    "    shape = init_x.shape\n",
    "    \n",
    "    \n",
    "    def score_eval_wrapper(sample, time_steps, cemb):\n",
    "        \"\"\"A wrapper of the score-based model for use by the ODE solver.\"\"\"\n",
    "        \n",
    "        sample = torch.tensor(sample, device=device, dtype=torch.float32).reshape(shape)\n",
    "        time_steps = torch.tensor(time_steps, device=device, dtype=torch.float32).reshape((sample.shape[0], ))\n",
    "        \n",
    "        with torch.no_grad():    \n",
    "            pred_eps_cond = score_model(sample, time_steps, cemb)\n",
    "            pred_eps_uncond = score_model(sample, time_steps, zeros_condition)\n",
    "            score = ((1+w) * pred_eps_cond) - (w * pred_eps_uncond)\n",
    "    \n",
    "        return score.cpu().numpy().reshape((-1,)).astype(np.float32)\n",
    "  \n",
    "    def ode_func(t, x, cemb):        \n",
    "        \"\"\"The ODE function for use by the ODE solver.\"\"\"\n",
    "        \n",
    "        time_steps = np.ones((shape[0],)) * t\n",
    "        g = diffusion_coeff(torch.tensor(t)).cpu().numpy()\n",
    "        return  -0.5 * (g**2) * score_eval_wrapper(x, time_steps, cemb)\n",
    "    \n",
    "    \n",
    "    #print(f\"show ode_func = {ode_func()}\")\n",
    "    # Run the black-box ODE solver.\n",
    "    res = integrate.solve_ivp(ode_func, (1., eps), init_x.reshape(-1).cpu().numpy(), rtol=rtol, atol=atol,\n",
    "                               args = ([cemb]), method='RK45')  \n",
    "    print(f\"Number of function evaluations: {res.nfev}\")\n",
    "    x = torch.tensor(res.y[:, -1], device=device).reshape(shape)\n",
    "\n",
    "    return x\n"
   ]
  },
  {
   "cell_type": "code",
   "execution_count": 101,
   "id": "aa4144de",
   "metadata": {
    "scrolled": false
   },
   "outputs": [
    {
     "name": "stderr",
     "output_type": "stream",
     "text": [
      "/tmp/ipykernel_4484/2894061068.py:11: UserWarning: To copy construct from a tensor, it is recommended to use sourceTensor.clone().detach() or sourceTensor.clone().detach().requires_grad_(True), rather than torch.tensor(sourceTensor).\n",
      "  t = torch.tensor(t, device=device)\n"
     ]
    },
    {
     "data": {
      "application/vnd.jupyter.widget-view+json": {
       "model_id": "09853a4f0ac149e28829de186b4bbae2",
       "version_major": 2,
       "version_minor": 0
      },
      "text/plain": [
       "  0%|          | 0/300 [00:00<?, ?it/s]"
      ]
     },
     "metadata": {},
     "output_type": "display_data"
    },
    {
     "name": "stderr",
     "output_type": "stream",
     "text": [
      "/tmp/ipykernel_4484/2894061068.py:24: UserWarning: To copy construct from a tensor, it is recommended to use sourceTensor.clone().detach() or sourceTensor.clone().detach().requires_grad_(True), rather than torch.tensor(sourceTensor).\n",
      "  return torch.tensor(sigma**t, device=device)\n",
      "Clipping input data to the valid range for imshow with RGB data ([0..1] for floats or [0..255] for integers).\n"
     ]
    },
    {
     "name": "stdout",
     "output_type": "stream",
     "text": [
      "sampling time = 1367.71\n"
     ]
    },
    {
     "data": {
      "image/png": "[encoded data removed]",
      "text/plain": [
       "<Figure size 432x432 with 1 Axes>"
      ]
     },
     "metadata": {
      "needs_background": "light"
     },
     "output_type": "display_data"
    }
   ],
   "source": [
    "import tqdm\n",
    "sample_batch_size = 64 #@param {'type':'integer'}\n",
    "sampler = pc_sampler #@param ['Euler_Maruyama_sampler', 'pc_sampler', 'ode_sampler'] {'type': 'raw'} Another_Euler_Maruyama_sampler\n",
    "\n",
    "## Generate samples using the specified sampler.\n",
    "start = time.time()\n",
    "samples = sampler(score_model = model, \n",
    "                marginal_prob_std = marginal_prob_std_fn,\n",
    "                diffusion_coeff = diffusion_coeff_fn, \n",
    "                batch_size = 64,\n",
    "                w= 4.0,\n",
    "                num_steps = 300,\n",
    "                z = None,\n",
    "                cemb = cemblayer(classes),\n",
    "                device=device)\n",
    "end = time.time()\n",
    "\n",
    "print(f\"sampling time = {end-start:.2f}\")\n",
    " \n",
    "## Sample visualization.\n",
    "#samples = samples.clamp(0.0, 1.0)\n",
    "#%matplotlib inline\n",
    "import matplotlib.pyplot as plt\n",
    "sample_grid = make_grid(samples, nrow=int(np.sqrt(sample_batch_size)))\n",
    "\n",
    "plt.figure(figsize=(6,6))\n",
    "plt.axis('off')\n",
    "plt.imshow(sample_grid.permute(1, 2, 0).cpu(), vmin=0., vmax=1.)\n",
    "plt.show()"
   ]
  },
  {
   "cell_type": "code",
   "execution_count": 107,
   "id": "fe23957c",
   "metadata": {},
   "outputs": [
    {
     "name": "stdout",
     "output_type": "stream",
     "text": [
      "<librosa.display.AdaptiveWaveplot object at 0x7f5a55671eb0>\n"
     ]
    },
    {
     "data": {
      "text/html": [
       "\n",
       "                <audio  controls=\"controls\" >\n",
       "                    <source src=\"data:audio/wav;base64,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\" type=\"audio/wav\" />\n",
       "                    Your browser does not support the audio element.\n",
       "                </audio>\n",
       "              "
      ],
      "text/plain": [
       "<IPython.lib.display.Audio object>"
      ]
     },
     "execution_count": 107,
     "metadata": {},
     "output_type": "execute_result"
    },
    {
     "data": {
      "image/png": "[encoded data removed]",
      "text/plain": [
       "<Figure size 432x288 with 2 Axes>"
      ]
     },
     "metadata": {
      "needs_background": "light"
     },
     "output_type": "display_data"
    }
   ],
   "source": [
    "results = samples[1]\n",
    "fig, ax = plt.subplots()\n",
    "img = librosa.display.specshow(results.cpu().squeeze().numpy())\n",
    "fig.colorbar(img, ax=ax)\n",
    "\n",
    "a = inference_to_audio(results.to(torch.float32))\n",
    "ipd.Audio(a, rate= 22050)"
   ]
  },
  {
   "cell_type": "code",
   "execution_count": 31,
   "id": "93a65b95",
   "metadata": {},
   "outputs": [
    {
     "data": {
      "text/plain": [
       "tensor([8, 5, 1, 3, 6, 2, 8, 2, 1, 8, 2, 7, 8, 7, 7, 6, 4, 9, 8, 7, 6, 3, 6, 5,\n",
       "        2, 1, 7, 9, 2, 6, 6, 5, 3, 7, 9, 6, 5, 6, 2, 5, 2, 7, 3, 4, 2, 8, 4, 8,\n",
       "        4, 8, 8, 2, 9, 8, 6, 5, 9, 1, 8, 4, 4, 8, 8, 2], device='cuda:0')"
      ]
     },
     "execution_count": 31,
     "metadata": {},
     "output_type": "execute_result"
    }
   ],
   "source": [
    "classes"
   ]
  },
  {
   "cell_type": "markdown",
   "id": "f0a11271",
   "metadata": {},
   "source": [
    "## Noisy data 생성"
   ]
  },
  {
   "cell_type": "code",
   "execution_count": null,
   "id": "dba8c4a3",
   "metadata": {},
   "outputs": [],
   "source": [
    "## Korean Speech\n",
    "inference_data = torchaudio.load('kss_data/kss/4/4_5631.wav')[0]\n",
    "inference_resample_audio = torchaudio.functional.resample(inference_data, orig_freq=44100, new_freq=22050)\n",
    "inference_mel= mel_spectrogram(inference_resample_audio[0][11025:32802+11025]) ## [1,80,128] \n",
    "\n"
   ]
  },
  {
   "cell_type": "code",
   "execution_count": null,
   "id": "f2367100",
   "metadata": {},
   "outputs": [],
   "source": [
    "inference_resample_audio = torchaudio.functional.resample(dataset[1][0], orig_freq=48000, new_freq=22050)\n",
    "inference_mel = mel_spectrogram(inference_resample_audio[0][11025:32802+11025]) #[11025:32802+11025]"
   ]
  },
  {
   "cell_type": "code",
   "execution_count": null,
   "id": "7c403068",
   "metadata": {},
   "outputs": [],
   "source": [
    "fig, ax = plt.subplots()\n",
    "img = librosa.display.specshow(inference_mel[0].numpy())\n",
    "fig.colorbar(img, ax=ax)\n",
    "a = inference_to_audio(inference_mel[0])\n",
    "ipd.Audio(a, rate= 22050)\n"
   ]
  },
  {
   "cell_type": "code",
   "execution_count": null,
   "id": "fc6e3e93",
   "metadata": {},
   "outputs": [],
   "source": [
    "nosiy_data = q_sample(inference_mel, torch.tensor([40]))\n",
    "fig, ax = plt.subplots()\n",
    "img = librosa.display.specshow(nosiy_data[0].numpy())\n",
    "fig.colorbar(img, ax=ax)\n",
    "a = inference_to_audio(nosiy_data[0])\n",
    "ipd.Audio(a, rate= 22050)"
   ]
  },
  {
   "cell_type": "code",
   "execution_count": null,
   "id": "bae30fd4",
   "metadata": {
    "scrolled": false
   },
   "outputs": [],
   "source": [
    "inference_mel.shape"
   ]
  },
  {
   "cell_type": "code",
   "execution_count": null,
   "id": "0f37cbaf",
   "metadata": {
    "scrolled": true
   },
   "outputs": [],
   "source": [
    "torch.randn(1,80,507).chunk(2,2)[0].shape"
   ]
  },
  {
   "cell_type": "code",
   "execution_count": null,
   "id": "84207c1a",
   "metadata": {},
   "outputs": [],
   "source": [
    "inference_mel.chunk(2, 2)[1].shape\n",
    "## 향후에 전체 음성으로 해보기\n",
    "## 완전 가우시안 노이즈가 아닌 노이즈가 낀 이미지를 Enhancement 하는 것\n",
    "## 전체 음성으로 하려면 노이즈가 낀 이미지를 나눠야함. 그 후 각각의 분할마다 for문을 돌려서 enhancement 시키고 나중에 합쳐서 생성\n",
    "## 추론에 시간 엄청 걸릴듯\n",
    "## 하나의 샘플이면 괜찮을지도"
   ]
  },
  {
   "cell_type": "code",
   "execution_count": null,
   "id": "f6fda5bf",
   "metadata": {},
   "outputs": [],
   "source": [
    "\n",
    "# Algorithm 2 (including returning all images)\n",
    "@torch.no_grad()\n",
    "def Enhancement_p_sample_loop(model, shape, image, timesteps):\n",
    "    device = next(model.parameters()).device\n",
    "    \n",
    "    timesteps = timesteps \n",
    "\n",
    "    b = shape[0]\n",
    "    # start from pure noise (for each example in the batch)\n",
    "    img = image.to(device)\n",
    "    imgs = []\n",
    "\n",
    "    for i in tqdm(reversed(range(0, timesteps)), desc='sampling loop time step', total=timesteps):\n",
    "        img = p_sample(model, img, torch.full((b,), i, device=device, dtype=torch.long), i)\n",
    "        imgs.append(img.cpu().numpy())\n",
    "    return imgs\n",
    "\n"
   ]
  },
  {
   "cell_type": "code",
   "execution_count": null,
   "id": "f19b30b8",
   "metadata": {},
   "outputs": [],
   "source": [
    "result = Enhancement_p_sample_loop(model, shape = (1,1,80,128), image = nosiy_data.unsqueeze(0), timesteps= 50)"
   ]
  },
  {
   "cell_type": "code",
   "execution_count": null,
   "id": "3f2ddb05",
   "metadata": {},
   "outputs": [],
   "source": [
    "\n",
    "fig, ax = plt.subplots()\n",
    "img = librosa.display.specshow(result[-1][0][0])\n",
    "fig.colorbar(img, ax=ax)\n",
    "a = inference_to_audio(torch.tensor(result[-1][0]))\n",
    "ipd.Audio(a, rate= 22050)"
   ]
  },
  {
   "cell_type": "code",
   "execution_count": null,
   "id": "b7fdb198",
   "metadata": {
    "scrolled": true
   },
   "outputs": [],
   "source": [
    "result[-1][0].shape"
   ]
  },
  {
   "cell_type": "code",
   "execution_count": null,
   "id": "199b48fe",
   "metadata": {},
   "outputs": [],
   "source": [
    "a= inference_to_audio(torch.tensor(samples[-1][7], device= device))\n",
    "ipd.Audio(a, rate= 22050)"
   ]
  },
  {
   "cell_type": "markdown",
   "id": "4c603d63",
   "metadata": {},
   "source": [
    "# -------------------------------나중에 ModuleList 재 시도----------------------------------------"
   ]
  },
  {
   "cell_type": "code",
   "execution_count": null,
   "id": "2d9ec1bb",
   "metadata": {},
   "outputs": [],
   "source": [
    "from torch.optim import Adam\n",
    "\n",
    "device = \"cuda\" if torch.cuda.is_available() else \"cpu\"\n",
    "\n",
    "model = Unet(\n",
    "    dim=128,\n",
    "    init_dim = 64,\n",
    "    channels=1,\n",
    "    dim_mults=(1, 2, 2, 4),\n",
    "    attn_resolution = (4,8,16),\n",
    "    resnet_block_groups= 32\n",
    ")\n",
    "model.to(device)\n",
    "\n",
    "optimizer = torch.optim.Adam(model.parameters(), lr=1e-4)\n"
   ]
  },
  {
   "cell_type": "code",
   "execution_count": null,
   "id": "fd95501e",
   "metadata": {},
   "outputs": [],
   "source": [
    "class Unet(nn.Module):\n",
    "    def __init__(\n",
    "        self,\n",
    "        dim,\n",
    "        init_dim=None,\n",
    "        out_dim=None,\n",
    "        dim_mults=(1, 2, 4, 8),\n",
    "        channels=3,\n",
    "        self_condition = False,\n",
    "        attn_resolution = (2,4,8),\n",
    "        resnet_block_groups=4,\n",
    "    ):\n",
    "        super().__init__()\n",
    "\n",
    "        # determine dimensions\n",
    "        self.channels = channels\n",
    "        self.self_condition = self_condition\n",
    "        input_channels = channels * (2 if self_condition else 1)\n",
    "\n",
    "        init_dim = default(init_dim, dim)\n",
    "        self.init_conv = nn.Conv2d(input_channels, init_dim, 1, padding=0) # changed to 1 and 0 from 7,3\n",
    "\n",
    "        dims = [init_dim, *map(lambda m: init_dim * m, dim_mults)]\n",
    "        in_out = list(zip(dims[:-1], dims[1:]))\n",
    "\n",
    "        block_klass = partial(ResnetBlock, groups=resnet_block_groups)\n",
    "\n",
    "        # time embeddings\n",
    "        time_dim = init_dim * 4\n",
    "\n",
    "        self.time_mlp = nn.Sequential(\n",
    "            SinusoidalPositionEmbeddings(init_dim),\n",
    "            nn.Linear(init_dim, time_dim),\n",
    "            nn.GELU(),\n",
    "            nn.Linear(time_dim, time_dim),\n",
    "        )\n",
    "\n",
    "        # layers\n",
    "        self.downs = nn.ModuleList([])\n",
    "        self.ups = nn.ModuleList([])\n",
    "        num_resolutions = len(in_out)\n",
    "        \n",
    "        ds = 1\n",
    "        \n",
    "        for ind, (dim_in, dim_out) in enumerate(in_out):\n",
    "            is_last = ind >= (num_resolutions - 1)\n",
    "                        \n",
    "            layer= [\n",
    "                        block_klass(dim_in, dim_in, time_emb_dim=time_dim),\n",
    "                        block_klass(dim_in, dim_in, time_emb_dim=time_dim),\n",
    "                    ]\n",
    "            \n",
    "            if ds in attn_resolution:\n",
    "                \n",
    "                layer.append(Residual(PreNorm(dim_in, LinearAttention(dim_in))),)\n",
    "            else:\n",
    "                layer.append(\n",
    "                            block_klass(dim_in, dim_in, time_emb_dim=time_dim),\n",
    "                )\n",
    "                \n",
    "            if not is_last:\n",
    "                layer.append(\n",
    "                            Downsample(dim_in,dim_out), \n",
    "                )\n",
    "            else:\n",
    "                layer.append(\n",
    "                           nn.Conv2d(dim_in, dim_out,3, padding=1),    \n",
    "                )\n",
    "                \n",
    "            ds *=2\n",
    "\n",
    "            self.downs = nn.ModuleList(layer)\n",
    "            print(\"fuking downs = \", self.downs)\n",
    "\n",
    "        \n",
    "        mid_dim = dims[-1]\n",
    "        self.mid_block1 = block_klass(mid_dim, mid_dim, time_emb_dim=time_dim)\n",
    "        self.mid_attn = Residual(PreNorm(mid_dim, Attention(mid_dim)))\n",
    "        self.mid_block2 = block_klass(mid_dim, mid_dim, time_emb_dim=time_dim)\n",
    "\n",
    "        for ind, (dim_in, dim_out) in enumerate(reversed(in_out)):\n",
    "            is_last = ind == (len(in_out) - 1)\n",
    "\n",
    "            self.ups.append(\n",
    "                nn.ModuleList(\n",
    "                    [\n",
    "                        block_klass(dim_out + dim_in, dim_out, time_emb_dim=time_dim),\n",
    "                    ]\n",
    "                )\n",
    "            )\n",
    "            if ds in attn_resolution:\n",
    "                self.ups.extend(\n",
    "                    nn.ModuleList(\n",
    "                        [\n",
    "                            block_klass(dim_out + dim_in, dim_out, time_emb_dim=time_dim),\n",
    "                            Residual(PreNorm(dim_out, LinearAttention(dim_out))),\n",
    "                            \n",
    "                        ]\n",
    "                    )\n",
    "                )\n",
    "            else:\n",
    "                self.ups.extend(\n",
    "                    nn.ModuleList(\n",
    "                        [\n",
    "                            block_klass(dim_out + dim_in, dim_out, time_emb_dim=time_dim),\n",
    "                        ]\n",
    "                    )\n",
    "                )\n",
    "            \n",
    "            if not is_last:\n",
    "                self.ups.extend(\n",
    "                nn.ModuleList(\n",
    "                    [\n",
    "                            Upsample(dim_out, dim_in),   \n",
    "                    ]\n",
    "                )\n",
    "            )\n",
    "            else:\n",
    "                self.ups.extend(\n",
    "                nn.ModuleList(\n",
    "                    [\n",
    "                            nn.Conv2d(dim_out, dim_in, 3, padding=1),    \n",
    "                    ]\n",
    "                )\n",
    "            )\n",
    "                \n",
    "            ds /= 2\n",
    "        \n",
    "        #self.ups = nn.Sequential(self.ups)\n",
    "        \n",
    "        self.out_dim = default(out_dim, channels)\n",
    "\n",
    "        self.final_res_block = block_klass(init_dim * 2, init_dim, time_emb_dim=time_dim)\n",
    "        self.final_conv = nn.Conv2d(init_dim, self.out_dim, 1)\n",
    "\n",
    "    def forward(self, x, time, x_self_cond=None):\n",
    "        if self.self_condition:\n",
    "            x_self_cond = default(x_self_cond, lambda: torch.zeros_like(x))\n",
    "            x = torch.cat((x_self_cond, x), dim=1)\n",
    "\n",
    "        x = self.init_conv(x)\n",
    "        r = x.clone()\n",
    "\n",
    "        t = self.time_mlp(time)\n",
    "\n",
    "        h = []\n",
    "        \n",
    "        for module in self.downs:\n",
    "            print(module)\n",
    "            x = module(x, t)\n",
    "            h.append(x)\n",
    "\n",
    "\n",
    "        x = self.mid_block1(x, t)\n",
    "        x = self.mid_attn(x)\n",
    "        x = self.mid_block2(x, t)\n",
    "\n",
    "        for module in self.ups:\n",
    "            x = torch.cat((x, h.pop()), dim=1)\n",
    "            x = module(x, t)\n",
    "\n",
    "\n",
    "        x = torch.cat((x, r), dim=1)\n",
    "\n",
    "        x = self.final_res_block(x, t)\n",
    "        return self.final_conv(x)"
   ]
  },
  {
   "cell_type": "code",
   "execution_count": null,
   "id": "88c1442a",
   "metadata": {},
   "outputs": [],
   "source": [
    "class SDE(abc.ABC):\n",
    "    \"\"\"SDE abstract class. Functions are designed for a mini-batch of inputs.\"\"\"\n",
    "\n",
    "    def __init__(self, N):\n",
    "        \"\"\"Construct an SDE.\n",
    "\n",
    "        Args:\n",
    "          N: number of discretization time steps.\n",
    "        \"\"\"\n",
    "        super().__init__()\n",
    "        self.N = N\n",
    "\n",
    "    @property\n",
    "    @abc.abstractmethod\n",
    "    def T(self):\n",
    "        \"\"\"End time of the SDE.\"\"\"\n",
    "        pass\n",
    "\n",
    "    @abc.abstractmethod\n",
    "    def sde(self, x, t):\n",
    "        pass\n",
    "\n",
    "    @abc.abstractmethod\n",
    "    def marginal_prob(self, x, t):\n",
    "        \"\"\"Parameters to determine the marginal distribution of the SDE, $p_t(x)$.\"\"\"\n",
    "        pass\n",
    "\n",
    "    @abc.abstractmethod\n",
    "    def prior_sampling(self, rng, shape):\n",
    "        \"\"\"Generate one sample from the prior distribution, $p_T(x)$.\"\"\"\n",
    "        pass\n",
    "\n",
    "    @abc.abstractmethod\n",
    "    def prior_logp(self, z):\n",
    "        \"\"\"Compute log-density of the prior distribution.\n",
    "\n",
    "        Useful for computing the log-likelihood via probability flow ODE.\n",
    "\n",
    "        Args:\n",
    "          z: latent code\n",
    "        Returns:\n",
    "          log probability density\n",
    "        \"\"\"\n",
    "        pass\n",
    "\n",
    "    def discretize(self, x, t):\n",
    "        \"\"\"Discretize the SDE in the form: x_{i+1} = x_i + f_i(x_i) + G_i z_i.\n",
    "\n",
    "        Useful for reverse diffusion sampling and probabiliy flow sampling.\n",
    "        Defaults to Euler-Maruyama discretization.\n",
    "\n",
    "        Args:\n",
    "          x: a JAX tensor.\n",
    "          t: a JAX float representing the time step (from 0 to `self.T`)\n",
    "\n",
    "        Returns:\n",
    "          f, G\n",
    "        \"\"\"\n",
    "        dt = 1 / self.N\n",
    "        drift, diffusion = self.sde(x, t)\n",
    "        f = drift * dt\n",
    "        G = diffusion * jnp.sqrt(dt)\n",
    "        return f, G\n",
    "\n",
    "    def reverse(self, score_fn, probability_flow=False):\n",
    "        \"\"\"Create the reverse-time SDE/ODE.\n",
    "\n",
    "        Args:\n",
    "          score_fn: A time-dependent score-based model that takes x and t and returns the score.\n",
    "          probability_flow: If `True`, create the reverse-time ODE used for probability flow sampling.\n",
    "        \"\"\"\n",
    "        N = self.N\n",
    "        T = self.T\n",
    "        sde_fn = self.sde\n",
    "        discretize_fn = self.discretize\n",
    "\n",
    "        # Build the class for reverse-time SDE.\n",
    "        class RSDE(self.__class__):\n",
    "            def __init__(self):\n",
    "                self.N = N\n",
    "                self.probability_flow = probability_flow\n",
    "\n",
    "            @property\n",
    "            def T(self):\n",
    "                return T\n",
    "\n",
    "            def sde(self, x, t):\n",
    "                \"\"\"Create the drift and diffusion functions for the reverse SDE/ODE.\"\"\"\n",
    "                drift, diffusion = sde_fn(x, t)\n",
    "                score = score_fn(x, t)\n",
    "                drift = drift - batch_mul(diffusion ** 2, score * (0.5 if self.probability_flow else 1.))\n",
    "                # Set the diffusion function to zero for ODEs.\n",
    "                diffusion = jnp.zeros_like(diffusion) if self.probability_flow else diffusion\n",
    "                return drift, diffusion\n",
    "\n",
    "            def discretize(self, x, t):\n",
    "                \"\"\"Create discretized iteration rules for the reverse diffusion sampler.\"\"\"\n",
    "                f, G = discretize_fn(x, t)\n",
    "                rev_f = f - batch_mul(G ** 2, score_fn(x, t) * (0.5 if self.probability_flow else 1.))\n",
    "                rev_G = jnp.zeros_like(G) if self.probability_flow else G\n",
    "                return rev_f, rev_G\n",
    "\n",
    "        return RSDE()\n",
    "\n",
    "\n",
    "class VPSDE(SDE):\n",
    "    def __init__(self, beta_min=0.1, beta_max=20, N=1000):\n",
    "        \"\"\"Construct a Variance Preserving SDE.\n",
    "\n",
    "        Args:\n",
    "          beta_min: value of beta(0)\n",
    "          beta_max: value of beta(1)\n",
    "          N: number of discretization steps\n",
    "        \"\"\"\n",
    "    super().__init__(N)\n",
    "    self.beta_0 = beta_min\n",
    "    self.beta_1 = beta_max\n",
    "    self.N = N\n",
    "    self.discrete_betas = jnp.linspace(beta_min / N, beta_max / N, N)\n",
    "    self.alphas = 1. - self.discrete_betas\n",
    "    self.alphas_cumprod = jnp.cumprod(self.alphas, axis=0)\n",
    "    self.sqrt_alphas_cumprod = jnp.sqrt(self.alphas_cumprod)\n",
    "    self.sqrt_1m_alphas_cumprod = jnp.sqrt(1. - self.alphas_cumprod)\n",
    "\n",
    "    @property\n",
    "    def T(self):\n",
    "        return 1\n",
    "\n",
    "    def sde(self, x, t):\n",
    "        beta_t = self.beta_0 + t * (self.beta_1 - self.beta_0)\n",
    "        drift = -0.5 * batch_mul(beta_t, x)\n",
    "        diffusion = jnp.sqrt(beta_t)\n",
    "        return drift, diffusion\n",
    "\n",
    "    def marginal_prob(self, x, t):\n",
    "        log_mean_coeff = -0.25 * t ** 2 * (self.beta_1 - self.beta_0) - 0.5 * t * self.beta_0\n",
    "        mean = batch_mul(jnp.exp(log_mean_coeff), x)\n",
    "        std = jnp.sqrt(1 - jnp.exp(2. * log_mean_coeff))\n",
    "        return mean, std\n",
    "\n",
    "    def prior_sampling(self, rng, shape):\n",
    "        return jax.random.normal(rng, shape)\n",
    "\n",
    "    def prior_logp(self, z):\n",
    "        shape = z.shape\n",
    "        N = np.prod(shape[1:])\n",
    "        logp_fn = lambda z: -N / 2. * jnp.log(2 * np.pi) - jnp.sum(z ** 2) / 2.\n",
    "        return jax.vmap(logp_fn)(z)\n",
    "\n",
    "    def discretize(self, x, t):\n",
    "        \"\"\"DDPM discretization.\"\"\"\n",
    "        timestep = (t * (self.N - 1) / self.T).astype(jnp.int32)\n",
    "        beta = self.discrete_betas[timestep]\n",
    "        alpha = self.alphas[timestep]\n",
    "        sqrt_beta = jnp.sqrt(beta)\n",
    "        f = batch_mul(jnp.sqrt(alpha), x) - x\n",
    "        G = sqrt_beta\n",
    "        return f, G"
   ]
  }
 ],
 "metadata": {
  "kernelspec": {
   "display_name": "Python 3 (ipykernel)",
   "language": "python",
   "name": "python3"
  },
  "language_info": {
   "codemirror_mode": {
    "name": "ipython",
    "version": 3
   },
   "file_extension": ".py",
   "mimetype": "text/x-python",
   "name": "python",
   "nbconvert_exporter": "python",
   "pygments_lexer": "ipython3",
   "version": "3.8.12"
  }
 },
 "nbformat": 4,
 "nbformat_minor": 5
}
